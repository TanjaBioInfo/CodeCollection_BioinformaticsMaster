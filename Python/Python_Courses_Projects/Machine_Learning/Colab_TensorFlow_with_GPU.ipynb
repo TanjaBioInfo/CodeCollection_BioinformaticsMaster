{
  "cells": [
    {
      "cell_type": "markdown",
      "metadata": {
        "id": "tMce8muBqXQP"
      },
      "source": [
        "# TensorFlow auf GPU\n",
        "\n",
        "Dieses Notebook bietet eine Einführung zum Rechnen auf einer GPU in Colab.\n",
        "In diesem Notebook wirst du dich mit einer GPU verbinden und dann einige grundlegende\n",
        "TensorFlow-Operationen sowohl auf der CPU (Hauptprozessor) als auch auf einer GPU ausführen.\n",
        "Dabei beobachten wir die durch die Verwendung der GPU erzielte Beschleunigung.\n",
        "\n",
        "**CPU (Central Processing Unit):** Der Hauptprozessor ist das \"Gehirn\" des Computers. Er ist\n",
        "für die Ausführung der meisten Berechnungen und Anweisungen zuständig, die ein Computer\n",
        "zum Funktionieren benötigt. Er ist vielseitig und kann eine Vielzahl von Aufgaben bewältigen,\n",
        "z. B. das Ausführen von Programmen, das Verwalten des Speichers und das Kommunizieren mit\n",
        "anderen Hardwarekomponenten. Die CPU arbeitet sequentiell, d. h. sie verarbeitet eine\n",
        "Aufgabe nach der anderen. Sie hat relativ wenige, aber dafür sehr leistungsstarke Kerne.\n",
        "\n",
        "**GPU (Graphics Processing Unit):** Der Grafikprozessor ist ein spezialisierter Prozessor,\n",
        "der ursprünglich für die Verarbeitung von Grafiken entwickelt wurde. Er ist darauf\n",
        "ausgelegt, viele einfache Berechnungen parallel auszuführen, was ihn ideal für Aufgaben\n",
        "macht, die von der Verarbeitung großer Datenmengen profitieren, wie z. B. Spiele,\n",
        "Videobearbeitung und maschinelles Lernen. Die GPU hat viele Kerne, die jeweils weniger\n",
        "leistungsstark sind als die Kerne einer CPU, aber zusammen eine enorme Rechenleistung\n",
        "bieten."
      ]
    },
    {
      "cell_type": "markdown",
      "metadata": {
        "id": "oM_8ELnJq_wd"
      },
      "source": [
        "## GPU aktivieren und testen\n",
        "\n",
        "Zuerst musst du GPUs für das Notebook aktivieren:\n",
        "\n",
        "1. Navigiere zu \"Bearbeiten\" -> \"Notebook-Einstellungen\"\n",
        "2. Wähle \"GPU\" aus dem Dropdown-Menü \"Hardwarebeschleuniger\"\n",
        "\n",
        "Als Nächstes bestätigen wir, dass wir uns mit TensorFlow mit der GPU verbinden können:"
      ]
    },
    {
      "cell_type": "code",
      "execution_count": null,
      "metadata": {
        "colab": {
          "base_uri": "https://localhost:8080/"
        },
        "id": "sXnDmXR7RDr2",
        "outputId": "0f6333b4-f444-4eb4-8e1b-ec24ce3d52af"
      },
      "outputs": [
        {
          "output_type": "stream",
          "name": "stdout",
          "text": [
            "GPU device not found. Please ensure that the notebook is configured to use a GPU.\n",
            "Found GPU at: \n"
          ]
        }
      ],
      "source": [
        "import tensorflow as tf\n",
        "\n",
        "device_name = tf.test.gpu_device_name()\n",
        "\n",
        "if not device_name:  # Check if device_name is empty\n",
        "  print(\"GPU device not found. Please ensure that the notebook is configured to use a GPU.\")\n",
        "  # Optionally, you can suggest steps to enable GPU or handle the case gracefully\n",
        "elif device_name != '/device:GPU:0':\n",
        "  raise SystemError('Expected GPU device at /device:GPU:0 but found {}'.format(device_name))\n",
        "\n",
        "print('Found GPU at: {}'.format(device_name))"
      ]
    },
    {
      "cell_type": "markdown",
      "metadata": {
        "id": "v3fE7KmKRDsH"
      },
      "source": [
        "## Beschleunigung von TensorFlow auf der GPU im Vergleich zur CPU beobachten\n",
        "\n",
        "Dieses Beispiel erstellt eine typische Convolutional Neural Network-Schicht über einem\n",
        "zufälligen Bild und platziert die resultierenden Operationen manuell entweder auf der CPU\n",
        "oder der GPU, um die Ausführungsgeschwindigkeit zu vergleichen.\n",
        "\n",
        "**Convolutional Neural Network (CNN):** Ein CNN ist eine Art von neuronalem Netzwerk, das\n",
        "häufig für die Bildverarbeitung und -erkennung verwendet wird. Es besteht aus mehreren Schichten,\n",
        "die jeweils eine bestimmte Aufgabe erfüllen, z. B. das Erkennen von Kanten, Formen oder\n",
        "Objekten. CNNs sind sehr rechenintensiv und profitieren daher von der parallelen\n",
        "Verarbeitung einer GPU."
      ]
    },
    {
      "cell_type": "code",
      "execution_count": null,
      "metadata": {
        "colab": {
          "base_uri": "https://localhost:8080/"
        },
        "id": "Y04m-jvKRDsJ",
        "outputId": "0ca1beb3-9ed9-43e6-8f42-ba3553e325b6"
      },
      "outputs": [
        {
          "output_type": "stream",
          "name": "stdout",
          "text": [
            "GPU device not found. Please ensure that the notebook is configured to use a GPU.\n",
            "Found GPU at: \n",
            "Time (s) to convolve 32x7x7x3 filter over random 100x100x100x3 images (batch x height x width x channel). Sum of ten runs.\n",
            "CPU (s):\n",
            "4.252110466999966\n",
            "GPU (s):\n",
            "5.377550960000008\n",
            "GPU speedup over CPU: 0x\n"
          ]
        }
      ],
      "source": [
        "import tensorflow as tf\n",
        "import timeit\n",
        "\n",
        "import tensorflow as tf\n",
        "\n",
        "device_name = tf.test.gpu_device_name()\n",
        "\n",
        "if not device_name:  # Check if device_name is empty\n",
        "  print(\"GPU device not found. Please ensure that the notebook is configured to use a GPU.\")\n",
        "  # Optionally, you can suggest steps to enable GPU or handle the case gracefully\n",
        "elif device_name != '/device:GPU:0':\n",
        "  raise SystemError('Expected GPU device at /device:GPU:0 but found {}'.format(device_name))\n",
        "\n",
        "print('Found GPU at: {}'.format(device_name))\n",
        "\n",
        "def cpu():\n",
        "  with tf.device('/cpu:0'):\n",
        "    random_image_cpu = tf.random.normal((100, 100, 100, 3))\n",
        "    net_cpu = tf.keras.layers.Conv2D(32, 7)(random_image_cpu)\n",
        "    return tf.math.reduce_sum(net_cpu)\n",
        "\n",
        "def gpu():\n",
        "  with tf.device('/device:GPU:0'):\n",
        "    random_image_gpu = tf.random.normal((100, 100, 100, 3))\n",
        "    net_gpu = tf.keras.layers.Conv2D(32, 7)(random_image_gpu)\n",
        "    return tf.math.reduce_sum(net_gpu)\n",
        "\n",
        "# We run each op once to warm up; see: https://stackoverflow.com/a/45067900\n",
        "cpu()\n",
        "gpu()\n",
        "\n",
        "# Run the op several times.\n",
        "print('Time (s) to convolve 32x7x7x3 filter over random 100x100x100x3 images '\n",
        "      '(batch x height x width x channel). Sum of ten runs.')\n",
        "print('CPU (s):')\n",
        "cpu_time = timeit.timeit('cpu()', number=10, setup=\"from __main__ import cpu\")\n",
        "print(cpu_time)\n",
        "print('GPU (s):')\n",
        "gpu_time = timeit.timeit('gpu()', number=10, setup=\"from __main__ import gpu\")\n",
        "print(gpu_time)\n",
        "print('GPU speedup over CPU: {}x'.format(int(cpu_time/gpu_time)))"
      ]
    },
    {
      "cell_type": "code",
      "source": [],
      "metadata": {
        "id": "Ev_hRf-U7owF"
      },
      "execution_count": null,
      "outputs": []
    }
  ],
  "metadata": {
    "colab": {
      "provenance": []
    },
    "kernelspec": {
      "display_name": "Python 3",
      "name": "python3"
    }
  },
  "nbformat": 4,
  "nbformat_minor": 0
}