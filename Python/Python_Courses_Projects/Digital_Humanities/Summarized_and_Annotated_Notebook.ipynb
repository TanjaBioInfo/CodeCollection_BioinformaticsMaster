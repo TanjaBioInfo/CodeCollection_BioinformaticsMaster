{
 "cells": [
  {
   "cell_type": "markdown",
   "id": "4252500b",
   "metadata": {},
   "source": [
    "# Zusammenfassung: PDF- und HTML-Scraping\n",
    "Dieses Notebook kombiniert Inhalte aus den hochgeladenen Notebooks und zeigt anhand von ausgewählten Beispielen, wie man Daten aus PDFs extrahiert (PDF-Scraping) und HTML-Webseiten verarbeitet (HTML-Scraping). Alle Code- und Text-Chunks sind auf Deutsch annotiert."
   ]
  },
  {
   "cell_type": "markdown",
   "id": "4c50679d",
   "metadata": {},
   "source": [
    "### Beispiel: PDF-Scraping\n",
    "#### Erklärung (Deutsch):\n",
    "Dieser Abschnitt zeigt, wie {description.lower()} funktioniert."
   ]
  },
  {
   "cell_type": "code",
   "execution_count": null,
   "id": "741ab278",
   "metadata": {},
   "outputs": [],
   "source": [
    "pip install PyPDF2"
   ]
  },
  {
   "cell_type": "markdown",
   "id": "6fcecd77",
   "metadata": {},
   "source": [
    "### Beispiel: API-Datenabfrage\n",
    "#### Erklärung (Deutsch):\n",
    "Dieser Abschnitt zeigt, wie {description.lower()} funktioniert."
   ]
  },
  {
   "cell_type": "code",
   "execution_count": null,
   "id": "445ef3fb",
   "metadata": {},
   "outputs": [],
   "source": [
    "import requests\n",
    "import json\n",
    "import time  # to pause after each API call \n",
    "from __future__ import division\n",
    "import math\n",
    "import csv\n",
    "import matplotlib.pyplot as plt\n",
    "import pandas as pd  # to see our CSV "
   ]
  },
  {
   "cell_type": "markdown",
   "id": "7b210fc0",
   "metadata": {},
   "source": [
    "### Beispiel: Datenbereinigung\n",
    "#### Erklärung (Deutsch):\n",
    "Dieser Abschnitt zeigt, wie {description.lower()} funktioniert."
   ]
  },
  {
   "cell_type": "code",
   "execution_count": null,
   "id": "d1d9eeab",
   "metadata": {},
   "outputs": [],
   "source": [
    "#Solution\n",
    "\n",
    "super_clean = []\n",
    "for i in punctuation_free:\n",
    "    super_clean.append(\" \".join(c for c in i.split() if c not in stopwords.words(\"french\")))"
   ]
  }
 ],
 "metadata": {},
 "nbformat": 4,
 "nbformat_minor": 5
}
