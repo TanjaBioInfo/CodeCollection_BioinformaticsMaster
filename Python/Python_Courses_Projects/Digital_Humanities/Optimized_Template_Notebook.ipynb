{
 "cells": [
  {
   "cell_type": "markdown",
   "id": "687a441b",
   "metadata": {},
   "source": [
    "# Optimiertes Template für PDF- und HTML-Scraping sowie Datenverarbeitung\n",
    "Dieses Notebook bietet eine strukturierte Vorlage zur Durchführung von PDF-Scraping, HTML-Scraping und grundlegender Datenverarbeitung. Es enthält die minimal notwendigen Beispiele aus den hochgeladenen Dateien, sowie ausführliche Annotationen in deutscher Sprache.\n"
   ]
  },
  {
   "cell_type": "markdown",
   "id": "4d0f94e4",
   "metadata": {},
   "source": [
    "### Beispiel: HTML-Scraping mit BeautifulSoup\n",
    "#### Zweck:\n",
    "Dieses Beispiel zeigt, wie html-scraping mit beautifulsoup durchgeführt wird."
   ]
  },
  {
   "cell_type": "code",
   "execution_count": null,
   "id": "c4800258",
   "metadata": {},
   "outputs": [],
   "source": [
    "from urllib.request import urlopen\n",
    "from bs4 import BeautifulSoup"
   ]
  },
  {
   "cell_type": "markdown",
   "id": "7c767f1e",
   "metadata": {},
   "source": [
    "### Beispiel: Datenabfrage über APIs\n",
    "#### Zweck:\n",
    "Dieses Beispiel zeigt, wie datenabfrage über apis durchgeführt wird."
   ]
  },
  {
   "cell_type": "code",
   "execution_count": null,
   "id": "a4e18887",
   "metadata": {},
   "outputs": [],
   "source": [
    "import requests\n",
    "import json\n",
    "import time  # to pause after each API call \n",
    "from __future__ import division\n",
    "import math\n",
    "import csv\n",
    "import matplotlib.pyplot as plt\n",
    "import pandas as pd  # to see our CSV "
   ]
  },
  {
   "cell_type": "markdown",
   "id": "497137f9",
   "metadata": {},
   "source": [
    "### Beispiel: Zusammenführen von DataFrames\n",
    "#### Zweck:\n",
    "Dieses Beispiel zeigt, wie zusammenführen von dataframes durchgeführt wird."
   ]
  },
  {
   "cell_type": "code",
   "execution_count": null,
   "id": "66400d41",
   "metadata": {},
   "outputs": [],
   "source": [
    "merged_df = pd.merge(metadata, articles, on = 'ID', how = 'outer')"
   ]
  }
 ],
 "metadata": {},
 "nbformat": 4,
 "nbformat_minor": 5
}
