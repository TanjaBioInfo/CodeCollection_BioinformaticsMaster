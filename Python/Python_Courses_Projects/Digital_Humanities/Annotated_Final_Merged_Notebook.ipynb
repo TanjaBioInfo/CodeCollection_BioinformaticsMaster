{
 "cells": [
  {
   "cell_type": "markdown",
   "id": "a48b372c",
   "metadata": {},
   "source": [
    "## Combined Notebook with Annotations\n",
    "This notebook merges and annotates the content from all uploaded notebooks."
   ]
  },
  {
   "cell_type": "markdown",
   "id": "6b83cb38",
   "metadata": {},
   "source": [
    "### Content from: Excercise 2. Modelling the Weighted Social Network of Hamlet..ipynb"
   ]
  },
  {
   "cell_type": "markdown",
   "id": "76698db5",
   "metadata": {},
   "source": [
    "#### Annotation:\n",
    "This section includes the content and logic from the original notebook. Annotations have been added to explain the purpose and function of each code cell."
   ]
  },
  {
   "cell_type": "markdown",
   "id": "d54ed9d9",
   "metadata": {},
   "source": [
    "Let's practice what we have just learnt! Let's follow this article (https://litlab.stanford.edu/LiteraryLabPamphlet2.pdf) and built the social network of **Hamlet** by William Shakespeare. We will be using this version of the book: https://www.gutenberg.org/files/1524/1524-h/1524-h.htm\n",
    "\n",
    "**Note**: we are not using *Vingt mille lieues sous les mers* because a) it is a super long book (300+ pages) plus it has not so many dialogues, so it may not be the best study case to work with Social Networks considering the amount of time that we have. However, Network Analysis with NetworkX can be done multilingually!"
   ]
  },
  {
   "cell_type": "markdown",
   "id": "bec2ee0f",
   "metadata": {},
   "source": [
    "# 1. First we import the libraries"
   ]
  },
  {
   "cell_type": "code",
   "execution_count": null,
   "id": "0d38e222",
   "metadata": {},
   "outputs": [],
   "source": [
    "# ANNOTATION (auf Deutsch):\n",
    "# Dieser Code führt die folgende Aufgabe aus:\n",
    "# (Fügen Sie hier eine spezifische Erklärung hinzu, basierend auf dem Code.)\n",
    "# This cell performs the following task:\n",
    "# (Add specific annotations here based on the logic in the cell)\n",
    "\n",
    "#Your code in here"
   ]
  },
  {
   "cell_type": "code",
   "execution_count": null,
   "id": "f5e7a134",
   "metadata": {},
   "outputs": [],
   "source": [
    "# ANNOTATION (auf Deutsch):\n",
    "# Dieser Code führt die folgende Aufgabe aus:\n",
    "# (Fügen Sie hier eine spezifische Erklärung hinzu, basierend auf dem Code.)\n",
    "# This cell performs the following task:\n",
    "# (Add specific annotations here based on the logic in the cell)\n",
    "\n",
    "#Solution\n",
    "import networkx as nx\n",
    "import pandas as pd\n",
    "import matplotlib.pyplot as plt"
   ]
  },
  {
   "cell_type": "markdown",
   "id": "f52b4ca8",
   "metadata": {},
   "source": [
    "# 2. The we create the G object"
   ]
  },
  {
   "cell_type": "code",
   "execution_count": null,
   "id": "93652d95",
   "metadata": {},
   "outputs": [],
   "source": [
    "# ANNOTATION (auf Deutsch):\n",
    "# Dieser Code führt die folgende Aufgabe aus:\n",
    "# (Fügen Sie hier eine spezifische Erklärung hinzu, basierend auf dem Code.)\n",
    "# This cell performs the following task:\n",
    "# (Add specific annotations here based on the logic in the cell)\n",
    "\n",
    "#Your code in here"
   ]
  },
  {
   "cell_type": "code",
   "execution_count": null,
   "id": "8a8e6d14",
   "metadata": {},
   "outputs": [],
   "source": [
    "# ANNOTATION (auf Deutsch):\n",
    "# Dieser Code führt die folgende Aufgabe aus:\n",
    "# (Fügen Sie hier eine spezifische Erklärung hinzu, basierend auf dem Code.)\n",
    "# This cell performs the following task:\n",
    "# (Add specific annotations here based on the logic in the cell)\n",
    "\n",
    "#Solution\n",
    "G = nx.Graph()"
   ]
  },
  {
   "cell_type": "markdown",
   "id": "b8cdee86",
   "metadata": {},
   "source": [
    "Just to let you know with this command we can clean our network (for example if we make a spelling mistake that contaminates our Graph)"
   ]
  },
  {
   "cell_type": "code",
   "execution_count": null,
   "id": "9190c175",
   "metadata": {},
   "outputs": [],
   "source": [
    "# ANNOTATION (auf Deutsch):\n",
    "# Dieser Code führt die folgende Aufgabe aus:\n",
    "# (Fügen Sie hier eine spezifische Erklärung hinzu, basierend auf dem Code.)\n",
    "# This cell performs the following task:\n",
    "# (Add specific annotations here based on the logic in the cell)\n",
    "\n",
    "G.clear() #this is just a reminder!"
   ]
  },
  {
   "cell_type": "markdown",
   "id": "831af602",
   "metadata": {},
   "source": [
    "# 3. Characters"
   ]
  },
  {
   "cell_type": "markdown",
   "id": "0bb39112",
   "metadata": {},
   "source": [
    "Now we transform every character into a node by writing each name inside **G.add_node()**. Only the main characters are included in here. "
   ]
  },
  {
   "cell_type": "markdown",
   "id": "e58c0bbb",
   "metadata": {},
   "source": [
    "These are the play characters (you can find this information at the beginning of the book). Remember to change \"Claudius\" for \"King\" and \"Gertrude\" for \"Queen\" as that is how they will appear throughout the play."
   ]
  },
  {
   "cell_type": "markdown",
   "id": "86350235",
   "metadata": {},
   "source": [
    "Dramatis Personæ\n",
    "\n",
    "* HAMLET, Prince of Denmark\n",
    "* CLAUDIUS, King of Denmark, Hamlet’s uncle\n",
    "* The GHOST of the late king, Hamlet’s father\n",
    "* GERTRUDE, the Queen, Hamlet’s mother, now wife of Claudius\n",
    "* POLONIUS, Lord Chamberlain\n",
    "* LAERTES, Son to Polonius\n",
    "* OPHELIA, Daughter to Polonius\n",
    "* HORATIO, Friend to Hamlet\n",
    "* FORTINBRAS, Prince of Norway\n",
    "* VOLTEMAND, Courtier\n",
    "* CORNELIUS, Courtier\n",
    "* ROSENCRANTZ, Courtier\n",
    "* GUILDENSTERN, Courtier\n",
    "* MARCELLUS, Officer\n",
    "* BARNARDO, Officer\n",
    "* FRANCISCO, a Soldier\n",
    "* OSRIC, Courtier\n",
    "* REYNALDO, Servant to Polonius\n",
    "* Players\n",
    "* A Gentleman, Courtier\n",
    "* A Priest\n",
    "* Two Clowns, Grave-diggers\n",
    "* A Captain\n",
    "* English Ambassadors.\n",
    "* Lords, Ladies, Officers, Soldiers, Sailors, Messengers, and Attendants"
   ]
  },
  {
   "cell_type": "code",
   "execution_count": null,
   "id": "7fb054fc",
   "metadata": {},
   "outputs": [],
   "source": [
    "# ANNOTATION (auf Deutsch):\n",
    "# Dieser Code führt die folgende Aufgabe aus:\n",
    "# (Fügen Sie hier eine spezifische Erklärung hinzu, basierend auf dem Code.)\n",
    "# This cell performs the following task:\n",
    "# (Add specific annotations here based on the logic in the cell)\n",
    "\n",
    "#Your code in here"
   ]
  },
  {
   "cell_type": "code",
   "execution_count": null,
   "id": "0a6132c3",
   "metadata": {},
   "outputs": [],
   "source": [
    "# ANNOTATION (auf Deutsch):\n",
    "# Dieser Code führt die folgende Aufgabe aus:\n",
    "# (Fügen Sie hier eine spezifische Erklärung hinzu, basierend auf dem Code.)\n",
    "# This cell performs the following task:\n",
    "# (Add specific annotations here based on the logic in the cell)\n",
    "\n",
    "#Solution\n",
    "\n",
    "G.add_node(\"Hamlet\")"
   ]
  },
  {
   "cell_type": "code",
   "execution_count": null,
   "id": "f179168a",
   "metadata": {},
   "outputs": [],
   "source": [
    "# ANNOTATION (auf Deutsch):\n",
    "# Dieser Code führt die folgende Aufgabe aus:\n",
    "# (Fügen Sie hier eine spezifische Erklärung hinzu, basierend auf dem Code.)\n",
    "# This cell performs the following task:\n",
    "# (Add specific annotations here based on the logic in the cell)\n",
    "\n",
    "G.add_node(\"King\")"
   ]
  },
  {
   "cell_type": "code",
   "execution_count": null,
   "id": "7d12e5c2",
   "metadata": {},
   "outputs": [],
   "source": [
    "# ANNOTATION (auf Deutsch):\n",
    "# Dieser Code führt die folgende Aufgabe aus:\n",
    "# (Fügen Sie hier eine spezifische Erklärung hinzu, basierend auf dem Code.)\n",
    "# This cell performs the following task:\n",
    "# (Add specific annotations here based on the logic in the cell)\n",
    "\n",
    "G.add_node(\"Ghost\")"
   ]
  },
  {
   "cell_type": "code",
   "execution_count": null,
   "id": "c9bbd4c7",
   "metadata": {},
   "outputs": [],
   "source": [
    "# ANNOTATION (auf Deutsch):\n",
    "# Dieser Code führt die folgende Aufgabe aus:\n",
    "# (Fügen Sie hier eine spezifische Erklärung hinzu, basierend auf dem Code.)\n",
    "# This cell performs the following task:\n",
    "# (Add specific annotations here based on the logic in the cell)\n",
    "\n",
    "G.add_node(\"Queen\")"
   ]
  },
  {
   "cell_type": "code",
   "execution_count": null,
   "id": "b006dbb9",
   "metadata": {},
   "outputs": [],
   "source": [
    "# ANNOTATION (auf Deutsch):\n",
    "# Dieser Code führt die folgende Aufgabe aus:\n",
    "# (Fügen Sie hier eine spezifische Erklärung hinzu, basierend auf dem Code.)\n",
    "# This cell performs the following task:\n",
    "# (Add specific annotations here based on the logic in the cell)\n",
    "\n",
    "G.add_node(\"Polonius\")"
   ]
  },
  {
   "cell_type": "code",
   "execution_count": null,
   "id": "3af1f7f3",
   "metadata": {},
   "outputs": [],
   "source": [
    "# ANNOTATION (auf Deutsch):\n",
    "# Dieser Code führt die folgende Aufgabe aus:\n",
    "# (Fügen Sie hier eine spezifische Erklärung hinzu, basierend auf dem Code.)\n",
    "# This cell performs the following task:\n",
    "# (Add specific annotations here based on the logic in the cell)\n",
    "\n",
    "G.add_node(\"Laertes\")"
   ]
  },
  {
   "cell_type": "code",
   "execution_count": null,
   "id": "63e207d7",
   "metadata": {},
   "outputs": [],
   "source": [
    "# ANNOTATION (auf Deutsch):\n",
    "# Dieser Code führt die folgende Aufgabe aus:\n",
    "# (Fügen Sie hier eine spezifische Erklärung hinzu, basierend auf dem Code.)\n",
    "# This cell performs the following task:\n",
    "# (Add specific annotations here based on the logic in the cell)\n",
    "\n",
    "G.add_node(\"Ophelia\")"
   ]
  },
  {
   "cell_type": "code",
   "execution_count": null,
   "id": "a516aa8b",
   "metadata": {},
   "outputs": [],
   "source": [
    "# ANNOTATION (auf Deutsch):\n",
    "# Dieser Code führt die folgende Aufgabe aus:\n",
    "# (Fügen Sie hier eine spezifische Erklärung hinzu, basierend auf dem Code.)\n",
    "# This cell performs the following task:\n",
    "# (Add specific annotations here based on the logic in the cell)\n",
    "\n",
    "G.add_node(\"Horatio\")"
   ]
  },
  {
   "cell_type": "code",
   "execution_count": null,
   "id": "aad0e791",
   "metadata": {},
   "outputs": [],
   "source": [
    "# ANNOTATION (auf Deutsch):\n",
    "# Dieser Code führt die folgende Aufgabe aus:\n",
    "# (Fügen Sie hier eine spezifische Erklärung hinzu, basierend auf dem Code.)\n",
    "# This cell performs the following task:\n",
    "# (Add specific annotations here based on the logic in the cell)\n",
    "\n",
    "G.add_node(\"Fortinbras\")"
   ]
  },
  {
   "cell_type": "code",
   "execution_count": null,
   "id": "7e3e9368",
   "metadata": {},
   "outputs": [],
   "source": [
    "# ANNOTATION (auf Deutsch):\n",
    "# Dieser Code führt die folgende Aufgabe aus:\n",
    "# (Fügen Sie hier eine spezifische Erklärung hinzu, basierend auf dem Code.)\n",
    "# This cell performs the following task:\n",
    "# (Add specific annotations here based on the logic in the cell)\n",
    "\n",
    "G.add_node(\"Voltemand\")"
   ]
  },
  {
   "cell_type": "code",
   "execution_count": null,
   "id": "ad670970",
   "metadata": {},
   "outputs": [],
   "source": [
    "# ANNOTATION (auf Deutsch):\n",
    "# Dieser Code führt die folgende Aufgabe aus:\n",
    "# (Fügen Sie hier eine spezifische Erklärung hinzu, basierend auf dem Code.)\n",
    "# This cell performs the following task:\n",
    "# (Add specific annotations here based on the logic in the cell)\n",
    "\n",
    "G.add_node(\"Cornelius\")"
   ]
  },
  {
   "cell_type": "code",
   "execution_count": null,
   "id": "3a84c166",
   "metadata": {},
   "outputs": [],
   "source": [
    "# ANNOTATION (auf Deutsch):\n",
    "# Dieser Code führt die folgende Aufgabe aus:\n",
    "# (Fügen Sie hier eine spezifische Erklärung hinzu, basierend auf dem Code.)\n",
    "# This cell performs the following task:\n",
    "# (Add specific annotations here based on the logic in the cell)\n",
    "\n",
    "G.add_node(\"Rosencrantz\")"
   ]
  },
  {
   "cell_type": "code",
   "execution_count": null,
   "id": "4778c728",
   "metadata": {},
   "outputs": [],
   "source": [
    "# ANNOTATION (auf Deutsch):\n",
    "# Dieser Code führt die folgende Aufgabe aus:\n",
    "# (Fügen Sie hier eine spezifische Erklärung hinzu, basierend auf dem Code.)\n",
    "# This cell performs the following task:\n",
    "# (Add specific annotations here based on the logic in the cell)\n",
    "\n",
    "G.add_node(\"Guildenstern\")"
   ]
  },
  {
   "cell_type": "code",
   "execution_count": null,
   "id": "d45e2117",
   "metadata": {},
   "outputs": [],
   "source": [
    "# ANNOTATION (auf Deutsch):\n",
    "# Dieser Code führt die folgende Aufgabe aus:\n",
    "# (Fügen Sie hier eine spezifische Erklärung hinzu, basierend auf dem Code.)\n",
    "# This cell performs the following task:\n",
    "# (Add specific annotations here based on the logic in the cell)\n",
    "\n",
    "G.add_node(\"Marcellus\")"
   ]
  },
  {
   "cell_type": "code",
   "execution_count": null,
   "id": "723bb225",
   "metadata": {},
   "outputs": [],
   "source": [
    "# ANNOTATION (auf Deutsch):\n",
    "# Dieser Code führt die folgende Aufgabe aus:\n",
    "# (Fügen Sie hier eine spezifische Erklärung hinzu, basierend auf dem Code.)\n",
    "# This cell performs the following task:\n",
    "# (Add specific annotations here based on the logic in the cell)\n",
    "\n",
    "G.add_node(\"Barnardo\")"
   ]
  },
  {
   "cell_type": "code",
   "execution_count": null,
   "id": "7983e022",
   "metadata": {},
   "outputs": [],
   "source": [
    "# ANNOTATION (auf Deutsch):\n",
    "# Dieser Code führt die folgende Aufgabe aus:\n",
    "# (Fügen Sie hier eine spezifische Erklärung hinzu, basierend auf dem Code.)\n",
    "# This cell performs the following task:\n",
    "# (Add specific annotations here based on the logic in the cell)\n",
    "\n",
    "G.add_node(\"Francisco\")"
   ]
  },
  {
   "cell_type": "code",
   "execution_count": null,
   "id": "37cac7ed",
   "metadata": {},
   "outputs": [],
   "source": [
    "# ANNOTATION (auf Deutsch):\n",
    "# Dieser Code führt die folgende Aufgabe aus:\n",
    "# (Fügen Sie hier eine spezifische Erklärung hinzu, basierend auf dem Code.)\n",
    "# This cell performs the following task:\n",
    "# (Add specific annotations here based on the logic in the cell)\n",
    "\n",
    "G.add_node(\"Osric\")"
   ]
  },
  {
   "cell_type": "code",
   "execution_count": null,
   "id": "e21282d5",
   "metadata": {},
   "outputs": [],
   "source": [
    "# ANNOTATION (auf Deutsch):\n",
    "# Dieser Code führt die folgende Aufgabe aus:\n",
    "# (Fügen Sie hier eine spezifische Erklärung hinzu, basierend auf dem Code.)\n",
    "# This cell performs the following task:\n",
    "# (Add specific annotations here based on the logic in the cell)\n",
    "\n",
    "G.add_node(\"Reynaldo\")"
   ]
  },
  {
   "cell_type": "code",
   "execution_count": null,
   "id": "12988f04",
   "metadata": {},
   "outputs": [],
   "source": [
    "# ANNOTATION (auf Deutsch):\n",
    "# Dieser Code führt die folgende Aufgabe aus:\n",
    "# (Fügen Sie hier eine spezifische Erklärung hinzu, basierend auf dem Code.)\n",
    "# This cell performs the following task:\n",
    "# (Add specific annotations here based on the logic in the cell)\n",
    "\n",
    "G.add_node(\"First Player\")"
   ]
  },
  {
   "cell_type": "code",
   "execution_count": null,
   "id": "247a4a7e",
   "metadata": {},
   "outputs": [],
   "source": [
    "# ANNOTATION (auf Deutsch):\n",
    "# Dieser Code führt die folgende Aufgabe aus:\n",
    "# (Fügen Sie hier eine spezifische Erklärung hinzu, basierend auf dem Code.)\n",
    "# This cell performs the following task:\n",
    "# (Add specific annotations here based on the logic in the cell)\n",
    "\n",
    "G.add_node(\"Player King\")"
   ]
  },
  {
   "cell_type": "code",
   "execution_count": null,
   "id": "6fb14bd0",
   "metadata": {},
   "outputs": [],
   "source": [
    "# ANNOTATION (auf Deutsch):\n",
    "# Dieser Code führt die folgende Aufgabe aus:\n",
    "# (Fügen Sie hier eine spezifische Erklärung hinzu, basierend auf dem Code.)\n",
    "# This cell performs the following task:\n",
    "# (Add specific annotations here based on the logic in the cell)\n",
    "\n",
    "G.add_node(\"Player Queen\")"
   ]
  },
  {
   "cell_type": "code",
   "execution_count": null,
   "id": "00e6feb9",
   "metadata": {},
   "outputs": [],
   "source": [
    "# ANNOTATION (auf Deutsch):\n",
    "# Dieser Code führt die folgende Aufgabe aus:\n",
    "# (Fügen Sie hier eine spezifische Erklärung hinzu, basierend auf dem Code.)\n",
    "# This cell performs the following task:\n",
    "# (Add specific annotations here based on the logic in the cell)\n",
    "\n",
    "G.add_node(\"Captain\")"
   ]
  },
  {
   "cell_type": "code",
   "execution_count": null,
   "id": "c04aaf9f",
   "metadata": {},
   "outputs": [],
   "source": [
    "# ANNOTATION (auf Deutsch):\n",
    "# Dieser Code führt die folgende Aufgabe aus:\n",
    "# (Fügen Sie hier eine spezifische Erklärung hinzu, basierend auf dem Code.)\n",
    "# This cell performs the following task:\n",
    "# (Add specific annotations here based on the logic in the cell)\n",
    "\n",
    "G.add_node(\"Gentleman\")"
   ]
  },
  {
   "cell_type": "code",
   "execution_count": null,
   "id": "6fbec5aa",
   "metadata": {},
   "outputs": [],
   "source": [
    "# ANNOTATION (auf Deutsch):\n",
    "# Dieser Code führt die folgende Aufgabe aus:\n",
    "# (Fügen Sie hier eine spezifische Erklärung hinzu, basierend auf dem Code.)\n",
    "# This cell performs the following task:\n",
    "# (Add specific annotations here based on the logic in the cell)\n",
    "\n",
    "G.add_node(\"Danes\")"
   ]
  },
  {
   "cell_type": "code",
   "execution_count": null,
   "id": "de499b20",
   "metadata": {},
   "outputs": [],
   "source": [
    "# ANNOTATION (auf Deutsch):\n",
    "# Dieser Code führt die folgende Aufgabe aus:\n",
    "# (Fügen Sie hier eine spezifische Erklärung hinzu, basierend auf dem Code.)\n",
    "# This cell performs the following task:\n",
    "# (Add specific annotations here based on the logic in the cell)\n",
    "\n",
    "G.add_node(\"Servant\")"
   ]
  },
  {
   "cell_type": "code",
   "execution_count": null,
   "id": "ddc29037",
   "metadata": {},
   "outputs": [],
   "source": [
    "# ANNOTATION (auf Deutsch):\n",
    "# Dieser Code führt die folgende Aufgabe aus:\n",
    "# (Fügen Sie hier eine spezifische Erklärung hinzu, basierend auf dem Code.)\n",
    "# This cell performs the following task:\n",
    "# (Add specific annotations here based on the logic in the cell)\n",
    "\n",
    "G.add_node(\"First Sailor\")"
   ]
  },
  {
   "cell_type": "code",
   "execution_count": null,
   "id": "4d84bf89",
   "metadata": {},
   "outputs": [],
   "source": [
    "# ANNOTATION (auf Deutsch):\n",
    "# Dieser Code führt die folgende Aufgabe aus:\n",
    "# (Fügen Sie hier eine spezifische Erklärung hinzu, basierend auf dem Code.)\n",
    "# This cell performs the following task:\n",
    "# (Add specific annotations here based on the logic in the cell)\n",
    "\n",
    "G.add_node(\"Messenger\")"
   ]
  },
  {
   "cell_type": "code",
   "execution_count": null,
   "id": "61007178",
   "metadata": {},
   "outputs": [],
   "source": [
    "# ANNOTATION (auf Deutsch):\n",
    "# Dieser Code führt die folgende Aufgabe aus:\n",
    "# (Fügen Sie hier eine spezifische Erklärung hinzu, basierend auf dem Code.)\n",
    "# This cell performs the following task:\n",
    "# (Add specific annotations here based on the logic in the cell)\n",
    "\n",
    "G.add_node(\"First Clown\")"
   ]
  },
  {
   "cell_type": "code",
   "execution_count": null,
   "id": "d575e900",
   "metadata": {},
   "outputs": [],
   "source": [
    "# ANNOTATION (auf Deutsch):\n",
    "# Dieser Code führt die folgende Aufgabe aus:\n",
    "# (Fügen Sie hier eine spezifische Erklärung hinzu, basierend auf dem Code.)\n",
    "# This cell performs the following task:\n",
    "# (Add specific annotations here based on the logic in the cell)\n",
    "\n",
    "G.add_node(\"Second Clown\")"
   ]
  },
  {
   "cell_type": "code",
   "execution_count": null,
   "id": "f89f02fa",
   "metadata": {},
   "outputs": [],
   "source": [
    "# ANNOTATION (auf Deutsch):\n",
    "# Dieser Code führt die folgende Aufgabe aus:\n",
    "# (Fügen Sie hier eine spezifische Erklärung hinzu, basierend auf dem Code.)\n",
    "# This cell performs the following task:\n",
    "# (Add specific annotations here based on the logic in the cell)\n",
    "\n",
    "G.add_node(\"Priest\")"
   ]
  },
  {
   "cell_type": "code",
   "execution_count": null,
   "id": "5ac932e6",
   "metadata": {},
   "outputs": [],
   "source": [
    "# ANNOTATION (auf Deutsch):\n",
    "# Dieser Code führt die folgende Aufgabe aus:\n",
    "# (Fügen Sie hier eine spezifische Erklärung hinzu, basierend auf dem Code.)\n",
    "# This cell performs the following task:\n",
    "# (Add specific annotations here based on the logic in the cell)\n",
    "\n",
    "G.add_node(\"Osric\")"
   ]
  },
  {
   "cell_type": "code",
   "execution_count": null,
   "id": "e77c4c77",
   "metadata": {},
   "outputs": [],
   "source": [
    "# ANNOTATION (auf Deutsch):\n",
    "# Dieser Code führt die folgende Aufgabe aus:\n",
    "# (Fügen Sie hier eine spezifische Erklärung hinzu, basierend auf dem Code.)\n",
    "# This cell performs the following task:\n",
    "# (Add specific annotations here based on the logic in the cell)\n",
    "\n",
    "G.add_node(\"Lord\")"
   ]
  },
  {
   "cell_type": "code",
   "execution_count": null,
   "id": "20054f44",
   "metadata": {},
   "outputs": [],
   "source": [
    "# ANNOTATION (auf Deutsch):\n",
    "# Dieser Code führt die folgende Aufgabe aus:\n",
    "# (Fügen Sie hier eine spezifische Erklärung hinzu, basierend auf dem Code.)\n",
    "# This cell performs the following task:\n",
    "# (Add specific annotations here based on the logic in the cell)\n",
    "\n",
    "G.add_node(\"First Ambassator\")"
   ]
  },
  {
   "cell_type": "markdown",
   "id": "13312836",
   "metadata": {},
   "source": [
    "# 4. Textual Interactions"
   ]
  },
  {
   "cell_type": "markdown",
   "id": "92558ff7",
   "metadata": {},
   "source": [
    "Then we count (old school style by reading the book) who is talking to whom, and we write that down in **G.add_edge()**. If we make a mistake and we accidentally write twice when a character talks to another one, it doesn´t matter. The networkx library will only take into acount one edge per pair of nodes. \n",
    "\n",
    "In theatre plays it can be a bit confussing to know who is talking to as some scenes (such as the last one in Hamlet) everybody is talking (or shouting!) at the same time and it is a total mess! It's ok if your edges are not 100% accurate: an approximation will be fine!"
   ]
  },
  {
   "cell_type": "code",
   "execution_count": null,
   "id": "3e538273",
   "metadata": {},
   "outputs": [],
   "source": [
    "# ANNOTATION (auf Deutsch):\n",
    "# Dieser Code führt die folgende Aufgabe aus:\n",
    "# (Fügen Sie hier eine spezifische Erklärung hinzu, basierend auf dem Code.)\n",
    "# This cell performs the following task:\n",
    "# (Add specific annotations here based on the logic in the cell)\n",
    "\n",
    "#Your code in here"
   ]
  },
  {
   "cell_type": "code",
   "execution_count": null,
   "id": "995ffa3d",
   "metadata": {},
   "outputs": [],
   "source": [
    "# ANNOTATION (auf Deutsch):\n",
    "# Dieser Code führt die folgende Aufgabe aus:\n",
    "# (Fügen Sie hier eine spezifische Erklärung hinzu, basierend auf dem Code.)\n",
    "# This cell performs the following task:\n",
    "# (Add specific annotations here based on the logic in the cell)\n",
    "\n",
    "#Solution"
   ]
  },
  {
   "cell_type": "code",
   "execution_count": null,
   "id": "c8f23e56",
   "metadata": {},
   "outputs": [],
   "source": [
    "# ANNOTATION (auf Deutsch):\n",
    "# Dieser Code führt die folgende Aufgabe aus:\n",
    "# (Fügen Sie hier eine spezifische Erklärung hinzu, basierend auf dem Code.)\n",
    "# This cell performs the following task:\n",
    "# (Add specific annotations here based on the logic in the cell)\n",
    "\n",
    "G.add_edge(\"Barnardo\", \"Francisco\", weight = 11) "
   ]
  },
  {
   "cell_type": "code",
   "execution_count": null,
   "id": "f690f59d",
   "metadata": {},
   "outputs": [],
   "source": [
    "# ANNOTATION (auf Deutsch):\n",
    "# Dieser Code führt die folgende Aufgabe aus:\n",
    "# (Fügen Sie hier eine spezifische Erklärung hinzu, basierend auf dem Code.)\n",
    "# This cell performs the following task:\n",
    "# (Add specific annotations here based on the logic in the cell)\n",
    "\n",
    "G.add_edge(\"Francisco\", \"Horatio\", weight = 1) "
   ]
  },
  {
   "cell_type": "code",
   "execution_count": null,
   "id": "35e4e7ff",
   "metadata": {},
   "outputs": [],
   "source": [
    "# ANNOTATION (auf Deutsch):\n",
    "# Dieser Code führt die folgende Aufgabe aus:\n",
    "# (Fügen Sie hier eine spezifische Erklärung hinzu, basierend auf dem Code.)\n",
    "# This cell performs the following task:\n",
    "# (Add specific annotations here based on the logic in the cell)\n",
    "\n",
    "G.add_edge(\"Marcellus\", \"Francisco\", weight = 4) "
   ]
  },
  {
   "cell_type": "code",
   "execution_count": null,
   "id": "a0921fa4",
   "metadata": {},
   "outputs": [],
   "source": [
    "# ANNOTATION (auf Deutsch):\n",
    "# Dieser Code führt die folgende Aufgabe aus:\n",
    "# (Fügen Sie hier eine spezifische Erklärung hinzu, basierend auf dem Code.)\n",
    "# This cell performs the following task:\n",
    "# (Add specific annotations here based on the logic in the cell)\n",
    "\n",
    "G.add_edge(\"Marcellus\", \"Barnardo\", weight = 1) "
   ]
  },
  {
   "cell_type": "code",
   "execution_count": null,
   "id": "1a5ee53e",
   "metadata": {},
   "outputs": [],
   "source": [
    "# ANNOTATION (auf Deutsch):\n",
    "# Dieser Code führt die folgende Aufgabe aus:\n",
    "# (Fügen Sie hier eine spezifische Erklärung hinzu, basierend auf dem Code.)\n",
    "# This cell performs the following task:\n",
    "# (Add specific annotations here based on the logic in the cell)\n",
    "\n",
    "G.add_edge(\"Horatio\", \"Barnardo\", weight = 6) "
   ]
  },
  {
   "cell_type": "code",
   "execution_count": null,
   "id": "4f0f7f73",
   "metadata": {},
   "outputs": [],
   "source": [
    "# ANNOTATION (auf Deutsch):\n",
    "# Dieser Code führt die folgende Aufgabe aus:\n",
    "# (Fügen Sie hier eine spezifische Erklärung hinzu, basierend auf dem Code.)\n",
    "# This cell performs the following task:\n",
    "# (Add specific annotations here based on the logic in the cell)\n",
    "\n",
    "G.add_edge(\"Marcellus\", \"Barnardo\", weight = 5) "
   ]
  },
  {
   "cell_type": "code",
   "execution_count": null,
   "id": "89ff8737",
   "metadata": {},
   "outputs": [],
   "source": [
    "# ANNOTATION (auf Deutsch):\n",
    "# Dieser Code führt die folgende Aufgabe aus:\n",
    "# (Fügen Sie hier eine spezifische Erklärung hinzu, basierend auf dem Code.)\n",
    "# This cell performs the following task:\n",
    "# (Add specific annotations here based on the logic in the cell)\n",
    "\n",
    "G.add_edge(\"Marcellus\", \"Horatio\", weight = 16) "
   ]
  },
  {
   "cell_type": "code",
   "execution_count": null,
   "id": "cd801003",
   "metadata": {},
   "outputs": [],
   "source": [
    "# ANNOTATION (auf Deutsch):\n",
    "# Dieser Code führt die folgende Aufgabe aus:\n",
    "# (Fügen Sie hier eine spezifische Erklärung hinzu, basierend auf dem Code.)\n",
    "# This cell performs the following task:\n",
    "# (Add specific annotations here based on the logic in the cell)\n",
    "\n",
    "G.add_edge(\"King\", \"Cornelius\", weight = 1) "
   ]
  },
  {
   "cell_type": "code",
   "execution_count": null,
   "id": "fc3c94a4",
   "metadata": {},
   "outputs": [],
   "source": [
    "# ANNOTATION (auf Deutsch):\n",
    "# Dieser Code führt die folgende Aufgabe aus:\n",
    "# (Fügen Sie hier eine spezifische Erklärung hinzu, basierend auf dem Code.)\n",
    "# This cell performs the following task:\n",
    "# (Add specific annotations here based on the logic in the cell)\n",
    "\n",
    "G.add_edge(\"King\", \"Voltemand\", weight = 1) "
   ]
  },
  {
   "cell_type": "code",
   "execution_count": null,
   "id": "f02d9f65",
   "metadata": {},
   "outputs": [],
   "source": [
    "# ANNOTATION (auf Deutsch):\n",
    "# Dieser Code führt die folgende Aufgabe aus:\n",
    "# (Fügen Sie hier eine spezifische Erklärung hinzu, basierend auf dem Code.)\n",
    "# This cell performs the following task:\n",
    "# (Add specific annotations here based on the logic in the cell)\n",
    "\n",
    "G.add_edge(\"King\", \"Laertes\", weight = 46) "
   ]
  },
  {
   "cell_type": "code",
   "execution_count": null,
   "id": "67c2e54e",
   "metadata": {},
   "outputs": [],
   "source": [
    "# ANNOTATION (auf Deutsch):\n",
    "# Dieser Code führt die folgende Aufgabe aus:\n",
    "# (Fügen Sie hier eine spezifische Erklärung hinzu, basierend auf dem Code.)\n",
    "# This cell performs the following task:\n",
    "# (Add specific annotations here based on the logic in the cell)\n",
    "\n",
    "G.add_edge(\"King\", \"Polonius\", weight = 7) "
   ]
  },
  {
   "cell_type": "code",
   "execution_count": null,
   "id": "f50eff0c",
   "metadata": {},
   "outputs": [],
   "source": [
    "# ANNOTATION (auf Deutsch):\n",
    "# Dieser Code führt die folgende Aufgabe aus:\n",
    "# (Fügen Sie hier eine spezifische Erklärung hinzu, basierend auf dem Code.)\n",
    "# This cell performs the following task:\n",
    "# (Add specific annotations here based on the logic in the cell)\n",
    "\n",
    "G.add_edge(\"King\", \"Hamlet\", weight = 60) "
   ]
  },
  {
   "cell_type": "code",
   "execution_count": null,
   "id": "329a4b73",
   "metadata": {},
   "outputs": [],
   "source": [
    "# ANNOTATION (auf Deutsch):\n",
    "# Dieser Code führt die folgende Aufgabe aus:\n",
    "# (Fügen Sie hier eine spezifische Erklärung hinzu, basierend auf dem Code.)\n",
    "# This cell performs the following task:\n",
    "# (Add specific annotations here based on the logic in the cell)\n",
    "\n",
    "G.add_edge(\"Queen\", \"Hamlet\", weight = 64) "
   ]
  },
  {
   "cell_type": "code",
   "execution_count": null,
   "id": "861e9b95",
   "metadata": {},
   "outputs": [],
   "source": [
    "# ANNOTATION (auf Deutsch):\n",
    "# Dieser Code führt die folgende Aufgabe aus:\n",
    "# (Fügen Sie hier eine spezifische Erklärung hinzu, basierend auf dem Code.)\n",
    "# This cell performs the following task:\n",
    "# (Add specific annotations here based on the logic in the cell)\n",
    "\n",
    "G.add_edge(\"Horatio\", \"Hamlet\", weight = 150) "
   ]
  },
  {
   "cell_type": "code",
   "execution_count": null,
   "id": "e5d7e0a3",
   "metadata": {},
   "outputs": [],
   "source": [
    "# ANNOTATION (auf Deutsch):\n",
    "# Dieser Code führt die folgende Aufgabe aus:\n",
    "# (Fügen Sie hier eine spezifische Erklärung hinzu, basierend auf dem Code.)\n",
    "# This cell performs the following task:\n",
    "# (Add specific annotations here based on the logic in the cell)\n",
    "\n",
    "G.add_edge(\"Hamlet\", \"Marcellus\", weight = 12) "
   ]
  },
  {
   "cell_type": "code",
   "execution_count": null,
   "id": "82268d5d",
   "metadata": {},
   "outputs": [],
   "source": [
    "# ANNOTATION (auf Deutsch):\n",
    "# Dieser Code führt die folgende Aufgabe aus:\n",
    "# (Fügen Sie hier eine spezifische Erklärung hinzu, basierend auf dem Code.)\n",
    "# This cell performs the following task:\n",
    "# (Add specific annotations here based on the logic in the cell)\n",
    "\n",
    "G.add_edge(\"Laertes\", \"Ophelia\", weight = 20) "
   ]
  },
  {
   "cell_type": "code",
   "execution_count": null,
   "id": "c9ad333f",
   "metadata": {},
   "outputs": [],
   "source": [
    "# ANNOTATION (auf Deutsch):\n",
    "# Dieser Code führt die folgende Aufgabe aus:\n",
    "# (Fügen Sie hier eine spezifische Erklärung hinzu, basierend auf dem Code.)\n",
    "# This cell performs the following task:\n",
    "# (Add specific annotations here based on the logic in the cell)\n",
    "\n",
    "G.add_edge(\"Laertes\", \"Polonius\", weight = 5) "
   ]
  },
  {
   "cell_type": "code",
   "execution_count": null,
   "id": "220c3e7e",
   "metadata": {},
   "outputs": [],
   "source": [
    "# ANNOTATION (auf Deutsch):\n",
    "# Dieser Code führt die folgende Aufgabe aus:\n",
    "# (Fügen Sie hier eine spezifische Erklärung hinzu, basierend auf dem Code.)\n",
    "# This cell performs the following task:\n",
    "# (Add specific annotations here based on the logic in the cell)\n",
    "\n",
    "G.add_edge(\"Polonius\", \"Ophelia\", weight = 12) "
   ]
  },
  {
   "cell_type": "code",
   "execution_count": null,
   "id": "24eb3274",
   "metadata": {},
   "outputs": [],
   "source": [
    "# ANNOTATION (auf Deutsch):\n",
    "# Dieser Code führt die folgende Aufgabe aus:\n",
    "# (Fügen Sie hier eine spezifische Erklärung hinzu, basierend auf dem Code.)\n",
    "# This cell performs the following task:\n",
    "# (Add specific annotations here based on the logic in the cell)\n",
    "\n",
    "G.add_edge(\"Hamlet\", \"Ghost\", weight = 27) "
   ]
  },
  {
   "cell_type": "code",
   "execution_count": null,
   "id": "ddae3893",
   "metadata": {},
   "outputs": [],
   "source": [
    "# ANNOTATION (auf Deutsch):\n",
    "# Dieser Code führt die folgende Aufgabe aus:\n",
    "# (Fügen Sie hier eine spezifische Erklärung hinzu, basierend auf dem Code.)\n",
    "# This cell performs the following task:\n",
    "# (Add specific annotations here based on the logic in the cell)\n",
    "\n",
    "G.add_edge(\"Polonius\", \"Reynaldo\", weight = 27) "
   ]
  },
  {
   "cell_type": "code",
   "execution_count": null,
   "id": "d166c126",
   "metadata": {},
   "outputs": [],
   "source": [
    "# ANNOTATION (auf Deutsch):\n",
    "# Dieser Code führt die folgende Aufgabe aus:\n",
    "# (Fügen Sie hier eine spezifische Erklärung hinzu, basierend auf dem Code.)\n",
    "# This cell performs the following task:\n",
    "# (Add specific annotations here based on the logic in the cell)\n",
    "\n",
    "G.add_edge(\"Ophelia\", \"Polonius\", weight = 10) "
   ]
  },
  {
   "cell_type": "code",
   "execution_count": null,
   "id": "a4c326a6",
   "metadata": {},
   "outputs": [],
   "source": [
    "# ANNOTATION (auf Deutsch):\n",
    "# Dieser Code führt die folgende Aufgabe aus:\n",
    "# (Fügen Sie hier eine spezifische Erklärung hinzu, basierend auf dem Code.)\n",
    "# This cell performs the following task:\n",
    "# (Add specific annotations here based on the logic in the cell)\n",
    "\n",
    "G.add_edge(\"Queen\", \"Rosencrantz\", weight = 5) "
   ]
  },
  {
   "cell_type": "code",
   "execution_count": null,
   "id": "fe86ce42",
   "metadata": {},
   "outputs": [],
   "source": [
    "# ANNOTATION (auf Deutsch):\n",
    "# Dieser Code führt die folgende Aufgabe aus:\n",
    "# (Fügen Sie hier eine spezifische Erklärung hinzu, basierend auf dem Code.)\n",
    "# This cell performs the following task:\n",
    "# (Add specific annotations here based on the logic in the cell)\n",
    "\n",
    "G.add_edge(\"King\", \"Rosencrantz\", weight = 10) "
   ]
  },
  {
   "cell_type": "code",
   "execution_count": null,
   "id": "13dba5f2",
   "metadata": {},
   "outputs": [],
   "source": [
    "# ANNOTATION (auf Deutsch):\n",
    "# Dieser Code führt die folgende Aufgabe aus:\n",
    "# (Fügen Sie hier eine spezifische Erklärung hinzu, basierend auf dem Code.)\n",
    "# This cell performs the following task:\n",
    "# (Add specific annotations here based on the logic in the cell)\n",
    "\n",
    "G.add_edge(\"Queen\", \"Guildenstern\", weight = 6) "
   ]
  },
  {
   "cell_type": "code",
   "execution_count": null,
   "id": "421d91a5",
   "metadata": {},
   "outputs": [],
   "source": [
    "# ANNOTATION (auf Deutsch):\n",
    "# Dieser Code führt die folgende Aufgabe aus:\n",
    "# (Fügen Sie hier eine spezifische Erklärung hinzu, basierend auf dem Code.)\n",
    "# This cell performs the following task:\n",
    "# (Add specific annotations here based on the logic in the cell)\n",
    "\n",
    "G.add_edge(\"King\", \"Guildenstern\", weight = 1) "
   ]
  },
  {
   "cell_type": "code",
   "execution_count": null,
   "id": "ec40c54c",
   "metadata": {},
   "outputs": [],
   "source": [
    "# ANNOTATION (auf Deutsch):\n",
    "# Dieser Code führt die folgende Aufgabe aus:\n",
    "# (Fügen Sie hier eine spezifische Erklärung hinzu, basierend auf dem Code.)\n",
    "# This cell performs the following task:\n",
    "# (Add specific annotations here based on the logic in the cell)\n",
    "\n",
    "G.add_edge(\"King\", \"Voltemand\", weight = 2) "
   ]
  },
  {
   "cell_type": "code",
   "execution_count": null,
   "id": "4c3f0baa",
   "metadata": {},
   "outputs": [],
   "source": [
    "# ANNOTATION (auf Deutsch):\n",
    "# Dieser Code führt die folgende Aufgabe aus:\n",
    "# (Fügen Sie hier eine spezifische Erklärung hinzu, basierend auf dem Code.)\n",
    "# This cell performs the following task:\n",
    "# (Add specific annotations here based on the logic in the cell)\n",
    "\n",
    "G.add_edge(\"King\", \"Polonius\", weight = 30) "
   ]
  },
  {
   "cell_type": "code",
   "execution_count": null,
   "id": "143d35c7",
   "metadata": {},
   "outputs": [],
   "source": [
    "# ANNOTATION (auf Deutsch):\n",
    "# Dieser Code führt die folgende Aufgabe aus:\n",
    "# (Fügen Sie hier eine spezifische Erklärung hinzu, basierend auf dem Code.)\n",
    "# This cell performs the following task:\n",
    "# (Add specific annotations here based on the logic in the cell)\n",
    "\n",
    "G.add_edge(\"Queen\", \"Polonius\", weight = 11) "
   ]
  },
  {
   "cell_type": "code",
   "execution_count": null,
   "id": "e8b43113",
   "metadata": {},
   "outputs": [],
   "source": [
    "# ANNOTATION (auf Deutsch):\n",
    "# Dieser Code führt die folgende Aufgabe aus:\n",
    "# (Fügen Sie hier eine spezifische Erklärung hinzu, basierend auf dem Code.)\n",
    "# This cell performs the following task:\n",
    "# (Add specific annotations here based on the logic in the cell)\n",
    "\n",
    "G.add_edge(\"Hamlet\", \"Polonius\", weight = 71) "
   ]
  },
  {
   "cell_type": "code",
   "execution_count": null,
   "id": "ef34ea68",
   "metadata": {},
   "outputs": [],
   "source": [
    "# ANNOTATION (auf Deutsch):\n",
    "# Dieser Code führt die folgende Aufgabe aus:\n",
    "# (Fügen Sie hier eine spezifische Erklärung hinzu, basierend auf dem Code.)\n",
    "# This cell performs the following task:\n",
    "# (Add specific annotations here based on the logic in the cell)\n",
    "\n",
    "G.add_edge(\"Polonius\", \"Rosencrantz\", weight = 2)"
   ]
  },
  {
   "cell_type": "code",
   "execution_count": null,
   "id": "08ad1944",
   "metadata": {},
   "outputs": [],
   "source": [
    "# ANNOTATION (auf Deutsch):\n",
    "# Dieser Code führt die folgende Aufgabe aus:\n",
    "# (Fügen Sie hier eine spezifische Erklärung hinzu, basierend auf dem Code.)\n",
    "# This cell performs the following task:\n",
    "# (Add specific annotations here based on the logic in the cell)\n",
    "\n",
    "G.add_edge(\"Guildenstern\", \"Hamlet\", weight = 52)"
   ]
  },
  {
   "cell_type": "code",
   "execution_count": null,
   "id": "a3c10f93",
   "metadata": {},
   "outputs": [],
   "source": [
    "# ANNOTATION (auf Deutsch):\n",
    "# Dieser Code führt die folgende Aufgabe aus:\n",
    "# (Fügen Sie hier eine spezifische Erklärung hinzu, basierend auf dem Code.)\n",
    "# This cell performs the following task:\n",
    "# (Add specific annotations here based on the logic in the cell)\n",
    "\n",
    "G.add_edge(\"Hamlet\", \"Rosencrantz\", weight = 58)"
   ]
  },
  {
   "cell_type": "code",
   "execution_count": null,
   "id": "3e1eedc6",
   "metadata": {},
   "outputs": [],
   "source": [
    "# ANNOTATION (auf Deutsch):\n",
    "# Dieser Code führt die folgende Aufgabe aus:\n",
    "# (Fügen Sie hier eine spezifische Erklärung hinzu, basierend auf dem Code.)\n",
    "# This cell performs the following task:\n",
    "# (Add specific annotations here based on the logic in the cell)\n",
    "\n",
    "G.add_edge(\"First Player\", \"Hamlet\", weight = 12)"
   ]
  },
  {
   "cell_type": "code",
   "execution_count": null,
   "id": "d01ca01a",
   "metadata": {},
   "outputs": [],
   "source": [
    "# ANNOTATION (auf Deutsch):\n",
    "# Dieser Code führt die folgende Aufgabe aus:\n",
    "# (Fügen Sie hier eine spezifische Erklärung hinzu, basierend auf dem Code.)\n",
    "# This cell performs the following task:\n",
    "# (Add specific annotations here based on the logic in the cell)\n",
    "\n",
    "G.add_edge(\"Polonius\", \"First Player\", weight = 4)"
   ]
  },
  {
   "cell_type": "code",
   "execution_count": null,
   "id": "0b62ce2a",
   "metadata": {},
   "outputs": [],
   "source": [
    "# ANNOTATION (auf Deutsch):\n",
    "# Dieser Code führt die folgende Aufgabe aus:\n",
    "# (Fügen Sie hier eine spezifische Erklärung hinzu, basierend auf dem Code.)\n",
    "# This cell performs the following task:\n",
    "# (Add specific annotations here based on the logic in the cell)\n",
    "\n",
    "G.add_edge(\"Guildersten\", \"Rosencrantz\", weight = 2) "
   ]
  },
  {
   "cell_type": "code",
   "execution_count": null,
   "id": "86706633",
   "metadata": {},
   "outputs": [],
   "source": [
    "# ANNOTATION (auf Deutsch):\n",
    "# Dieser Code führt die folgende Aufgabe aus:\n",
    "# (Fügen Sie hier eine spezifische Erklärung hinzu, basierend auf dem Code.)\n",
    "# This cell performs the following task:\n",
    "# (Add specific annotations here based on the logic in the cell)\n",
    "\n",
    "G.add_edge(\"Polonius\", \"Rosencrantz\", weight = 4) "
   ]
  },
  {
   "cell_type": "code",
   "execution_count": null,
   "id": "f1c88015",
   "metadata": {},
   "outputs": [],
   "source": [
    "# ANNOTATION (auf Deutsch):\n",
    "# Dieser Code führt die folgende Aufgabe aus:\n",
    "# (Fügen Sie hier eine spezifische Erklärung hinzu, basierend auf dem Code.)\n",
    "# This cell performs the following task:\n",
    "# (Add specific annotations here based on the logic in the cell)\n",
    "\n",
    "G.add_edge(\"Queen\", \"Ophelia\", weight = 10) "
   ]
  },
  {
   "cell_type": "code",
   "execution_count": null,
   "id": "0be76fd1",
   "metadata": {},
   "outputs": [],
   "source": [
    "# ANNOTATION (auf Deutsch):\n",
    "# Dieser Code führt die folgende Aufgabe aus:\n",
    "# (Fügen Sie hier eine spezifische Erklärung hinzu, basierend auf dem Code.)\n",
    "# This cell performs the following task:\n",
    "# (Add specific annotations here based on the logic in the cell)\n",
    "\n",
    "G.add_edge(\"Ophelia\", \"King\", weight = 8)"
   ]
  },
  {
   "cell_type": "code",
   "execution_count": null,
   "id": "faf7aab5",
   "metadata": {},
   "outputs": [],
   "source": [
    "# ANNOTATION (auf Deutsch):\n",
    "# Dieser Code führt die folgende Aufgabe aus:\n",
    "# (Fügen Sie hier eine spezifische Erklärung hinzu, basierend auf dem Code.)\n",
    "# This cell performs the following task:\n",
    "# (Add specific annotations here based on the logic in the cell)\n",
    "\n",
    "G.add_edge(\"Ophelia\", \"Hamlet\", weight = 56)"
   ]
  },
  {
   "cell_type": "code",
   "execution_count": null,
   "id": "26e855f9",
   "metadata": {},
   "outputs": [],
   "source": [
    "# ANNOTATION (auf Deutsch):\n",
    "# Dieser Code führt die folgende Aufgabe aus:\n",
    "# (Fügen Sie hier eine spezifische Erklärung hinzu, basierend auf dem Code.)\n",
    "# This cell performs the following task:\n",
    "# (Add specific annotations here based on the logic in the cell)\n",
    "\n",
    "G.add_edge(\"Player King\", \"Player Queen\", weight = 9)"
   ]
  },
  {
   "cell_type": "code",
   "execution_count": null,
   "id": "b2352601",
   "metadata": {},
   "outputs": [],
   "source": [
    "# ANNOTATION (auf Deutsch):\n",
    "# Dieser Code führt die folgende Aufgabe aus:\n",
    "# (Fügen Sie hier eine spezifische Erklärung hinzu, basierend auf dem Code.)\n",
    "# This cell performs the following task:\n",
    "# (Add specific annotations here based on the logic in the cell)\n",
    "\n",
    "G.add_edge(\"King\", \"Queen\", weight = 7)"
   ]
  },
  {
   "cell_type": "code",
   "execution_count": null,
   "id": "802dd94c",
   "metadata": {},
   "outputs": [],
   "source": [
    "# ANNOTATION (auf Deutsch):\n",
    "# Dieser Code führt die folgende Aufgabe aus:\n",
    "# (Fügen Sie hier eine spezifische Erklärung hinzu, basierend auf dem Code.)\n",
    "# This cell performs the following task:\n",
    "# (Add specific annotations here based on the logic in the cell)\n",
    "\n",
    "G.add_edge(\"Captain\", \"Fortinbras\", weight = 3)"
   ]
  },
  {
   "cell_type": "code",
   "execution_count": null,
   "id": "e44a1f27",
   "metadata": {},
   "outputs": [],
   "source": [
    "# ANNOTATION (auf Deutsch):\n",
    "# Dieser Code führt die folgende Aufgabe aus:\n",
    "# (Fügen Sie hier eine spezifische Erklärung hinzu, basierend auf dem Code.)\n",
    "# This cell performs the following task:\n",
    "# (Add specific annotations here based on the logic in the cell)\n",
    "\n",
    "G.add_edge(\"Captain\", \"Hamlet\", weight = 12)"
   ]
  },
  {
   "cell_type": "code",
   "execution_count": null,
   "id": "148d1300",
   "metadata": {},
   "outputs": [],
   "source": [
    "# ANNOTATION (auf Deutsch):\n",
    "# Dieser Code führt die folgende Aufgabe aus:\n",
    "# (Fügen Sie hier eine spezifische Erklärung hinzu, basierend auf dem Code.)\n",
    "# This cell performs the following task:\n",
    "# (Add specific annotations here based on the logic in the cell)\n",
    "\n",
    "G.add_edge(\"Queen\", \"Gentleman\", weight = 4)"
   ]
  },
  {
   "cell_type": "code",
   "execution_count": null,
   "id": "1a8519a4",
   "metadata": {},
   "outputs": [],
   "source": [
    "# ANNOTATION (auf Deutsch):\n",
    "# Dieser Code führt die folgende Aufgabe aus:\n",
    "# (Fügen Sie hier eine spezifische Erklärung hinzu, basierend auf dem Code.)\n",
    "# This cell performs the following task:\n",
    "# (Add specific annotations here based on the logic in the cell)\n",
    "\n",
    "G.add_edge(\"King\", \"Gentleman\", weight = 4)"
   ]
  },
  {
   "cell_type": "code",
   "execution_count": null,
   "id": "7df08340",
   "metadata": {},
   "outputs": [],
   "source": [
    "# ANNOTATION (auf Deutsch):\n",
    "# Dieser Code führt die folgende Aufgabe aus:\n",
    "# (Fügen Sie hier eine spezifische Erklärung hinzu, basierend auf dem Code.)\n",
    "# This cell performs the following task:\n",
    "# (Add specific annotations here based on the logic in the cell)\n",
    "\n",
    "G.add_edge(\"Danes\", \"Laertes\", weight = 10)"
   ]
  },
  {
   "cell_type": "code",
   "execution_count": null,
   "id": "e5087f88",
   "metadata": {},
   "outputs": [],
   "source": [
    "# ANNOTATION (auf Deutsch):\n",
    "# Dieser Code führt die folgende Aufgabe aus:\n",
    "# (Fügen Sie hier eine spezifische Erklärung hinzu, basierend auf dem Code.)\n",
    "# This cell performs the following task:\n",
    "# (Add specific annotations here based on the logic in the cell)\n",
    "\n",
    "G.add_edge(\"Horatio\", \"Servant\", weight = 4)"
   ]
  },
  {
   "cell_type": "code",
   "execution_count": null,
   "id": "36ae645e",
   "metadata": {},
   "outputs": [],
   "source": [
    "# ANNOTATION (auf Deutsch):\n",
    "# Dieser Code führt die folgende Aufgabe aus:\n",
    "# (Fügen Sie hier eine spezifische Erklärung hinzu, basierend auf dem Code.)\n",
    "# This cell performs the following task:\n",
    "# (Add specific annotations here based on the logic in the cell)\n",
    "\n",
    "G.add_edge(\"First Sailor\", \"Horatio\", weight = 4)"
   ]
  },
  {
   "cell_type": "code",
   "execution_count": null,
   "id": "2b618009",
   "metadata": {},
   "outputs": [],
   "source": [
    "# ANNOTATION (auf Deutsch):\n",
    "# Dieser Code führt die folgende Aufgabe aus:\n",
    "# (Fügen Sie hier eine spezifische Erklärung hinzu, basierend auf dem Code.)\n",
    "# This cell performs the following task:\n",
    "# (Add specific annotations here based on the logic in the cell)\n",
    "\n",
    "G.add_edge(\"Messenger\", \"King\", weight = 4)"
   ]
  },
  {
   "cell_type": "code",
   "execution_count": null,
   "id": "b2aa9779",
   "metadata": {},
   "outputs": [],
   "source": [
    "# ANNOTATION (auf Deutsch):\n",
    "# Dieser Code führt die folgende Aufgabe aus:\n",
    "# (Fügen Sie hier eine spezifische Erklärung hinzu, basierend auf dem Code.)\n",
    "# This cell performs the following task:\n",
    "# (Add specific annotations here based on the logic in the cell)\n",
    "\n",
    "G.add_edge(\"Queen\", \"Laertes\", weight = 6)"
   ]
  },
  {
   "cell_type": "code",
   "execution_count": null,
   "id": "4a97154c",
   "metadata": {},
   "outputs": [],
   "source": [
    "# ANNOTATION (auf Deutsch):\n",
    "# Dieser Code führt die folgende Aufgabe aus:\n",
    "# (Fügen Sie hier eine spezifische Erklärung hinzu, basierend auf dem Code.)\n",
    "# This cell performs the following task:\n",
    "# (Add specific annotations here based on the logic in the cell)\n",
    "\n",
    "G.add_edge(\"First Clown\", \"Second Clown\", weight = 24)"
   ]
  },
  {
   "cell_type": "code",
   "execution_count": null,
   "id": "e915be8c",
   "metadata": {},
   "outputs": [],
   "source": [
    "# ANNOTATION (auf Deutsch):\n",
    "# Dieser Code führt die folgende Aufgabe aus:\n",
    "# (Fügen Sie hier eine spezifische Erklärung hinzu, basierend auf dem Code.)\n",
    "# This cell performs the following task:\n",
    "# (Add specific annotations here based on the logic in the cell)\n",
    "\n",
    "G.add_edge(\"First Clown\", \"Hamlet\", weight = 38)"
   ]
  },
  {
   "cell_type": "code",
   "execution_count": null,
   "id": "934399e2",
   "metadata": {},
   "outputs": [],
   "source": [
    "# ANNOTATION (auf Deutsch):\n",
    "# Dieser Code führt die folgende Aufgabe aus:\n",
    "# (Fügen Sie hier eine spezifische Erklärung hinzu, basierend auf dem Code.)\n",
    "# This cell performs the following task:\n",
    "# (Add specific annotations here based on the logic in the cell)\n",
    "\n",
    "G.add_edge(\"Hamlet\", \"Laertes\", weight = 10)"
   ]
  },
  {
   "cell_type": "code",
   "execution_count": null,
   "id": "fc8caba1",
   "metadata": {},
   "outputs": [],
   "source": [
    "# ANNOTATION (auf Deutsch):\n",
    "# Dieser Code führt die folgende Aufgabe aus:\n",
    "# (Fügen Sie hier eine spezifische Erklärung hinzu, basierend auf dem Code.)\n",
    "# This cell performs the following task:\n",
    "# (Add specific annotations here based on the logic in the cell)\n",
    "\n",
    "G.add_edge(\"Priest\", \"Laertes\", weight = 4)"
   ]
  },
  {
   "cell_type": "code",
   "execution_count": null,
   "id": "c76342c3",
   "metadata": {},
   "outputs": [],
   "source": [
    "# ANNOTATION (auf Deutsch):\n",
    "# Dieser Code führt die folgende Aufgabe aus:\n",
    "# (Fügen Sie hier eine spezifische Erklärung hinzu, basierend auf dem Code.)\n",
    "# This cell performs the following task:\n",
    "# (Add specific annotations here based on the logic in the cell)\n",
    "\n",
    "G.add_edge(\"Osric\", \"Hamlet\", weight = 34)"
   ]
  },
  {
   "cell_type": "code",
   "execution_count": null,
   "id": "6de73dd7",
   "metadata": {},
   "outputs": [],
   "source": [
    "# ANNOTATION (auf Deutsch):\n",
    "# Dieser Code führt die folgende Aufgabe aus:\n",
    "# (Fügen Sie hier eine spezifische Erklärung hinzu, basierend auf dem Code.)\n",
    "# This cell performs the following task:\n",
    "# (Add specific annotations here based on the logic in the cell)\n",
    "\n",
    "G.add_edge(\"Osric\", \"Laertes\", weight = 10)"
   ]
  },
  {
   "cell_type": "code",
   "execution_count": null,
   "id": "ba59990d",
   "metadata": {},
   "outputs": [],
   "source": [
    "# ANNOTATION (auf Deutsch):\n",
    "# Dieser Code führt die folgende Aufgabe aus:\n",
    "# (Fügen Sie hier eine spezifische Erklärung hinzu, basierend auf dem Code.)\n",
    "# This cell performs the following task:\n",
    "# (Add specific annotations here based on the logic in the cell)\n",
    "\n",
    "G.add_edge(\"Lord\", \"Hamlet\", weight = 6)"
   ]
  },
  {
   "cell_type": "code",
   "execution_count": null,
   "id": "49cfceae",
   "metadata": {},
   "outputs": [],
   "source": [
    "# ANNOTATION (auf Deutsch):\n",
    "# Dieser Code führt die folgende Aufgabe aus:\n",
    "# (Fügen Sie hier eine spezifische Erklärung hinzu, basierend auf dem Code.)\n",
    "# This cell performs the following task:\n",
    "# (Add specific annotations here based on the logic in the cell)\n",
    "\n",
    "G.add_edge(\"Fortinbras\", \"Horatio\", weight = 4)"
   ]
  },
  {
   "cell_type": "code",
   "execution_count": null,
   "id": "0238946f",
   "metadata": {},
   "outputs": [],
   "source": [
    "# ANNOTATION (auf Deutsch):\n",
    "# Dieser Code führt die folgende Aufgabe aus:\n",
    "# (Fügen Sie hier eine spezifische Erklärung hinzu, basierend auf dem Code.)\n",
    "# This cell performs the following task:\n",
    "# (Add specific annotations here based on the logic in the cell)\n",
    "\n",
    "G.add_edge(\"Fortinbras\", \"First Ambassator\", weight = 4)"
   ]
  },
  {
   "cell_type": "markdown",
   "id": "2e92b823",
   "metadata": {},
   "source": [
    "# 5. Checking the structure of our network"
   ]
  },
  {
   "cell_type": "markdown",
   "id": "a4204360",
   "metadata": {},
   "source": [
    "Now let's have a look at the number of nodes that we have. Use the G.number_of_nodes() script and then transform G.nodes into a list."
   ]
  },
  {
   "cell_type": "code",
   "execution_count": null,
   "id": "3c503d41",
   "metadata": {},
   "outputs": [],
   "source": [
    "# ANNOTATION (auf Deutsch):\n",
    "# Dieser Code führt die folgende Aufgabe aus:\n",
    "# (Fügen Sie hier eine spezifische Erklärung hinzu, basierend auf dem Code.)\n",
    "# This cell performs the following task:\n",
    "# (Add specific annotations here based on the logic in the cell)\n",
    "\n",
    "#Your code in here"
   ]
  },
  {
   "cell_type": "code",
   "execution_count": null,
   "id": "03067d16",
   "metadata": {},
   "outputs": [],
   "source": [
    "# ANNOTATION (auf Deutsch):\n",
    "# Dieser Code führt die folgende Aufgabe aus:\n",
    "# (Fügen Sie hier eine spezifische Erklärung hinzu, basierend auf dem Code.)\n",
    "# This cell performs the following task:\n",
    "# (Add specific annotations here based on the logic in the cell)\n",
    "\n",
    "#Solution\n",
    "G.number_of_nodes()"
   ]
  },
  {
   "cell_type": "code",
   "execution_count": null,
   "id": "3bb0d87b",
   "metadata": {},
   "outputs": [],
   "source": [
    "# ANNOTATION (auf Deutsch):\n",
    "# Dieser Code führt die folgende Aufgabe aus:\n",
    "# (Fügen Sie hier eine spezifische Erklärung hinzu, basierend auf dem Code.)\n",
    "# This cell performs the following task:\n",
    "# (Add specific annotations here based on the logic in the cell)\n",
    "\n",
    "list(G.nodes)"
   ]
  },
  {
   "cell_type": "markdown",
   "id": "e8d04517",
   "metadata": {},
   "source": [
    "Let's do the same with the edges."
   ]
  },
  {
   "cell_type": "code",
   "execution_count": null,
   "id": "f434e823",
   "metadata": {},
   "outputs": [],
   "source": [
    "# ANNOTATION (auf Deutsch):\n",
    "# Dieser Code führt die folgende Aufgabe aus:\n",
    "# (Fügen Sie hier eine spezifische Erklärung hinzu, basierend auf dem Code.)\n",
    "# This cell performs the following task:\n",
    "# (Add specific annotations here based on the logic in the cell)\n",
    "\n",
    "#Your code in here"
   ]
  },
  {
   "cell_type": "code",
   "execution_count": null,
   "id": "a04b39f4",
   "metadata": {},
   "outputs": [],
   "source": [
    "# ANNOTATION (auf Deutsch):\n",
    "# Dieser Code führt die folgende Aufgabe aus:\n",
    "# (Fügen Sie hier eine spezifische Erklärung hinzu, basierend auf dem Code.)\n",
    "# This cell performs the following task:\n",
    "# (Add specific annotations here based on the logic in the cell)\n",
    "\n",
    "#Solution\n",
    "G.number_of_edges()"
   ]
  },
  {
   "cell_type": "code",
   "execution_count": null,
   "id": "1a1f68b4",
   "metadata": {},
   "outputs": [],
   "source": [
    "# ANNOTATION (auf Deutsch):\n",
    "# Dieser Code führt die folgende Aufgabe aus:\n",
    "# (Fügen Sie hier eine spezifische Erklärung hinzu, basierend auf dem Code.)\n",
    "# This cell performs the following task:\n",
    "# (Add specific annotations here based on the logic in the cell)\n",
    "\n",
    "list(G.edges)"
   ]
  },
  {
   "cell_type": "markdown",
   "id": "5a9e7b16",
   "metadata": {},
   "source": [
    "And now let's check the weighted edges."
   ]
  },
  {
   "cell_type": "code",
   "execution_count": null,
   "id": "dcae5ede",
   "metadata": {},
   "outputs": [],
   "source": [
    "# ANNOTATION (auf Deutsch):\n",
    "# Dieser Code führt die folgende Aufgabe aus:\n",
    "# (Fügen Sie hier eine spezifische Erklärung hinzu, basierend auf dem Code.)\n",
    "# This cell performs the following task:\n",
    "# (Add specific annotations here based on the logic in the cell)\n",
    "\n",
    "#Your code in here"
   ]
  },
  {
   "cell_type": "code",
   "execution_count": null,
   "id": "a581c47b",
   "metadata": {},
   "outputs": [],
   "source": [
    "# ANNOTATION (auf Deutsch):\n",
    "# Dieser Code führt die folgende Aufgabe aus:\n",
    "# (Fügen Sie hier eine spezifische Erklärung hinzu, basierend auf dem Code.)\n",
    "# This cell performs the following task:\n",
    "# (Add specific annotations here based on the logic in the cell)\n",
    "\n",
    "#Solution\n",
    "\n",
    "edge_weights = nx.get_edge_attributes(G, \"weight\")\n",
    "edge_weights"
   ]
  },
  {
   "cell_type": "markdown",
   "id": "118cbdfc",
   "metadata": {},
   "source": [
    "And now let's sort that list to see who talks the most!"
   ]
  },
  {
   "cell_type": "code",
   "execution_count": null,
   "id": "8b9894ed",
   "metadata": {},
   "outputs": [],
   "source": [
    "# ANNOTATION (auf Deutsch):\n",
    "# Dieser Code führt die folgende Aufgabe aus:\n",
    "# (Fügen Sie hier eine spezifische Erklärung hinzu, basierend auf dem Code.)\n",
    "# This cell performs the following task:\n",
    "# (Add specific annotations here based on the logic in the cell)\n",
    "\n",
    "#Your code in here"
   ]
  },
  {
   "cell_type": "code",
   "execution_count": null,
   "id": "e2bccb42",
   "metadata": {},
   "outputs": [],
   "source": [
    "# ANNOTATION (auf Deutsch):\n",
    "# Dieser Code führt die folgende Aufgabe aus:\n",
    "# (Fügen Sie hier eine spezifische Erklärung hinzu, basierend auf dem Code.)\n",
    "# This cell performs the following task:\n",
    "# (Add specific annotations here based on the logic in the cell)\n",
    "\n",
    "#Solution\n",
    "\n",
    "sorted_weights = sorted(edge_weights.items(), key=lambda x: x[1], reverse = True)\n",
    "sorted_weights"
   ]
  },
  {
   "cell_type": "markdown",
   "id": "4488760b",
   "metadata": {},
   "source": [
    "Let's separate the edges based on their weights to visualize things better. This shows much clearly plot weight than our previous graph."
   ]
  },
  {
   "cell_type": "code",
   "execution_count": null,
   "id": "6b2024ff",
   "metadata": {},
   "outputs": [],
   "source": [
    "# ANNOTATION (auf Deutsch):\n",
    "# Dieser Code führt die folgende Aufgabe aus:\n",
    "# (Fügen Sie hier eine spezifische Erklärung hinzu, basierend auf dem Code.)\n",
    "# This cell performs the following task:\n",
    "# (Add specific annotations here based on the logic in the cell)\n",
    "\n",
    "#Your code in here"
   ]
  },
  {
   "cell_type": "code",
   "execution_count": null,
   "id": "c603f948",
   "metadata": {},
   "outputs": [],
   "source": [
    "# ANNOTATION (auf Deutsch):\n",
    "# Dieser Code führt die folgende Aufgabe aus:\n",
    "# (Fügen Sie hier eine spezifische Erklärung hinzu, basierend auf dem Code.)\n",
    "# This cell performs the following task:\n",
    "# (Add specific annotations here based on the logic in the cell)\n",
    "\n",
    "#Solution\n",
    "\n",
    "elarge = [(u, v) for (u, v, d) in G.edges(data=True) if d[\"weight\"] > 40] #let's choose 40 as Kat and Patrick talk 101 times!"
   ]
  },
  {
   "cell_type": "code",
   "execution_count": null,
   "id": "5de7b8db",
   "metadata": {},
   "outputs": [],
   "source": [
    "# ANNOTATION (auf Deutsch):\n",
    "# Dieser Code führt die folgende Aufgabe aus:\n",
    "# (Fügen Sie hier eine spezifische Erklärung hinzu, basierend auf dem Code.)\n",
    "# This cell performs the following task:\n",
    "# (Add specific annotations here based on the logic in the cell)\n",
    "\n",
    "elarge"
   ]
  },
  {
   "cell_type": "code",
   "execution_count": null,
   "id": "e5f59956",
   "metadata": {},
   "outputs": [],
   "source": [
    "# ANNOTATION (auf Deutsch):\n",
    "# Dieser Code führt die folgende Aufgabe aus:\n",
    "# (Fügen Sie hier eine spezifische Erklärung hinzu, basierend auf dem Code.)\n",
    "# This cell performs the following task:\n",
    "# (Add specific annotations here based on the logic in the cell)\n",
    "\n",
    "esmall = [(u, v) for (u, v, d) in G.edges(data=True) if d[\"weight\"] <= 40]"
   ]
  },
  {
   "cell_type": "code",
   "execution_count": null,
   "id": "f50356c2",
   "metadata": {},
   "outputs": [],
   "source": [
    "# ANNOTATION (auf Deutsch):\n",
    "# Dieser Code führt die folgende Aufgabe aus:\n",
    "# (Fügen Sie hier eine spezifische Erklärung hinzu, basierend auf dem Code.)\n",
    "# This cell performs the following task:\n",
    "# (Add specific annotations here based on the logic in the cell)\n",
    "\n",
    "esmall"
   ]
  },
  {
   "cell_type": "markdown",
   "id": "20e0dae0",
   "metadata": {},
   "source": [
    "And finally let's get the position of the nodes in the network."
   ]
  },
  {
   "cell_type": "code",
   "execution_count": null,
   "id": "c71850fb",
   "metadata": {},
   "outputs": [],
   "source": [
    "# ANNOTATION (auf Deutsch):\n",
    "# Dieser Code führt die folgende Aufgabe aus:\n",
    "# (Fügen Sie hier eine spezifische Erklärung hinzu, basierend auf dem Code.)\n",
    "# This cell performs the following task:\n",
    "# (Add specific annotations here based on the logic in the cell)\n",
    "\n",
    "#Your code in here"
   ]
  },
  {
   "cell_type": "code",
   "execution_count": null,
   "id": "cb07f42c",
   "metadata": {},
   "outputs": [],
   "source": [
    "# ANNOTATION (auf Deutsch):\n",
    "# Dieser Code führt die folgende Aufgabe aus:\n",
    "# (Fügen Sie hier eine spezifische Erklärung hinzu, basierend auf dem Code.)\n",
    "# This cell performs the following task:\n",
    "# (Add specific annotations here based on the logic in the cell)\n",
    "\n",
    "#Solution\n",
    "\n",
    "pos = nx.spring_layout(G, seed=7)\n",
    "pos"
   ]
  },
  {
   "cell_type": "markdown",
   "id": "3d3e70aa",
   "metadata": {},
   "source": [
    "# 6. Network Metrics"
   ]
  },
  {
   "cell_type": "markdown",
   "id": "d8423fd0",
   "metadata": {},
   "source": [
    "This time, because we have a new element (weight) let's explore the network before we actually draw it. We do this because we are interested in tracking down the hub of the network (that is, the person with the biggest number of connections). We can create a network in which we assign those values (network degree) to the nodes, and we can quickly see the relationship between plot agency and hub size."
   ]
  },
  {
   "cell_type": "markdown",
   "id": "3845e30b",
   "metadata": {},
   "source": [
    "1. Calculating **Network Degree: who has more connections?**"
   ]
  },
  {
   "cell_type": "code",
   "execution_count": null,
   "id": "017c85be",
   "metadata": {},
   "outputs": [],
   "source": [
    "# ANNOTATION (auf Deutsch):\n",
    "# Dieser Code führt die folgende Aufgabe aus:\n",
    "# (Fügen Sie hier eine spezifische Erklärung hinzu, basierend auf dem Code.)\n",
    "# This cell performs the following task:\n",
    "# (Add specific annotations here based on the logic in the cell)\n",
    "\n",
    "#Your code in here"
   ]
  },
  {
   "cell_type": "code",
   "execution_count": null,
   "id": "1135fb7b",
   "metadata": {},
   "outputs": [],
   "source": [
    "# ANNOTATION (auf Deutsch):\n",
    "# Dieser Code führt die folgende Aufgabe aus:\n",
    "# (Fügen Sie hier eine spezifische Erklärung hinzu, basierend auf dem Code.)\n",
    "# This cell performs the following task:\n",
    "# (Add specific annotations here based on the logic in the cell)\n",
    "\n",
    "#Solution\n",
    "\n",
    "weighted_degrees = dict(G.degree(weight='weight'))"
   ]
  },
  {
   "cell_type": "markdown",
   "id": "a47955cf",
   "metadata": {},
   "source": [
    "Sort that variable!"
   ]
  },
  {
   "cell_type": "code",
   "execution_count": null,
   "id": "8794c98e",
   "metadata": {},
   "outputs": [],
   "source": [
    "# ANNOTATION (auf Deutsch):\n",
    "# Dieser Code führt die folgende Aufgabe aus:\n",
    "# (Fügen Sie hier eine spezifische Erklärung hinzu, basierend auf dem Code.)\n",
    "# This cell performs the following task:\n",
    "# (Add specific annotations here based on the logic in the cell)\n",
    "\n",
    "#Your code in here"
   ]
  },
  {
   "cell_type": "code",
   "execution_count": null,
   "id": "b407c85d",
   "metadata": {},
   "outputs": [],
   "source": [
    "# ANNOTATION (auf Deutsch):\n",
    "# Dieser Code führt die folgende Aufgabe aus:\n",
    "# (Fügen Sie hier eine spezifische Erklärung hinzu, basierend auf dem Code.)\n",
    "# This cell performs the following task:\n",
    "# (Add specific annotations here based on the logic in the cell)\n",
    "\n",
    "#Solution\n",
    "\n",
    "sorted_weighted_degrees = sorted(weighted_degrees.items(), key=lambda x: x[1], reverse=True)"
   ]
  },
  {
   "cell_type": "code",
   "execution_count": null,
   "id": "0cd79b58",
   "metadata": {},
   "outputs": [],
   "source": [
    "# ANNOTATION (auf Deutsch):\n",
    "# Dieser Code führt die folgende Aufgabe aus:\n",
    "# (Fügen Sie hier eine spezifische Erklärung hinzu, basierend auf dem Code.)\n",
    "# This cell performs the following task:\n",
    "# (Add specific annotations here based on the logic in the cell)\n",
    "\n",
    "sorted_weighted_degrees"
   ]
  },
  {
   "cell_type": "markdown",
   "id": "ed2abc70",
   "metadata": {},
   "source": [
    "2. Calculating **Betweenes Centrality Scores**: who is the person that connects more nodes in the network? Sort your values."
   ]
  },
  {
   "cell_type": "code",
   "execution_count": null,
   "id": "97a82e8d",
   "metadata": {},
   "outputs": [],
   "source": [
    "# ANNOTATION (auf Deutsch):\n",
    "# Dieser Code führt die folgende Aufgabe aus:\n",
    "# (Fügen Sie hier eine spezifische Erklärung hinzu, basierend auf dem Code.)\n",
    "# This cell performs the following task:\n",
    "# (Add specific annotations here based on the logic in the cell)\n",
    "\n",
    "#Your code in here"
   ]
  },
  {
   "cell_type": "code",
   "execution_count": null,
   "id": "64f49bb9",
   "metadata": {},
   "outputs": [],
   "source": [
    "# ANNOTATION (auf Deutsch):\n",
    "# Dieser Code führt die folgende Aufgabe aus:\n",
    "# (Fügen Sie hier eine spezifische Erklärung hinzu, basierend auf dem Code.)\n",
    "# This cell performs the following task:\n",
    "# (Add specific annotations here based on the logic in the cell)\n",
    "\n",
    "#Solution\n",
    "\n",
    "betweenness = dict(nx.betweenness_centrality(G, weight = \"weight\"))"
   ]
  },
  {
   "cell_type": "code",
   "execution_count": null,
   "id": "8cc2e567",
   "metadata": {},
   "outputs": [],
   "source": [
    "# ANNOTATION (auf Deutsch):\n",
    "# Dieser Code führt die folgende Aufgabe aus:\n",
    "# (Fügen Sie hier eine spezifische Erklärung hinzu, basierend auf dem Code.)\n",
    "# This cell performs the following task:\n",
    "# (Add specific annotations here based on the logic in the cell)\n",
    "\n",
    "betweenness"
   ]
  },
  {
   "cell_type": "code",
   "execution_count": null,
   "id": "df7ba5bf",
   "metadata": {},
   "outputs": [],
   "source": [
    "# ANNOTATION (auf Deutsch):\n",
    "# Dieser Code führt die folgende Aufgabe aus:\n",
    "# (Fügen Sie hier eine spezifische Erklärung hinzu, basierend auf dem Code.)\n",
    "# This cell performs the following task:\n",
    "# (Add specific annotations here based on the logic in the cell)\n",
    "\n",
    "betweenness = sorted(betweenness.items(), key=lambda x: x[1], reverse=True)"
   ]
  },
  {
   "cell_type": "code",
   "execution_count": null,
   "id": "e8245b74",
   "metadata": {},
   "outputs": [],
   "source": [
    "# ANNOTATION (auf Deutsch):\n",
    "# Dieser Code führt die folgende Aufgabe aus:\n",
    "# (Fügen Sie hier eine spezifische Erklärung hinzu, basierend auf dem Code.)\n",
    "# This cell performs the following task:\n",
    "# (Add specific annotations here based on the logic in the cell)\n",
    "\n",
    "betweenness"
   ]
  },
  {
   "cell_type": "markdown",
   "id": "f6f92d37",
   "metadata": {},
   "source": [
    "3. **Communities**: who forms different communities within this network?"
   ]
  },
  {
   "cell_type": "code",
   "execution_count": null,
   "id": "ee87b5ea",
   "metadata": {},
   "outputs": [],
   "source": [
    "# ANNOTATION (auf Deutsch):\n",
    "# Dieser Code führt die folgende Aufgabe aus:\n",
    "# (Fügen Sie hier eine spezifische Erklärung hinzu, basierend auf dem Code.)\n",
    "# This cell performs the following task:\n",
    "# (Add specific annotations here based on the logic in the cell)\n",
    "\n",
    "#Your code in here"
   ]
  },
  {
   "cell_type": "code",
   "execution_count": null,
   "id": "70da5f94",
   "metadata": {},
   "outputs": [],
   "source": [
    "# ANNOTATION (auf Deutsch):\n",
    "# Dieser Code führt die folgende Aufgabe aus:\n",
    "# (Fügen Sie hier eine spezifische Erklärung hinzu, basierend auf dem Code.)\n",
    "# This cell performs the following task:\n",
    "# (Add specific annotations here based on the logic in the cell)\n",
    "\n",
    "#Solution\n",
    "\n",
    "from networkx.algorithms import community"
   ]
  },
  {
   "cell_type": "code",
   "execution_count": null,
   "id": "ee606558",
   "metadata": {},
   "outputs": [],
   "source": [
    "# ANNOTATION (auf Deutsch):\n",
    "# Dieser Code führt die folgende Aufgabe aus:\n",
    "# (Fügen Sie hier eine spezifische Erklärung hinzu, basierend auf dem Code.)\n",
    "# This cell performs the following task:\n",
    "# (Add specific annotations here based on the logic in the cell)\n",
    "\n",
    "communities = community.greedy_modularity_communities(G, weight = \"weight\")"
   ]
  },
  {
   "cell_type": "code",
   "execution_count": null,
   "id": "8aff6310",
   "metadata": {},
   "outputs": [],
   "source": [
    "# ANNOTATION (auf Deutsch):\n",
    "# Dieser Code führt die folgende Aufgabe aus:\n",
    "# (Fügen Sie hier eine spezifische Erklärung hinzu, basierend auf dem Code.)\n",
    "# This cell performs the following task:\n",
    "# (Add specific annotations here based on the logic in the cell)\n",
    "\n",
    "communities"
   ]
  },
  {
   "cell_type": "markdown",
   "id": "44e1439f",
   "metadata": {},
   "source": [
    "# 7. Network Visualization"
   ]
  },
  {
   "cell_type": "markdown",
   "id": "8b4ef4bb",
   "metadata": {},
   "source": [
    "And now let's have a look at our network! We can represent our weighted network a) by adding labels to the edges and showing the weight in there, or b) by showing the weight in different node sizes."
   ]
  },
  {
   "cell_type": "markdown",
   "id": "19cbfbe1",
   "metadata": {},
   "source": [
    "# A. Edges weight"
   ]
  },
  {
   "cell_type": "code",
   "execution_count": null,
   "id": "fe5871d2",
   "metadata": {},
   "outputs": [],
   "source": [
    "# ANNOTATION (auf Deutsch):\n",
    "# Dieser Code führt die folgende Aufgabe aus:\n",
    "# (Fügen Sie hier eine spezifische Erklärung hinzu, basierend auf dem Code.)\n",
    "# This cell performs the following task:\n",
    "# (Add specific annotations here based on the logic in the cell)\n",
    "\n",
    "#Your code in here"
   ]
  },
  {
   "cell_type": "code",
   "execution_count": null,
   "id": "c8342f1c",
   "metadata": {},
   "outputs": [],
   "source": [
    "# ANNOTATION (auf Deutsch):\n",
    "# Dieser Code führt die folgende Aufgabe aus:\n",
    "# (Fügen Sie hier eine spezifische Erklärung hinzu, basierend auf dem Code.)\n",
    "# This cell performs the following task:\n",
    "# (Add specific annotations here based on the logic in the cell)\n",
    "\n",
    "#Solution\n",
    "\n",
    "nx.draw_networkx_nodes(G, pos, node_size = 700) #we draw the nodes\n",
    "nx.draw_networkx_edges(G, pos, edgelist=elarge, width=2) #we draw the edges\n",
    "nx.draw_networkx_edges(G, pos, edgelist=esmall, width=2, alpha=0.5, edge_color=\"b\", style=\"dashed\") \n",
    "\n",
    "nx.draw_networkx_labels(G, pos) #we add the name of the nodes (characters)\n",
    "edge_labels = nx.get_edge_attributes(G, \"weight\") #we add the weight number (times talking)\n",
    "nx.draw_networkx_edge_labels(G, pos, edge_labels)\n",
    "\n",
    "plt.rcParams[\"figure.figsize\"] = (40, 30) #to change the size of the figure\n",
    "\n",
    " \n",
    "plt.axis(\"off\")\n",
    "plt.show()"
   ]
  },
  {
   "cell_type": "markdown",
   "id": "614e0c07",
   "metadata": {},
   "source": [
    "# B. Nodes Weight"
   ]
  },
  {
   "cell_type": "markdown",
   "id": "33b6ed54",
   "metadata": {},
   "source": [
    "To draw a network by node weight, we need to know the network degree (**the hub**, and then, in order of importance, who has more weighted connections). Let's print again that value."
   ]
  },
  {
   "cell_type": "code",
   "execution_count": null,
   "id": "2174047f",
   "metadata": {},
   "outputs": [],
   "source": [
    "# ANNOTATION (auf Deutsch):\n",
    "# Dieser Code führt die folgende Aufgabe aus:\n",
    "# (Fügen Sie hier eine spezifische Erklärung hinzu, basierend auf dem Code.)\n",
    "# This cell performs the following task:\n",
    "# (Add specific annotations here based on the logic in the cell)\n",
    "\n",
    "#Your code in here"
   ]
  },
  {
   "cell_type": "code",
   "execution_count": null,
   "id": "02c23f2f",
   "metadata": {},
   "outputs": [],
   "source": [
    "# ANNOTATION (auf Deutsch):\n",
    "# Dieser Code führt die folgende Aufgabe aus:\n",
    "# (Fügen Sie hier eine spezifische Erklärung hinzu, basierend auf dem Code.)\n",
    "# This cell performs the following task:\n",
    "# (Add specific annotations here based on the logic in the cell)\n",
    "\n",
    "#Solution\n",
    "\n",
    "degree = weighted_degrees  #we go back to that variable that we defined a few cells before\n",
    "degree"
   ]
  },
  {
   "cell_type": "code",
   "execution_count": null,
   "id": "e7082695",
   "metadata": {},
   "outputs": [],
   "source": [
    "# ANNOTATION (auf Deutsch):\n",
    "# Dieser Code führt die folgende Aufgabe aus:\n",
    "# (Fügen Sie hier eine spezifische Erklärung hinzu, basierend auf dem Code.)\n",
    "# This cell performs the following task:\n",
    "# (Add specific annotations here based on the logic in the cell)\n",
    "\n",
    "node_sizes = [v * 20 for v in degree.values()] #we can play around with 20. It stands for the size of the nodes."
   ]
  },
  {
   "cell_type": "code",
   "execution_count": null,
   "id": "91b4e112",
   "metadata": {},
   "outputs": [],
   "source": [
    "# ANNOTATION (auf Deutsch):\n",
    "# Dieser Code führt die folgende Aufgabe aus:\n",
    "# (Fügen Sie hier eine spezifische Erklärung hinzu, basierend auf dem Code.)\n",
    "# This cell performs the following task:\n",
    "# (Add specific annotations here based on the logic in the cell)\n",
    "\n",
    "nx.draw(G, node_size=node_sizes, with_labels=True)\n",
    "\n",
    "plt.rcParams[\"figure.figsize\"] = (20, 30) #to change the size of the figure. We can also play with it.\n",
    "\n",
    "plt.axis(\"off\")\n",
    "plt.show()"
   ]
  },
  {
   "cell_type": "markdown",
   "id": "65366d95",
   "metadata": {},
   "source": [
    "Now let's change the colour of the hub of the network to red."
   ]
  },
  {
   "cell_type": "code",
   "execution_count": null,
   "id": "0d890251",
   "metadata": {},
   "outputs": [],
   "source": [
    "# ANNOTATION (auf Deutsch):\n",
    "# Dieser Code führt die folgende Aufgabe aus:\n",
    "# (Fügen Sie hier eine spezifische Erklärung hinzu, basierend auf dem Code.)\n",
    "# This cell performs the following task:\n",
    "# (Add specific annotations here based on the logic in the cell)\n",
    "\n",
    "#Your code in here"
   ]
  },
  {
   "cell_type": "code",
   "execution_count": null,
   "id": "b7de4ff7",
   "metadata": {},
   "outputs": [],
   "source": [
    "# ANNOTATION (auf Deutsch):\n",
    "# Dieser Code führt die folgende Aufgabe aus:\n",
    "# (Fügen Sie hier eine spezifische Erklärung hinzu, basierend auf dem Code.)\n",
    "# This cell performs the following task:\n",
    "# (Add specific annotations here based on the logic in the cell)\n",
    "\n",
    "node_colors = [\"red\" if n == \"Hamlet\" else \"blue\" for n in G.nodes()]"
   ]
  },
  {
   "cell_type": "code",
   "execution_count": null,
   "id": "8d0fc466",
   "metadata": {},
   "outputs": [],
   "source": [
    "# ANNOTATION (auf Deutsch):\n",
    "# Dieser Code führt die folgende Aufgabe aus:\n",
    "# (Fügen Sie hier eine spezifische Erklärung hinzu, basierend auf dem Code.)\n",
    "# This cell performs the following task:\n",
    "# (Add specific annotations here based on the logic in the cell)\n",
    "\n",
    "nx.draw(G, node_size = node_sizes, with_labels = True, node_color = node_colors)\n",
    "\n",
    "plt.axis(\"off\")\n",
    "plt.show()"
   ]
  },
  {
   "cell_type": "markdown",
   "id": "ff71a3cd",
   "metadata": {},
   "source": [
    "# 8. Saving up our data"
   ]
  },
  {
   "cell_type": "markdown",
   "id": "73d1fb65",
   "metadata": {},
   "source": [
    "Let's transform our network into a Pandas Dataframe. We can use nx.to_pandas_adjacency() to do this. It will return a Document Term Matrix where each node is assigned the number of times every character speaks (so, the weight), and 0 points if there is no interaction."
   ]
  },
  {
   "cell_type": "code",
   "execution_count": null,
   "id": "43cbb7e4",
   "metadata": {},
   "outputs": [],
   "source": [
    "# ANNOTATION (auf Deutsch):\n",
    "# Dieser Code führt die folgende Aufgabe aus:\n",
    "# (Fügen Sie hier eine spezifische Erklärung hinzu, basierend auf dem Code.)\n",
    "# This cell performs the following task:\n",
    "# (Add specific annotations here based on the logic in the cell)\n",
    "\n",
    "#Your code in here"
   ]
  },
  {
   "cell_type": "code",
   "execution_count": null,
   "id": "47284a3f",
   "metadata": {},
   "outputs": [],
   "source": [
    "# ANNOTATION (auf Deutsch):\n",
    "# Dieser Code führt die folgende Aufgabe aus:\n",
    "# (Fügen Sie hier eine spezifische Erklärung hinzu, basierend auf dem Code.)\n",
    "# This cell performs the following task:\n",
    "# (Add specific annotations here based on the logic in the cell)\n",
    "\n",
    "#Solution\n",
    "\n",
    "df_weighted_hamlet = nx.to_pandas_adjacency(G)"
   ]
  },
  {
   "cell_type": "code",
   "execution_count": null,
   "id": "e5b77a5b",
   "metadata": {},
   "outputs": [],
   "source": [
    "# ANNOTATION (auf Deutsch):\n",
    "# Dieser Code führt die folgende Aufgabe aus:\n",
    "# (Fügen Sie hier eine spezifische Erklärung hinzu, basierend auf dem Code.)\n",
    "# This cell performs the following task:\n",
    "# (Add specific annotations here based on the logic in the cell)\n",
    "\n",
    "df_weighted_hamlet"
   ]
  },
  {
   "cell_type": "code",
   "execution_count": null,
   "id": "8e2708b4",
   "metadata": {},
   "outputs": [],
   "source": [
    "# ANNOTATION (auf Deutsch):\n",
    "# Dieser Code führt die folgende Aufgabe aus:\n",
    "# (Fügen Sie hier eine spezifische Erklärung hinzu, basierend auf dem Code.)\n",
    "# This cell performs the following task:\n",
    "# (Add specific annotations here based on the logic in the cell)\n",
    "\n",
    "df_weighted_hamlet.to_csv(\"weighted_hamlet.csv\")"
   ]
  },
  {
   "cell_type": "markdown",
   "id": "753200ac",
   "metadata": {},
   "source": [
    "### Content from: Excercise 1. Modelling the Unweighted Social Network of Hamlet..ipynb"
   ]
  },
  {
   "cell_type": "markdown",
   "id": "9992c064",
   "metadata": {},
   "source": [
    "#### Annotation:\n",
    "This section includes the content and logic from the original notebook. Annotations have been added to explain the purpose and function of each code cell."
   ]
  },
  {
   "cell_type": "markdown",
   "id": "74363cfc",
   "metadata": {},
   "source": [
    "Let's practice what we have just learnt! Let's follow this article (https://litlab.stanford.edu/LiteraryLabPamphlet2.pdf) and built the social network of **Hamlet** by William Shakespeare. We will be using this version of the book: https://www.gutenberg.org/files/1524/1524-h/1524-h.htm"
   ]
  },
  {
   "cell_type": "markdown",
   "id": "e6567832",
   "metadata": {},
   "source": [
    "# 1. First we import the libraries"
   ]
  },
  {
   "cell_type": "code",
   "execution_count": null,
   "id": "08e45271",
   "metadata": {},
   "outputs": [],
   "source": [
    "# ANNOTATION (auf Deutsch):\n",
    "# Dieser Code führt die folgende Aufgabe aus:\n",
    "# (Fügen Sie hier eine spezifische Erklärung hinzu, basierend auf dem Code.)\n",
    "# This cell performs the following task:\n",
    "# (Add specific annotations here based on the logic in the cell)\n",
    "\n",
    "#Your code in here"
   ]
  },
  {
   "cell_type": "code",
   "execution_count": null,
   "id": "d1e7b51f",
   "metadata": {},
   "outputs": [],
   "source": [
    "# ANNOTATION (auf Deutsch):\n",
    "# Dieser Code führt die folgende Aufgabe aus:\n",
    "# (Fügen Sie hier eine spezifische Erklärung hinzu, basierend auf dem Code.)\n",
    "# This cell performs the following task:\n",
    "# (Add specific annotations here based on the logic in the cell)\n",
    "\n",
    "#Solution\n",
    "import networkx as nx\n",
    "import pandas as pd"
   ]
  },
  {
   "cell_type": "markdown",
   "id": "b757a109",
   "metadata": {},
   "source": [
    "# 2. The we create the G object"
   ]
  },
  {
   "cell_type": "code",
   "execution_count": null,
   "id": "a9ad91ce",
   "metadata": {},
   "outputs": [],
   "source": [
    "# ANNOTATION (auf Deutsch):\n",
    "# Dieser Code führt die folgende Aufgabe aus:\n",
    "# (Fügen Sie hier eine spezifische Erklärung hinzu, basierend auf dem Code.)\n",
    "# This cell performs the following task:\n",
    "# (Add specific annotations here based on the logic in the cell)\n",
    "\n",
    "#Your code in here"
   ]
  },
  {
   "cell_type": "code",
   "execution_count": null,
   "id": "b91a7796",
   "metadata": {},
   "outputs": [],
   "source": [
    "# ANNOTATION (auf Deutsch):\n",
    "# Dieser Code führt die folgende Aufgabe aus:\n",
    "# (Fügen Sie hier eine spezifische Erklärung hinzu, basierend auf dem Code.)\n",
    "# This cell performs the following task:\n",
    "# (Add specific annotations here based on the logic in the cell)\n",
    "\n",
    "#Solution\n",
    "G = nx.Graph()"
   ]
  },
  {
   "cell_type": "markdown",
   "id": "dacfe8ca",
   "metadata": {},
   "source": [
    "Just to let you know with this command we can clean our network (for example if we make a spelling mistake that contaminates our Graph)"
   ]
  },
  {
   "cell_type": "code",
   "execution_count": null,
   "id": "5701b6da",
   "metadata": {},
   "outputs": [],
   "source": [
    "# ANNOTATION (auf Deutsch):\n",
    "# Dieser Code führt die folgende Aufgabe aus:\n",
    "# (Fügen Sie hier eine spezifische Erklärung hinzu, basierend auf dem Code.)\n",
    "# This cell performs the following task:\n",
    "# (Add specific annotations here based on the logic in the cell)\n",
    "\n",
    "G.clear() #this is just a reminder!"
   ]
  },
  {
   "cell_type": "markdown",
   "id": "7f4ca99e",
   "metadata": {},
   "source": [
    "# 3. Characters"
   ]
  },
  {
   "cell_type": "markdown",
   "id": "47a6d906",
   "metadata": {},
   "source": [
    "Now we transform every character into a node by writing each name inside **G.add_node()**. Only the main characters are included in here. "
   ]
  },
  {
   "cell_type": "markdown",
   "id": "e3aecc1f",
   "metadata": {},
   "source": [
    "These are the play characters (you can find this information at the beginning of the book). Remember to change \"Claudius\" for \"King\" and \"Gertrude\" for \"Queen\" as that is how they will appear throughout the play."
   ]
  },
  {
   "cell_type": "markdown",
   "id": "b9e4d88b",
   "metadata": {},
   "source": [
    "Dramatis Personæ\n",
    "\n",
    "* HAMLET, Prince of Denmark\n",
    "* CLAUDIUS, King of Denmark, Hamlet’s uncle\n",
    "* The GHOST of the late king, Hamlet’s father\n",
    "* GERTRUDE, the Queen, Hamlet’s mother, now wife of Claudius\n",
    "* POLONIUS, Lord Chamberlain\n",
    "* LAERTES, Son to Polonius\n",
    "* OPHELIA, Daughter to Polonius\n",
    "* HORATIO, Friend to Hamlet\n",
    "* FORTINBRAS, Prince of Norway\n",
    "* VOLTEMAND, Courtier\n",
    "* CORNELIUS, Courtier\n",
    "* ROSENCRANTZ, Courtier\n",
    "* GUILDENSTERN, Courtier\n",
    "* MARCELLUS, Officer\n",
    "* BARNARDO, Officer\n",
    "* FRANCISCO, a Soldier\n",
    "* OSRIC, Courtier\n",
    "* REYNALDO, Servant to Polonius\n",
    "* Players\n",
    "* A Gentleman, Courtier\n",
    "* A Priest\n",
    "* Two Clowns, Grave-diggers\n",
    "* A Captain\n",
    "* English Ambassadors.\n",
    "* Lords, Ladies, Officers, Soldiers, Sailors, Messengers, and Attendants"
   ]
  },
  {
   "cell_type": "code",
   "execution_count": null,
   "id": "ff503d70",
   "metadata": {},
   "outputs": [],
   "source": [
    "# ANNOTATION (auf Deutsch):\n",
    "# Dieser Code führt die folgende Aufgabe aus:\n",
    "# (Fügen Sie hier eine spezifische Erklärung hinzu, basierend auf dem Code.)\n",
    "# This cell performs the following task:\n",
    "# (Add specific annotations here based on the logic in the cell)\n",
    "\n",
    "#Your code in here"
   ]
  },
  {
   "cell_type": "code",
   "execution_count": null,
   "id": "bf3ecd63",
   "metadata": {},
   "outputs": [],
   "source": [
    "# ANNOTATION (auf Deutsch):\n",
    "# Dieser Code führt die folgende Aufgabe aus:\n",
    "# (Fügen Sie hier eine spezifische Erklärung hinzu, basierend auf dem Code.)\n",
    "# This cell performs the following task:\n",
    "# (Add specific annotations here based on the logic in the cell)\n",
    "\n",
    "#Solution\n",
    "\n",
    "G.add_node(\"Hamlet\")"
   ]
  },
  {
   "cell_type": "code",
   "execution_count": null,
   "id": "028d636e",
   "metadata": {},
   "outputs": [],
   "source": [
    "# ANNOTATION (auf Deutsch):\n",
    "# Dieser Code führt die folgende Aufgabe aus:\n",
    "# (Fügen Sie hier eine spezifische Erklärung hinzu, basierend auf dem Code.)\n",
    "# This cell performs the following task:\n",
    "# (Add specific annotations here based on the logic in the cell)\n",
    "\n",
    "G.add_node(\"King\")"
   ]
  },
  {
   "cell_type": "code",
   "execution_count": null,
   "id": "9f326e25",
   "metadata": {},
   "outputs": [],
   "source": [
    "# ANNOTATION (auf Deutsch):\n",
    "# Dieser Code führt die folgende Aufgabe aus:\n",
    "# (Fügen Sie hier eine spezifische Erklärung hinzu, basierend auf dem Code.)\n",
    "# This cell performs the following task:\n",
    "# (Add specific annotations here based on the logic in the cell)\n",
    "\n",
    "G.add_node(\"Ghost\")"
   ]
  },
  {
   "cell_type": "code",
   "execution_count": null,
   "id": "313889d7",
   "metadata": {},
   "outputs": [],
   "source": [
    "# ANNOTATION (auf Deutsch):\n",
    "# Dieser Code führt die folgende Aufgabe aus:\n",
    "# (Fügen Sie hier eine spezifische Erklärung hinzu, basierend auf dem Code.)\n",
    "# This cell performs the following task:\n",
    "# (Add specific annotations here based on the logic in the cell)\n",
    "\n",
    "G.add_node(\"Queen\")"
   ]
  },
  {
   "cell_type": "code",
   "execution_count": null,
   "id": "a3e0461f",
   "metadata": {},
   "outputs": [],
   "source": [
    "# ANNOTATION (auf Deutsch):\n",
    "# Dieser Code führt die folgende Aufgabe aus:\n",
    "# (Fügen Sie hier eine spezifische Erklärung hinzu, basierend auf dem Code.)\n",
    "# This cell performs the following task:\n",
    "# (Add specific annotations here based on the logic in the cell)\n",
    "\n",
    "G.add_node(\"Polonius\")"
   ]
  },
  {
   "cell_type": "code",
   "execution_count": null,
   "id": "920aaf3c",
   "metadata": {},
   "outputs": [],
   "source": [
    "# ANNOTATION (auf Deutsch):\n",
    "# Dieser Code führt die folgende Aufgabe aus:\n",
    "# (Fügen Sie hier eine spezifische Erklärung hinzu, basierend auf dem Code.)\n",
    "# This cell performs the following task:\n",
    "# (Add specific annotations here based on the logic in the cell)\n",
    "\n",
    "G.add_node(\"Laertes\")"
   ]
  },
  {
   "cell_type": "code",
   "execution_count": null,
   "id": "5078ee98",
   "metadata": {},
   "outputs": [],
   "source": [
    "# ANNOTATION (auf Deutsch):\n",
    "# Dieser Code führt die folgende Aufgabe aus:\n",
    "# (Fügen Sie hier eine spezifische Erklärung hinzu, basierend auf dem Code.)\n",
    "# This cell performs the following task:\n",
    "# (Add specific annotations here based on the logic in the cell)\n",
    "\n",
    "G.add_node(\"Ophelia\")"
   ]
  },
  {
   "cell_type": "code",
   "execution_count": null,
   "id": "9b2831df",
   "metadata": {},
   "outputs": [],
   "source": [
    "# ANNOTATION (auf Deutsch):\n",
    "# Dieser Code führt die folgende Aufgabe aus:\n",
    "# (Fügen Sie hier eine spezifische Erklärung hinzu, basierend auf dem Code.)\n",
    "# This cell performs the following task:\n",
    "# (Add specific annotations here based on the logic in the cell)\n",
    "\n",
    "G.add_node(\"Horatio\")"
   ]
  },
  {
   "cell_type": "code",
   "execution_count": null,
   "id": "5f1576a5",
   "metadata": {},
   "outputs": [],
   "source": [
    "# ANNOTATION (auf Deutsch):\n",
    "# Dieser Code führt die folgende Aufgabe aus:\n",
    "# (Fügen Sie hier eine spezifische Erklärung hinzu, basierend auf dem Code.)\n",
    "# This cell performs the following task:\n",
    "# (Add specific annotations here based on the logic in the cell)\n",
    "\n",
    "G.add_node(\"Fortinbras\")"
   ]
  },
  {
   "cell_type": "code",
   "execution_count": null,
   "id": "a543bbed",
   "metadata": {},
   "outputs": [],
   "source": [
    "# ANNOTATION (auf Deutsch):\n",
    "# Dieser Code führt die folgende Aufgabe aus:\n",
    "# (Fügen Sie hier eine spezifische Erklärung hinzu, basierend auf dem Code.)\n",
    "# This cell performs the following task:\n",
    "# (Add specific annotations here based on the logic in the cell)\n",
    "\n",
    "G.add_node(\"Voltemand\")"
   ]
  },
  {
   "cell_type": "code",
   "execution_count": null,
   "id": "f96cf764",
   "metadata": {},
   "outputs": [],
   "source": [
    "# ANNOTATION (auf Deutsch):\n",
    "# Dieser Code führt die folgende Aufgabe aus:\n",
    "# (Fügen Sie hier eine spezifische Erklärung hinzu, basierend auf dem Code.)\n",
    "# This cell performs the following task:\n",
    "# (Add specific annotations here based on the logic in the cell)\n",
    "\n",
    "G.add_node(\"Cornelius\")"
   ]
  },
  {
   "cell_type": "code",
   "execution_count": null,
   "id": "7878f62b",
   "metadata": {},
   "outputs": [],
   "source": [
    "# ANNOTATION (auf Deutsch):\n",
    "# Dieser Code führt die folgende Aufgabe aus:\n",
    "# (Fügen Sie hier eine spezifische Erklärung hinzu, basierend auf dem Code.)\n",
    "# This cell performs the following task:\n",
    "# (Add specific annotations here based on the logic in the cell)\n",
    "\n",
    "G.add_node(\"Rosencrantz\")"
   ]
  },
  {
   "cell_type": "code",
   "execution_count": null,
   "id": "de83ae15",
   "metadata": {},
   "outputs": [],
   "source": [
    "# ANNOTATION (auf Deutsch):\n",
    "# Dieser Code führt die folgende Aufgabe aus:\n",
    "# (Fügen Sie hier eine spezifische Erklärung hinzu, basierend auf dem Code.)\n",
    "# This cell performs the following task:\n",
    "# (Add specific annotations here based on the logic in the cell)\n",
    "\n",
    "G.add_node(\"Guildenstern\")"
   ]
  },
  {
   "cell_type": "code",
   "execution_count": null,
   "id": "b60102f0",
   "metadata": {},
   "outputs": [],
   "source": [
    "# ANNOTATION (auf Deutsch):\n",
    "# Dieser Code führt die folgende Aufgabe aus:\n",
    "# (Fügen Sie hier eine spezifische Erklärung hinzu, basierend auf dem Code.)\n",
    "# This cell performs the following task:\n",
    "# (Add specific annotations here based on the logic in the cell)\n",
    "\n",
    "G.add_node(\"Marcellus\")"
   ]
  },
  {
   "cell_type": "code",
   "execution_count": null,
   "id": "ccb8e3f6",
   "metadata": {},
   "outputs": [],
   "source": [
    "# ANNOTATION (auf Deutsch):\n",
    "# Dieser Code führt die folgende Aufgabe aus:\n",
    "# (Fügen Sie hier eine spezifische Erklärung hinzu, basierend auf dem Code.)\n",
    "# This cell performs the following task:\n",
    "# (Add specific annotations here based on the logic in the cell)\n",
    "\n",
    "G.add_node(\"Barnardo\")"
   ]
  },
  {
   "cell_type": "code",
   "execution_count": null,
   "id": "bf017402",
   "metadata": {},
   "outputs": [],
   "source": [
    "# ANNOTATION (auf Deutsch):\n",
    "# Dieser Code führt die folgende Aufgabe aus:\n",
    "# (Fügen Sie hier eine spezifische Erklärung hinzu, basierend auf dem Code.)\n",
    "# This cell performs the following task:\n",
    "# (Add specific annotations here based on the logic in the cell)\n",
    "\n",
    "G.add_node(\"Francisco\")"
   ]
  },
  {
   "cell_type": "code",
   "execution_count": null,
   "id": "464c9799",
   "metadata": {},
   "outputs": [],
   "source": [
    "# ANNOTATION (auf Deutsch):\n",
    "# Dieser Code führt die folgende Aufgabe aus:\n",
    "# (Fügen Sie hier eine spezifische Erklärung hinzu, basierend auf dem Code.)\n",
    "# This cell performs the following task:\n",
    "# (Add specific annotations here based on the logic in the cell)\n",
    "\n",
    "G.add_node(\"Osric\")"
   ]
  },
  {
   "cell_type": "code",
   "execution_count": null,
   "id": "b13a8614",
   "metadata": {},
   "outputs": [],
   "source": [
    "# ANNOTATION (auf Deutsch):\n",
    "# Dieser Code führt die folgende Aufgabe aus:\n",
    "# (Fügen Sie hier eine spezifische Erklärung hinzu, basierend auf dem Code.)\n",
    "# This cell performs the following task:\n",
    "# (Add specific annotations here based on the logic in the cell)\n",
    "\n",
    "G.add_node(\"Reynaldo\")"
   ]
  },
  {
   "cell_type": "code",
   "execution_count": null,
   "id": "29926600",
   "metadata": {},
   "outputs": [],
   "source": [
    "# ANNOTATION (auf Deutsch):\n",
    "# Dieser Code führt die folgende Aufgabe aus:\n",
    "# (Fügen Sie hier eine spezifische Erklärung hinzu, basierend auf dem Code.)\n",
    "# This cell performs the following task:\n",
    "# (Add specific annotations here based on the logic in the cell)\n",
    "\n",
    "G.add_node(\"First Player\")"
   ]
  },
  {
   "cell_type": "code",
   "execution_count": null,
   "id": "75673c6d",
   "metadata": {},
   "outputs": [],
   "source": [
    "# ANNOTATION (auf Deutsch):\n",
    "# Dieser Code führt die folgende Aufgabe aus:\n",
    "# (Fügen Sie hier eine spezifische Erklärung hinzu, basierend auf dem Code.)\n",
    "# This cell performs the following task:\n",
    "# (Add specific annotations here based on the logic in the cell)\n",
    "\n",
    "G.add_node(\"Player King\")"
   ]
  },
  {
   "cell_type": "code",
   "execution_count": null,
   "id": "693e92c5",
   "metadata": {},
   "outputs": [],
   "source": [
    "# ANNOTATION (auf Deutsch):\n",
    "# Dieser Code führt die folgende Aufgabe aus:\n",
    "# (Fügen Sie hier eine spezifische Erklärung hinzu, basierend auf dem Code.)\n",
    "# This cell performs the following task:\n",
    "# (Add specific annotations here based on the logic in the cell)\n",
    "\n",
    "G.add_node(\"Player Queen\")"
   ]
  },
  {
   "cell_type": "code",
   "execution_count": null,
   "id": "312a6b53",
   "metadata": {},
   "outputs": [],
   "source": [
    "# ANNOTATION (auf Deutsch):\n",
    "# Dieser Code führt die folgende Aufgabe aus:\n",
    "# (Fügen Sie hier eine spezifische Erklärung hinzu, basierend auf dem Code.)\n",
    "# This cell performs the following task:\n",
    "# (Add specific annotations here based on the logic in the cell)\n",
    "\n",
    "G.add_node(\"Captain\")"
   ]
  },
  {
   "cell_type": "code",
   "execution_count": null,
   "id": "2ae09ff3",
   "metadata": {},
   "outputs": [],
   "source": [
    "# ANNOTATION (auf Deutsch):\n",
    "# Dieser Code führt die folgende Aufgabe aus:\n",
    "# (Fügen Sie hier eine spezifische Erklärung hinzu, basierend auf dem Code.)\n",
    "# This cell performs the following task:\n",
    "# (Add specific annotations here based on the logic in the cell)\n",
    "\n",
    "G.add_node(\"Gentleman\")"
   ]
  },
  {
   "cell_type": "code",
   "execution_count": null,
   "id": "f5ff78f8",
   "metadata": {},
   "outputs": [],
   "source": [
    "# ANNOTATION (auf Deutsch):\n",
    "# Dieser Code führt die folgende Aufgabe aus:\n",
    "# (Fügen Sie hier eine spezifische Erklärung hinzu, basierend auf dem Code.)\n",
    "# This cell performs the following task:\n",
    "# (Add specific annotations here based on the logic in the cell)\n",
    "\n",
    "G.add_node(\"Danes\")"
   ]
  },
  {
   "cell_type": "code",
   "execution_count": null,
   "id": "5f31035f",
   "metadata": {},
   "outputs": [],
   "source": [
    "# ANNOTATION (auf Deutsch):\n",
    "# Dieser Code führt die folgende Aufgabe aus:\n",
    "# (Fügen Sie hier eine spezifische Erklärung hinzu, basierend auf dem Code.)\n",
    "# This cell performs the following task:\n",
    "# (Add specific annotations here based on the logic in the cell)\n",
    "\n",
    "G.add_node(\"Servant\")"
   ]
  },
  {
   "cell_type": "code",
   "execution_count": null,
   "id": "c4d5d1e8",
   "metadata": {},
   "outputs": [],
   "source": [
    "# ANNOTATION (auf Deutsch):\n",
    "# Dieser Code führt die folgende Aufgabe aus:\n",
    "# (Fügen Sie hier eine spezifische Erklärung hinzu, basierend auf dem Code.)\n",
    "# This cell performs the following task:\n",
    "# (Add specific annotations here based on the logic in the cell)\n",
    "\n",
    "G.add_node(\"First Sailor\")"
   ]
  },
  {
   "cell_type": "code",
   "execution_count": null,
   "id": "f1612ca2",
   "metadata": {},
   "outputs": [],
   "source": [
    "# ANNOTATION (auf Deutsch):\n",
    "# Dieser Code führt die folgende Aufgabe aus:\n",
    "# (Fügen Sie hier eine spezifische Erklärung hinzu, basierend auf dem Code.)\n",
    "# This cell performs the following task:\n",
    "# (Add specific annotations here based on the logic in the cell)\n",
    "\n",
    "G.add_node(\"Messenger\")"
   ]
  },
  {
   "cell_type": "code",
   "execution_count": null,
   "id": "2c191996",
   "metadata": {},
   "outputs": [],
   "source": [
    "# ANNOTATION (auf Deutsch):\n",
    "# Dieser Code führt die folgende Aufgabe aus:\n",
    "# (Fügen Sie hier eine spezifische Erklärung hinzu, basierend auf dem Code.)\n",
    "# This cell performs the following task:\n",
    "# (Add specific annotations here based on the logic in the cell)\n",
    "\n",
    "G.add_node(\"First Clown\")"
   ]
  },
  {
   "cell_type": "code",
   "execution_count": null,
   "id": "7d2faaf5",
   "metadata": {},
   "outputs": [],
   "source": [
    "# ANNOTATION (auf Deutsch):\n",
    "# Dieser Code führt die folgende Aufgabe aus:\n",
    "# (Fügen Sie hier eine spezifische Erklärung hinzu, basierend auf dem Code.)\n",
    "# This cell performs the following task:\n",
    "# (Add specific annotations here based on the logic in the cell)\n",
    "\n",
    "G.add_node(\"Second Clown\")"
   ]
  },
  {
   "cell_type": "code",
   "execution_count": null,
   "id": "e61e6a07",
   "metadata": {},
   "outputs": [],
   "source": [
    "# ANNOTATION (auf Deutsch):\n",
    "# Dieser Code führt die folgende Aufgabe aus:\n",
    "# (Fügen Sie hier eine spezifische Erklärung hinzu, basierend auf dem Code.)\n",
    "# This cell performs the following task:\n",
    "# (Add specific annotations here based on the logic in the cell)\n",
    "\n",
    "G.add_node(\"Priest\")"
   ]
  },
  {
   "cell_type": "code",
   "execution_count": null,
   "id": "06b239ba",
   "metadata": {},
   "outputs": [],
   "source": [
    "# ANNOTATION (auf Deutsch):\n",
    "# Dieser Code führt die folgende Aufgabe aus:\n",
    "# (Fügen Sie hier eine spezifische Erklärung hinzu, basierend auf dem Code.)\n",
    "# This cell performs the following task:\n",
    "# (Add specific annotations here based on the logic in the cell)\n",
    "\n",
    "G.add_node(\"Osric\")"
   ]
  },
  {
   "cell_type": "code",
   "execution_count": null,
   "id": "5ac20b91",
   "metadata": {},
   "outputs": [],
   "source": [
    "# ANNOTATION (auf Deutsch):\n",
    "# Dieser Code führt die folgende Aufgabe aus:\n",
    "# (Fügen Sie hier eine spezifische Erklärung hinzu, basierend auf dem Code.)\n",
    "# This cell performs the following task:\n",
    "# (Add specific annotations here based on the logic in the cell)\n",
    "\n",
    "G.add_node(\"Lord\")"
   ]
  },
  {
   "cell_type": "code",
   "execution_count": null,
   "id": "dc24cafa",
   "metadata": {},
   "outputs": [],
   "source": [
    "# ANNOTATION (auf Deutsch):\n",
    "# Dieser Code führt die folgende Aufgabe aus:\n",
    "# (Fügen Sie hier eine spezifische Erklärung hinzu, basierend auf dem Code.)\n",
    "# This cell performs the following task:\n",
    "# (Add specific annotations here based on the logic in the cell)\n",
    "\n",
    "G.add_node(\"First Ambassator\")"
   ]
  },
  {
   "cell_type": "markdown",
   "id": "fb55b1aa",
   "metadata": {},
   "source": [
    "# 4. Textual Interactions"
   ]
  },
  {
   "cell_type": "markdown",
   "id": "0bd36e59",
   "metadata": {},
   "source": [
    "Then we count (old school style by reading the book) who is talking to whom, and we write that down in **G.add_edge()**. If we make a mistake and we accidentally write twice when a character talks to another one, it doesn´t matter. The networkx library will only take into acount one edge per pair of nodes. "
   ]
  },
  {
   "cell_type": "code",
   "execution_count": null,
   "id": "cab6922e",
   "metadata": {},
   "outputs": [],
   "source": [
    "# ANNOTATION (auf Deutsch):\n",
    "# Dieser Code führt die folgende Aufgabe aus:\n",
    "# (Fügen Sie hier eine spezifische Erklärung hinzu, basierend auf dem Code.)\n",
    "# This cell performs the following task:\n",
    "# (Add specific annotations here based on the logic in the cell)\n",
    "\n",
    "#Your code in here"
   ]
  },
  {
   "cell_type": "code",
   "execution_count": null,
   "id": "74d522d3",
   "metadata": {},
   "outputs": [],
   "source": [
    "# ANNOTATION (auf Deutsch):\n",
    "# Dieser Code führt die folgende Aufgabe aus:\n",
    "# (Fügen Sie hier eine spezifische Erklärung hinzu, basierend auf dem Code.)\n",
    "# This cell performs the following task:\n",
    "# (Add specific annotations here based on the logic in the cell)\n",
    "\n",
    "#Solution"
   ]
  },
  {
   "cell_type": "code",
   "execution_count": null,
   "id": "dd5b8637",
   "metadata": {},
   "outputs": [],
   "source": [
    "# ANNOTATION (auf Deutsch):\n",
    "# Dieser Code führt die folgende Aufgabe aus:\n",
    "# (Fügen Sie hier eine spezifische Erklärung hinzu, basierend auf dem Code.)\n",
    "# This cell performs the following task:\n",
    "# (Add specific annotations here based on the logic in the cell)\n",
    "\n",
    "G.add_edge(\"Barnardo\", \"Francisco\") "
   ]
  },
  {
   "cell_type": "code",
   "execution_count": null,
   "id": "a703d544",
   "metadata": {},
   "outputs": [],
   "source": [
    "# ANNOTATION (auf Deutsch):\n",
    "# Dieser Code führt die folgende Aufgabe aus:\n",
    "# (Fügen Sie hier eine spezifische Erklärung hinzu, basierend auf dem Code.)\n",
    "# This cell performs the following task:\n",
    "# (Add specific annotations here based on the logic in the cell)\n",
    "\n",
    "G.add_edge(\"Francisco\", \"Horatio\") "
   ]
  },
  {
   "cell_type": "code",
   "execution_count": null,
   "id": "100e6820",
   "metadata": {},
   "outputs": [],
   "source": [
    "# ANNOTATION (auf Deutsch):\n",
    "# Dieser Code führt die folgende Aufgabe aus:\n",
    "# (Fügen Sie hier eine spezifische Erklärung hinzu, basierend auf dem Code.)\n",
    "# This cell performs the following task:\n",
    "# (Add specific annotations here based on the logic in the cell)\n",
    "\n",
    "G.add_edge(\"Marcellus\", \"Francisco\") "
   ]
  },
  {
   "cell_type": "code",
   "execution_count": null,
   "id": "08097214",
   "metadata": {},
   "outputs": [],
   "source": [
    "# ANNOTATION (auf Deutsch):\n",
    "# Dieser Code führt die folgende Aufgabe aus:\n",
    "# (Fügen Sie hier eine spezifische Erklärung hinzu, basierend auf dem Code.)\n",
    "# This cell performs the following task:\n",
    "# (Add specific annotations here based on the logic in the cell)\n",
    "\n",
    "G.add_edge(\"Marcellus\", \"Barnardo\") "
   ]
  },
  {
   "cell_type": "code",
   "execution_count": null,
   "id": "2749df18",
   "metadata": {},
   "outputs": [],
   "source": [
    "# ANNOTATION (auf Deutsch):\n",
    "# Dieser Code führt die folgende Aufgabe aus:\n",
    "# (Fügen Sie hier eine spezifische Erklärung hinzu, basierend auf dem Code.)\n",
    "# This cell performs the following task:\n",
    "# (Add specific annotations here based on the logic in the cell)\n",
    "\n",
    "G.add_edge(\"Marcellus\", \"Horatio\") "
   ]
  },
  {
   "cell_type": "code",
   "execution_count": null,
   "id": "665b7f77",
   "metadata": {},
   "outputs": [],
   "source": [
    "# ANNOTATION (auf Deutsch):\n",
    "# Dieser Code führt die folgende Aufgabe aus:\n",
    "# (Fügen Sie hier eine spezifische Erklärung hinzu, basierend auf dem Code.)\n",
    "# This cell performs the following task:\n",
    "# (Add specific annotations here based on the logic in the cell)\n",
    "\n",
    "G.add_edge(\"Horatio\", \"Barnardo\") "
   ]
  },
  {
   "cell_type": "code",
   "execution_count": null,
   "id": "0c8a1ff4",
   "metadata": {},
   "outputs": [],
   "source": [
    "# ANNOTATION (auf Deutsch):\n",
    "# Dieser Code führt die folgende Aufgabe aus:\n",
    "# (Fügen Sie hier eine spezifische Erklärung hinzu, basierend auf dem Code.)\n",
    "# This cell performs the following task:\n",
    "# (Add specific annotations here based on the logic in the cell)\n",
    "\n",
    "G.add_edge(\"King\", \"Cornelius\") "
   ]
  },
  {
   "cell_type": "code",
   "execution_count": null,
   "id": "1293266c",
   "metadata": {},
   "outputs": [],
   "source": [
    "# ANNOTATION (auf Deutsch):\n",
    "# Dieser Code führt die folgende Aufgabe aus:\n",
    "# (Fügen Sie hier eine spezifische Erklärung hinzu, basierend auf dem Code.)\n",
    "# This cell performs the following task:\n",
    "# (Add specific annotations here based on the logic in the cell)\n",
    "\n",
    "G.add_edge(\"King\", \"Voltemand\") "
   ]
  },
  {
   "cell_type": "code",
   "execution_count": null,
   "id": "4f3ba0f2",
   "metadata": {},
   "outputs": [],
   "source": [
    "# ANNOTATION (auf Deutsch):\n",
    "# Dieser Code führt die folgende Aufgabe aus:\n",
    "# (Fügen Sie hier eine spezifische Erklärung hinzu, basierend auf dem Code.)\n",
    "# This cell performs the following task:\n",
    "# (Add specific annotations here based on the logic in the cell)\n",
    "\n",
    "G.add_edge(\"King\", \"Laertes\") "
   ]
  },
  {
   "cell_type": "code",
   "execution_count": null,
   "id": "666ba3ff",
   "metadata": {},
   "outputs": [],
   "source": [
    "# ANNOTATION (auf Deutsch):\n",
    "# Dieser Code führt die folgende Aufgabe aus:\n",
    "# (Fügen Sie hier eine spezifische Erklärung hinzu, basierend auf dem Code.)\n",
    "# This cell performs the following task:\n",
    "# (Add specific annotations here based on the logic in the cell)\n",
    "\n",
    "G.add_edge(\"King\", \"Polonius\") "
   ]
  },
  {
   "cell_type": "code",
   "execution_count": null,
   "id": "70c6634e",
   "metadata": {},
   "outputs": [],
   "source": [
    "# ANNOTATION (auf Deutsch):\n",
    "# Dieser Code führt die folgende Aufgabe aus:\n",
    "# (Fügen Sie hier eine spezifische Erklärung hinzu, basierend auf dem Code.)\n",
    "# This cell performs the following task:\n",
    "# (Add specific annotations here based on the logic in the cell)\n",
    "\n",
    "G.add_edge(\"King\", \"Hamlet\") "
   ]
  },
  {
   "cell_type": "code",
   "execution_count": null,
   "id": "b42f881c",
   "metadata": {},
   "outputs": [],
   "source": [
    "# ANNOTATION (auf Deutsch):\n",
    "# Dieser Code führt die folgende Aufgabe aus:\n",
    "# (Fügen Sie hier eine spezifische Erklärung hinzu, basierend auf dem Code.)\n",
    "# This cell performs the following task:\n",
    "# (Add specific annotations here based on the logic in the cell)\n",
    "\n",
    "G.add_edge(\"King\", \"Queen\") "
   ]
  },
  {
   "cell_type": "code",
   "execution_count": null,
   "id": "dcacd819",
   "metadata": {},
   "outputs": [],
   "source": [
    "# ANNOTATION (auf Deutsch):\n",
    "# Dieser Code führt die folgende Aufgabe aus:\n",
    "# (Fügen Sie hier eine spezifische Erklärung hinzu, basierend auf dem Code.)\n",
    "# This cell performs the following task:\n",
    "# (Add specific annotations here based on the logic in the cell)\n",
    "\n",
    "G.add_edge(\"Queen\", \"Hamlet\") "
   ]
  },
  {
   "cell_type": "code",
   "execution_count": null,
   "id": "1bd554f0",
   "metadata": {},
   "outputs": [],
   "source": [
    "# ANNOTATION (auf Deutsch):\n",
    "# Dieser Code führt die folgende Aufgabe aus:\n",
    "# (Fügen Sie hier eine spezifische Erklärung hinzu, basierend auf dem Code.)\n",
    "# This cell performs the following task:\n",
    "# (Add specific annotations here based on the logic in the cell)\n",
    "\n",
    "G.add_edge(\"Horatio\", \"Hamlet\") "
   ]
  },
  {
   "cell_type": "code",
   "execution_count": null,
   "id": "c7c32885",
   "metadata": {},
   "outputs": [],
   "source": [
    "# ANNOTATION (auf Deutsch):\n",
    "# Dieser Code führt die folgende Aufgabe aus:\n",
    "# (Fügen Sie hier eine spezifische Erklärung hinzu, basierend auf dem Code.)\n",
    "# This cell performs the following task:\n",
    "# (Add specific annotations here based on the logic in the cell)\n",
    "\n",
    "G.add_edge(\"Hamlet\", \"Marcellus\") "
   ]
  },
  {
   "cell_type": "code",
   "execution_count": null,
   "id": "90a9a7d4",
   "metadata": {},
   "outputs": [],
   "source": [
    "# ANNOTATION (auf Deutsch):\n",
    "# Dieser Code führt die folgende Aufgabe aus:\n",
    "# (Fügen Sie hier eine spezifische Erklärung hinzu, basierend auf dem Code.)\n",
    "# This cell performs the following task:\n",
    "# (Add specific annotations here based on the logic in the cell)\n",
    "\n",
    "G.add_edge(\"Laertes\", \"Ophelia\") "
   ]
  },
  {
   "cell_type": "code",
   "execution_count": null,
   "id": "d56559dc",
   "metadata": {},
   "outputs": [],
   "source": [
    "# ANNOTATION (auf Deutsch):\n",
    "# Dieser Code führt die folgende Aufgabe aus:\n",
    "# (Fügen Sie hier eine spezifische Erklärung hinzu, basierend auf dem Code.)\n",
    "# This cell performs the following task:\n",
    "# (Add specific annotations here based on the logic in the cell)\n",
    "\n",
    "G.add_edge(\"Laertes\", \"Polonius\") "
   ]
  },
  {
   "cell_type": "code",
   "execution_count": null,
   "id": "6f8b9d13",
   "metadata": {},
   "outputs": [],
   "source": [
    "# ANNOTATION (auf Deutsch):\n",
    "# Dieser Code führt die folgende Aufgabe aus:\n",
    "# (Fügen Sie hier eine spezifische Erklärung hinzu, basierend auf dem Code.)\n",
    "# This cell performs the following task:\n",
    "# (Add specific annotations here based on the logic in the cell)\n",
    "\n",
    "G.add_edge(\"Polonius\", \"Ophelia\") "
   ]
  },
  {
   "cell_type": "code",
   "execution_count": null,
   "id": "ea3c5609",
   "metadata": {},
   "outputs": [],
   "source": [
    "# ANNOTATION (auf Deutsch):\n",
    "# Dieser Code führt die folgende Aufgabe aus:\n",
    "# (Fügen Sie hier eine spezifische Erklärung hinzu, basierend auf dem Code.)\n",
    "# This cell performs the following task:\n",
    "# (Add specific annotations here based on the logic in the cell)\n",
    "\n",
    "G.add_edge(\"Hamlet\", \"Ghost\") "
   ]
  },
  {
   "cell_type": "code",
   "execution_count": null,
   "id": "3134f47a",
   "metadata": {},
   "outputs": [],
   "source": [
    "# ANNOTATION (auf Deutsch):\n",
    "# Dieser Code führt die folgende Aufgabe aus:\n",
    "# (Fügen Sie hier eine spezifische Erklärung hinzu, basierend auf dem Code.)\n",
    "# This cell performs the following task:\n",
    "# (Add specific annotations here based on the logic in the cell)\n",
    "\n",
    "G.add_edge(\"Polonius\", \"Reynaldo\") "
   ]
  },
  {
   "cell_type": "code",
   "execution_count": null,
   "id": "df4f131e",
   "metadata": {},
   "outputs": [],
   "source": [
    "# ANNOTATION (auf Deutsch):\n",
    "# Dieser Code führt die folgende Aufgabe aus:\n",
    "# (Fügen Sie hier eine spezifische Erklärung hinzu, basierend auf dem Code.)\n",
    "# This cell performs the following task:\n",
    "# (Add specific annotations here based on the logic in the cell)\n",
    "\n",
    "G.add_edge(\"Ophelia\", \"Polonius\") "
   ]
  },
  {
   "cell_type": "code",
   "execution_count": null,
   "id": "815c67a4",
   "metadata": {},
   "outputs": [],
   "source": [
    "# ANNOTATION (auf Deutsch):\n",
    "# Dieser Code führt die folgende Aufgabe aus:\n",
    "# (Fügen Sie hier eine spezifische Erklärung hinzu, basierend auf dem Code.)\n",
    "# This cell performs the following task:\n",
    "# (Add specific annotations here based on the logic in the cell)\n",
    "\n",
    "G.add_edge(\"Queen\", \"Rosencrantz\") "
   ]
  },
  {
   "cell_type": "code",
   "execution_count": null,
   "id": "a162c934",
   "metadata": {},
   "outputs": [],
   "source": [
    "# ANNOTATION (auf Deutsch):\n",
    "# Dieser Code führt die folgende Aufgabe aus:\n",
    "# (Fügen Sie hier eine spezifische Erklärung hinzu, basierend auf dem Code.)\n",
    "# This cell performs the following task:\n",
    "# (Add specific annotations here based on the logic in the cell)\n",
    "\n",
    "G.add_edge(\"King\", \"Rosencrantz\") "
   ]
  },
  {
   "cell_type": "code",
   "execution_count": null,
   "id": "16ab5328",
   "metadata": {},
   "outputs": [],
   "source": [
    "# ANNOTATION (auf Deutsch):\n",
    "# Dieser Code führt die folgende Aufgabe aus:\n",
    "# (Fügen Sie hier eine spezifische Erklärung hinzu, basierend auf dem Code.)\n",
    "# This cell performs the following task:\n",
    "# (Add specific annotations here based on the logic in the cell)\n",
    "\n",
    "G.add_edge(\"Queen\", \"Guildenstern\") "
   ]
  },
  {
   "cell_type": "code",
   "execution_count": null,
   "id": "5cdd8799",
   "metadata": {},
   "outputs": [],
   "source": [
    "# ANNOTATION (auf Deutsch):\n",
    "# Dieser Code führt die folgende Aufgabe aus:\n",
    "# (Fügen Sie hier eine spezifische Erklärung hinzu, basierend auf dem Code.)\n",
    "# This cell performs the following task:\n",
    "# (Add specific annotations here based on the logic in the cell)\n",
    "\n",
    "G.add_edge(\"King\", \"Guildenstern\") "
   ]
  },
  {
   "cell_type": "code",
   "execution_count": null,
   "id": "b7ca37c9",
   "metadata": {},
   "outputs": [],
   "source": [
    "# ANNOTATION (auf Deutsch):\n",
    "# Dieser Code führt die folgende Aufgabe aus:\n",
    "# (Fügen Sie hier eine spezifische Erklärung hinzu, basierend auf dem Code.)\n",
    "# This cell performs the following task:\n",
    "# (Add specific annotations here based on the logic in the cell)\n",
    "\n",
    "G.add_edge(\"King\", \"Voltemand\") "
   ]
  },
  {
   "cell_type": "code",
   "execution_count": null,
   "id": "fb4cc26b",
   "metadata": {},
   "outputs": [],
   "source": [
    "# ANNOTATION (auf Deutsch):\n",
    "# Dieser Code führt die folgende Aufgabe aus:\n",
    "# (Fügen Sie hier eine spezifische Erklärung hinzu, basierend auf dem Code.)\n",
    "# This cell performs the following task:\n",
    "# (Add specific annotations here based on the logic in the cell)\n",
    "\n",
    "G.add_edge(\"King\", \"Polonius\") "
   ]
  },
  {
   "cell_type": "code",
   "execution_count": null,
   "id": "c7b5d492",
   "metadata": {},
   "outputs": [],
   "source": [
    "# ANNOTATION (auf Deutsch):\n",
    "# Dieser Code führt die folgende Aufgabe aus:\n",
    "# (Fügen Sie hier eine spezifische Erklärung hinzu, basierend auf dem Code.)\n",
    "# This cell performs the following task:\n",
    "# (Add specific annotations here based on the logic in the cell)\n",
    "\n",
    "G.add_edge(\"Queen\", \"Polonius\") "
   ]
  },
  {
   "cell_type": "code",
   "execution_count": null,
   "id": "26be0abf",
   "metadata": {},
   "outputs": [],
   "source": [
    "# ANNOTATION (auf Deutsch):\n",
    "# Dieser Code führt die folgende Aufgabe aus:\n",
    "# (Fügen Sie hier eine spezifische Erklärung hinzu, basierend auf dem Code.)\n",
    "# This cell performs the following task:\n",
    "# (Add specific annotations here based on the logic in the cell)\n",
    "\n",
    "G.add_edge(\"Hamlet\", \"Polonius\") "
   ]
  },
  {
   "cell_type": "code",
   "execution_count": null,
   "id": "907ce8ec",
   "metadata": {},
   "outputs": [],
   "source": [
    "# ANNOTATION (auf Deutsch):\n",
    "# Dieser Code führt die folgende Aufgabe aus:\n",
    "# (Fügen Sie hier eine spezifische Erklärung hinzu, basierend auf dem Code.)\n",
    "# This cell performs the following task:\n",
    "# (Add specific annotations here based on the logic in the cell)\n",
    "\n",
    "G.add_edge(\"Polonius\", \"Rosencrantz\")"
   ]
  },
  {
   "cell_type": "code",
   "execution_count": null,
   "id": "ed322be1",
   "metadata": {},
   "outputs": [],
   "source": [
    "# ANNOTATION (auf Deutsch):\n",
    "# Dieser Code führt die folgende Aufgabe aus:\n",
    "# (Fügen Sie hier eine spezifische Erklärung hinzu, basierend auf dem Code.)\n",
    "# This cell performs the following task:\n",
    "# (Add specific annotations here based on the logic in the cell)\n",
    "\n",
    "G.add_edge(\"Guildenstern\", \"Rosencrantz\")"
   ]
  },
  {
   "cell_type": "code",
   "execution_count": null,
   "id": "919a8c6e",
   "metadata": {},
   "outputs": [],
   "source": [
    "# ANNOTATION (auf Deutsch):\n",
    "# Dieser Code führt die folgende Aufgabe aus:\n",
    "# (Fügen Sie hier eine spezifische Erklärung hinzu, basierend auf dem Code.)\n",
    "# This cell performs the following task:\n",
    "# (Add specific annotations here based on the logic in the cell)\n",
    "\n",
    "G.add_edge(\"Hamlet\", \"Rosencrantz\")"
   ]
  },
  {
   "cell_type": "code",
   "execution_count": null,
   "id": "61e784b6",
   "metadata": {},
   "outputs": [],
   "source": [
    "# ANNOTATION (auf Deutsch):\n",
    "# Dieser Code führt die folgende Aufgabe aus:\n",
    "# (Fügen Sie hier eine spezifische Erklärung hinzu, basierend auf dem Code.)\n",
    "# This cell performs the following task:\n",
    "# (Add specific annotations here based on the logic in the cell)\n",
    "\n",
    "G.add_edge(\"First Player\", \"Hamlet\")"
   ]
  },
  {
   "cell_type": "code",
   "execution_count": null,
   "id": "bcc1c72b",
   "metadata": {},
   "outputs": [],
   "source": [
    "# ANNOTATION (auf Deutsch):\n",
    "# Dieser Code führt die folgende Aufgabe aus:\n",
    "# (Fügen Sie hier eine spezifische Erklärung hinzu, basierend auf dem Code.)\n",
    "# This cell performs the following task:\n",
    "# (Add specific annotations here based on the logic in the cell)\n",
    "\n",
    "G.add_edge(\"Polonius\", \"First Player\")"
   ]
  },
  {
   "cell_type": "code",
   "execution_count": null,
   "id": "a84045a1",
   "metadata": {},
   "outputs": [],
   "source": [
    "# ANNOTATION (auf Deutsch):\n",
    "# Dieser Code führt die folgende Aufgabe aus:\n",
    "# (Fügen Sie hier eine spezifische Erklärung hinzu, basierend auf dem Code.)\n",
    "# This cell performs the following task:\n",
    "# (Add specific annotations here based on the logic in the cell)\n",
    "\n",
    "G.add_edge(\"Polonius\", \"Rosencrantz\") "
   ]
  },
  {
   "cell_type": "code",
   "execution_count": null,
   "id": "be2bd588",
   "metadata": {},
   "outputs": [],
   "source": [
    "# ANNOTATION (auf Deutsch):\n",
    "# Dieser Code führt die folgende Aufgabe aus:\n",
    "# (Fügen Sie hier eine spezifische Erklärung hinzu, basierend auf dem Code.)\n",
    "# This cell performs the following task:\n",
    "# (Add specific annotations here based on the logic in the cell)\n",
    "\n",
    "G.add_edge(\"Queen\", \"Ophelia\") "
   ]
  },
  {
   "cell_type": "code",
   "execution_count": null,
   "id": "028c6420",
   "metadata": {},
   "outputs": [],
   "source": [
    "# ANNOTATION (auf Deutsch):\n",
    "# Dieser Code führt die folgende Aufgabe aus:\n",
    "# (Fügen Sie hier eine spezifische Erklärung hinzu, basierend auf dem Code.)\n",
    "# This cell performs the following task:\n",
    "# (Add specific annotations here based on the logic in the cell)\n",
    "\n",
    "G.add_edge(\"Ophelia\", \"King\")"
   ]
  },
  {
   "cell_type": "code",
   "execution_count": null,
   "id": "a158952a",
   "metadata": {},
   "outputs": [],
   "source": [
    "# ANNOTATION (auf Deutsch):\n",
    "# Dieser Code führt die folgende Aufgabe aus:\n",
    "# (Fügen Sie hier eine spezifische Erklärung hinzu, basierend auf dem Code.)\n",
    "# This cell performs the following task:\n",
    "# (Add specific annotations here based on the logic in the cell)\n",
    "\n",
    "G.add_edge(\"Player King\", \"Player Queen\")"
   ]
  },
  {
   "cell_type": "code",
   "execution_count": null,
   "id": "8fe9d64d",
   "metadata": {},
   "outputs": [],
   "source": [
    "# ANNOTATION (auf Deutsch):\n",
    "# Dieser Code führt die folgende Aufgabe aus:\n",
    "# (Fügen Sie hier eine spezifische Erklärung hinzu, basierend auf dem Code.)\n",
    "# This cell performs the following task:\n",
    "# (Add specific annotations here based on the logic in the cell)\n",
    "\n",
    "G.add_edge(\"Guildenstern\", \"Hamlet\")"
   ]
  },
  {
   "cell_type": "code",
   "execution_count": null,
   "id": "5f7cc5d7",
   "metadata": {},
   "outputs": [],
   "source": [
    "# ANNOTATION (auf Deutsch):\n",
    "# Dieser Code führt die folgende Aufgabe aus:\n",
    "# (Fügen Sie hier eine spezifische Erklärung hinzu, basierend auf dem Code.)\n",
    "# This cell performs the following task:\n",
    "# (Add specific annotations here based on the logic in the cell)\n",
    "\n",
    "G.add_edge(\"Captain\", \"Hamlet\")"
   ]
  },
  {
   "cell_type": "code",
   "execution_count": null,
   "id": "3a2c1348",
   "metadata": {},
   "outputs": [],
   "source": [
    "# ANNOTATION (auf Deutsch):\n",
    "# Dieser Code führt die folgende Aufgabe aus:\n",
    "# (Fügen Sie hier eine spezifische Erklärung hinzu, basierend auf dem Code.)\n",
    "# This cell performs the following task:\n",
    "# (Add specific annotations here based on the logic in the cell)\n",
    "\n",
    "G.add_edge(\"Queen\", \"Gentleman\")"
   ]
  },
  {
   "cell_type": "code",
   "execution_count": null,
   "id": "506dfd2d",
   "metadata": {},
   "outputs": [],
   "source": [
    "# ANNOTATION (auf Deutsch):\n",
    "# Dieser Code führt die folgende Aufgabe aus:\n",
    "# (Fügen Sie hier eine spezifische Erklärung hinzu, basierend auf dem Code.)\n",
    "# This cell performs the following task:\n",
    "# (Add specific annotations here based on the logic in the cell)\n",
    "\n",
    "G.add_edge(\"King\", \"Gentleman\")"
   ]
  },
  {
   "cell_type": "code",
   "execution_count": null,
   "id": "74b59cab",
   "metadata": {},
   "outputs": [],
   "source": [
    "# ANNOTATION (auf Deutsch):\n",
    "# Dieser Code führt die folgende Aufgabe aus:\n",
    "# (Fügen Sie hier eine spezifische Erklärung hinzu, basierend auf dem Code.)\n",
    "# This cell performs the following task:\n",
    "# (Add specific annotations here based on the logic in the cell)\n",
    "\n",
    "G.add_edge(\"Danes\", \"Laertes\")"
   ]
  },
  {
   "cell_type": "code",
   "execution_count": null,
   "id": "136f0ae0",
   "metadata": {},
   "outputs": [],
   "source": [
    "# ANNOTATION (auf Deutsch):\n",
    "# Dieser Code führt die folgende Aufgabe aus:\n",
    "# (Fügen Sie hier eine spezifische Erklärung hinzu, basierend auf dem Code.)\n",
    "# This cell performs the following task:\n",
    "# (Add specific annotations here based on the logic in the cell)\n",
    "\n",
    "G.add_edge(\"Horatio\", \"Servant\")"
   ]
  },
  {
   "cell_type": "code",
   "execution_count": null,
   "id": "6742251b",
   "metadata": {},
   "outputs": [],
   "source": [
    "# ANNOTATION (auf Deutsch):\n",
    "# Dieser Code führt die folgende Aufgabe aus:\n",
    "# (Fügen Sie hier eine spezifische Erklärung hinzu, basierend auf dem Code.)\n",
    "# This cell performs the following task:\n",
    "# (Add specific annotations here based on the logic in the cell)\n",
    "\n",
    "G.add_edge(\"First Sailor\", \"Horatio\")"
   ]
  },
  {
   "cell_type": "code",
   "execution_count": null,
   "id": "dc3e3941",
   "metadata": {},
   "outputs": [],
   "source": [
    "# ANNOTATION (auf Deutsch):\n",
    "# Dieser Code führt die folgende Aufgabe aus:\n",
    "# (Fügen Sie hier eine spezifische Erklärung hinzu, basierend auf dem Code.)\n",
    "# This cell performs the following task:\n",
    "# (Add specific annotations here based on the logic in the cell)\n",
    "\n",
    "G.add_edge(\"Messenger\", \"King\")"
   ]
  },
  {
   "cell_type": "code",
   "execution_count": null,
   "id": "9d93c43c",
   "metadata": {},
   "outputs": [],
   "source": [
    "# ANNOTATION (auf Deutsch):\n",
    "# Dieser Code führt die folgende Aufgabe aus:\n",
    "# (Fügen Sie hier eine spezifische Erklärung hinzu, basierend auf dem Code.)\n",
    "# This cell performs the following task:\n",
    "# (Add specific annotations here based on the logic in the cell)\n",
    "\n",
    "G.add_edge(\"First Clown\", \"Second Clown\")"
   ]
  },
  {
   "cell_type": "code",
   "execution_count": null,
   "id": "f23962fa",
   "metadata": {},
   "outputs": [],
   "source": [
    "# ANNOTATION (auf Deutsch):\n",
    "# Dieser Code führt die folgende Aufgabe aus:\n",
    "# (Fügen Sie hier eine spezifische Erklärung hinzu, basierend auf dem Code.)\n",
    "# This cell performs the following task:\n",
    "# (Add specific annotations here based on the logic in the cell)\n",
    "\n",
    "G.add_edge(\"First Clown\", \"Hamlet\")"
   ]
  },
  {
   "cell_type": "code",
   "execution_count": null,
   "id": "26e313f0",
   "metadata": {},
   "outputs": [],
   "source": [
    "# ANNOTATION (auf Deutsch):\n",
    "# Dieser Code führt die folgende Aufgabe aus:\n",
    "# (Fügen Sie hier eine spezifische Erklärung hinzu, basierend auf dem Code.)\n",
    "# This cell performs the following task:\n",
    "# (Add specific annotations here based on the logic in the cell)\n",
    "\n",
    "G.add_edge(\"Priest\", \"Laertes\")"
   ]
  },
  {
   "cell_type": "code",
   "execution_count": null,
   "id": "c96fc934",
   "metadata": {},
   "outputs": [],
   "source": [
    "# ANNOTATION (auf Deutsch):\n",
    "# Dieser Code führt die folgende Aufgabe aus:\n",
    "# (Fügen Sie hier eine spezifische Erklärung hinzu, basierend auf dem Code.)\n",
    "# This cell performs the following task:\n",
    "# (Add specific annotations here based on the logic in the cell)\n",
    "\n",
    "G.add_edge(\"Osric\", \"Hamlet\")"
   ]
  },
  {
   "cell_type": "code",
   "execution_count": null,
   "id": "7c33e70f",
   "metadata": {},
   "outputs": [],
   "source": [
    "# ANNOTATION (auf Deutsch):\n",
    "# Dieser Code führt die folgende Aufgabe aus:\n",
    "# (Fügen Sie hier eine spezifische Erklärung hinzu, basierend auf dem Code.)\n",
    "# This cell performs the following task:\n",
    "# (Add specific annotations here based on the logic in the cell)\n",
    "\n",
    "G.add_edge(\"Lord\", \"Hamlet\")"
   ]
  },
  {
   "cell_type": "code",
   "execution_count": null,
   "id": "3ccaf212",
   "metadata": {},
   "outputs": [],
   "source": [
    "# ANNOTATION (auf Deutsch):\n",
    "# Dieser Code führt die folgende Aufgabe aus:\n",
    "# (Fügen Sie hier eine spezifische Erklärung hinzu, basierend auf dem Code.)\n",
    "# This cell performs the following task:\n",
    "# (Add specific annotations here based on the logic in the cell)\n",
    "\n",
    "G.add_edge(\"Fortinbras\", \"Horatio\")"
   ]
  },
  {
   "cell_type": "code",
   "execution_count": null,
   "id": "ddcf7153",
   "metadata": {},
   "outputs": [],
   "source": [
    "# ANNOTATION (auf Deutsch):\n",
    "# Dieser Code führt die folgende Aufgabe aus:\n",
    "# (Fügen Sie hier eine spezifische Erklärung hinzu, basierend auf dem Code.)\n",
    "# This cell performs the following task:\n",
    "# (Add specific annotations here based on the logic in the cell)\n",
    "\n",
    "G.add_edge(\"Fortinbras\", \"First Ambassator\")"
   ]
  },
  {
   "cell_type": "markdown",
   "id": "77a25b8c",
   "metadata": {},
   "source": [
    "# 5. Checking the structure of our network"
   ]
  },
  {
   "cell_type": "markdown",
   "id": "6811952b",
   "metadata": {},
   "source": [
    "Now let's have a look at the number of nodes that we have. Use the G.number_of_nodes() script and then transform G.nodes into a list."
   ]
  },
  {
   "cell_type": "code",
   "execution_count": null,
   "id": "3e6efe08",
   "metadata": {},
   "outputs": [],
   "source": [
    "# ANNOTATION (auf Deutsch):\n",
    "# Dieser Code führt die folgende Aufgabe aus:\n",
    "# (Fügen Sie hier eine spezifische Erklärung hinzu, basierend auf dem Code.)\n",
    "# This cell performs the following task:\n",
    "# (Add specific annotations here based on the logic in the cell)\n",
    "\n",
    "#Your code in here"
   ]
  },
  {
   "cell_type": "code",
   "execution_count": null,
   "id": "9e921dbd",
   "metadata": {},
   "outputs": [],
   "source": [
    "# ANNOTATION (auf Deutsch):\n",
    "# Dieser Code führt die folgende Aufgabe aus:\n",
    "# (Fügen Sie hier eine spezifische Erklärung hinzu, basierend auf dem Code.)\n",
    "# This cell performs the following task:\n",
    "# (Add specific annotations here based on the logic in the cell)\n",
    "\n",
    "#Solution\n",
    "G.number_of_nodes()"
   ]
  },
  {
   "cell_type": "code",
   "execution_count": null,
   "id": "b2d05feb",
   "metadata": {},
   "outputs": [],
   "source": [
    "# ANNOTATION (auf Deutsch):\n",
    "# Dieser Code führt die folgende Aufgabe aus:\n",
    "# (Fügen Sie hier eine spezifische Erklärung hinzu, basierend auf dem Code.)\n",
    "# This cell performs the following task:\n",
    "# (Add specific annotations here based on the logic in the cell)\n",
    "\n",
    "list(G.nodes)"
   ]
  },
  {
   "cell_type": "markdown",
   "id": "4b5c97aa",
   "metadata": {},
   "source": [
    "Let's do the same with the edges."
   ]
  },
  {
   "cell_type": "code",
   "execution_count": null,
   "id": "85afd5fb",
   "metadata": {},
   "outputs": [],
   "source": [
    "# ANNOTATION (auf Deutsch):\n",
    "# Dieser Code führt die folgende Aufgabe aus:\n",
    "# (Fügen Sie hier eine spezifische Erklärung hinzu, basierend auf dem Code.)\n",
    "# This cell performs the following task:\n",
    "# (Add specific annotations here based on the logic in the cell)\n",
    "\n",
    "#Your code in here"
   ]
  },
  {
   "cell_type": "code",
   "execution_count": null,
   "id": "98727b59",
   "metadata": {},
   "outputs": [],
   "source": [
    "# ANNOTATION (auf Deutsch):\n",
    "# Dieser Code führt die folgende Aufgabe aus:\n",
    "# (Fügen Sie hier eine spezifische Erklärung hinzu, basierend auf dem Code.)\n",
    "# This cell performs the following task:\n",
    "# (Add specific annotations here based on the logic in the cell)\n",
    "\n",
    "#Solution\n",
    "G.number_of_edges()"
   ]
  },
  {
   "cell_type": "code",
   "execution_count": null,
   "id": "c44f8e5d",
   "metadata": {},
   "outputs": [],
   "source": [
    "# ANNOTATION (auf Deutsch):\n",
    "# Dieser Code führt die folgende Aufgabe aus:\n",
    "# (Fügen Sie hier eine spezifische Erklärung hinzu, basierend auf dem Code.)\n",
    "# This cell performs the following task:\n",
    "# (Add specific annotations here based on the logic in the cell)\n",
    "\n",
    "list(G.edges)"
   ]
  },
  {
   "cell_type": "markdown",
   "id": "acf311d9",
   "metadata": {},
   "source": [
    "# 6. Network Visualization"
   ]
  },
  {
   "cell_type": "markdown",
   "id": "2a1b4298",
   "metadata": {},
   "source": [
    "And now let's have a look at our network!"
   ]
  },
  {
   "cell_type": "code",
   "execution_count": null,
   "id": "4ff7e5f4",
   "metadata": {},
   "outputs": [],
   "source": [
    "# ANNOTATION (auf Deutsch):\n",
    "# Dieser Code führt die folgende Aufgabe aus:\n",
    "# (Fügen Sie hier eine spezifische Erklärung hinzu, basierend auf dem Code.)\n",
    "# This cell performs the following task:\n",
    "# (Add specific annotations here based on the logic in the cell)\n",
    "\n",
    "#Your code in here"
   ]
  },
  {
   "cell_type": "code",
   "execution_count": null,
   "id": "759011ce",
   "metadata": {},
   "outputs": [],
   "source": [
    "# ANNOTATION (auf Deutsch):\n",
    "# Dieser Code führt die folgende Aufgabe aus:\n",
    "# (Fügen Sie hier eine spezifische Erklärung hinzu, basierend auf dem Code.)\n",
    "# This cell performs the following task:\n",
    "# (Add specific annotations here based on the logic in the cell)\n",
    "\n",
    "#Solution\n",
    "\n",
    "import matplotlib.pyplot as plt"
   ]
  },
  {
   "cell_type": "code",
   "execution_count": null,
   "id": "e7cf2e77",
   "metadata": {},
   "outputs": [],
   "source": [
    "# ANNOTATION (auf Deutsch):\n",
    "# Dieser Code führt die folgende Aufgabe aus:\n",
    "# (Fügen Sie hier eine spezifische Erklärung hinzu, basierend auf dem Code.)\n",
    "# This cell performs the following task:\n",
    "# (Add specific annotations here based on the logic in the cell)\n",
    "\n",
    "plt.rcParams[\"figure.figsize\"] = (20, 20) #to change the size of the figure"
   ]
  },
  {
   "cell_type": "code",
   "execution_count": null,
   "id": "dc785e30",
   "metadata": {},
   "outputs": [],
   "source": [
    "# ANNOTATION (auf Deutsch):\n",
    "# Dieser Code führt die folgende Aufgabe aus:\n",
    "# (Fügen Sie hier eine spezifische Erklärung hinzu, basierend auf dem Code.)\n",
    "# This cell performs the following task:\n",
    "# (Add specific annotations here based on the logic in the cell)\n",
    "\n",
    "nx.draw(G, with_labels = True, node_size = 1000) #to change the size of our nodes\n",
    "plt.show()"
   ]
  },
  {
   "cell_type": "markdown",
   "id": "c9f4694d",
   "metadata": {},
   "source": [
    "# 7. Network metrics"
   ]
  },
  {
   "cell_type": "markdown",
   "id": "19022d46",
   "metadata": {},
   "source": [
    "I looks like the tree characters that appear in the center of the network are Kat, Patrick and Joey. Let's try to discover who is the **hub**: the node of the network with the higher number of connections."
   ]
  },
  {
   "cell_type": "markdown",
   "id": "d6affc3c",
   "metadata": {},
   "source": [
    "1. Calculating **Network Degree**: who has more connections?"
   ]
  },
  {
   "cell_type": "code",
   "execution_count": null,
   "id": "70f70798",
   "metadata": {},
   "outputs": [],
   "source": [
    "# ANNOTATION (auf Deutsch):\n",
    "# Dieser Code führt die folgende Aufgabe aus:\n",
    "# (Fügen Sie hier eine spezifische Erklärung hinzu, basierend auf dem Code.)\n",
    "# This cell performs the following task:\n",
    "# (Add specific annotations here based on the logic in the cell)\n",
    "\n",
    "#Your code in here"
   ]
  },
  {
   "cell_type": "code",
   "execution_count": null,
   "id": "28d3113f",
   "metadata": {},
   "outputs": [],
   "source": [
    "# ANNOTATION (auf Deutsch):\n",
    "# Dieser Code führt die folgende Aufgabe aus:\n",
    "# (Fügen Sie hier eine spezifische Erklärung hinzu, basierend auf dem Code.)\n",
    "# This cell performs the following task:\n",
    "# (Add specific annotations here based on the logic in the cell)\n",
    "\n",
    "#Solution\n",
    "\n",
    "nx.degree(G)"
   ]
  },
  {
   "cell_type": "code",
   "execution_count": null,
   "id": "f417c9a3",
   "metadata": {},
   "outputs": [],
   "source": [
    "# ANNOTATION (auf Deutsch):\n",
    "# Dieser Code führt die folgende Aufgabe aus:\n",
    "# (Fügen Sie hier eine spezifische Erklärung hinzu, basierend auf dem Code.)\n",
    "# This cell performs the following task:\n",
    "# (Add specific annotations here based on the logic in the cell)\n",
    "\n",
    "degrees = list(sorted(nx.degree(G), key=lambda x: x[1], reverse=True))"
   ]
  },
  {
   "cell_type": "code",
   "execution_count": null,
   "id": "35cd7055",
   "metadata": {},
   "outputs": [],
   "source": [
    "# ANNOTATION (auf Deutsch):\n",
    "# Dieser Code führt die folgende Aufgabe aus:\n",
    "# (Fügen Sie hier eine spezifische Erklärung hinzu, basierend auf dem Code.)\n",
    "# This cell performs the following task:\n",
    "# (Add specific annotations here based on the logic in the cell)\n",
    "\n",
    "degrees"
   ]
  },
  {
   "cell_type": "markdown",
   "id": "2b9925f3",
   "metadata": {},
   "source": [
    "2. Calculating **Betweenes Centrality Scores**: who is the person that connects more nodes in the network?"
   ]
  },
  {
   "cell_type": "code",
   "execution_count": null,
   "id": "735312b9",
   "metadata": {},
   "outputs": [],
   "source": [
    "# ANNOTATION (auf Deutsch):\n",
    "# Dieser Code führt die folgende Aufgabe aus:\n",
    "# (Fügen Sie hier eine spezifische Erklärung hinzu, basierend auf dem Code.)\n",
    "# This cell performs the following task:\n",
    "# (Add specific annotations here based on the logic in the cell)\n",
    "\n",
    "#Your code in here"
   ]
  },
  {
   "cell_type": "code",
   "execution_count": null,
   "id": "008ba8f1",
   "metadata": {},
   "outputs": [],
   "source": [
    "# ANNOTATION (auf Deutsch):\n",
    "# Dieser Code führt die folgende Aufgabe aus:\n",
    "# (Fügen Sie hier eine spezifische Erklärung hinzu, basierend auf dem Code.)\n",
    "# This cell performs the following task:\n",
    "# (Add specific annotations here based on the logic in the cell)\n",
    "\n",
    "#Solution\n",
    "\n",
    "betweenness = nx.betweenness_centrality(G)"
   ]
  },
  {
   "cell_type": "code",
   "execution_count": null,
   "id": "e84f5873",
   "metadata": {},
   "outputs": [],
   "source": [
    "# ANNOTATION (auf Deutsch):\n",
    "# Dieser Code führt die folgende Aufgabe aus:\n",
    "# (Fügen Sie hier eine spezifische Erklärung hinzu, basierend auf dem Code.)\n",
    "# This cell performs the following task:\n",
    "# (Add specific annotations here based on the logic in the cell)\n",
    "\n",
    "betweenness"
   ]
  },
  {
   "cell_type": "code",
   "execution_count": null,
   "id": "131b1024",
   "metadata": {},
   "outputs": [],
   "source": [
    "# ANNOTATION (auf Deutsch):\n",
    "# Dieser Code führt die folgende Aufgabe aus:\n",
    "# (Fügen Sie hier eine spezifische Erklärung hinzu, basierend auf dem Code.)\n",
    "# This cell performs the following task:\n",
    "# (Add specific annotations here based on the logic in the cell)\n",
    "\n",
    "betweenness = sorted(betweenness.items(), key=lambda x: x[1], reverse=True)"
   ]
  },
  {
   "cell_type": "code",
   "execution_count": null,
   "id": "a4f8525a",
   "metadata": {},
   "outputs": [],
   "source": [
    "# ANNOTATION (auf Deutsch):\n",
    "# Dieser Code führt die folgende Aufgabe aus:\n",
    "# (Fügen Sie hier eine spezifische Erklärung hinzu, basierend auf dem Code.)\n",
    "# This cell performs the following task:\n",
    "# (Add specific annotations here based on the logic in the cell)\n",
    "\n",
    "betweenness"
   ]
  },
  {
   "cell_type": "markdown",
   "id": "83c7c71d",
   "metadata": {},
   "source": [
    "3. **Communities**: who forms different communities within this network?"
   ]
  },
  {
   "cell_type": "code",
   "execution_count": null,
   "id": "d73c1861",
   "metadata": {},
   "outputs": [],
   "source": [
    "# ANNOTATION (auf Deutsch):\n",
    "# Dieser Code führt die folgende Aufgabe aus:\n",
    "# (Fügen Sie hier eine spezifische Erklärung hinzu, basierend auf dem Code.)\n",
    "# This cell performs the following task:\n",
    "# (Add specific annotations here based on the logic in the cell)\n",
    "\n",
    "#Your code in here"
   ]
  },
  {
   "cell_type": "code",
   "execution_count": null,
   "id": "53fbec64",
   "metadata": {},
   "outputs": [],
   "source": [
    "# ANNOTATION (auf Deutsch):\n",
    "# Dieser Code führt die folgende Aufgabe aus:\n",
    "# (Fügen Sie hier eine spezifische Erklärung hinzu, basierend auf dem Code.)\n",
    "# This cell performs the following task:\n",
    "# (Add specific annotations here based on the logic in the cell)\n",
    "\n",
    "#Solution\n",
    "from networkx.algorithms import community"
   ]
  },
  {
   "cell_type": "code",
   "execution_count": null,
   "id": "5820398d",
   "metadata": {},
   "outputs": [],
   "source": [
    "# ANNOTATION (auf Deutsch):\n",
    "# Dieser Code führt die folgende Aufgabe aus:\n",
    "# (Fügen Sie hier eine spezifische Erklärung hinzu, basierend auf dem Code.)\n",
    "# This cell performs the following task:\n",
    "# (Add specific annotations here based on the logic in the cell)\n",
    "\n",
    "communities = community.greedy_modularity_communities(G)"
   ]
  },
  {
   "cell_type": "code",
   "execution_count": null,
   "id": "b422a881",
   "metadata": {},
   "outputs": [],
   "source": [
    "# ANNOTATION (auf Deutsch):\n",
    "# Dieser Code führt die folgende Aufgabe aus:\n",
    "# (Fügen Sie hier eine spezifische Erklärung hinzu, basierend auf dem Code.)\n",
    "# This cell performs the following task:\n",
    "# (Add specific annotations here based on the logic in the cell)\n",
    "\n",
    "communities"
   ]
  },
  {
   "cell_type": "markdown",
   "id": "c4aefb4d",
   "metadata": {},
   "source": [
    "And then we can check whether there are some narrative sub-groups that tend to interact more with each other, and we do indeed observe four different communities."
   ]
  },
  {
   "cell_type": "markdown",
   "id": "d5ddd370",
   "metadata": {},
   "source": [
    "# 8. Saving up our data"
   ]
  },
  {
   "cell_type": "markdown",
   "id": "f5ca00c6",
   "metadata": {},
   "source": [
    "Let's transform our network into a Pandas Dataframe. We can use nx.to_pandas_adjacency() to do this. It will return a Document Term Matrix where each node is assigned 1 point if there is an interaction between two characters, and 0 points if there is no interaction."
   ]
  },
  {
   "cell_type": "code",
   "execution_count": null,
   "id": "2adefac7",
   "metadata": {},
   "outputs": [],
   "source": [
    "# ANNOTATION (auf Deutsch):\n",
    "# Dieser Code führt die folgende Aufgabe aus:\n",
    "# (Fügen Sie hier eine spezifische Erklärung hinzu, basierend auf dem Code.)\n",
    "# This cell performs the following task:\n",
    "# (Add specific annotations here based on the logic in the cell)\n",
    "\n",
    "#Your code in here"
   ]
  },
  {
   "cell_type": "code",
   "execution_count": null,
   "id": "9a67c4f0",
   "metadata": {},
   "outputs": [],
   "source": [
    "# ANNOTATION (auf Deutsch):\n",
    "# Dieser Code führt die folgende Aufgabe aus:\n",
    "# (Fügen Sie hier eine spezifische Erklärung hinzu, basierend auf dem Code.)\n",
    "# This cell performs the following task:\n",
    "# (Add specific annotations here based on the logic in the cell)\n",
    "\n",
    "#Solution\n",
    "\n",
    "df_hamlet = nx.to_pandas_adjacency(G)"
   ]
  },
  {
   "cell_type": "code",
   "execution_count": null,
   "id": "4a36cb4d",
   "metadata": {},
   "outputs": [],
   "source": [
    "# ANNOTATION (auf Deutsch):\n",
    "# Dieser Code führt die folgende Aufgabe aus:\n",
    "# (Fügen Sie hier eine spezifische Erklärung hinzu, basierend auf dem Code.)\n",
    "# This cell performs the following task:\n",
    "# (Add specific annotations here based on the logic in the cell)\n",
    "\n",
    "df_hamlet"
   ]
  },
  {
   "cell_type": "code",
   "execution_count": null,
   "id": "8e1d25b1",
   "metadata": {},
   "outputs": [],
   "source": [
    "# ANNOTATION (auf Deutsch):\n",
    "# Dieser Code führt die folgende Aufgabe aus:\n",
    "# (Fügen Sie hier eine spezifische Erklärung hinzu, basierend auf dem Code.)\n",
    "# This cell performs the following task:\n",
    "# (Add specific annotations here based on the logic in the cell)\n",
    "\n",
    "df_hamlet.to_csv(\"hamlet.csv\")"
   ]
  },
  {
   "cell_type": "markdown",
   "id": "2424c84f",
   "metadata": {},
   "source": [
    "### Content from: Ego Centric Networks. Exercise.ipynb"
   ]
  },
  {
   "cell_type": "markdown",
   "id": "0598ab06",
   "metadata": {},
   "source": [
    "#### Annotation:\n",
    "This section includes the content and logic from the original notebook. Annotations have been added to explain the purpose and function of each code cell."
   ]
  },
  {
   "cell_type": "markdown",
   "id": "c59bb143",
   "metadata": {},
   "source": [
    "# Ego-Centric Networks Exercise"
   ]
  },
  {
   "cell_type": "markdown",
   "id": "486a3cd9",
   "metadata": {},
   "source": [
    "Let's practice Ego-Centric Networks using Hamlet! Let's zoom in into the Ego-Centric Network of Hamlet himself."
   ]
  },
  {
   "cell_type": "markdown",
   "id": "eacf1057",
   "metadata": {},
   "source": [
    "# 1. We import the libraries"
   ]
  },
  {
   "cell_type": "code",
   "execution_count": null,
   "id": "1bcf102c",
   "metadata": {},
   "outputs": [],
   "source": [
    "# ANNOTATION (auf Deutsch):\n",
    "# Dieser Code führt die folgende Aufgabe aus:\n",
    "# (Fügen Sie hier eine spezifische Erklärung hinzu, basierend auf dem Code.)\n",
    "# This cell performs the following task:\n",
    "# (Add specific annotations here based on the logic in the cell)\n",
    "\n",
    "#Your code in here"
   ]
  },
  {
   "cell_type": "code",
   "execution_count": null,
   "id": "013b61a2",
   "metadata": {},
   "outputs": [],
   "source": [
    "# ANNOTATION (auf Deutsch):\n",
    "# Dieser Code führt die folgende Aufgabe aus:\n",
    "# (Fügen Sie hier eine spezifische Erklärung hinzu, basierend auf dem Code.)\n",
    "# This cell performs the following task:\n",
    "# (Add specific annotations here based on the logic in the cell)\n",
    "\n",
    "#Solution\n",
    "\n",
    "import pandas as pd\n",
    "import networkx as nx\n",
    "import matplotlib.pyplot as plt"
   ]
  },
  {
   "cell_type": "markdown",
   "id": "5fc7e80b",
   "metadata": {},
   "source": [
    "And let's not forget to creat G"
   ]
  },
  {
   "cell_type": "code",
   "execution_count": null,
   "id": "acf8cb96",
   "metadata": {},
   "outputs": [],
   "source": [
    "# ANNOTATION (auf Deutsch):\n",
    "# Dieser Code führt die folgende Aufgabe aus:\n",
    "# (Fügen Sie hier eine spezifische Erklärung hinzu, basierend auf dem Code.)\n",
    "# This cell performs the following task:\n",
    "# (Add specific annotations here based on the logic in the cell)\n",
    "\n",
    "#Your code in here"
   ]
  },
  {
   "cell_type": "code",
   "execution_count": null,
   "id": "788850ec",
   "metadata": {},
   "outputs": [],
   "source": [
    "# ANNOTATION (auf Deutsch):\n",
    "# Dieser Code führt die folgende Aufgabe aus:\n",
    "# (Fügen Sie hier eine spezifische Erklärung hinzu, basierend auf dem Code.)\n",
    "# This cell performs the following task:\n",
    "# (Add specific annotations here based on the logic in the cell)\n",
    "\n",
    "#Solution\n",
    "\n",
    "G = nx.Graph()"
   ]
  },
  {
   "cell_type": "markdown",
   "id": "2eb35f11",
   "metadata": {},
   "source": [
    "Reminder: how to clear our network if we need to"
   ]
  },
  {
   "cell_type": "code",
   "execution_count": null,
   "id": "81cac2c1",
   "metadata": {},
   "outputs": [],
   "source": [
    "# ANNOTATION (auf Deutsch):\n",
    "# Dieser Code führt die folgende Aufgabe aus:\n",
    "# (Fügen Sie hier eine spezifische Erklärung hinzu, basierend auf dem Code.)\n",
    "# This cell performs the following task:\n",
    "# (Add specific annotations here based on the logic in the cell)\n",
    "\n",
    "G.clear() "
   ]
  },
  {
   "cell_type": "markdown",
   "id": "1072bba5",
   "metadata": {},
   "source": [
    "# 2. Hamlet"
   ]
  },
  {
   "cell_type": "markdown",
   "id": "d10b647d",
   "metadata": {},
   "source": [
    "Book in hand let's count how many times and with whom Hamlet talks to (we can re-use our previous Exercise 2 weighted social network script)"
   ]
  },
  {
   "cell_type": "markdown",
   "id": "bb15094c",
   "metadata": {},
   "source": [
    "### Nodes"
   ]
  },
  {
   "cell_type": "code",
   "execution_count": null,
   "id": "16d13cff",
   "metadata": {},
   "outputs": [],
   "source": [
    "# ANNOTATION (auf Deutsch):\n",
    "# Dieser Code führt die folgende Aufgabe aus:\n",
    "# (Fügen Sie hier eine spezifische Erklärung hinzu, basierend auf dem Code.)\n",
    "# This cell performs the following task:\n",
    "# (Add specific annotations here based on the logic in the cell)\n",
    "\n",
    "#Your code in here"
   ]
  },
  {
   "cell_type": "code",
   "execution_count": null,
   "id": "034103f9",
   "metadata": {},
   "outputs": [],
   "source": [
    "# ANNOTATION (auf Deutsch):\n",
    "# Dieser Code führt die folgende Aufgabe aus:\n",
    "# (Fügen Sie hier eine spezifische Erklärung hinzu, basierend auf dem Code.)\n",
    "# This cell performs the following task:\n",
    "# (Add specific annotations here based on the logic in the cell)\n",
    "\n",
    "#Solution\n",
    "\n",
    "G.add_node(\"King\")"
   ]
  },
  {
   "cell_type": "code",
   "execution_count": null,
   "id": "56ce4d38",
   "metadata": {},
   "outputs": [],
   "source": [
    "# ANNOTATION (auf Deutsch):\n",
    "# Dieser Code führt die folgende Aufgabe aus:\n",
    "# (Fügen Sie hier eine spezifische Erklärung hinzu, basierend auf dem Code.)\n",
    "# This cell performs the following task:\n",
    "# (Add specific annotations here based on the logic in the cell)\n",
    "\n",
    "G.add_node(\"Queen\")"
   ]
  },
  {
   "cell_type": "code",
   "execution_count": null,
   "id": "86765bee",
   "metadata": {},
   "outputs": [],
   "source": [
    "# ANNOTATION (auf Deutsch):\n",
    "# Dieser Code führt die folgende Aufgabe aus:\n",
    "# (Fügen Sie hier eine spezifische Erklärung hinzu, basierend auf dem Code.)\n",
    "# This cell performs the following task:\n",
    "# (Add specific annotations here based on the logic in the cell)\n",
    "\n",
    "G.add_node(\"Horatio\") "
   ]
  },
  {
   "cell_type": "code",
   "execution_count": null,
   "id": "58ffa78c",
   "metadata": {},
   "outputs": [],
   "source": [
    "# ANNOTATION (auf Deutsch):\n",
    "# Dieser Code führt die folgende Aufgabe aus:\n",
    "# (Fügen Sie hier eine spezifische Erklärung hinzu, basierend auf dem Code.)\n",
    "# This cell performs the following task:\n",
    "# (Add specific annotations here based on the logic in the cell)\n",
    "\n",
    "G.add_node(\"Marcellus\") "
   ]
  },
  {
   "cell_type": "code",
   "execution_count": null,
   "id": "5e189f83",
   "metadata": {},
   "outputs": [],
   "source": [
    "# ANNOTATION (auf Deutsch):\n",
    "# Dieser Code führt die folgende Aufgabe aus:\n",
    "# (Fügen Sie hier eine spezifische Erklärung hinzu, basierend auf dem Code.)\n",
    "# This cell performs the following task:\n",
    "# (Add specific annotations here based on the logic in the cell)\n",
    "\n",
    "G.add_node(\"Ghost\") "
   ]
  },
  {
   "cell_type": "code",
   "execution_count": null,
   "id": "8a197226",
   "metadata": {},
   "outputs": [],
   "source": [
    "# ANNOTATION (auf Deutsch):\n",
    "# Dieser Code führt die folgende Aufgabe aus:\n",
    "# (Fügen Sie hier eine spezifische Erklärung hinzu, basierend auf dem Code.)\n",
    "# This cell performs the following task:\n",
    "# (Add specific annotations here based on the logic in the cell)\n",
    "\n",
    "G.add_node(\"Polonius\") "
   ]
  },
  {
   "cell_type": "code",
   "execution_count": null,
   "id": "7a76ffa1",
   "metadata": {},
   "outputs": [],
   "source": [
    "# ANNOTATION (auf Deutsch):\n",
    "# Dieser Code führt die folgende Aufgabe aus:\n",
    "# (Fügen Sie hier eine spezifische Erklärung hinzu, basierend auf dem Code.)\n",
    "# This cell performs the following task:\n",
    "# (Add specific annotations here based on the logic in the cell)\n",
    "\n",
    "G.add_node(\"Guildenstern\") "
   ]
  },
  {
   "cell_type": "code",
   "execution_count": null,
   "id": "d586b15b",
   "metadata": {},
   "outputs": [],
   "source": [
    "# ANNOTATION (auf Deutsch):\n",
    "# Dieser Code führt die folgende Aufgabe aus:\n",
    "# (Fügen Sie hier eine spezifische Erklärung hinzu, basierend auf dem Code.)\n",
    "# This cell performs the following task:\n",
    "# (Add specific annotations here based on the logic in the cell)\n",
    "\n",
    "G.add_node(\"Rosencrantz\") "
   ]
  },
  {
   "cell_type": "code",
   "execution_count": null,
   "id": "630623cc",
   "metadata": {},
   "outputs": [],
   "source": [
    "# ANNOTATION (auf Deutsch):\n",
    "# Dieser Code führt die folgende Aufgabe aus:\n",
    "# (Fügen Sie hier eine spezifische Erklärung hinzu, basierend auf dem Code.)\n",
    "# This cell performs the following task:\n",
    "# (Add specific annotations here based on the logic in the cell)\n",
    "\n",
    "G.add_node(\"First Player\") "
   ]
  },
  {
   "cell_type": "code",
   "execution_count": null,
   "id": "472527d5",
   "metadata": {},
   "outputs": [],
   "source": [
    "# ANNOTATION (auf Deutsch):\n",
    "# Dieser Code führt die folgende Aufgabe aus:\n",
    "# (Fügen Sie hier eine spezifische Erklärung hinzu, basierend auf dem Code.)\n",
    "# This cell performs the following task:\n",
    "# (Add specific annotations here based on the logic in the cell)\n",
    "\n",
    "G.add_node(\"Ophelia\") "
   ]
  },
  {
   "cell_type": "code",
   "execution_count": null,
   "id": "dbc49b53",
   "metadata": {},
   "outputs": [],
   "source": [
    "# ANNOTATION (auf Deutsch):\n",
    "# Dieser Code führt die folgende Aufgabe aus:\n",
    "# (Fügen Sie hier eine spezifische Erklärung hinzu, basierend auf dem Code.)\n",
    "# This cell performs the following task:\n",
    "# (Add specific annotations here based on the logic in the cell)\n",
    "\n",
    "G.add_node(\"Captain\") "
   ]
  },
  {
   "cell_type": "code",
   "execution_count": null,
   "id": "9d656d50",
   "metadata": {},
   "outputs": [],
   "source": [
    "# ANNOTATION (auf Deutsch):\n",
    "# Dieser Code führt die folgende Aufgabe aus:\n",
    "# (Fügen Sie hier eine spezifische Erklärung hinzu, basierend auf dem Code.)\n",
    "# This cell performs the following task:\n",
    "# (Add specific annotations here based on the logic in the cell)\n",
    "\n",
    "G.add_node(\"First Clown\") "
   ]
  },
  {
   "cell_type": "code",
   "execution_count": null,
   "id": "60bb4a5d",
   "metadata": {},
   "outputs": [],
   "source": [
    "# ANNOTATION (auf Deutsch):\n",
    "# Dieser Code führt die folgende Aufgabe aus:\n",
    "# (Fügen Sie hier eine spezifische Erklärung hinzu, basierend auf dem Code.)\n",
    "# This cell performs the following task:\n",
    "# (Add specific annotations here based on the logic in the cell)\n",
    "\n",
    "G.add_node(\"Laertes\") "
   ]
  },
  {
   "cell_type": "code",
   "execution_count": null,
   "id": "2a6c98e9",
   "metadata": {},
   "outputs": [],
   "source": [
    "# ANNOTATION (auf Deutsch):\n",
    "# Dieser Code führt die folgende Aufgabe aus:\n",
    "# (Fügen Sie hier eine spezifische Erklärung hinzu, basierend auf dem Code.)\n",
    "# This cell performs the following task:\n",
    "# (Add specific annotations here based on the logic in the cell)\n",
    "\n",
    "G.add_node(\"Osric\") "
   ]
  },
  {
   "cell_type": "code",
   "execution_count": null,
   "id": "acb0778a",
   "metadata": {},
   "outputs": [],
   "source": [
    "# ANNOTATION (auf Deutsch):\n",
    "# Dieser Code führt die folgende Aufgabe aus:\n",
    "# (Fügen Sie hier eine spezifische Erklärung hinzu, basierend auf dem Code.)\n",
    "# This cell performs the following task:\n",
    "# (Add specific annotations here based on the logic in the cell)\n",
    "\n",
    "G.add_node(\"Lord\") "
   ]
  },
  {
   "cell_type": "markdown",
   "id": "e19f1bc3",
   "metadata": {},
   "source": [
    "# Edges"
   ]
  },
  {
   "cell_type": "code",
   "execution_count": null,
   "id": "76ee194e",
   "metadata": {},
   "outputs": [],
   "source": [
    "# ANNOTATION (auf Deutsch):\n",
    "# Dieser Code führt die folgende Aufgabe aus:\n",
    "# (Fügen Sie hier eine spezifische Erklärung hinzu, basierend auf dem Code.)\n",
    "# This cell performs the following task:\n",
    "# (Add specific annotations here based on the logic in the cell)\n",
    "\n",
    "#Your code in here"
   ]
  },
  {
   "cell_type": "code",
   "execution_count": null,
   "id": "8805e595",
   "metadata": {},
   "outputs": [],
   "source": [
    "# ANNOTATION (auf Deutsch):\n",
    "# Dieser Code führt die folgende Aufgabe aus:\n",
    "# (Fügen Sie hier eine spezifische Erklärung hinzu, basierend auf dem Code.)\n",
    "# This cell performs the following task:\n",
    "# (Add specific annotations here based on the logic in the cell)\n",
    "\n",
    "#Solution\n",
    "\n",
    "G.add_edge(\"King\", \"Hamlet\", weight = 60) "
   ]
  },
  {
   "cell_type": "code",
   "execution_count": null,
   "id": "045d95b5",
   "metadata": {},
   "outputs": [],
   "source": [
    "# ANNOTATION (auf Deutsch):\n",
    "# Dieser Code führt die folgende Aufgabe aus:\n",
    "# (Fügen Sie hier eine spezifische Erklärung hinzu, basierend auf dem Code.)\n",
    "# This cell performs the following task:\n",
    "# (Add specific annotations here based on the logic in the cell)\n",
    "\n",
    "G.add_edge(\"Queen\", \"Hamlet\", weight = 64) "
   ]
  },
  {
   "cell_type": "code",
   "execution_count": null,
   "id": "3a9e869c",
   "metadata": {},
   "outputs": [],
   "source": [
    "# ANNOTATION (auf Deutsch):\n",
    "# Dieser Code führt die folgende Aufgabe aus:\n",
    "# (Fügen Sie hier eine spezifische Erklärung hinzu, basierend auf dem Code.)\n",
    "# This cell performs the following task:\n",
    "# (Add specific annotations here based on the logic in the cell)\n",
    "\n",
    "G.add_edge(\"Horatio\", \"Hamlet\", weight = 150) "
   ]
  },
  {
   "cell_type": "code",
   "execution_count": null,
   "id": "d4fef770",
   "metadata": {},
   "outputs": [],
   "source": [
    "# ANNOTATION (auf Deutsch):\n",
    "# Dieser Code führt die folgende Aufgabe aus:\n",
    "# (Fügen Sie hier eine spezifische Erklärung hinzu, basierend auf dem Code.)\n",
    "# This cell performs the following task:\n",
    "# (Add specific annotations here based on the logic in the cell)\n",
    "\n",
    "G.add_edge(\"Hamlet\", \"Marcellus\", weight = 12) "
   ]
  },
  {
   "cell_type": "code",
   "execution_count": null,
   "id": "574a985e",
   "metadata": {},
   "outputs": [],
   "source": [
    "# ANNOTATION (auf Deutsch):\n",
    "# Dieser Code führt die folgende Aufgabe aus:\n",
    "# (Fügen Sie hier eine spezifische Erklärung hinzu, basierend auf dem Code.)\n",
    "# This cell performs the following task:\n",
    "# (Add specific annotations here based on the logic in the cell)\n",
    "\n",
    "G.add_edge(\"Hamlet\", \"Ghost\", weight = 27) "
   ]
  },
  {
   "cell_type": "code",
   "execution_count": null,
   "id": "fc22bc14",
   "metadata": {},
   "outputs": [],
   "source": [
    "# ANNOTATION (auf Deutsch):\n",
    "# Dieser Code führt die folgende Aufgabe aus:\n",
    "# (Fügen Sie hier eine spezifische Erklärung hinzu, basierend auf dem Code.)\n",
    "# This cell performs the following task:\n",
    "# (Add specific annotations here based on the logic in the cell)\n",
    "\n",
    "G.add_edge(\"Hamlet\", \"Polonius\", weight = 71) "
   ]
  },
  {
   "cell_type": "code",
   "execution_count": null,
   "id": "64f1dc02",
   "metadata": {},
   "outputs": [],
   "source": [
    "# ANNOTATION (auf Deutsch):\n",
    "# Dieser Code führt die folgende Aufgabe aus:\n",
    "# (Fügen Sie hier eine spezifische Erklärung hinzu, basierend auf dem Code.)\n",
    "# This cell performs the following task:\n",
    "# (Add specific annotations here based on the logic in the cell)\n",
    "\n",
    "G.add_edge(\"Guildenstern\", \"Hamlet\", weight = 52)"
   ]
  },
  {
   "cell_type": "code",
   "execution_count": null,
   "id": "f49c3bd0",
   "metadata": {},
   "outputs": [],
   "source": [
    "# ANNOTATION (auf Deutsch):\n",
    "# Dieser Code führt die folgende Aufgabe aus:\n",
    "# (Fügen Sie hier eine spezifische Erklärung hinzu, basierend auf dem Code.)\n",
    "# This cell performs the following task:\n",
    "# (Add specific annotations here based on the logic in the cell)\n",
    "\n",
    "G.add_edge(\"Hamlet\", \"Rosencrantz\", weight = 58)"
   ]
  },
  {
   "cell_type": "code",
   "execution_count": null,
   "id": "a4819423",
   "metadata": {},
   "outputs": [],
   "source": [
    "# ANNOTATION (auf Deutsch):\n",
    "# Dieser Code führt die folgende Aufgabe aus:\n",
    "# (Fügen Sie hier eine spezifische Erklärung hinzu, basierend auf dem Code.)\n",
    "# This cell performs the following task:\n",
    "# (Add specific annotations here based on the logic in the cell)\n",
    "\n",
    "G.add_edge(\"First Player\", \"Hamlet\", weight = 12)"
   ]
  },
  {
   "cell_type": "code",
   "execution_count": null,
   "id": "5417fcd7",
   "metadata": {},
   "outputs": [],
   "source": [
    "# ANNOTATION (auf Deutsch):\n",
    "# Dieser Code führt die folgende Aufgabe aus:\n",
    "# (Fügen Sie hier eine spezifische Erklärung hinzu, basierend auf dem Code.)\n",
    "# This cell performs the following task:\n",
    "# (Add specific annotations here based on the logic in the cell)\n",
    "\n",
    "G.add_edge(\"Ophelia\", \"Hamlet\", weight = 56)"
   ]
  },
  {
   "cell_type": "code",
   "execution_count": null,
   "id": "29a67f0a",
   "metadata": {},
   "outputs": [],
   "source": [
    "# ANNOTATION (auf Deutsch):\n",
    "# Dieser Code führt die folgende Aufgabe aus:\n",
    "# (Fügen Sie hier eine spezifische Erklärung hinzu, basierend auf dem Code.)\n",
    "# This cell performs the following task:\n",
    "# (Add specific annotations here based on the logic in the cell)\n",
    "\n",
    "G.add_edge(\"Captain\", \"Hamlet\", weight = 12)"
   ]
  },
  {
   "cell_type": "code",
   "execution_count": null,
   "id": "68ddedcf",
   "metadata": {},
   "outputs": [],
   "source": [
    "# ANNOTATION (auf Deutsch):\n",
    "# Dieser Code führt die folgende Aufgabe aus:\n",
    "# (Fügen Sie hier eine spezifische Erklärung hinzu, basierend auf dem Code.)\n",
    "# This cell performs the following task:\n",
    "# (Add specific annotations here based on the logic in the cell)\n",
    "\n",
    "G.add_edge(\"First Clown\", \"Hamlet\", weight = 38)"
   ]
  },
  {
   "cell_type": "code",
   "execution_count": null,
   "id": "5cbbe442",
   "metadata": {},
   "outputs": [],
   "source": [
    "# ANNOTATION (auf Deutsch):\n",
    "# Dieser Code führt die folgende Aufgabe aus:\n",
    "# (Fügen Sie hier eine spezifische Erklärung hinzu, basierend auf dem Code.)\n",
    "# This cell performs the following task:\n",
    "# (Add specific annotations here based on the logic in the cell)\n",
    "\n",
    "G.add_edge(\"Hamlet\", \"Laertes\", weight = 10)"
   ]
  },
  {
   "cell_type": "code",
   "execution_count": null,
   "id": "c448cf3e",
   "metadata": {},
   "outputs": [],
   "source": [
    "# ANNOTATION (auf Deutsch):\n",
    "# Dieser Code führt die folgende Aufgabe aus:\n",
    "# (Fügen Sie hier eine spezifische Erklärung hinzu, basierend auf dem Code.)\n",
    "# This cell performs the following task:\n",
    "# (Add specific annotations here based on the logic in the cell)\n",
    "\n",
    "G.add_edge(\"Osric\", \"Hamlet\", weight = 34)"
   ]
  },
  {
   "cell_type": "code",
   "execution_count": null,
   "id": "c0e65bd7",
   "metadata": {},
   "outputs": [],
   "source": [
    "# ANNOTATION (auf Deutsch):\n",
    "# Dieser Code führt die folgende Aufgabe aus:\n",
    "# (Fügen Sie hier eine spezifische Erklärung hinzu, basierend auf dem Code.)\n",
    "# This cell performs the following task:\n",
    "# (Add specific annotations here based on the logic in the cell)\n",
    "\n",
    "G.add_edge(\"Lord\", \"Hamlet\", weight = 6)"
   ]
  },
  {
   "cell_type": "markdown",
   "id": "f1e71bda",
   "metadata": {},
   "source": [
    "# 3. We check the structure of our Network"
   ]
  },
  {
   "cell_type": "markdown",
   "id": "1328f53a",
   "metadata": {},
   "source": [
    "Let's check the number of nodes"
   ]
  },
  {
   "cell_type": "code",
   "execution_count": null,
   "id": "1bbbc036",
   "metadata": {},
   "outputs": [],
   "source": [
    "# ANNOTATION (auf Deutsch):\n",
    "# Dieser Code führt die folgende Aufgabe aus:\n",
    "# (Fügen Sie hier eine spezifische Erklärung hinzu, basierend auf dem Code.)\n",
    "# This cell performs the following task:\n",
    "# (Add specific annotations here based on the logic in the cell)\n",
    "\n",
    "#Your code in here"
   ]
  },
  {
   "cell_type": "code",
   "execution_count": null,
   "id": "0091b9ce",
   "metadata": {},
   "outputs": [],
   "source": [
    "# ANNOTATION (auf Deutsch):\n",
    "# Dieser Code führt die folgende Aufgabe aus:\n",
    "# (Fügen Sie hier eine spezifische Erklärung hinzu, basierend auf dem Code.)\n",
    "# This cell performs the following task:\n",
    "# (Add specific annotations here based on the logic in the cell)\n",
    "\n",
    "#Solution\n",
    "\n",
    "G.number_of_nodes()"
   ]
  },
  {
   "cell_type": "markdown",
   "id": "e7dddc54",
   "metadata": {},
   "source": [
    "And now let's check the number of edges"
   ]
  },
  {
   "cell_type": "code",
   "execution_count": null,
   "id": "a5f1a5d9",
   "metadata": {},
   "outputs": [],
   "source": [
    "# ANNOTATION (auf Deutsch):\n",
    "# Dieser Code führt die folgende Aufgabe aus:\n",
    "# (Fügen Sie hier eine spezifische Erklärung hinzu, basierend auf dem Code.)\n",
    "# This cell performs the following task:\n",
    "# (Add specific annotations here based on the logic in the cell)\n",
    "\n",
    "#Your code in here"
   ]
  },
  {
   "cell_type": "code",
   "execution_count": null,
   "id": "d4510288",
   "metadata": {},
   "outputs": [],
   "source": [
    "# ANNOTATION (auf Deutsch):\n",
    "# Dieser Code führt die folgende Aufgabe aus:\n",
    "# (Fügen Sie hier eine spezifische Erklärung hinzu, basierend auf dem Code.)\n",
    "# This cell performs the following task:\n",
    "# (Add specific annotations here based on the logic in the cell)\n",
    "\n",
    "#Solution\n",
    "\n",
    "G.number_of_edges()"
   ]
  },
  {
   "cell_type": "code",
   "execution_count": null,
   "id": "b698a5e8",
   "metadata": {},
   "outputs": [],
   "source": [
    "# ANNOTATION (auf Deutsch):\n",
    "# Dieser Code führt die folgende Aufgabe aus:\n",
    "# (Fügen Sie hier eine spezifische Erklärung hinzu, basierend auf dem Code.)\n",
    "# This cell performs the following task:\n",
    "# (Add specific annotations here based on the logic in the cell)\n",
    "\n",
    "list(G.edges)"
   ]
  },
  {
   "cell_type": "markdown",
   "id": "1849bf55",
   "metadata": {},
   "source": [
    "Let's check the weight of the edges"
   ]
  },
  {
   "cell_type": "code",
   "execution_count": null,
   "id": "70656c25",
   "metadata": {},
   "outputs": [],
   "source": [
    "# ANNOTATION (auf Deutsch):\n",
    "# Dieser Code führt die folgende Aufgabe aus:\n",
    "# (Fügen Sie hier eine spezifische Erklärung hinzu, basierend auf dem Code.)\n",
    "# This cell performs the following task:\n",
    "# (Add specific annotations here based on the logic in the cell)\n",
    "\n",
    "#Your code in here"
   ]
  },
  {
   "cell_type": "code",
   "execution_count": null,
   "id": "6a9b5c2a",
   "metadata": {},
   "outputs": [],
   "source": [
    "# ANNOTATION (auf Deutsch):\n",
    "# Dieser Code führt die folgende Aufgabe aus:\n",
    "# (Fügen Sie hier eine spezifische Erklärung hinzu, basierend auf dem Code.)\n",
    "# This cell performs the following task:\n",
    "# (Add specific annotations here based on the logic in the cell)\n",
    "\n",
    "#Solution\n",
    "\n",
    "edge_weights = nx.get_edge_attributes(G, \"weight\")\n",
    "edge_weights"
   ]
  },
  {
   "cell_type": "code",
   "execution_count": null,
   "id": "614ae3d2",
   "metadata": {},
   "outputs": [],
   "source": [
    "# ANNOTATION (auf Deutsch):\n",
    "# Dieser Code führt die folgende Aufgabe aus:\n",
    "# (Fügen Sie hier eine spezifische Erklärung hinzu, basierend auf dem Code.)\n",
    "# This cell performs the following task:\n",
    "# (Add specific annotations here based on the logic in the cell)\n",
    "\n",
    "sorted_weights = sorted(edge_weights.items(), key=lambda x: x[1], reverse = True)\n",
    "sorted_weights"
   ]
  },
  {
   "cell_type": "markdown",
   "id": "04c0d2d0",
   "metadata": {},
   "source": [
    "# 4. Network Metrics"
   ]
  },
  {
   "cell_type": "markdown",
   "id": "e7f870ae",
   "metadata": {},
   "source": [
    "1. Calculating **Network Degree** (the hub of the network)"
   ]
  },
  {
   "cell_type": "code",
   "execution_count": null,
   "id": "3ab6f4d3",
   "metadata": {},
   "outputs": [],
   "source": [
    "# ANNOTATION (auf Deutsch):\n",
    "# Dieser Code führt die folgende Aufgabe aus:\n",
    "# (Fügen Sie hier eine spezifische Erklärung hinzu, basierend auf dem Code.)\n",
    "# This cell performs the following task:\n",
    "# (Add specific annotations here based on the logic in the cell)\n",
    "\n",
    "#Your code in here"
   ]
  },
  {
   "cell_type": "code",
   "execution_count": null,
   "id": "8a2cc336",
   "metadata": {},
   "outputs": [],
   "source": [
    "# ANNOTATION (auf Deutsch):\n",
    "# Dieser Code führt die folgende Aufgabe aus:\n",
    "# (Fügen Sie hier eine spezifische Erklärung hinzu, basierend auf dem Code.)\n",
    "# This cell performs the following task:\n",
    "# (Add specific annotations here based on the logic in the cell)\n",
    "\n",
    "#Solution\n",
    "weighted_degrees = dict(G.degree(weight='weight'))"
   ]
  },
  {
   "cell_type": "code",
   "execution_count": null,
   "id": "8fd3ed0e",
   "metadata": {},
   "outputs": [],
   "source": [
    "# ANNOTATION (auf Deutsch):\n",
    "# Dieser Code führt die folgende Aufgabe aus:\n",
    "# (Fügen Sie hier eine spezifische Erklärung hinzu, basierend auf dem Code.)\n",
    "# This cell performs the following task:\n",
    "# (Add specific annotations here based on the logic in the cell)\n",
    "\n",
    "weighted_degrees"
   ]
  },
  {
   "cell_type": "code",
   "execution_count": null,
   "id": "51cd6fb4",
   "metadata": {},
   "outputs": [],
   "source": [
    "# ANNOTATION (auf Deutsch):\n",
    "# Dieser Code führt die folgende Aufgabe aus:\n",
    "# (Fügen Sie hier eine spezifische Erklärung hinzu, basierend auf dem Code.)\n",
    "# This cell performs the following task:\n",
    "# (Add specific annotations here based on the logic in the cell)\n",
    "\n",
    "sorted_weighted_degrees = sorted(weighted_degrees.items(), key=lambda x: x[1], reverse=True)"
   ]
  },
  {
   "cell_type": "code",
   "execution_count": null,
   "id": "aecb3fea",
   "metadata": {},
   "outputs": [],
   "source": [
    "# ANNOTATION (auf Deutsch):\n",
    "# Dieser Code führt die folgende Aufgabe aus:\n",
    "# (Fügen Sie hier eine spezifische Erklärung hinzu, basierend auf dem Code.)\n",
    "# This cell performs the following task:\n",
    "# (Add specific annotations here based on the logic in the cell)\n",
    "\n",
    "sorted_weighted_degrees"
   ]
  },
  {
   "cell_type": "markdown",
   "id": "98011a23",
   "metadata": {},
   "source": [
    "The hub of the network is **Hamlet** because this is an Ego-Centric Network!"
   ]
  },
  {
   "cell_type": "markdown",
   "id": "47196256",
   "metadata": {},
   "source": [
    "# 5. Network Visualization"
   ]
  },
  {
   "cell_type": "markdown",
   "id": "b1394262",
   "metadata": {},
   "source": [
    "First of all let's define the position of the nodes in the network."
   ]
  },
  {
   "cell_type": "code",
   "execution_count": null,
   "id": "aa17ab04",
   "metadata": {},
   "outputs": [],
   "source": [
    "# ANNOTATION (auf Deutsch):\n",
    "# Dieser Code führt die folgende Aufgabe aus:\n",
    "# (Fügen Sie hier eine spezifische Erklärung hinzu, basierend auf dem Code.)\n",
    "# This cell performs the following task:\n",
    "# (Add specific annotations here based on the logic in the cell)\n",
    "\n",
    "#Your code in here"
   ]
  },
  {
   "cell_type": "code",
   "execution_count": null,
   "id": "7ca61d2c",
   "metadata": {},
   "outputs": [],
   "source": [
    "# ANNOTATION (auf Deutsch):\n",
    "# Dieser Code führt die folgende Aufgabe aus:\n",
    "# (Fügen Sie hier eine spezifische Erklärung hinzu, basierend auf dem Code.)\n",
    "# This cell performs the following task:\n",
    "# (Add specific annotations here based on the logic in the cell)\n",
    "\n",
    "#Solution\n",
    "\n",
    "pos = nx.spring_layout(G, seed=7)\n",
    "pos"
   ]
  },
  {
   "cell_type": "markdown",
   "id": "8c55bbdd",
   "metadata": {},
   "source": [
    "Let's now use Network Degree"
   ]
  },
  {
   "cell_type": "code",
   "execution_count": null,
   "id": "f06b7275",
   "metadata": {},
   "outputs": [],
   "source": [
    "# ANNOTATION (auf Deutsch):\n",
    "# Dieser Code führt die folgende Aufgabe aus:\n",
    "# (Fügen Sie hier eine spezifische Erklärung hinzu, basierend auf dem Code.)\n",
    "# This cell performs the following task:\n",
    "# (Add specific annotations here based on the logic in the cell)\n",
    "\n",
    "#Your code in here"
   ]
  },
  {
   "cell_type": "code",
   "execution_count": null,
   "id": "2ae5972f",
   "metadata": {},
   "outputs": [],
   "source": [
    "# ANNOTATION (auf Deutsch):\n",
    "# Dieser Code führt die folgende Aufgabe aus:\n",
    "# (Fügen Sie hier eine spezifische Erklärung hinzu, basierend auf dem Code.)\n",
    "# This cell performs the following task:\n",
    "# (Add specific annotations here based on the logic in the cell)\n",
    "\n",
    "#Solution\n",
    "\n",
    "degree = weighted_degrees  #we go back to that variable that we defined a few cells before\n",
    "degree"
   ]
  },
  {
   "cell_type": "code",
   "execution_count": null,
   "id": "69acc96b",
   "metadata": {},
   "outputs": [],
   "source": [
    "# ANNOTATION (auf Deutsch):\n",
    "# Dieser Code führt die folgende Aufgabe aus:\n",
    "# (Fügen Sie hier eine spezifische Erklärung hinzu, basierend auf dem Code.)\n",
    "# This cell performs the following task:\n",
    "# (Add specific annotations here based on the logic in the cell)\n",
    "\n",
    "node_sizes = [v * 5 for v in degree.values()] #we can play around the 5 value"
   ]
  },
  {
   "cell_type": "code",
   "execution_count": null,
   "id": "e31e4636",
   "metadata": {},
   "outputs": [],
   "source": [
    "# ANNOTATION (auf Deutsch):\n",
    "# Dieser Code führt die folgende Aufgabe aus:\n",
    "# (Fügen Sie hier eine spezifische Erklärung hinzu, basierend auf dem Code.)\n",
    "# This cell performs the following task:\n",
    "# (Add specific annotations here based on the logic in the cell)\n",
    "\n",
    "nx.draw(G, node_size=node_sizes, with_labels=True)\n",
    "\n",
    "plt.axis(\"off\")\n",
    "plt.show()"
   ]
  },
  {
   "cell_type": "markdown",
   "id": "4c84a584",
   "metadata": {},
   "source": [
    "Voilá! There we have our network. We can now proceed to do some cool visualizations. For example, we can use colours to bring attention to the Hub in the network (Hamlet), indicate the second and their weighted degree nodes (Horatio and Pollonius), and change the colour of the other nodes in the network."
   ]
  },
  {
   "cell_type": "code",
   "execution_count": null,
   "id": "6cce6b83",
   "metadata": {},
   "outputs": [],
   "source": [
    "# ANNOTATION (auf Deutsch):\n",
    "# Dieser Code führt die folgende Aufgabe aus:\n",
    "# (Fügen Sie hier eine spezifische Erklärung hinzu, basierend auf dem Code.)\n",
    "# This cell performs the following task:\n",
    "# (Add specific annotations here based on the logic in the cell)\n",
    "\n",
    "#Your code in here"
   ]
  },
  {
   "cell_type": "code",
   "execution_count": null,
   "id": "88518fdd",
   "metadata": {},
   "outputs": [],
   "source": [
    "# ANNOTATION (auf Deutsch):\n",
    "# Dieser Code führt die folgende Aufgabe aus:\n",
    "# (Fügen Sie hier eine spezifische Erklärung hinzu, basierend auf dem Code.)\n",
    "# This cell performs the following task:\n",
    "# (Add specific annotations here based on the logic in the cell)\n",
    "\n",
    "node_colors = [\"red\" if n == \"Hamlet\" else \"blue\" if n == \"Horatio\" else \"yellow\" if n == \"Polonius\"\n",
    "               else \"green\" for n in G.nodes()]"
   ]
  },
  {
   "cell_type": "code",
   "execution_count": null,
   "id": "eecfebd3",
   "metadata": {},
   "outputs": [],
   "source": [
    "# ANNOTATION (auf Deutsch):\n",
    "# Dieser Code führt die folgende Aufgabe aus:\n",
    "# (Fügen Sie hier eine spezifische Erklärung hinzu, basierend auf dem Code.)\n",
    "# This cell performs the following task:\n",
    "# (Add specific annotations here based on the logic in the cell)\n",
    "\n",
    "nx.draw(G, node_size = node_sizes, with_labels = True, node_color = node_colors)\n",
    "\n",
    "plt.axis(\"off\")\n",
    "plt.show()"
   ]
  },
  {
   "cell_type": "markdown",
   "id": "46124f4c",
   "metadata": {},
   "source": [
    "# And now you are a total expert on Networks ;)"
   ]
  },
  {
   "cell_type": "markdown",
   "id": "dcfda63a",
   "metadata": {},
   "source": [
    "### Content from: Ego Centric Networks. .ipynb"
   ]
  },
  {
   "cell_type": "markdown",
   "id": "b9967620",
   "metadata": {},
   "source": [
    "#### Annotation:\n",
    "This section includes the content and logic from the original notebook. Annotations have been added to explain the purpose and function of each code cell."
   ]
  },
  {
   "cell_type": "markdown",
   "id": "fb0acbf4",
   "metadata": {},
   "source": [
    "# Ego-Centric Networks vs Socio-Centric Networks"
   ]
  },
  {
   "cell_type": "markdown",
   "id": "b559eeb9",
   "metadata": {},
   "source": [
    "In our previous data analysis (weighted vs unweighted networks), we have been building a type of network called socio-centric network, where we seek to analyze the social structure of a given community (characters in movies/novels/theatre plays). However, there is another type of network called ego-centric network, that uses individuals as their object of study. If you would like to know more about both, this is an excellent article: https://bebr.ufl.edu/sites/default/files/SNA_Encyclopedia_Entry_0.pdf"
   ]
  },
  {
   "cell_type": "markdown",
   "id": "0ed9898b",
   "metadata": {},
   "source": [
    "Let's use **Around the World in 80 days** and let's model one Ego-Centric Networks: Phileas Fogg. "
   ]
  },
  {
   "cell_type": "markdown",
   "id": "146bb3ca",
   "metadata": {},
   "source": [
    "# 1. We import the libraries"
   ]
  },
  {
   "cell_type": "code",
   "execution_count": null,
   "id": "d7fe9d7d",
   "metadata": {},
   "outputs": [],
   "source": [
    "# ANNOTATION (auf Deutsch):\n",
    "# Dieser Code führt die folgende Aufgabe aus:\n",
    "# (Fügen Sie hier eine spezifische Erklärung hinzu, basierend auf dem Code.)\n",
    "# This cell performs the following task:\n",
    "# (Add specific annotations here based on the logic in the cell)\n",
    "\n",
    "import pandas as pd\n",
    "import networkx as nx\n",
    "import matplotlib.pyplot as plt"
   ]
  },
  {
   "cell_type": "markdown",
   "id": "b5e699e8",
   "metadata": {},
   "source": [
    "And let's not forget to creat G!"
   ]
  },
  {
   "cell_type": "code",
   "execution_count": null,
   "id": "d3919d15",
   "metadata": {},
   "outputs": [],
   "source": [
    "# ANNOTATION (auf Deutsch):\n",
    "# Dieser Code führt die folgende Aufgabe aus:\n",
    "# (Fügen Sie hier eine spezifische Erklärung hinzu, basierend auf dem Code.)\n",
    "# This cell performs the following task:\n",
    "# (Add specific annotations here based on the logic in the cell)\n",
    "\n",
    "G = nx.Graph()"
   ]
  },
  {
   "cell_type": "markdown",
   "id": "0690440d",
   "metadata": {},
   "source": [
    "# 2. Phileas Fogg"
   ]
  },
  {
   "cell_type": "markdown",
   "id": "068a5af2",
   "metadata": {},
   "source": [
    "Book in hand let's count how many times and with whom Phileas Foogs talks to."
   ]
  },
  {
   "cell_type": "markdown",
   "id": "d81a8a11",
   "metadata": {},
   "source": [
    "### Nodes"
   ]
  },
  {
   "cell_type": "code",
   "execution_count": null,
   "id": "82e27962",
   "metadata": {},
   "outputs": [],
   "source": [
    "# ANNOTATION (auf Deutsch):\n",
    "# Dieser Code führt die folgende Aufgabe aus:\n",
    "# (Fügen Sie hier eine spezifische Erklärung hinzu, basierend auf dem Code.)\n",
    "# This cell performs the following task:\n",
    "# (Add specific annotations here based on the logic in the cell)\n",
    "\n",
    "G.add_node(\"Phileas Fogg\")"
   ]
  },
  {
   "cell_type": "code",
   "execution_count": null,
   "id": "fb21f43f",
   "metadata": {},
   "outputs": [],
   "source": [
    "# ANNOTATION (auf Deutsch):\n",
    "# Dieser Code führt die folgende Aufgabe aus:\n",
    "# (Fügen Sie hier eine spezifische Erklärung hinzu, basierend auf dem Code.)\n",
    "# This cell performs the following task:\n",
    "# (Add specific annotations here based on the logic in the cell)\n",
    "\n",
    "G.add_node(\"Jean Passepartout\")"
   ]
  },
  {
   "cell_type": "code",
   "execution_count": null,
   "id": "47c66027",
   "metadata": {},
   "outputs": [],
   "source": [
    "# ANNOTATION (auf Deutsch):\n",
    "# Dieser Code führt die folgende Aufgabe aus:\n",
    "# (Fügen Sie hier eine spezifische Erklärung hinzu, basierend auf dem Code.)\n",
    "# This cell performs the following task:\n",
    "# (Add specific annotations here based on the logic in the cell)\n",
    "\n",
    "G.add_node(\"Andrew Stuart\") "
   ]
  },
  {
   "cell_type": "code",
   "execution_count": null,
   "id": "79896236",
   "metadata": {},
   "outputs": [],
   "source": [
    "# ANNOTATION (auf Deutsch):\n",
    "# Dieser Code führt die folgende Aufgabe aus:\n",
    "# (Fügen Sie hier eine spezifische Erklärung hinzu, basierend auf dem Code.)\n",
    "# This cell performs the following task:\n",
    "# (Add specific annotations here based on the logic in the cell)\n",
    "\n",
    "G.add_node(\"John Sullivan\") "
   ]
  },
  {
   "cell_type": "code",
   "execution_count": null,
   "id": "9a98d12b",
   "metadata": {},
   "outputs": [],
   "source": [
    "# ANNOTATION (auf Deutsch):\n",
    "# Dieser Code führt die folgende Aufgabe aus:\n",
    "# (Fügen Sie hier eine spezifische Erklärung hinzu, basierend auf dem Code.)\n",
    "# This cell performs the following task:\n",
    "# (Add specific annotations here based on the logic in the cell)\n",
    "\n",
    "G.add_node(\"Consul\") "
   ]
  },
  {
   "cell_type": "code",
   "execution_count": null,
   "id": "86c71670",
   "metadata": {},
   "outputs": [],
   "source": [
    "# ANNOTATION (auf Deutsch):\n",
    "# Dieser Code führt die folgende Aufgabe aus:\n",
    "# (Fügen Sie hier eine spezifische Erklärung hinzu, basierend auf dem Code.)\n",
    "# This cell performs the following task:\n",
    "# (Add specific annotations here based on the logic in the cell)\n",
    "\n",
    "G.add_node(\"Landlord\") "
   ]
  },
  {
   "cell_type": "code",
   "execution_count": null,
   "id": "f98d58c7",
   "metadata": {},
   "outputs": [],
   "source": [
    "# ANNOTATION (auf Deutsch):\n",
    "# Dieser Code führt die folgende Aufgabe aus:\n",
    "# (Fügen Sie hier eine spezifische Erklärung hinzu, basierend auf dem Code.)\n",
    "# This cell performs the following task:\n",
    "# (Add specific annotations here based on the logic in the cell)\n",
    "\n",
    "G.add_node(\"Sir Francis Cromarty\") "
   ]
  },
  {
   "cell_type": "code",
   "execution_count": null,
   "id": "dd55cdfe",
   "metadata": {},
   "outputs": [],
   "source": [
    "# ANNOTATION (auf Deutsch):\n",
    "# Dieser Code führt die folgende Aufgabe aus:\n",
    "# (Fügen Sie hier eine spezifische Erklärung hinzu, basierend auf dem Code.)\n",
    "# This cell performs the following task:\n",
    "# (Add specific annotations here based on the logic in the cell)\n",
    "\n",
    "G.add_node(\"Parsee guide\") "
   ]
  },
  {
   "cell_type": "code",
   "execution_count": null,
   "id": "324d5afc",
   "metadata": {},
   "outputs": [],
   "source": [
    "# ANNOTATION (auf Deutsch):\n",
    "# Dieser Code führt die folgende Aufgabe aus:\n",
    "# (Fügen Sie hier eine spezifische Erklärung hinzu, basierend auf dem Code.)\n",
    "# This cell performs the following task:\n",
    "# (Add specific annotations here based on the logic in the cell)\n",
    "\n",
    "G.add_node(\"Policeman\") "
   ]
  },
  {
   "cell_type": "code",
   "execution_count": null,
   "id": "4e93ee5c",
   "metadata": {},
   "outputs": [],
   "source": [
    "# ANNOTATION (auf Deutsch):\n",
    "# Dieser Code führt die folgende Aufgabe aus:\n",
    "# (Fügen Sie hier eine spezifische Erklärung hinzu, basierend auf dem Code.)\n",
    "# This cell performs the following task:\n",
    "# (Add specific annotations here based on the logic in the cell)\n",
    "\n",
    "G.add_node(\"Aouda\") "
   ]
  },
  {
   "cell_type": "code",
   "execution_count": null,
   "id": "9650861c",
   "metadata": {},
   "outputs": [],
   "source": [
    "# ANNOTATION (auf Deutsch):\n",
    "# Dieser Code führt die folgende Aufgabe aus:\n",
    "# (Fügen Sie hier eine spezifische Erklärung hinzu, basierend auf dem Code.)\n",
    "# This cell performs the following task:\n",
    "# (Add specific annotations here based on the logic in the cell)\n",
    "\n",
    "G.add_node(\"Judge Obadiah\") "
   ]
  },
  {
   "cell_type": "code",
   "execution_count": null,
   "id": "5b4d9c4f",
   "metadata": {},
   "outputs": [],
   "source": [
    "# ANNOTATION (auf Deutsch):\n",
    "# Dieser Code führt die folgende Aufgabe aus:\n",
    "# (Fügen Sie hier eine spezifische Erklärung hinzu, basierend auf dem Code.)\n",
    "# This cell performs the following task:\n",
    "# (Add specific annotations here based on the logic in the cell)\n",
    "\n",
    "G.add_node(\"Pilot\") "
   ]
  },
  {
   "cell_type": "code",
   "execution_count": null,
   "id": "ff32250f",
   "metadata": {},
   "outputs": [],
   "source": [
    "# ANNOTATION (auf Deutsch):\n",
    "# Dieser Code führt die folgende Aufgabe aus:\n",
    "# (Fügen Sie hier eine spezifische Erklärung hinzu, basierend auf dem Code.)\n",
    "# This cell performs the following task:\n",
    "# (Add specific annotations here based on the logic in the cell)\n",
    "\n",
    "G.add_node(\"Fix\") "
   ]
  },
  {
   "cell_type": "code",
   "execution_count": null,
   "id": "31ade772",
   "metadata": {},
   "outputs": [],
   "source": [
    "# ANNOTATION (auf Deutsch):\n",
    "# Dieser Code führt die folgende Aufgabe aus:\n",
    "# (Fügen Sie hier eine spezifische Erklärung hinzu, basierend auf dem Code.)\n",
    "# This cell performs the following task:\n",
    "# (Add specific annotations here based on the logic in the cell)\n",
    "\n",
    "G.add_node(\"Sailor\") "
   ]
  },
  {
   "cell_type": "code",
   "execution_count": null,
   "id": "9b838803",
   "metadata": {},
   "outputs": [],
   "source": [
    "# ANNOTATION (auf Deutsch):\n",
    "# Dieser Code führt die folgende Aufgabe aus:\n",
    "# (Fügen Sie hier eine spezifische Erklärung hinzu, basierend auf dem Code.)\n",
    "# This cell performs the following task:\n",
    "# (Add specific annotations here based on the logic in the cell)\n",
    "\n",
    "G.add_node(\"Colonel Proctor\") "
   ]
  },
  {
   "cell_type": "code",
   "execution_count": null,
   "id": "292ba625",
   "metadata": {},
   "outputs": [],
   "source": [
    "# ANNOTATION (auf Deutsch):\n",
    "# Dieser Code führt die folgende Aufgabe aus:\n",
    "# (Fügen Sie hier eine spezifische Erklärung hinzu, basierend auf dem Code.)\n",
    "# This cell performs the following task:\n",
    "# (Add specific annotations here based on the logic in the cell)\n",
    "\n",
    "G.add_node(\"Captain\") "
   ]
  },
  {
   "cell_type": "code",
   "execution_count": null,
   "id": "df8e000a",
   "metadata": {},
   "outputs": [],
   "source": [
    "# ANNOTATION (auf Deutsch):\n",
    "# Dieser Code führt die folgende Aufgabe aus:\n",
    "# (Fügen Sie hier eine spezifische Erklärung hinzu, basierend auf dem Code.)\n",
    "# This cell performs the following task:\n",
    "# (Add specific annotations here based on the logic in the cell)\n",
    "\n",
    "G.add_node(\"Andrew Speedy\")"
   ]
  },
  {
   "cell_type": "markdown",
   "id": "081efd31",
   "metadata": {},
   "source": [
    "# Edges"
   ]
  },
  {
   "cell_type": "code",
   "execution_count": null,
   "id": "777a18e2",
   "metadata": {},
   "outputs": [],
   "source": [
    "# ANNOTATION (auf Deutsch):\n",
    "# Dieser Code führt die folgende Aufgabe aus:\n",
    "# (Fügen Sie hier eine spezifische Erklärung hinzu, basierend auf dem Code.)\n",
    "# This cell performs the following task:\n",
    "# (Add specific annotations here based on the logic in the cell)\n",
    "\n",
    "G.add_edge(\"Phileas Fogg\", \"Jean Passepartout\", weight = 71) "
   ]
  },
  {
   "cell_type": "code",
   "execution_count": null,
   "id": "b87e1a66",
   "metadata": {},
   "outputs": [],
   "source": [
    "# ANNOTATION (auf Deutsch):\n",
    "# Dieser Code führt die folgende Aufgabe aus:\n",
    "# (Fügen Sie hier eine spezifische Erklärung hinzu, basierend auf dem Code.)\n",
    "# This cell performs the following task:\n",
    "# (Add specific annotations here based on the logic in the cell)\n",
    "\n",
    "G.add_edge(\"Phileas Fogg\", \"Andrew Stuart\", weight = 30) "
   ]
  },
  {
   "cell_type": "code",
   "execution_count": null,
   "id": "9f408aed",
   "metadata": {},
   "outputs": [],
   "source": [
    "# ANNOTATION (auf Deutsch):\n",
    "# Dieser Code führt die folgende Aufgabe aus:\n",
    "# (Fügen Sie hier eine spezifische Erklärung hinzu, basierend auf dem Code.)\n",
    "# This cell performs the following task:\n",
    "# (Add specific annotations here based on the logic in the cell)\n",
    "\n",
    "G.add_edge(\"John Sullivan\", \"Phileas Fogg\", weight = 9) "
   ]
  },
  {
   "cell_type": "code",
   "execution_count": null,
   "id": "2ae1161b",
   "metadata": {},
   "outputs": [],
   "source": [
    "# ANNOTATION (auf Deutsch):\n",
    "# Dieser Code führt die folgende Aufgabe aus:\n",
    "# (Fügen Sie hier eine spezifische Erklärung hinzu, basierend auf dem Code.)\n",
    "# This cell performs the following task:\n",
    "# (Add specific annotations here based on the logic in the cell)\n",
    "\n",
    "G.add_edge(\"Phileas Fogg\", \"Consul\", weight = 11) "
   ]
  },
  {
   "cell_type": "code",
   "execution_count": null,
   "id": "6fdaba64",
   "metadata": {},
   "outputs": [],
   "source": [
    "# ANNOTATION (auf Deutsch):\n",
    "# Dieser Code führt die folgende Aufgabe aus:\n",
    "# (Fügen Sie hier eine spezifische Erklärung hinzu, basierend auf dem Code.)\n",
    "# This cell performs the following task:\n",
    "# (Add specific annotations here based on the logic in the cell)\n",
    "\n",
    "G.add_edge(\"Phileas Fogg\", \"Landlord\", weight = 7) "
   ]
  },
  {
   "cell_type": "code",
   "execution_count": null,
   "id": "997ec16e",
   "metadata": {},
   "outputs": [],
   "source": [
    "# ANNOTATION (auf Deutsch):\n",
    "# Dieser Code führt die folgende Aufgabe aus:\n",
    "# (Fügen Sie hier eine spezifische Erklärung hinzu, basierend auf dem Code.)\n",
    "# This cell performs the following task:\n",
    "# (Add specific annotations here based on the logic in the cell)\n",
    "\n",
    "G.add_edge(\"Phileas Fogg\", \"Sir Francis Cromarty\", weight = 22) "
   ]
  },
  {
   "cell_type": "code",
   "execution_count": null,
   "id": "aafd713b",
   "metadata": {},
   "outputs": [],
   "source": [
    "# ANNOTATION (auf Deutsch):\n",
    "# Dieser Code führt die folgende Aufgabe aus:\n",
    "# (Fügen Sie hier eine spezifische Erklärung hinzu, basierend auf dem Code.)\n",
    "# This cell performs the following task:\n",
    "# (Add specific annotations here based on the logic in the cell)\n",
    "\n",
    "G.add_edge(\"Parsee guide\", \"Phileas Fogg\", weight = 11) "
   ]
  },
  {
   "cell_type": "code",
   "execution_count": null,
   "id": "32bdcc68",
   "metadata": {},
   "outputs": [],
   "source": [
    "# ANNOTATION (auf Deutsch):\n",
    "# Dieser Code führt die folgende Aufgabe aus:\n",
    "# (Fügen Sie hier eine spezifische Erklärung hinzu, basierend auf dem Code.)\n",
    "# This cell performs the following task:\n",
    "# (Add specific annotations here based on the logic in the cell)\n",
    "\n",
    "G.add_edge(\"Policeman\", \"Phileas Fogg\", weight = 8) "
   ]
  },
  {
   "cell_type": "code",
   "execution_count": null,
   "id": "13246587",
   "metadata": {},
   "outputs": [],
   "source": [
    "# ANNOTATION (auf Deutsch):\n",
    "# Dieser Code führt die folgende Aufgabe aus:\n",
    "# (Fügen Sie hier eine spezifische Erklärung hinzu, basierend auf dem Code.)\n",
    "# This cell performs the following task:\n",
    "# (Add specific annotations here based on the logic in the cell)\n",
    "\n",
    "G.add_edge(\"Aouda\", \"Phileas Fogg\", weight = 47) "
   ]
  },
  {
   "cell_type": "code",
   "execution_count": null,
   "id": "7e841d29",
   "metadata": {},
   "outputs": [],
   "source": [
    "# ANNOTATION (auf Deutsch):\n",
    "# Dieser Code führt die folgende Aufgabe aus:\n",
    "# (Fügen Sie hier eine spezifische Erklärung hinzu, basierend auf dem Code.)\n",
    "# This cell performs the following task:\n",
    "# (Add specific annotations here based on the logic in the cell)\n",
    "\n",
    "G.add_edge(\"Phileas Fogg\", \"Judge Obadiah\", weight = 15) "
   ]
  },
  {
   "cell_type": "code",
   "execution_count": null,
   "id": "2abd1462",
   "metadata": {},
   "outputs": [],
   "source": [
    "# ANNOTATION (auf Deutsch):\n",
    "# Dieser Code führt die folgende Aufgabe aus:\n",
    "# (Fügen Sie hier eine spezifische Erklärung hinzu, basierend auf dem Code.)\n",
    "# This cell performs the following task:\n",
    "# (Add specific annotations here based on the logic in the cell)\n",
    "\n",
    "G.add_edge(\"Pilot\", \"Phileas Fogg\", weight = 35) "
   ]
  },
  {
   "cell_type": "code",
   "execution_count": null,
   "id": "314e8d42",
   "metadata": {},
   "outputs": [],
   "source": [
    "# ANNOTATION (auf Deutsch):\n",
    "# Dieser Code führt die folgende Aufgabe aus:\n",
    "# (Fügen Sie hier eine spezifische Erklärung hinzu, basierend auf dem Code.)\n",
    "# This cell performs the following task:\n",
    "# (Add specific annotations here based on the logic in the cell)\n",
    "\n",
    "G.add_edge(\"Fix\", \"Phileas Fogg\", weight = 43) "
   ]
  },
  {
   "cell_type": "code",
   "execution_count": null,
   "id": "07bc8be7",
   "metadata": {},
   "outputs": [],
   "source": [
    "# ANNOTATION (auf Deutsch):\n",
    "# Dieser Code führt die folgende Aufgabe aus:\n",
    "# (Fügen Sie hier eine spezifische Erklärung hinzu, basierend auf dem Code.)\n",
    "# This cell performs the following task:\n",
    "# (Add specific annotations here based on the logic in the cell)\n",
    "\n",
    "G.add_edge(\"Sailor\", \"Phileas Fogg\", weight = 31) "
   ]
  },
  {
   "cell_type": "code",
   "execution_count": null,
   "id": "c3e147f6",
   "metadata": {},
   "outputs": [],
   "source": [
    "# ANNOTATION (auf Deutsch):\n",
    "# Dieser Code führt die folgende Aufgabe aus:\n",
    "# (Fügen Sie hier eine spezifische Erklärung hinzu, basierend auf dem Code.)\n",
    "# This cell performs the following task:\n",
    "# (Add specific annotations here based on the logic in the cell)\n",
    "\n",
    "G.add_edge(\"Phileas Fogg\", \"Colonel Proctor\", weight = 25) "
   ]
  },
  {
   "cell_type": "code",
   "execution_count": null,
   "id": "b1de04b1",
   "metadata": {},
   "outputs": [],
   "source": [
    "# ANNOTATION (auf Deutsch):\n",
    "# Dieser Code führt die folgende Aufgabe aus:\n",
    "# (Fügen Sie hier eine spezifische Erklärung hinzu, basierend auf dem Code.)\n",
    "# This cell performs the following task:\n",
    "# (Add specific annotations here based on the logic in the cell)\n",
    "\n",
    "G.add_edge(\"Phileas Fogg\", \"Captain\", weight = 32) "
   ]
  },
  {
   "cell_type": "code",
   "execution_count": null,
   "id": "ee0c4a4c",
   "metadata": {},
   "outputs": [],
   "source": [
    "# ANNOTATION (auf Deutsch):\n",
    "# Dieser Code führt die folgende Aufgabe aus:\n",
    "# (Fügen Sie hier eine spezifische Erklärung hinzu, basierend auf dem Code.)\n",
    "# This cell performs the following task:\n",
    "# (Add specific annotations here based on the logic in the cell)\n",
    "\n",
    "G.add_edge(\"Andrew Speedy\", \"Phileas Fogg\", weight = 36)"
   ]
  },
  {
   "cell_type": "markdown",
   "id": "612fd4a1",
   "metadata": {},
   "source": [
    "# 3. We check the structure of our Network"
   ]
  },
  {
   "cell_type": "markdown",
   "id": "63c17bc2",
   "metadata": {},
   "source": [
    "Let's check the number of nodes"
   ]
  },
  {
   "cell_type": "code",
   "execution_count": null,
   "id": "998dc568",
   "metadata": {},
   "outputs": [],
   "source": [
    "# ANNOTATION (auf Deutsch):\n",
    "# Dieser Code führt die folgende Aufgabe aus:\n",
    "# (Fügen Sie hier eine spezifische Erklärung hinzu, basierend auf dem Code.)\n",
    "# This cell performs the following task:\n",
    "# (Add specific annotations here based on the logic in the cell)\n",
    "\n",
    "G.number_of_nodes()"
   ]
  },
  {
   "cell_type": "markdown",
   "id": "16712082",
   "metadata": {},
   "source": [
    "And now let's check the number of edges"
   ]
  },
  {
   "cell_type": "code",
   "execution_count": null,
   "id": "5297cf5e",
   "metadata": {},
   "outputs": [],
   "source": [
    "# ANNOTATION (auf Deutsch):\n",
    "# Dieser Code führt die folgende Aufgabe aus:\n",
    "# (Fügen Sie hier eine spezifische Erklärung hinzu, basierend auf dem Code.)\n",
    "# This cell performs the following task:\n",
    "# (Add specific annotations here based on the logic in the cell)\n",
    "\n",
    "G.number_of_edges()"
   ]
  },
  {
   "cell_type": "code",
   "execution_count": null,
   "id": "ef8315dc",
   "metadata": {},
   "outputs": [],
   "source": [
    "# ANNOTATION (auf Deutsch):\n",
    "# Dieser Code führt die folgende Aufgabe aus:\n",
    "# (Fügen Sie hier eine spezifische Erklärung hinzu, basierend auf dem Code.)\n",
    "# This cell performs the following task:\n",
    "# (Add specific annotations here based on the logic in the cell)\n",
    "\n",
    "list(G.edges)"
   ]
  },
  {
   "cell_type": "markdown",
   "id": "143012cd",
   "metadata": {},
   "source": [
    "Let's check the weight of the edges"
   ]
  },
  {
   "cell_type": "code",
   "execution_count": null,
   "id": "0a9b9063",
   "metadata": {},
   "outputs": [],
   "source": [
    "# ANNOTATION (auf Deutsch):\n",
    "# Dieser Code führt die folgende Aufgabe aus:\n",
    "# (Fügen Sie hier eine spezifische Erklärung hinzu, basierend auf dem Code.)\n",
    "# This cell performs the following task:\n",
    "# (Add specific annotations here based on the logic in the cell)\n",
    "\n",
    "edge_weights = nx.get_edge_attributes(G, \"weight\")\n",
    "edge_weights"
   ]
  },
  {
   "cell_type": "code",
   "execution_count": null,
   "id": "5e3f7e57",
   "metadata": {},
   "outputs": [],
   "source": [
    "# ANNOTATION (auf Deutsch):\n",
    "# Dieser Code führt die folgende Aufgabe aus:\n",
    "# (Fügen Sie hier eine spezifische Erklärung hinzu, basierend auf dem Code.)\n",
    "# This cell performs the following task:\n",
    "# (Add specific annotations here based on the logic in the cell)\n",
    "\n",
    "sorted_weights = sorted(edge_weights.items(), key=lambda x: x[1], reverse = True)\n",
    "sorted_weights"
   ]
  },
  {
   "cell_type": "markdown",
   "id": "89824026",
   "metadata": {},
   "source": [
    "# 4. Network Metrics"
   ]
  },
  {
   "cell_type": "markdown",
   "id": "5268f8c4",
   "metadata": {},
   "source": [
    "1. Calculating **Network Degree** (the hub of the network)"
   ]
  },
  {
   "cell_type": "code",
   "execution_count": null,
   "id": "cb24c475",
   "metadata": {},
   "outputs": [],
   "source": [
    "# ANNOTATION (auf Deutsch):\n",
    "# Dieser Code führt die folgende Aufgabe aus:\n",
    "# (Fügen Sie hier eine spezifische Erklärung hinzu, basierend auf dem Code.)\n",
    "# This cell performs the following task:\n",
    "# (Add specific annotations here based on the logic in the cell)\n",
    "\n",
    "weighted_degrees = dict(G.degree(weight='weight'))"
   ]
  },
  {
   "cell_type": "code",
   "execution_count": null,
   "id": "b2e7108f",
   "metadata": {},
   "outputs": [],
   "source": [
    "# ANNOTATION (auf Deutsch):\n",
    "# Dieser Code führt die folgende Aufgabe aus:\n",
    "# (Fügen Sie hier eine spezifische Erklärung hinzu, basierend auf dem Code.)\n",
    "# This cell performs the following task:\n",
    "# (Add specific annotations here based on the logic in the cell)\n",
    "\n",
    "weighted_degrees"
   ]
  },
  {
   "cell_type": "code",
   "execution_count": null,
   "id": "631a0d53",
   "metadata": {},
   "outputs": [],
   "source": [
    "# ANNOTATION (auf Deutsch):\n",
    "# Dieser Code führt die folgende Aufgabe aus:\n",
    "# (Fügen Sie hier eine spezifische Erklärung hinzu, basierend auf dem Code.)\n",
    "# This cell performs the following task:\n",
    "# (Add specific annotations here based on the logic in the cell)\n",
    "\n",
    "sorted_weighted_degrees = sorted(weighted_degrees.items(), key=lambda x: x[1], reverse=True)"
   ]
  },
  {
   "cell_type": "code",
   "execution_count": null,
   "id": "89eb2509",
   "metadata": {},
   "outputs": [],
   "source": [
    "# ANNOTATION (auf Deutsch):\n",
    "# Dieser Code führt die folgende Aufgabe aus:\n",
    "# (Fügen Sie hier eine spezifische Erklärung hinzu, basierend auf dem Code.)\n",
    "# This cell performs the following task:\n",
    "# (Add specific annotations here based on the logic in the cell)\n",
    "\n",
    "sorted_weighted_degrees"
   ]
  },
  {
   "cell_type": "markdown",
   "id": "b3bc8a36",
   "metadata": {},
   "source": [
    "The hub of the network is **Phileas Fogg** because this is an Ego-Centric Network!"
   ]
  },
  {
   "cell_type": "markdown",
   "id": "a3818f6f",
   "metadata": {},
   "source": [
    "# 5. Network Visualization"
   ]
  },
  {
   "cell_type": "markdown",
   "id": "0b5439eb",
   "metadata": {},
   "source": [
    "First of all let's define the position of the nodes in the network."
   ]
  },
  {
   "cell_type": "code",
   "execution_count": null,
   "id": "50168c65",
   "metadata": {},
   "outputs": [],
   "source": [
    "# ANNOTATION (auf Deutsch):\n",
    "# Dieser Code führt die folgende Aufgabe aus:\n",
    "# (Fügen Sie hier eine spezifische Erklärung hinzu, basierend auf dem Code.)\n",
    "# This cell performs the following task:\n",
    "# (Add specific annotations here based on the logic in the cell)\n",
    "\n",
    "pos = nx.spring_layout(G, seed=7)\n",
    "pos"
   ]
  },
  {
   "cell_type": "markdown",
   "id": "7e134f84",
   "metadata": {},
   "source": [
    "Let's now use Network Degree"
   ]
  },
  {
   "cell_type": "code",
   "execution_count": null,
   "id": "ecd38d57",
   "metadata": {},
   "outputs": [],
   "source": [
    "# ANNOTATION (auf Deutsch):\n",
    "# Dieser Code führt die folgende Aufgabe aus:\n",
    "# (Fügen Sie hier eine spezifische Erklärung hinzu, basierend auf dem Code.)\n",
    "# This cell performs the following task:\n",
    "# (Add specific annotations here based on the logic in the cell)\n",
    "\n",
    "degree = weighted_degrees  #we go back to that variable that we defined a few cells before\n",
    "degree"
   ]
  },
  {
   "cell_type": "code",
   "execution_count": null,
   "id": "0967aced",
   "metadata": {},
   "outputs": [],
   "source": [
    "# ANNOTATION (auf Deutsch):\n",
    "# Dieser Code führt die folgende Aufgabe aus:\n",
    "# (Fügen Sie hier eine spezifische Erklärung hinzu, basierend auf dem Code.)\n",
    "# This cell performs the following task:\n",
    "# (Add specific annotations here based on the logic in the cell)\n",
    "\n",
    "node_sizes = [v * 5 for v in degree.values()] #we can play around the 5 value"
   ]
  },
  {
   "cell_type": "code",
   "execution_count": null,
   "id": "0c41d2dd",
   "metadata": {},
   "outputs": [],
   "source": [
    "# ANNOTATION (auf Deutsch):\n",
    "# Dieser Code führt die folgende Aufgabe aus:\n",
    "# (Fügen Sie hier eine spezifische Erklärung hinzu, basierend auf dem Code.)\n",
    "# This cell performs the following task:\n",
    "# (Add specific annotations here based on the logic in the cell)\n",
    "\n",
    "nx.draw(G, node_size=node_sizes, with_labels=True)\n",
    "\n",
    "plt.axis(\"off\")\n",
    "plt.show()"
   ]
  },
  {
   "cell_type": "markdown",
   "id": "4d78361b",
   "metadata": {},
   "source": [
    "Voilá! There we have our network. We can now proceed to do some cool visualizations. For example, we can use colours to bring attention to the Hub in the network (Phileas Fogg), indicate the second and their weighted degree nodes (Jean Passepartout and Auda), and change the colour of the other nodes in the network."
   ]
  },
  {
   "cell_type": "code",
   "execution_count": null,
   "id": "8c1df700",
   "metadata": {},
   "outputs": [],
   "source": [
    "# ANNOTATION (auf Deutsch):\n",
    "# Dieser Code führt die folgende Aufgabe aus:\n",
    "# (Fügen Sie hier eine spezifische Erklärung hinzu, basierend auf dem Code.)\n",
    "# This cell performs the following task:\n",
    "# (Add specific annotations here based on the logic in the cell)\n",
    "\n",
    "node_colors = [\"red\" if n == \"Phileas Fogg\" else \"pink\" if n == \"Aouda\" else \"yellow\" if n == \"Jean Passepartout\"\n",
    "               else \"green\" for n in G.nodes()]"
   ]
  },
  {
   "cell_type": "code",
   "execution_count": null,
   "id": "cd948e37",
   "metadata": {},
   "outputs": [],
   "source": [
    "# ANNOTATION (auf Deutsch):\n",
    "# Dieser Code führt die folgende Aufgabe aus:\n",
    "# (Fügen Sie hier eine spezifische Erklärung hinzu, basierend auf dem Code.)\n",
    "# This cell performs the following task:\n",
    "# (Add specific annotations here based on the logic in the cell)\n",
    "\n",
    "nx.draw(G, node_size = node_sizes, with_labels = True, node_color = node_colors)\n",
    "\n",
    "plt.axis(\"off\")\n",
    "plt.show()"
   ]
  },
  {
   "cell_type": "markdown",
   "id": "eb2511ee",
   "metadata": {},
   "source": [
    "# Exercise Ego Centric Networks"
   ]
  },
  {
   "cell_type": "markdown",
   "id": "ae988b47",
   "metadata": {},
   "source": [
    "### Content from: 2. Weighted Sociocentric Networks..ipynb"
   ]
  },
  {
   "cell_type": "markdown",
   "id": "2bad2636",
   "metadata": {},
   "source": [
    "#### Annotation:\n",
    "This section includes the content and logic from the original notebook. Annotations have been added to explain the purpose and function of each code cell."
   ]
  },
  {
   "cell_type": "markdown",
   "id": "ee4153f1",
   "metadata": {},
   "source": [
    "**References**: the majority of the scripts in this notebook come from adapting the previous one and asking questions to the language model **Perplexity AI** (for example: https://www.perplexity.ai/search/1fc28433-34c7-4240-a394-459ecb1475e1?s=u), which is a great way to teach-yourself how to write code!"
   ]
  },
  {
   "cell_type": "markdown",
   "id": "870bff31",
   "metadata": {},
   "source": [
    "# Modeling a Weighted Network of Around the World in Eighty Days"
   ]
  },
  {
   "cell_type": "markdown",
   "id": "a66bd35f",
   "metadata": {},
   "source": [
    "Now that we have calculated the social network (who knows whom) **Around the World in Eighty Days**, let's go one step further and let's calculate **how many times each character talks to each other**. So, book in hand, this time let's count not only when one character talks to each other once, but also how may times they do it. We will add one extra value in the edge part called \"weight\", where we will indicate with a number 1 every time there is a textual interaction.\n",
    "\n",
    "This is called a **weighted graph** (if you are interested about reading more, this is a good place to start: https://www.geeksforgeeks.org/applications-advantages-and-disadvantages-of-weighted-graph/). It adds extra information to unweighted graphs (like the one that we just built in the previous notebook). Let's see how these results either complement or contradict our previous ones!"
   ]
  },
  {
   "cell_type": "markdown",
   "id": "85c80f38",
   "metadata": {},
   "source": [
    "# 1. We import the libraries"
   ]
  },
  {
   "cell_type": "code",
   "execution_count": null,
   "id": "69bc086e",
   "metadata": {},
   "outputs": [],
   "source": [
    "# ANNOTATION (auf Deutsch):\n",
    "# Dieser Code führt die folgende Aufgabe aus:\n",
    "# (Fügen Sie hier eine spezifische Erklärung hinzu, basierend auf dem Code.)\n",
    "# This cell performs the following task:\n",
    "# (Add specific annotations here based on the logic in the cell)\n",
    "\n",
    "import networkx as nx\n",
    "import pandas as pd\n",
    "import matplotlib.pyplot as plt"
   ]
  },
  {
   "cell_type": "markdown",
   "id": "521a74e4",
   "metadata": {},
   "source": [
    "Then we create G (that we will use during all this notebook)."
   ]
  },
  {
   "cell_type": "code",
   "execution_count": null,
   "id": "a2f6b7df",
   "metadata": {},
   "outputs": [],
   "source": [
    "# ANNOTATION (auf Deutsch):\n",
    "# Dieser Code führt die folgende Aufgabe aus:\n",
    "# (Fügen Sie hier eine spezifische Erklärung hinzu, basierend auf dem Code.)\n",
    "# This cell performs the following task:\n",
    "# (Add specific annotations here based on the logic in the cell)\n",
    "\n",
    "G = nx.Graph()"
   ]
  },
  {
   "cell_type": "markdown",
   "id": "6f353cb9",
   "metadata": {},
   "source": [
    "Remember that with this command we can clear our network."
   ]
  },
  {
   "cell_type": "code",
   "execution_count": null,
   "id": "14aaef8e",
   "metadata": {},
   "outputs": [],
   "source": [
    "# ANNOTATION (auf Deutsch):\n",
    "# Dieser Code führt die folgende Aufgabe aus:\n",
    "# (Fügen Sie hier eine spezifische Erklärung hinzu, basierend auf dem Code.)\n",
    "# This cell performs the following task:\n",
    "# (Add specific annotations here based on the logic in the cell)\n",
    "\n",
    "G.clear()"
   ]
  },
  {
   "cell_type": "markdown",
   "id": "937447df",
   "metadata": {},
   "source": [
    "# 2. Characters"
   ]
  },
  {
   "cell_type": "markdown",
   "id": "d702662d",
   "metadata": {},
   "source": [
    "Now we transform every character into a node by writing each name inside **G.add_node()**, as we did before."
   ]
  },
  {
   "cell_type": "code",
   "execution_count": null,
   "id": "5345964a",
   "metadata": {},
   "outputs": [],
   "source": [
    "# ANNOTATION (auf Deutsch):\n",
    "# Dieser Code führt die folgende Aufgabe aus:\n",
    "# (Fügen Sie hier eine spezifische Erklärung hinzu, basierend auf dem Code.)\n",
    "# This cell performs the following task:\n",
    "# (Add specific annotations here based on the logic in the cell)\n",
    "\n",
    "G.add_node(\"Phileas Fogg\")"
   ]
  },
  {
   "cell_type": "code",
   "execution_count": null,
   "id": "9a83c609",
   "metadata": {},
   "outputs": [],
   "source": [
    "# ANNOTATION (auf Deutsch):\n",
    "# Dieser Code führt die folgende Aufgabe aus:\n",
    "# (Fügen Sie hier eine spezifische Erklärung hinzu, basierend auf dem Code.)\n",
    "# This cell performs the following task:\n",
    "# (Add specific annotations here based on the logic in the cell)\n",
    "\n",
    "G.add_node(\"Jean Passepartout\")"
   ]
  },
  {
   "cell_type": "code",
   "execution_count": null,
   "id": "3a6cc2ae",
   "metadata": {},
   "outputs": [],
   "source": [
    "# ANNOTATION (auf Deutsch):\n",
    "# Dieser Code führt die folgende Aufgabe aus:\n",
    "# (Fügen Sie hier eine spezifische Erklärung hinzu, basierend auf dem Code.)\n",
    "# This cell performs the following task:\n",
    "# (Add specific annotations here based on the logic in the cell)\n",
    "\n",
    "G.add_node(\"Thomas Flanagan\")"
   ]
  },
  {
   "cell_type": "code",
   "execution_count": null,
   "id": "96be7dd5",
   "metadata": {},
   "outputs": [],
   "source": [
    "# ANNOTATION (auf Deutsch):\n",
    "# Dieser Code führt die folgende Aufgabe aus:\n",
    "# (Fügen Sie hier eine spezifische Erklärung hinzu, basierend auf dem Code.)\n",
    "# This cell performs the following task:\n",
    "# (Add specific annotations here based on the logic in the cell)\n",
    "\n",
    "G.add_node(\"Gauthier Ralph\")"
   ]
  },
  {
   "cell_type": "code",
   "execution_count": null,
   "id": "66e3ed52",
   "metadata": {},
   "outputs": [],
   "source": [
    "# ANNOTATION (auf Deutsch):\n",
    "# Dieser Code führt die folgende Aufgabe aus:\n",
    "# (Fügen Sie hier eine spezifische Erklärung hinzu, basierend auf dem Code.)\n",
    "# This cell performs the following task:\n",
    "# (Add specific annotations here based on the logic in the cell)\n",
    "\n",
    "G.add_node(\"Andrew Stuart\")"
   ]
  },
  {
   "cell_type": "code",
   "execution_count": null,
   "id": "77a91d7c",
   "metadata": {},
   "outputs": [],
   "source": [
    "# ANNOTATION (auf Deutsch):\n",
    "# Dieser Code führt die folgende Aufgabe aus:\n",
    "# (Fügen Sie hier eine spezifische Erklärung hinzu, basierend auf dem Code.)\n",
    "# This cell performs the following task:\n",
    "# (Add specific annotations here based on the logic in the cell)\n",
    "\n",
    "G.add_node(\"John Sullivan\")"
   ]
  },
  {
   "cell_type": "code",
   "execution_count": null,
   "id": "c968d5df",
   "metadata": {},
   "outputs": [],
   "source": [
    "# ANNOTATION (auf Deutsch):\n",
    "# Dieser Code führt die folgende Aufgabe aus:\n",
    "# (Fügen Sie hier eine spezifische Erklärung hinzu, basierend auf dem Code.)\n",
    "# This cell performs the following task:\n",
    "# (Add specific annotations here based on the logic in the cell)\n",
    "\n",
    "G.add_node(\"Samuel Fallentin\")"
   ]
  },
  {
   "cell_type": "code",
   "execution_count": null,
   "id": "0743b5d1",
   "metadata": {},
   "outputs": [],
   "source": [
    "# ANNOTATION (auf Deutsch):\n",
    "# Dieser Code führt die folgende Aufgabe aus:\n",
    "# (Fügen Sie hier eine spezifische Erklärung hinzu, basierend auf dem Code.)\n",
    "# This cell performs the following task:\n",
    "# (Add specific annotations here based on the logic in the cell)\n",
    "\n",
    "G.add_node(\"Fix\")"
   ]
  },
  {
   "cell_type": "code",
   "execution_count": null,
   "id": "67404aa2",
   "metadata": {},
   "outputs": [],
   "source": [
    "# ANNOTATION (auf Deutsch):\n",
    "# Dieser Code führt die folgende Aufgabe aus:\n",
    "# (Fügen Sie hier eine spezifische Erklärung hinzu, basierend auf dem Code.)\n",
    "# This cell performs the following task:\n",
    "# (Add specific annotations here based on the logic in the cell)\n",
    "\n",
    "G.add_node(\"Consul\")"
   ]
  },
  {
   "cell_type": "code",
   "execution_count": null,
   "id": "46a76de7",
   "metadata": {},
   "outputs": [],
   "source": [
    "# ANNOTATION (auf Deutsch):\n",
    "# Dieser Code führt die folgende Aufgabe aus:\n",
    "# (Fügen Sie hier eine spezifische Erklärung hinzu, basierend auf dem Code.)\n",
    "# This cell performs the following task:\n",
    "# (Add specific annotations here based on the logic in the cell)\n",
    "\n",
    "G.add_node(\"Landlord\")"
   ]
  },
  {
   "cell_type": "code",
   "execution_count": null,
   "id": "3638bd61",
   "metadata": {},
   "outputs": [],
   "source": [
    "# ANNOTATION (auf Deutsch):\n",
    "# Dieser Code führt die folgende Aufgabe aus:\n",
    "# (Fügen Sie hier eine spezifische Erklärung hinzu, basierend auf dem Code.)\n",
    "# This cell performs the following task:\n",
    "# (Add specific annotations here based on the logic in the cell)\n",
    "\n",
    "G.add_node(\"Sir Francis Cromarty\")"
   ]
  },
  {
   "cell_type": "code",
   "execution_count": null,
   "id": "11583296",
   "metadata": {},
   "outputs": [],
   "source": [
    "# ANNOTATION (auf Deutsch):\n",
    "# Dieser Code führt die folgende Aufgabe aus:\n",
    "# (Fügen Sie hier eine spezifische Erklärung hinzu, basierend auf dem Code.)\n",
    "# This cell performs the following task:\n",
    "# (Add specific annotations here based on the logic in the cell)\n",
    "\n",
    "G.add_node(\"Conductor 1\")"
   ]
  },
  {
   "cell_type": "code",
   "execution_count": null,
   "id": "7bf09027",
   "metadata": {},
   "outputs": [],
   "source": [
    "# ANNOTATION (auf Deutsch):\n",
    "# Dieser Code führt die folgende Aufgabe aus:\n",
    "# (Fügen Sie hier eine spezifische Erklärung hinzu, basierend auf dem Code.)\n",
    "# This cell performs the following task:\n",
    "# (Add specific annotations here based on the logic in the cell)\n",
    "\n",
    "G.add_node(\"Parsee guide\")"
   ]
  },
  {
   "cell_type": "code",
   "execution_count": null,
   "id": "f366f044",
   "metadata": {},
   "outputs": [],
   "source": [
    "# ANNOTATION (auf Deutsch):\n",
    "# Dieser Code führt die folgende Aufgabe aus:\n",
    "# (Fügen Sie hier eine spezifische Erklärung hinzu, basierend auf dem Code.)\n",
    "# This cell performs the following task:\n",
    "# (Add specific annotations here based on the logic in the cell)\n",
    "\n",
    "G.add_node(\"Aouda\")"
   ]
  },
  {
   "cell_type": "code",
   "execution_count": null,
   "id": "099ec6f5",
   "metadata": {},
   "outputs": [],
   "source": [
    "# ANNOTATION (auf Deutsch):\n",
    "# Dieser Code führt die folgende Aufgabe aus:\n",
    "# (Fügen Sie hier eine spezifische Erklärung hinzu, basierend auf dem Code.)\n",
    "# This cell performs the following task:\n",
    "# (Add specific annotations here based on the logic in the cell)\n",
    "\n",
    "G.add_node(\"Policeman\")"
   ]
  },
  {
   "cell_type": "code",
   "execution_count": null,
   "id": "d23aa97a",
   "metadata": {},
   "outputs": [],
   "source": [
    "# ANNOTATION (auf Deutsch):\n",
    "# Dieser Code führt die folgende Aufgabe aus:\n",
    "# (Fügen Sie hier eine spezifische Erklärung hinzu, basierend auf dem Code.)\n",
    "# This cell performs the following task:\n",
    "# (Add specific annotations here based on the logic in the cell)\n",
    "\n",
    "G.add_node(\"Judge Obadiah\")"
   ]
  },
  {
   "cell_type": "code",
   "execution_count": null,
   "id": "968f5937",
   "metadata": {},
   "outputs": [],
   "source": [
    "# ANNOTATION (auf Deutsch):\n",
    "# Dieser Code führt die folgende Aufgabe aus:\n",
    "# (Fügen Sie hier eine spezifische Erklärung hinzu, basierend auf dem Code.)\n",
    "# This cell performs the following task:\n",
    "# (Add specific annotations here based on the logic in the cell)\n",
    "\n",
    "G.add_node(\"Clerk\")"
   ]
  },
  {
   "cell_type": "code",
   "execution_count": null,
   "id": "b3b5ac1e",
   "metadata": {},
   "outputs": [],
   "source": [
    "# ANNOTATION (auf Deutsch):\n",
    "# Dieser Code führt die folgende Aufgabe aus:\n",
    "# (Fügen Sie hier eine spezifische Erklärung hinzu, basierend auf dem Code.)\n",
    "# This cell performs the following task:\n",
    "# (Add specific annotations here based on the logic in the cell)\n",
    "\n",
    "G.add_node(\"Pilot\")"
   ]
  },
  {
   "cell_type": "code",
   "execution_count": null,
   "id": "37bd2ce2",
   "metadata": {},
   "outputs": [],
   "source": [
    "# ANNOTATION (auf Deutsch):\n",
    "# Dieser Code führt die folgende Aufgabe aus:\n",
    "# (Fügen Sie hier eine spezifische Erklärung hinzu, basierend auf dem Code.)\n",
    "# This cell performs the following task:\n",
    "# (Add specific annotations here based on the logic in the cell)\n",
    "\n",
    "G.add_node(\"Sailor\")"
   ]
  },
  {
   "cell_type": "code",
   "execution_count": null,
   "id": "cf7bba40",
   "metadata": {},
   "outputs": [],
   "source": [
    "# ANNOTATION (auf Deutsch):\n",
    "# Dieser Code führt die folgende Aufgabe aus:\n",
    "# (Fügen Sie hier eine spezifische Erklärung hinzu, basierend auf dem Code.)\n",
    "# This cell performs the following task:\n",
    "# (Add specific annotations here based on the logic in the cell)\n",
    "\n",
    "G.add_node(\"Mr. Batulcar\")"
   ]
  },
  {
   "cell_type": "code",
   "execution_count": null,
   "id": "c8d3e6e2",
   "metadata": {},
   "outputs": [],
   "source": [
    "# ANNOTATION (auf Deutsch):\n",
    "# Dieser Code führt die folgende Aufgabe aus:\n",
    "# (Fügen Sie hier eine spezifische Erklärung hinzu, basierend auf dem Code.)\n",
    "# This cell performs the following task:\n",
    "# (Add specific annotations here based on the logic in the cell)\n",
    "\n",
    "G.add_node(\"Elder William Hitch\")"
   ]
  },
  {
   "cell_type": "code",
   "execution_count": null,
   "id": "15d16924",
   "metadata": {},
   "outputs": [],
   "source": [
    "# ANNOTATION (auf Deutsch):\n",
    "# Dieser Code führt die folgende Aufgabe aus:\n",
    "# (Fügen Sie hier eine spezifische Erklärung hinzu, basierend auf dem Code.)\n",
    "# This cell performs the following task:\n",
    "# (Add specific annotations here based on the logic in the cell)\n",
    "\n",
    "G.add_node(\"Colonel Proctor\")"
   ]
  },
  {
   "cell_type": "code",
   "execution_count": null,
   "id": "e6309fc6",
   "metadata": {},
   "outputs": [],
   "source": [
    "# ANNOTATION (auf Deutsch):\n",
    "# Dieser Code führt die folgende Aufgabe aus:\n",
    "# (Fügen Sie hier eine spezifische Erklärung hinzu, basierend auf dem Code.)\n",
    "# This cell performs the following task:\n",
    "# (Add specific annotations here based on the logic in the cell)\n",
    "\n",
    "G.add_node(\"Conductor\")"
   ]
  },
  {
   "cell_type": "code",
   "execution_count": null,
   "id": "fd610a52",
   "metadata": {},
   "outputs": [],
   "source": [
    "# ANNOTATION (auf Deutsch):\n",
    "# Dieser Code führt die folgende Aufgabe aus:\n",
    "# (Fügen Sie hier eine spezifische Erklärung hinzu, basierend auf dem Code.)\n",
    "# This cell performs the following task:\n",
    "# (Add specific annotations here based on the logic in the cell)\n",
    "\n",
    "G.add_node(\"Forster\")"
   ]
  },
  {
   "cell_type": "code",
   "execution_count": null,
   "id": "7a827832",
   "metadata": {},
   "outputs": [],
   "source": [
    "# ANNOTATION (auf Deutsch):\n",
    "# Dieser Code führt die folgende Aufgabe aus:\n",
    "# (Fügen Sie hier eine spezifische Erklärung hinzu, basierend auf dem Code.)\n",
    "# This cell performs the following task:\n",
    "# (Add specific annotations here based on the logic in the cell)\n",
    "\n",
    "G.add_node(\"Passenger\")"
   ]
  },
  {
   "cell_type": "code",
   "execution_count": null,
   "id": "6ed33374",
   "metadata": {},
   "outputs": [],
   "source": [
    "# ANNOTATION (auf Deutsch):\n",
    "# Dieser Code führt die folgende Aufgabe aus:\n",
    "# (Fügen Sie hier eine spezifische Erklärung hinzu, basierend auf dem Code.)\n",
    "# This cell performs the following task:\n",
    "# (Add specific annotations here based on the logic in the cell)\n",
    "\n",
    "G.add_node(\"Captain\")"
   ]
  },
  {
   "cell_type": "code",
   "execution_count": null,
   "id": "3c2afac0",
   "metadata": {},
   "outputs": [],
   "source": [
    "# ANNOTATION (auf Deutsch):\n",
    "# Dieser Code führt die folgende Aufgabe aus:\n",
    "# (Fügen Sie hier eine spezifische Erklärung hinzu, basierend auf dem Code.)\n",
    "# This cell performs the following task:\n",
    "# (Add specific annotations here based on the logic in the cell)\n",
    "\n",
    "G.add_node(\"Andrew Speedy\")"
   ]
  },
  {
   "cell_type": "markdown",
   "id": "f9232bc9",
   "metadata": {},
   "source": [
    "# 2. Textual Interactions"
   ]
  },
  {
   "cell_type": "markdown",
   "id": "cd966c84",
   "metadata": {},
   "source": [
    "Now we add one new variable, \"weight = X\", where we include the number of times there is a dialogue between two characters. So: old school style, we grab the script, and with lots of patience, we just count dialogues (specifically: we count number of lines in each dialogue. For example: \n",
    "\n",
    "* **Phileas Fogg**: Good morning Passepartout!\n",
    "* **Passepartout**: Good morning sir!\n",
    "\n",
    "That would be represented as: \n",
    "\n",
    "**G.add_edge(\"Phileas Fogg\", \"Jean Passepartout\", weight = 2)** "
   ]
  },
  {
   "cell_type": "code",
   "execution_count": null,
   "id": "4afebda1",
   "metadata": {},
   "outputs": [],
   "source": [
    "# ANNOTATION (auf Deutsch):\n",
    "# Dieser Code führt die folgende Aufgabe aus:\n",
    "# (Fügen Sie hier eine spezifische Erklärung hinzu, basierend auf dem Code.)\n",
    "# This cell performs the following task:\n",
    "# (Add specific annotations here based on the logic in the cell)\n",
    "\n",
    "G.add_edge(\"Phileas Fogg\", \"Jean Passepartout\", weight = 71) "
   ]
  },
  {
   "cell_type": "code",
   "execution_count": null,
   "id": "fde83e03",
   "metadata": {},
   "outputs": [],
   "source": [
    "# ANNOTATION (auf Deutsch):\n",
    "# Dieser Code führt die folgende Aufgabe aus:\n",
    "# (Fügen Sie hier eine spezifische Erklärung hinzu, basierend auf dem Code.)\n",
    "# This cell performs the following task:\n",
    "# (Add specific annotations here based on the logic in the cell)\n",
    "\n",
    "G.add_edge(\"Thomas Flanagan\", \"Gauthier Ralph\", weight = 2) "
   ]
  },
  {
   "cell_type": "code",
   "execution_count": null,
   "id": "96064657",
   "metadata": {},
   "outputs": [],
   "source": [
    "# ANNOTATION (auf Deutsch):\n",
    "# Dieser Code führt die folgende Aufgabe aus:\n",
    "# (Fügen Sie hier eine spezifische Erklärung hinzu, basierend auf dem Code.)\n",
    "# This cell performs the following task:\n",
    "# (Add specific annotations here based on the logic in the cell)\n",
    "\n",
    "G.add_edge(\"Andrew Stuart\", \"Thomas Flanagan\", weight = 2) "
   ]
  },
  {
   "cell_type": "code",
   "execution_count": null,
   "id": "7980f1e8",
   "metadata": {},
   "outputs": [],
   "source": [
    "# ANNOTATION (auf Deutsch):\n",
    "# Dieser Code führt die folgende Aufgabe aus:\n",
    "# (Fügen Sie hier eine spezifische Erklärung hinzu, basierend auf dem Code.)\n",
    "# This cell performs the following task:\n",
    "# (Add specific annotations here based on the logic in the cell)\n",
    "\n",
    "G.add_edge(\"Gauthier Ralph\", \"Andrew Stuart\", weight = 16) "
   ]
  },
  {
   "cell_type": "code",
   "execution_count": null,
   "id": "457f26dd",
   "metadata": {},
   "outputs": [],
   "source": [
    "# ANNOTATION (auf Deutsch):\n",
    "# Dieser Code führt die folgende Aufgabe aus:\n",
    "# (Fügen Sie hier eine spezifische Erklärung hinzu, basierend auf dem Code.)\n",
    "# This cell performs the following task:\n",
    "# (Add specific annotations here based on the logic in the cell)\n",
    "\n",
    "G.add_edge(\"Phileas Fogg\", \"Andrew Stuart\", weight = 30) "
   ]
  },
  {
   "cell_type": "code",
   "execution_count": null,
   "id": "0a0e780d",
   "metadata": {},
   "outputs": [],
   "source": [
    "# ANNOTATION (auf Deutsch):\n",
    "# Dieser Code führt die folgende Aufgabe aus:\n",
    "# (Fügen Sie hier eine spezifische Erklärung hinzu, basierend auf dem Code.)\n",
    "# This cell performs the following task:\n",
    "# (Add specific annotations here based on the logic in the cell)\n",
    "\n",
    "G.add_edge(\"Samuel Fallentin\", \"Andrew Stuart\", weight = 3) "
   ]
  },
  {
   "cell_type": "code",
   "execution_count": null,
   "id": "5c82e224",
   "metadata": {},
   "outputs": [],
   "source": [
    "# ANNOTATION (auf Deutsch):\n",
    "# Dieser Code führt die folgende Aufgabe aus:\n",
    "# (Fügen Sie hier eine spezifische Erklärung hinzu, basierend auf dem Code.)\n",
    "# This cell performs the following task:\n",
    "# (Add specific annotations here based on the logic in the cell)\n",
    "\n",
    "G.add_edge(\"John Sullivan\", \"Phileas Fogg\", weight = 9) "
   ]
  },
  {
   "cell_type": "code",
   "execution_count": null,
   "id": "35f96be0",
   "metadata": {},
   "outputs": [],
   "source": [
    "# ANNOTATION (auf Deutsch):\n",
    "# Dieser Code führt die folgende Aufgabe aus:\n",
    "# (Fügen Sie hier eine spezifische Erklärung hinzu, basierend auf dem Code.)\n",
    "# This cell performs the following task:\n",
    "# (Add specific annotations here based on the logic in the cell)\n",
    "\n",
    "G.add_edge(\"Fix\", \"Consul\", weight = 39) "
   ]
  },
  {
   "cell_type": "code",
   "execution_count": null,
   "id": "51185c56",
   "metadata": {},
   "outputs": [],
   "source": [
    "# ANNOTATION (auf Deutsch):\n",
    "# Dieser Code führt die folgende Aufgabe aus:\n",
    "# (Fügen Sie hier eine spezifische Erklärung hinzu, basierend auf dem Code.)\n",
    "# This cell performs the following task:\n",
    "# (Add specific annotations here based on the logic in the cell)\n",
    "\n",
    "G.add_edge(\"Phileas Fogg\", \"Consul\", weight = 11) "
   ]
  },
  {
   "cell_type": "code",
   "execution_count": null,
   "id": "a8996c36",
   "metadata": {},
   "outputs": [],
   "source": [
    "# ANNOTATION (auf Deutsch):\n",
    "# Dieser Code führt die folgende Aufgabe aus:\n",
    "# (Fügen Sie hier eine spezifische Erklärung hinzu, basierend auf dem Code.)\n",
    "# This cell performs the following task:\n",
    "# (Add specific annotations here based on the logic in the cell)\n",
    "\n",
    "G.add_edge(\"Fix\", \"Jean Passepartout\", weight = 168) "
   ]
  },
  {
   "cell_type": "code",
   "execution_count": null,
   "id": "1bcb1c5d",
   "metadata": {},
   "outputs": [],
   "source": [
    "# ANNOTATION (auf Deutsch):\n",
    "# Dieser Code führt die folgende Aufgabe aus:\n",
    "# (Fügen Sie hier eine spezifische Erklärung hinzu, basierend auf dem Code.)\n",
    "# This cell performs the following task:\n",
    "# (Add specific annotations here based on the logic in the cell)\n",
    "\n",
    "G.add_edge(\"Phileas Fogg\", \"Landlord\", weight = 7) "
   ]
  },
  {
   "cell_type": "code",
   "execution_count": null,
   "id": "891bcbe6",
   "metadata": {},
   "outputs": [],
   "source": [
    "# ANNOTATION (auf Deutsch):\n",
    "# Dieser Code führt die folgende Aufgabe aus:\n",
    "# (Fügen Sie hier eine spezifische Erklärung hinzu, basierend auf dem Code.)\n",
    "# This cell performs the following task:\n",
    "# (Add specific annotations here based on the logic in the cell)\n",
    "\n",
    "G.add_edge(\"Phileas Fogg\", \"Sir Francis Cromarty\", weight = 22) "
   ]
  },
  {
   "cell_type": "code",
   "execution_count": null,
   "id": "54fd2db4",
   "metadata": {},
   "outputs": [],
   "source": [
    "# ANNOTATION (auf Deutsch):\n",
    "# Dieser Code führt die folgende Aufgabe aus:\n",
    "# (Fügen Sie hier eine spezifische Erklärung hinzu, basierend auf dem Code.)\n",
    "# This cell performs the following task:\n",
    "# (Add specific annotations here based on the logic in the cell)\n",
    "\n",
    "G.add_edge(\"Jean Passepartout\", \"Sir Francis Cromarty\", weight = 9) "
   ]
  },
  {
   "cell_type": "code",
   "execution_count": null,
   "id": "18101416",
   "metadata": {},
   "outputs": [],
   "source": [
    "# ANNOTATION (auf Deutsch):\n",
    "# Dieser Code führt die folgende Aufgabe aus:\n",
    "# (Fügen Sie hier eine spezifische Erklärung hinzu, basierend auf dem Code.)\n",
    "# This cell performs the following task:\n",
    "# (Add specific annotations here based on the logic in the cell)\n",
    "\n",
    "G.add_edge(\"Conductor 1\", \"Sir Francis Cromarty\", weight = 10) "
   ]
  },
  {
   "cell_type": "code",
   "execution_count": null,
   "id": "dbfd9253",
   "metadata": {},
   "outputs": [],
   "source": [
    "# ANNOTATION (auf Deutsch):\n",
    "# Dieser Code führt die folgende Aufgabe aus:\n",
    "# (Fügen Sie hier eine spezifische Erklärung hinzu, basierend auf dem Code.)\n",
    "# This cell performs the following task:\n",
    "# (Add specific annotations here based on the logic in the cell)\n",
    "\n",
    "G.add_edge(\"Parsee guide\", \"Sir Francis Cromarty\", weight = 16) "
   ]
  },
  {
   "cell_type": "code",
   "execution_count": null,
   "id": "0b8df4a6",
   "metadata": {},
   "outputs": [],
   "source": [
    "# ANNOTATION (auf Deutsch):\n",
    "# Dieser Code führt die folgende Aufgabe aus:\n",
    "# (Fügen Sie hier eine spezifische Erklärung hinzu, basierend auf dem Code.)\n",
    "# This cell performs the following task:\n",
    "# (Add specific annotations here based on the logic in the cell)\n",
    "\n",
    "G.add_edge(\"Parsee guide\", \"Jean Passepartout\", weight = 3) "
   ]
  },
  {
   "cell_type": "code",
   "execution_count": null,
   "id": "3f94013d",
   "metadata": {},
   "outputs": [],
   "source": [
    "# ANNOTATION (auf Deutsch):\n",
    "# Dieser Code führt die folgende Aufgabe aus:\n",
    "# (Fügen Sie hier eine spezifische Erklärung hinzu, basierend auf dem Code.)\n",
    "# This cell performs the following task:\n",
    "# (Add specific annotations here based on the logic in the cell)\n",
    "\n",
    "G.add_edge(\"Parsee guide\", \"Phileas Fogg\", weight = 11) "
   ]
  },
  {
   "cell_type": "code",
   "execution_count": null,
   "id": "8fb52d01",
   "metadata": {},
   "outputs": [],
   "source": [
    "# ANNOTATION (auf Deutsch):\n",
    "# Dieser Code führt die folgende Aufgabe aus:\n",
    "# (Fügen Sie hier eine spezifische Erklärung hinzu, basierend auf dem Code.)\n",
    "# This cell performs the following task:\n",
    "# (Add specific annotations here based on the logic in the cell)\n",
    "\n",
    "G.add_edge(\"Policeman\", \"Phileas Fogg\", weight = 8) "
   ]
  },
  {
   "cell_type": "code",
   "execution_count": null,
   "id": "96cbc1f3",
   "metadata": {},
   "outputs": [],
   "source": [
    "# ANNOTATION (auf Deutsch):\n",
    "# Dieser Code führt die folgende Aufgabe aus:\n",
    "# (Fügen Sie hier eine spezifische Erklärung hinzu, basierend auf dem Code.)\n",
    "# This cell performs the following task:\n",
    "# (Add specific annotations here based on the logic in the cell)\n",
    "\n",
    "G.add_edge(\"Policeman\", \"Jean Passepartout\", weight = 2) "
   ]
  },
  {
   "cell_type": "code",
   "execution_count": null,
   "id": "2b672285",
   "metadata": {},
   "outputs": [],
   "source": [
    "# ANNOTATION (auf Deutsch):\n",
    "# Dieser Code führt die folgende Aufgabe aus:\n",
    "# (Fügen Sie hier eine spezifische Erklärung hinzu, basierend auf dem Code.)\n",
    "# This cell performs the following task:\n",
    "# (Add specific annotations here based on the logic in the cell)\n",
    "\n",
    "G.add_edge(\"Aouda\", \"Phileas Fogg\", weight = 47) "
   ]
  },
  {
   "cell_type": "code",
   "execution_count": null,
   "id": "10bcd052",
   "metadata": {},
   "outputs": [],
   "source": [
    "# ANNOTATION (auf Deutsch):\n",
    "# Dieser Code führt die folgende Aufgabe aus:\n",
    "# (Fügen Sie hier eine spezifische Erklärung hinzu, basierend auf dem Code.)\n",
    "# This cell performs the following task:\n",
    "# (Add specific annotations here based on the logic in the cell)\n",
    "\n",
    "G.add_edge(\"Clerk\", \"Judge Obadiah\", weight = 4) "
   ]
  },
  {
   "cell_type": "code",
   "execution_count": null,
   "id": "ade554a8",
   "metadata": {},
   "outputs": [],
   "source": [
    "# ANNOTATION (auf Deutsch):\n",
    "# Dieser Code führt die folgende Aufgabe aus:\n",
    "# (Fügen Sie hier eine spezifische Erklärung hinzu, basierend auf dem Code.)\n",
    "# This cell performs the following task:\n",
    "# (Add specific annotations here based on the logic in the cell)\n",
    "\n",
    "G.add_edge(\"Phileas Fogg\", \"Judge Obadiah\", weight = 15) "
   ]
  },
  {
   "cell_type": "code",
   "execution_count": null,
   "id": "d051253b",
   "metadata": {},
   "outputs": [],
   "source": [
    "# ANNOTATION (auf Deutsch):\n",
    "# Dieser Code führt die folgende Aufgabe aus:\n",
    "# (Fügen Sie hier eine spezifische Erklärung hinzu, basierend auf dem Code.)\n",
    "# This cell performs the following task:\n",
    "# (Add specific annotations here based on the logic in the cell)\n",
    "\n",
    "G.add_edge(\"Jean Passepartout\", \"Judge Obadiah\", weight = 12) "
   ]
  },
  {
   "cell_type": "code",
   "execution_count": null,
   "id": "4b53029f",
   "metadata": {},
   "outputs": [],
   "source": [
    "# ANNOTATION (auf Deutsch):\n",
    "# Dieser Code führt die folgende Aufgabe aus:\n",
    "# (Fügen Sie hier eine spezifische Erklärung hinzu, basierend auf dem Code.)\n",
    "# This cell performs the following task:\n",
    "# (Add specific annotations here based on the logic in the cell)\n",
    "\n",
    "G.add_edge(\"Jean Passepartout\", \"Clerk\", weight = 2) "
   ]
  },
  {
   "cell_type": "code",
   "execution_count": null,
   "id": "bf4c32ea",
   "metadata": {},
   "outputs": [],
   "source": [
    "# ANNOTATION (auf Deutsch):\n",
    "# Dieser Code führt die folgende Aufgabe aus:\n",
    "# (Fügen Sie hier eine spezifische Erklärung hinzu, basierend auf dem Code.)\n",
    "# This cell performs the following task:\n",
    "# (Add specific annotations here based on the logic in the cell)\n",
    "\n",
    "G.add_edge(\"Pilot\", \"Phileas Fogg\", weight = 35) "
   ]
  },
  {
   "cell_type": "code",
   "execution_count": null,
   "id": "5420f640",
   "metadata": {},
   "outputs": [],
   "source": [
    "# ANNOTATION (auf Deutsch):\n",
    "# Dieser Code führt die folgende Aufgabe aus:\n",
    "# (Fügen Sie hier eine spezifische Erklärung hinzu, basierend auf dem Code.)\n",
    "# This cell performs the following task:\n",
    "# (Add specific annotations here based on the logic in the cell)\n",
    "\n",
    "G.add_edge(\"Fix\", \"Phileas Fogg\", weight = 43) "
   ]
  },
  {
   "cell_type": "code",
   "execution_count": null,
   "id": "2dbe9d56",
   "metadata": {},
   "outputs": [],
   "source": [
    "# ANNOTATION (auf Deutsch):\n",
    "# Dieser Code führt die folgende Aufgabe aus:\n",
    "# (Fügen Sie hier eine spezifische Erklärung hinzu, basierend auf dem Code.)\n",
    "# This cell performs the following task:\n",
    "# (Add specific annotations here based on the logic in the cell)\n",
    "\n",
    "G.add_edge(\"Fix\", \"Aouda\", weight = 10) "
   ]
  },
  {
   "cell_type": "code",
   "execution_count": null,
   "id": "8dd9aba8",
   "metadata": {},
   "outputs": [],
   "source": [
    "# ANNOTATION (auf Deutsch):\n",
    "# Dieser Code führt die folgende Aufgabe aus:\n",
    "# (Fügen Sie hier eine spezifische Erklärung hinzu, basierend auf dem Code.)\n",
    "# This cell performs the following task:\n",
    "# (Add specific annotations here based on the logic in the cell)\n",
    "\n",
    "G.add_edge(\"Sailor\", \"Phileas Fogg\", weight = 31) "
   ]
  },
  {
   "cell_type": "code",
   "execution_count": null,
   "id": "b7c6408f",
   "metadata": {},
   "outputs": [],
   "source": [
    "# ANNOTATION (auf Deutsch):\n",
    "# Dieser Code führt die folgende Aufgabe aus:\n",
    "# (Fügen Sie hier eine spezifische Erklärung hinzu, basierend auf dem Code.)\n",
    "# This cell performs the following task:\n",
    "# (Add specific annotations here based on the logic in the cell)\n",
    "\n",
    "G.add_edge(\"Mr. Batulcar\", \"Jean Passepartout\", weight = 22) "
   ]
  },
  {
   "cell_type": "code",
   "execution_count": null,
   "id": "e8f9f8a6",
   "metadata": {},
   "outputs": [],
   "source": [
    "# ANNOTATION (auf Deutsch):\n",
    "# Dieser Code führt die folgende Aufgabe aus:\n",
    "# (Fügen Sie hier eine spezifische Erklärung hinzu, basierend auf dem Code.)\n",
    "# This cell performs the following task:\n",
    "# (Add specific annotations here based on the logic in the cell)\n",
    "\n",
    "G.add_edge(\"Phileas Fogg\", \"Colonel Proctor\", weight = 25) "
   ]
  },
  {
   "cell_type": "code",
   "execution_count": null,
   "id": "e313772c",
   "metadata": {},
   "outputs": [],
   "source": [
    "# ANNOTATION (auf Deutsch):\n",
    "# Dieser Code führt die folgende Aufgabe aus:\n",
    "# (Fügen Sie hier eine spezifische Erklärung hinzu, basierend auf dem Code.)\n",
    "# This cell performs the following task:\n",
    "# (Add specific annotations here based on the logic in the cell)\n",
    "\n",
    "G.add_edge(\"Elder William Hitch\", \"Jean Passepartout\", weight = 2) "
   ]
  },
  {
   "cell_type": "code",
   "execution_count": null,
   "id": "0202f142",
   "metadata": {},
   "outputs": [],
   "source": [
    "# ANNOTATION (auf Deutsch):\n",
    "# Dieser Code führt die folgende Aufgabe aus:\n",
    "# (Fügen Sie hier eine spezifische Erklärung hinzu, basierend auf dem Code.)\n",
    "# This cell performs the following task:\n",
    "# (Add specific annotations here based on the logic in the cell)\n",
    "\n",
    "G.add_edge(\"Colonel Proctor\", \"Conductor\", weight = 7)"
   ]
  },
  {
   "cell_type": "code",
   "execution_count": null,
   "id": "9ea15dff",
   "metadata": {},
   "outputs": [],
   "source": [
    "# ANNOTATION (auf Deutsch):\n",
    "# Dieser Code führt die folgende Aufgabe aus:\n",
    "# (Fügen Sie hier eine spezifische Erklärung hinzu, basierend auf dem Code.)\n",
    "# This cell performs the following task:\n",
    "# (Add specific annotations here based on the logic in the cell)\n",
    "\n",
    "G.add_edge(\"Colonel Proctor\", \"Jean Passepartout\", weight = 4)"
   ]
  },
  {
   "cell_type": "code",
   "execution_count": null,
   "id": "cfefe58d",
   "metadata": {},
   "outputs": [],
   "source": [
    "# ANNOTATION (auf Deutsch):\n",
    "# Dieser Code führt die folgende Aufgabe aus:\n",
    "# (Fügen Sie hier eine spezifische Erklärung hinzu, basierend auf dem Code.)\n",
    "# This cell performs the following task:\n",
    "# (Add specific annotations here based on the logic in the cell)\n",
    "\n",
    "G.add_edge(\"Forster\", \"Conductor\", weight = 2)"
   ]
  },
  {
   "cell_type": "code",
   "execution_count": null,
   "id": "d720a346",
   "metadata": {},
   "outputs": [],
   "source": [
    "# ANNOTATION (auf Deutsch):\n",
    "# Dieser Code führt die folgende Aufgabe aus:\n",
    "# (Fügen Sie hier eine spezifische Erklärung hinzu, basierend auf dem Code.)\n",
    "# This cell performs the following task:\n",
    "# (Add specific annotations here based on the logic in the cell)\n",
    "\n",
    "G.add_edge(\"Forster\", \"Jean Passepartout\", weight = 2)"
   ]
  },
  {
   "cell_type": "code",
   "execution_count": null,
   "id": "ee8f903e",
   "metadata": {},
   "outputs": [],
   "source": [
    "# ANNOTATION (auf Deutsch):\n",
    "# Dieser Code führt die folgende Aufgabe aus:\n",
    "# (Fügen Sie hier eine spezifische Erklärung hinzu, basierend auf dem Code.)\n",
    "# This cell performs the following task:\n",
    "# (Add specific annotations here based on the logic in the cell)\n",
    "\n",
    "G.add_edge(\"Passenger\", \"Jean Passepartout\", weight = 2)"
   ]
  },
  {
   "cell_type": "code",
   "execution_count": null,
   "id": "39e93a02",
   "metadata": {},
   "outputs": [],
   "source": [
    "# ANNOTATION (auf Deutsch):\n",
    "# Dieser Code führt die folgende Aufgabe aus:\n",
    "# (Fügen Sie hier eine spezifische Erklärung hinzu, basierend auf dem Code.)\n",
    "# This cell performs the following task:\n",
    "# (Add specific annotations here based on the logic in the cell)\n",
    "\n",
    "G.add_edge(\"Fix\", \"Colonel Proctor\", weight = 2) "
   ]
  },
  {
   "cell_type": "code",
   "execution_count": null,
   "id": "14198420",
   "metadata": {},
   "outputs": [],
   "source": [
    "# ANNOTATION (auf Deutsch):\n",
    "# Dieser Code führt die folgende Aufgabe aus:\n",
    "# (Fügen Sie hier eine spezifische Erklärung hinzu, basierend auf dem Code.)\n",
    "# This cell performs the following task:\n",
    "# (Add specific annotations here based on the logic in the cell)\n",
    "\n",
    "G.add_edge(\"Phileas Fogg\", \"Captain\", weight = 32) "
   ]
  },
  {
   "cell_type": "code",
   "execution_count": null,
   "id": "4f1e200a",
   "metadata": {},
   "outputs": [],
   "source": [
    "# ANNOTATION (auf Deutsch):\n",
    "# Dieser Code führt die folgende Aufgabe aus:\n",
    "# (Fügen Sie hier eine spezifische Erklärung hinzu, basierend auf dem Code.)\n",
    "# This cell performs the following task:\n",
    "# (Add specific annotations here based on the logic in the cell)\n",
    "\n",
    "G.add_edge(\"Fix\", \"Captain\", weight = 3) "
   ]
  },
  {
   "cell_type": "code",
   "execution_count": null,
   "id": "edcc3ba1",
   "metadata": {},
   "outputs": [],
   "source": [
    "# ANNOTATION (auf Deutsch):\n",
    "# Dieser Code führt die folgende Aufgabe aus:\n",
    "# (Fügen Sie hier eine spezifische Erklärung hinzu, basierend auf dem Code.)\n",
    "# This cell performs the following task:\n",
    "# (Add specific annotations here based on the logic in the cell)\n",
    "\n",
    "G.add_edge(\"Aouda\", \"Conductor\", weight = 8)"
   ]
  },
  {
   "cell_type": "code",
   "execution_count": null,
   "id": "1825a4d6",
   "metadata": {},
   "outputs": [],
   "source": [
    "# ANNOTATION (auf Deutsch):\n",
    "# Dieser Code führt die folgende Aufgabe aus:\n",
    "# (Fügen Sie hier eine spezifische Erklärung hinzu, basierend auf dem Code.)\n",
    "# This cell performs the following task:\n",
    "# (Add specific annotations here based on the logic in the cell)\n",
    "\n",
    "G.add_edge(\"Andrew Speedy\", \"Phileas Fogg\", weight = 36)"
   ]
  },
  {
   "cell_type": "code",
   "execution_count": null,
   "id": "44a761e7",
   "metadata": {},
   "outputs": [],
   "source": [
    "# ANNOTATION (auf Deutsch):\n",
    "# Dieser Code führt die folgende Aufgabe aus:\n",
    "# (Fügen Sie hier eine spezifische Erklärung hinzu, basierend auf dem Code.)\n",
    "# This cell performs the following task:\n",
    "# (Add specific annotations here based on the logic in the cell)\n",
    "\n",
    "G.add_edge(\"John Sullivan\", \"Andrew Stuart\", weight = 1) "
   ]
  },
  {
   "cell_type": "markdown",
   "id": "bdd1cddc",
   "metadata": {},
   "source": [
    "# 3. Checking the structure of our network"
   ]
  },
  {
   "cell_type": "markdown",
   "id": "aeaf323b",
   "metadata": {},
   "source": [
    "Now let's have a look at the number of nodes that we have."
   ]
  },
  {
   "cell_type": "code",
   "execution_count": null,
   "id": "a0ada837",
   "metadata": {},
   "outputs": [],
   "source": [
    "# ANNOTATION (auf Deutsch):\n",
    "# Dieser Code führt die folgende Aufgabe aus:\n",
    "# (Fügen Sie hier eine spezifische Erklärung hinzu, basierend auf dem Code.)\n",
    "# This cell performs the following task:\n",
    "# (Add specific annotations here based on the logic in the cell)\n",
    "\n",
    "G.number_of_nodes()"
   ]
  },
  {
   "cell_type": "code",
   "execution_count": null,
   "id": "0815dd71",
   "metadata": {},
   "outputs": [],
   "source": [
    "# ANNOTATION (auf Deutsch):\n",
    "# Dieser Code führt die folgende Aufgabe aus:\n",
    "# (Fügen Sie hier eine spezifische Erklärung hinzu, basierend auf dem Code.)\n",
    "# This cell performs the following task:\n",
    "# (Add specific annotations here based on the logic in the cell)\n",
    "\n",
    "list(G.nodes)"
   ]
  },
  {
   "cell_type": "markdown",
   "id": "8ac9e319",
   "metadata": {},
   "source": [
    "Let's do the same with the edges."
   ]
  },
  {
   "cell_type": "code",
   "execution_count": null,
   "id": "d21fea52",
   "metadata": {},
   "outputs": [],
   "source": [
    "# ANNOTATION (auf Deutsch):\n",
    "# Dieser Code führt die folgende Aufgabe aus:\n",
    "# (Fügen Sie hier eine spezifische Erklärung hinzu, basierend auf dem Code.)\n",
    "# This cell performs the following task:\n",
    "# (Add specific annotations here based on the logic in the cell)\n",
    "\n",
    "list(G.nodes)"
   ]
  },
  {
   "cell_type": "code",
   "execution_count": null,
   "id": "937ed72f",
   "metadata": {},
   "outputs": [],
   "source": [
    "# ANNOTATION (auf Deutsch):\n",
    "# Dieser Code führt die folgende Aufgabe aus:\n",
    "# (Fügen Sie hier eine spezifische Erklärung hinzu, basierend auf dem Code.)\n",
    "# This cell performs the following task:\n",
    "# (Add specific annotations here based on the logic in the cell)\n",
    "\n",
    "list(G.edges)"
   ]
  },
  {
   "cell_type": "markdown",
   "id": "04c19152",
   "metadata": {},
   "source": [
    "And now let's check our weighted edges"
   ]
  },
  {
   "cell_type": "code",
   "execution_count": null,
   "id": "b1469e19",
   "metadata": {},
   "outputs": [],
   "source": [
    "# ANNOTATION (auf Deutsch):\n",
    "# Dieser Code führt die folgende Aufgabe aus:\n",
    "# (Fügen Sie hier eine spezifische Erklärung hinzu, basierend auf dem Code.)\n",
    "# This cell performs the following task:\n",
    "# (Add specific annotations here based on the logic in the cell)\n",
    "\n",
    "edge_weights = nx.get_edge_attributes(G, \"weight\")\n",
    "edge_weights"
   ]
  },
  {
   "cell_type": "markdown",
   "id": "784cc6fb",
   "metadata": {},
   "source": [
    "Let's sort that list to see which pair talks the most!"
   ]
  },
  {
   "cell_type": "code",
   "execution_count": null,
   "id": "c0740df3",
   "metadata": {},
   "outputs": [],
   "source": [
    "# ANNOTATION (auf Deutsch):\n",
    "# Dieser Code führt die folgende Aufgabe aus:\n",
    "# (Fügen Sie hier eine spezifische Erklärung hinzu, basierend auf dem Code.)\n",
    "# This cell performs the following task:\n",
    "# (Add specific annotations here based on the logic in the cell)\n",
    "\n",
    "sorted_weights = sorted(edge_weights.items(), key=lambda x: x[1], reverse = True)\n",
    "sorted_weights"
   ]
  },
  {
   "cell_type": "markdown",
   "id": "69a527e0",
   "metadata": {},
   "source": [
    "Unsurprisingly, it is Jean Passepartout and Fix followed by Phileas Fogg and Passepartoutt. Let's separate the edges based on their weights to visualize things better. This shows much clearly plot weight than our previous graph. "
   ]
  },
  {
   "cell_type": "code",
   "execution_count": null,
   "id": "3fec3b8c",
   "metadata": {},
   "outputs": [],
   "source": [
    "# ANNOTATION (auf Deutsch):\n",
    "# Dieser Code führt die folgende Aufgabe aus:\n",
    "# (Fügen Sie hier eine spezifische Erklärung hinzu, basierend auf dem Code.)\n",
    "# This cell performs the following task:\n",
    "# (Add specific annotations here based on the logic in the cell)\n",
    "\n",
    "elarge = [(u, v) for (u, v, d) in G.edges(data=True) if d[\"weight\"] > 40] #let's choose 40 as Kat and Patrick talk 101 times!"
   ]
  },
  {
   "cell_type": "code",
   "execution_count": null,
   "id": "0e28e3ab",
   "metadata": {},
   "outputs": [],
   "source": [
    "# ANNOTATION (auf Deutsch):\n",
    "# Dieser Code führt die folgende Aufgabe aus:\n",
    "# (Fügen Sie hier eine spezifische Erklärung hinzu, basierend auf dem Code.)\n",
    "# This cell performs the following task:\n",
    "# (Add specific annotations here based on the logic in the cell)\n",
    "\n",
    "elarge"
   ]
  },
  {
   "cell_type": "code",
   "execution_count": null,
   "id": "b84c3b9e",
   "metadata": {},
   "outputs": [],
   "source": [
    "# ANNOTATION (auf Deutsch):\n",
    "# Dieser Code führt die folgende Aufgabe aus:\n",
    "# (Fügen Sie hier eine spezifische Erklärung hinzu, basierend auf dem Code.)\n",
    "# This cell performs the following task:\n",
    "# (Add specific annotations here based on the logic in the cell)\n",
    "\n",
    "esmall = [(u, v) for (u, v, d) in G.edges(data=True) if d[\"weight\"] <= 40]"
   ]
  },
  {
   "cell_type": "code",
   "execution_count": null,
   "id": "ab99faa2",
   "metadata": {},
   "outputs": [],
   "source": [
    "# ANNOTATION (auf Deutsch):\n",
    "# Dieser Code führt die folgende Aufgabe aus:\n",
    "# (Fügen Sie hier eine spezifische Erklärung hinzu, basierend auf dem Code.)\n",
    "# This cell performs the following task:\n",
    "# (Add specific annotations here based on the logic in the cell)\n",
    "\n",
    "esmall"
   ]
  },
  {
   "cell_type": "markdown",
   "id": "5310b5bd",
   "metadata": {},
   "source": [
    "And finally, let's define the position of the nodes in the network. "
   ]
  },
  {
   "cell_type": "code",
   "execution_count": null,
   "id": "e937f585",
   "metadata": {},
   "outputs": [],
   "source": [
    "# ANNOTATION (auf Deutsch):\n",
    "# Dieser Code führt die folgende Aufgabe aus:\n",
    "# (Fügen Sie hier eine spezifische Erklärung hinzu, basierend auf dem Code.)\n",
    "# This cell performs the following task:\n",
    "# (Add specific annotations here based on the logic in the cell)\n",
    "\n",
    "pos = nx.spring_layout(G, seed=7)\n",
    "pos"
   ]
  },
  {
   "cell_type": "markdown",
   "id": "7aad5474",
   "metadata": {},
   "source": [
    "# 4. Network metrics"
   ]
  },
  {
   "cell_type": "markdown",
   "id": "a2bb37a2",
   "metadata": {},
   "source": [
    "This time, because we have a new element (**weight**) let's explore the network before we actually draw it. We do this because we are interested in tracking down **the hub of the network** (that is, the person with the biggest number of connections). We can create a network in which we assign those values (network degree) to the nodes, and we can quickly see the relationship between plot agency and hub size."
   ]
  },
  {
   "cell_type": "markdown",
   "id": "1a584a50",
   "metadata": {},
   "source": [
    "1. Calculating **Network Degree**: who has more connections?"
   ]
  },
  {
   "cell_type": "code",
   "execution_count": null,
   "id": "230eb0ec",
   "metadata": {},
   "outputs": [],
   "source": [
    "# ANNOTATION (auf Deutsch):\n",
    "# Dieser Code führt die folgende Aufgabe aus:\n",
    "# (Fügen Sie hier eine spezifische Erklärung hinzu, basierend auf dem Code.)\n",
    "# This cell performs the following task:\n",
    "# (Add specific annotations here based on the logic in the cell)\n",
    "\n",
    "weighted_degrees = dict(G.degree(weight='weight'))"
   ]
  },
  {
   "cell_type": "code",
   "execution_count": null,
   "id": "a1ab718a",
   "metadata": {},
   "outputs": [],
   "source": [
    "# ANNOTATION (auf Deutsch):\n",
    "# Dieser Code führt die folgende Aufgabe aus:\n",
    "# (Fügen Sie hier eine spezifische Erklärung hinzu, basierend auf dem Code.)\n",
    "# This cell performs the following task:\n",
    "# (Add specific annotations here based on the logic in the cell)\n",
    "\n",
    "weighted_degrees"
   ]
  },
  {
   "cell_type": "code",
   "execution_count": null,
   "id": "7679b2b9",
   "metadata": {},
   "outputs": [],
   "source": [
    "# ANNOTATION (auf Deutsch):\n",
    "# Dieser Code führt die folgende Aufgabe aus:\n",
    "# (Fügen Sie hier eine spezifische Erklärung hinzu, basierend auf dem Code.)\n",
    "# This cell performs the following task:\n",
    "# (Add specific annotations here based on the logic in the cell)\n",
    "\n",
    "sorted_weighted_degrees = sorted(weighted_degrees.items(), key=lambda x: x[1], reverse=True)"
   ]
  },
  {
   "cell_type": "code",
   "execution_count": null,
   "id": "632c0422",
   "metadata": {},
   "outputs": [],
   "source": [
    "# ANNOTATION (auf Deutsch):\n",
    "# Dieser Code führt die folgende Aufgabe aus:\n",
    "# (Fügen Sie hier eine spezifische Erklärung hinzu, basierend auf dem Code.)\n",
    "# This cell performs the following task:\n",
    "# (Add specific annotations here based on the logic in the cell)\n",
    "\n",
    "sorted_weighted_degrees"
   ]
  },
  {
   "cell_type": "markdown",
   "id": "641b3829",
   "metadata": {},
   "source": [
    "So: **the network hub is Phileas Fogg!** He is the character that has the biggest number of connections, followed by Fix and Passepartout. These three characters are the ones that have by far the highest amount of text weight. Weighted Networks then add extra value to unweighted ones: now we can analyze **plot character agency**. "
   ]
  },
  {
   "cell_type": "markdown",
   "id": "c9b036a2",
   "metadata": {},
   "source": [
    "2. Calculating **Betweenes Centrality Scores**: who is the person that connects more nodes in the network?"
   ]
  },
  {
   "cell_type": "code",
   "execution_count": null,
   "id": "1253ab38",
   "metadata": {},
   "outputs": [],
   "source": [
    "# ANNOTATION (auf Deutsch):\n",
    "# Dieser Code führt die folgende Aufgabe aus:\n",
    "# (Fügen Sie hier eine spezifische Erklärung hinzu, basierend auf dem Code.)\n",
    "# This cell performs the following task:\n",
    "# (Add specific annotations here based on the logic in the cell)\n",
    "\n",
    "betweenness = dict(nx.betweenness_centrality(G, weight = \"weight\"))"
   ]
  },
  {
   "cell_type": "code",
   "execution_count": null,
   "id": "35da2d5f",
   "metadata": {},
   "outputs": [],
   "source": [
    "# ANNOTATION (auf Deutsch):\n",
    "# Dieser Code führt die folgende Aufgabe aus:\n",
    "# (Fügen Sie hier eine spezifische Erklärung hinzu, basierend auf dem Code.)\n",
    "# This cell performs the following task:\n",
    "# (Add specific annotations here based on the logic in the cell)\n",
    "\n",
    "betweenness"
   ]
  },
  {
   "cell_type": "code",
   "execution_count": null,
   "id": "1f354308",
   "metadata": {},
   "outputs": [],
   "source": [
    "# ANNOTATION (auf Deutsch):\n",
    "# Dieser Code führt die folgende Aufgabe aus:\n",
    "# (Fügen Sie hier eine spezifische Erklärung hinzu, basierend auf dem Code.)\n",
    "# This cell performs the following task:\n",
    "# (Add specific annotations here based on the logic in the cell)\n",
    "\n",
    "betweenness = sorted(betweenness.items(), key=lambda x: x[1], reverse=True)"
   ]
  },
  {
   "cell_type": "code",
   "execution_count": null,
   "id": "40135a01",
   "metadata": {},
   "outputs": [],
   "source": [
    "# ANNOTATION (auf Deutsch):\n",
    "# Dieser Code führt die folgende Aufgabe aus:\n",
    "# (Fügen Sie hier eine spezifische Erklärung hinzu, basierend auf dem Code.)\n",
    "# This cell performs the following task:\n",
    "# (Add specific annotations here based on the logic in the cell)\n",
    "\n",
    "betweenness"
   ]
  },
  {
   "cell_type": "markdown",
   "id": "46cd1906",
   "metadata": {},
   "source": [
    "So now that goes to Passepartout!"
   ]
  },
  {
   "cell_type": "markdown",
   "id": "c0ff4fd1",
   "metadata": {},
   "source": [
    "3. **Communities**: who forms different communities within this network?"
   ]
  },
  {
   "cell_type": "code",
   "execution_count": null,
   "id": "417f1b7b",
   "metadata": {},
   "outputs": [],
   "source": [
    "# ANNOTATION (auf Deutsch):\n",
    "# Dieser Code führt die folgende Aufgabe aus:\n",
    "# (Fügen Sie hier eine spezifische Erklärung hinzu, basierend auf dem Code.)\n",
    "# This cell performs the following task:\n",
    "# (Add specific annotations here based on the logic in the cell)\n",
    "\n",
    "from networkx.algorithms import community"
   ]
  },
  {
   "cell_type": "code",
   "execution_count": null,
   "id": "f09e38e8",
   "metadata": {},
   "outputs": [],
   "source": [
    "# ANNOTATION (auf Deutsch):\n",
    "# Dieser Code führt die folgende Aufgabe aus:\n",
    "# (Fügen Sie hier eine spezifische Erklärung hinzu, basierend auf dem Code.)\n",
    "# This cell performs the following task:\n",
    "# (Add specific annotations here based on the logic in the cell)\n",
    "\n",
    "communities = community.greedy_modularity_communities(G, weight = \"weight\")"
   ]
  },
  {
   "cell_type": "code",
   "execution_count": null,
   "id": "017cd19e",
   "metadata": {},
   "outputs": [],
   "source": [
    "# ANNOTATION (auf Deutsch):\n",
    "# Dieser Code führt die folgende Aufgabe aus:\n",
    "# (Fügen Sie hier eine spezifische Erklärung hinzu, basierend auf dem Code.)\n",
    "# This cell performs the following task:\n",
    "# (Add specific annotations here based on the logic in the cell)\n",
    "\n",
    "communities"
   ]
  },
  {
   "cell_type": "markdown",
   "id": "4afb05d4",
   "metadata": {},
   "source": [
    "And now we can see different (and more coherent) clusters. We observe one Jean Passepartout cluster, one Phileas Fogg one, one English gentlemen one, and then two \"small weight characters\" ones. "
   ]
  },
  {
   "cell_type": "markdown",
   "id": "c5fa20de",
   "metadata": {},
   "source": [
    "# 5. Network Visualization"
   ]
  },
  {
   "cell_type": "markdown",
   "id": "89a396ec",
   "metadata": {},
   "source": [
    "And now let's have a look at our network! We can represent our weighted network a) by adding labels to the edges and showing the weight in there, or b) by showing the weight in different node sizes. "
   ]
  },
  {
   "cell_type": "markdown",
   "id": "782c3257",
   "metadata": {},
   "source": [
    "# A. Edges weight"
   ]
  },
  {
   "cell_type": "code",
   "execution_count": null,
   "id": "72e299b6",
   "metadata": {},
   "outputs": [],
   "source": [
    "# ANNOTATION (auf Deutsch):\n",
    "# Dieser Code führt die folgende Aufgabe aus:\n",
    "# (Fügen Sie hier eine spezifische Erklärung hinzu, basierend auf dem Code.)\n",
    "# This cell performs the following task:\n",
    "# (Add specific annotations here based on the logic in the cell)\n",
    "\n",
    "nx.draw_networkx_nodes(G, pos, node_size = 700) #we draw the nodes\n",
    "nx.draw_networkx_edges(G, pos, edgelist=elarge, width=2) #we draw the edges\n",
    "nx.draw_networkx_edges(G, pos, edgelist=esmall, width=2, alpha=0.5, edge_color=\"b\", style=\"dashed\") \n",
    "\n",
    "nx.draw_networkx_labels(G, pos) #we add the name of the nodes (characters)\n",
    "edge_labels = nx.get_edge_attributes(G, \"weight\") #we add the weight number (times talking)\n",
    "nx.draw_networkx_edge_labels(G, pos, edge_labels)\n",
    "\n",
    "plt.rcParams[\"figure.figsize\"] = (30, 20) #to change the size of the figure\n",
    "\n",
    " \n",
    "plt.axis(\"off\")\n",
    "plt.show()"
   ]
  },
  {
   "cell_type": "markdown",
   "id": "04cea483",
   "metadata": {},
   "source": [
    "# B. Nodes Weight"
   ]
  },
  {
   "cell_type": "markdown",
   "id": "6659c233",
   "metadata": {},
   "source": [
    "To draw a network by node weight, we need to know the network degree (**the hub**, and then, in order of importance, who has more weighted connections). Let's print again that value."
   ]
  },
  {
   "cell_type": "code",
   "execution_count": null,
   "id": "332f2b68",
   "metadata": {},
   "outputs": [],
   "source": [
    "# ANNOTATION (auf Deutsch):\n",
    "# Dieser Code führt die folgende Aufgabe aus:\n",
    "# (Fügen Sie hier eine spezifische Erklärung hinzu, basierend auf dem Code.)\n",
    "# This cell performs the following task:\n",
    "# (Add specific annotations here based on the logic in the cell)\n",
    "\n",
    "degree = weighted_degrees  #we go back to that variable that we defined a few cells before\n",
    "degree"
   ]
  },
  {
   "cell_type": "code",
   "execution_count": null,
   "id": "d97c68ec",
   "metadata": {},
   "outputs": [],
   "source": [
    "# ANNOTATION (auf Deutsch):\n",
    "# Dieser Code führt die folgende Aufgabe aus:\n",
    "# (Fügen Sie hier eine spezifische Erklärung hinzu, basierend auf dem Code.)\n",
    "# This cell performs the following task:\n",
    "# (Add specific annotations here based on the logic in the cell)\n",
    "\n",
    "node_sizes = [v * 10 for v in degree.values()] #we can play around with 10. It stands for the size of the nodes."
   ]
  },
  {
   "cell_type": "code",
   "execution_count": null,
   "id": "3693be25",
   "metadata": {},
   "outputs": [],
   "source": [
    "# ANNOTATION (auf Deutsch):\n",
    "# Dieser Code führt die folgende Aufgabe aus:\n",
    "# (Fügen Sie hier eine spezifische Erklärung hinzu, basierend auf dem Code.)\n",
    "# This cell performs the following task:\n",
    "# (Add specific annotations here based on the logic in the cell)\n",
    "\n",
    "nx.draw(G, node_size=node_sizes, with_labels=True)\n",
    "\n",
    "plt.rcParams[\"figure.figsize\"] = (10, 10) #to change the size of the figure\n",
    "\n",
    "plt.axis(\"off\")\n",
    "plt.show()"
   ]
  },
  {
   "cell_type": "markdown",
   "id": "4c6c87fb",
   "metadata": {},
   "source": [
    "We can also add different colours to specific nodes. For example, if we would like our **Hub** (Phileas Fogg), to stand up from the rest, we can colour her differently by adding a node_color argument. "
   ]
  },
  {
   "cell_type": "code",
   "execution_count": null,
   "id": "6305b684",
   "metadata": {},
   "outputs": [],
   "source": [
    "# ANNOTATION (auf Deutsch):\n",
    "# Dieser Code führt die folgende Aufgabe aus:\n",
    "# (Fügen Sie hier eine spezifische Erklärung hinzu, basierend auf dem Code.)\n",
    "# This cell performs the following task:\n",
    "# (Add specific annotations here based on the logic in the cell)\n",
    "\n",
    "node_colors = [\"red\" if n == \"Phileas Fogg\" else \"green\" for n in G.nodes()]"
   ]
  },
  {
   "cell_type": "code",
   "execution_count": null,
   "id": "fb926538",
   "metadata": {},
   "outputs": [],
   "source": [
    "# ANNOTATION (auf Deutsch):\n",
    "# Dieser Code führt die folgende Aufgabe aus:\n",
    "# (Fügen Sie hier eine spezifische Erklärung hinzu, basierend auf dem Code.)\n",
    "# This cell performs the following task:\n",
    "# (Add specific annotations here based on the logic in the cell)\n",
    "\n",
    "nx.draw(G, node_size = node_sizes, with_labels = True, node_color = node_colors)\n",
    "\n",
    "plt.axis(\"off\")\n",
    "plt.show()"
   ]
  },
  {
   "cell_type": "markdown",
   "id": "6bcf41b4",
   "metadata": {},
   "source": [
    "We can repeat that process as many times as we would like to, by just adding more colours. Let's add two more hubs: **Jean Passepartout** and **Fix**."
   ]
  },
  {
   "cell_type": "code",
   "execution_count": null,
   "id": "19b694aa",
   "metadata": {},
   "outputs": [],
   "source": [
    "# ANNOTATION (auf Deutsch):\n",
    "# Dieser Code führt die folgende Aufgabe aus:\n",
    "# (Fügen Sie hier eine spezifische Erklärung hinzu, basierend auf dem Code.)\n",
    "# This cell performs the following task:\n",
    "# (Add specific annotations here based on the logic in the cell)\n",
    "\n",
    "node_colors = [\"red\" if n == \"Phileas Fogg\" else \"yellow\" if n == \"Jean Passepartout\"  \n",
    "               else \"purple\" if n == \"Fix\" else \"green\" for n in G.nodes()]"
   ]
  },
  {
   "cell_type": "code",
   "execution_count": null,
   "id": "7ce69d6d",
   "metadata": {},
   "outputs": [],
   "source": [
    "# ANNOTATION (auf Deutsch):\n",
    "# Dieser Code führt die folgende Aufgabe aus:\n",
    "# (Fügen Sie hier eine spezifische Erklärung hinzu, basierend auf dem Code.)\n",
    "# This cell performs the following task:\n",
    "# (Add specific annotations here based on the logic in the cell)\n",
    "\n",
    "nx.draw(G, node_size = node_sizes, with_labels = True, node_color = node_colors)\n",
    "\n",
    "plt.axis(\"off\")\n",
    "plt.show()"
   ]
  },
  {
   "cell_type": "markdown",
   "id": "acef227c",
   "metadata": {},
   "source": [
    "# 6. Conclusion"
   ]
  },
  {
   "cell_type": "markdown",
   "id": "4310fa36",
   "metadata": {},
   "source": [
    "This network provides much fine-grained information than our previous one. "
   ]
  },
  {
   "cell_type": "markdown",
   "id": "fce88edb",
   "metadata": {},
   "source": [
    "# 7. Saving up our data"
   ]
  },
  {
   "cell_type": "markdown",
   "id": "9ae2e7c3",
   "metadata": {},
   "source": [
    "Let's transform our network into a Pandas Dataframe. We can use nx.to_pandas_adjacency() to do this. It will return a Document Term Matrix where each node is assigned the number of times every character speaks (so, the weight), and 0 points if there is no interaction."
   ]
  },
  {
   "cell_type": "code",
   "execution_count": null,
   "id": "6dc8d506",
   "metadata": {},
   "outputs": [],
   "source": [
    "# ANNOTATION (auf Deutsch):\n",
    "# Dieser Code führt die folgende Aufgabe aus:\n",
    "# (Fügen Sie hier eine spezifische Erklärung hinzu, basierend auf dem Code.)\n",
    "# This cell performs the following task:\n",
    "# (Add specific annotations here based on the logic in the cell)\n",
    "\n",
    "df_weighted_around = nx.to_pandas_adjacency(G)"
   ]
  },
  {
   "cell_type": "code",
   "execution_count": null,
   "id": "697c165a",
   "metadata": {},
   "outputs": [],
   "source": [
    "# ANNOTATION (auf Deutsch):\n",
    "# Dieser Code führt die folgende Aufgabe aus:\n",
    "# (Fügen Sie hier eine spezifische Erklärung hinzu, basierend auf dem Code.)\n",
    "# This cell performs the following task:\n",
    "# (Add specific annotations here based on the logic in the cell)\n",
    "\n",
    "df_weighted_around"
   ]
  },
  {
   "cell_type": "code",
   "execution_count": null,
   "id": "5caac726",
   "metadata": {},
   "outputs": [],
   "source": [
    "# ANNOTATION (auf Deutsch):\n",
    "# Dieser Code führt die folgende Aufgabe aus:\n",
    "# (Fügen Sie hier eine spezifische Erklärung hinzu, basierend auf dem Code.)\n",
    "# This cell performs the following task:\n",
    "# (Add specific annotations here based on the logic in the cell)\n",
    "\n",
    "df_weighted_around.to_csv(\"weighted_around.csv\")"
   ]
  },
  {
   "cell_type": "markdown",
   "id": "3c253b8c",
   "metadata": {},
   "source": [
    "### Content from: 1. Unweighted Sociocentric Networks. Modelling the Social Network of Around the World in 80 Days.ipynb"
   ]
  },
  {
   "cell_type": "markdown",
   "id": "a6089be8",
   "metadata": {},
   "source": [
    "#### Annotation:\n",
    "This section includes the content and logic from the original notebook. Annotations have been added to explain the purpose and function of each code cell."
   ]
  },
  {
   "cell_type": "markdown",
   "id": "f8012944",
   "metadata": {},
   "source": [
    "**References**: the method of building a network using characters as nodes and textual interaction as edges is inspired by this article (https://litlab.stanford.edu/LiteraryLabPamphlet2.pdf). While in there the text used is a play (and therefore it is easier to model networks), and we are using a novel instead, the idea is the same) Some of the scripts have been adapted from this tutorial (https://melaniewalsh.github.io/Intro-Cultural-Analytics/06-Network-Analysis/02-Making-Network-Viz-with-Bokeh.html), and also from this other one (https://networkx.org/documentation/stable/tutorial.html). "
   ]
  },
  {
   "cell_type": "markdown",
   "id": "26c2a02c",
   "metadata": {},
   "source": [
    "# Modelling the Social Network of **Around the World in 80 Days**."
   ]
  },
  {
   "cell_type": "markdown",
   "id": "00d35416",
   "metadata": {},
   "source": [
    "In this notebook, we are going to use **Network Analysis** to model the social network of **Around the World in Eighty Days**. We are going to count **\"who knows whom\"**. We are going to transform each character into a **nod**. After that, we are going to count every time that a character talks to another character, and we are going to call that **edge**. This method, while not perfect (it only measures textual interactions once, and therefore, we don´t know what is being said, or how much each character speaks), can be useful nevertheless as a first approximation of empirically measuring changing narrative weighths by identifying **hubs** (which essentially means nodes with lots of connections: https://en.wikipedia.org/wiki/Hub_(network_science)). "
   ]
  },
  {
   "cell_type": "markdown",
   "id": "a3d3cf41",
   "metadata": {},
   "source": [
    "# 1. First we import the libraries"
   ]
  },
  {
   "cell_type": "code",
   "execution_count": null,
   "id": "499b66ae",
   "metadata": {},
   "outputs": [],
   "source": [
    "# ANNOTATION (auf Deutsch):\n",
    "# Dieser Code führt die folgende Aufgabe aus:\n",
    "# (Fügen Sie hier eine spezifische Erklärung hinzu, basierend auf dem Code.)\n",
    "# This cell performs the following task:\n",
    "# (Add specific annotations here based on the logic in the cell)\n",
    "\n",
    "import networkx as nx\n",
    "import pandas as pd"
   ]
  },
  {
   "cell_type": "markdown",
   "id": "09ca3184",
   "metadata": {},
   "source": [
    "# 2. The we create the G object"
   ]
  },
  {
   "cell_type": "code",
   "execution_count": null,
   "id": "67002bd4",
   "metadata": {},
   "outputs": [],
   "source": [
    "# ANNOTATION (auf Deutsch):\n",
    "# Dieser Code führt die folgende Aufgabe aus:\n",
    "# (Fügen Sie hier eine spezifische Erklärung hinzu, basierend auf dem Code.)\n",
    "# This cell performs the following task:\n",
    "# (Add specific annotations here based on the logic in the cell)\n",
    "\n",
    "G = nx.Graph()"
   ]
  },
  {
   "cell_type": "markdown",
   "id": "33a5f5dc",
   "metadata": {},
   "source": [
    "Just to let you know with this command we can clean our network (for example if we make a spelling mistake that contaminates our Graph)"
   ]
  },
  {
   "cell_type": "code",
   "execution_count": null,
   "id": "e134d1c5",
   "metadata": {},
   "outputs": [],
   "source": [
    "# ANNOTATION (auf Deutsch):\n",
    "# Dieser Code führt die folgende Aufgabe aus:\n",
    "# (Fügen Sie hier eine spezifische Erklärung hinzu, basierend auf dem Code.)\n",
    "# This cell performs the following task:\n",
    "# (Add specific annotations here based on the logic in the cell)\n",
    "\n",
    "G.clear()"
   ]
  },
  {
   "cell_type": "markdown",
   "id": "a27fb212",
   "metadata": {},
   "source": [
    "# 3. Characters"
   ]
  },
  {
   "cell_type": "markdown",
   "id": "425800de",
   "metadata": {},
   "source": [
    "Now we transform every character into a node by writing each name inside **G.add_node()**. Only the main characters are included in here. "
   ]
  },
  {
   "cell_type": "code",
   "execution_count": null,
   "id": "af66e04d",
   "metadata": {},
   "outputs": [],
   "source": [
    "# ANNOTATION (auf Deutsch):\n",
    "# Dieser Code führt die folgende Aufgabe aus:\n",
    "# (Fügen Sie hier eine spezifische Erklärung hinzu, basierend auf dem Code.)\n",
    "# This cell performs the following task:\n",
    "# (Add specific annotations here based on the logic in the cell)\n",
    "\n",
    "G.add_node(\"Phileas Fogg\")"
   ]
  },
  {
   "cell_type": "code",
   "execution_count": null,
   "id": "c0826141",
   "metadata": {},
   "outputs": [],
   "source": [
    "# ANNOTATION (auf Deutsch):\n",
    "# Dieser Code führt die folgende Aufgabe aus:\n",
    "# (Fügen Sie hier eine spezifische Erklärung hinzu, basierend auf dem Code.)\n",
    "# This cell performs the following task:\n",
    "# (Add specific annotations here based on the logic in the cell)\n",
    "\n",
    "G.add_node(\"Jean Passepartout\")"
   ]
  },
  {
   "cell_type": "code",
   "execution_count": null,
   "id": "30ad6a2c",
   "metadata": {},
   "outputs": [],
   "source": [
    "# ANNOTATION (auf Deutsch):\n",
    "# Dieser Code führt die folgende Aufgabe aus:\n",
    "# (Fügen Sie hier eine spezifische Erklärung hinzu, basierend auf dem Code.)\n",
    "# This cell performs the following task:\n",
    "# (Add specific annotations here based on the logic in the cell)\n",
    "\n",
    "G.add_node(\"Thomas Flanagan\")"
   ]
  },
  {
   "cell_type": "code",
   "execution_count": null,
   "id": "edd88681",
   "metadata": {},
   "outputs": [],
   "source": [
    "# ANNOTATION (auf Deutsch):\n",
    "# Dieser Code führt die folgende Aufgabe aus:\n",
    "# (Fügen Sie hier eine spezifische Erklärung hinzu, basierend auf dem Code.)\n",
    "# This cell performs the following task:\n",
    "# (Add specific annotations here based on the logic in the cell)\n",
    "\n",
    "G.add_node(\"Gauthier Ralph\")"
   ]
  },
  {
   "cell_type": "code",
   "execution_count": null,
   "id": "cfe631e5",
   "metadata": {},
   "outputs": [],
   "source": [
    "# ANNOTATION (auf Deutsch):\n",
    "# Dieser Code führt die folgende Aufgabe aus:\n",
    "# (Fügen Sie hier eine spezifische Erklärung hinzu, basierend auf dem Code.)\n",
    "# This cell performs the following task:\n",
    "# (Add specific annotations here based on the logic in the cell)\n",
    "\n",
    "G.add_node(\"Andrew Stuart\")"
   ]
  },
  {
   "cell_type": "code",
   "execution_count": null,
   "id": "af95336d",
   "metadata": {},
   "outputs": [],
   "source": [
    "# ANNOTATION (auf Deutsch):\n",
    "# Dieser Code führt die folgende Aufgabe aus:\n",
    "# (Fügen Sie hier eine spezifische Erklärung hinzu, basierend auf dem Code.)\n",
    "# This cell performs the following task:\n",
    "# (Add specific annotations here based on the logic in the cell)\n",
    "\n",
    "G.add_node(\"John Sullivan\")"
   ]
  },
  {
   "cell_type": "code",
   "execution_count": null,
   "id": "ea3ce4f4",
   "metadata": {},
   "outputs": [],
   "source": [
    "# ANNOTATION (auf Deutsch):\n",
    "# Dieser Code führt die folgende Aufgabe aus:\n",
    "# (Fügen Sie hier eine spezifische Erklärung hinzu, basierend auf dem Code.)\n",
    "# This cell performs the following task:\n",
    "# (Add specific annotations here based on the logic in the cell)\n",
    "\n",
    "G.add_node(\"Samuel Fallentin\")"
   ]
  },
  {
   "cell_type": "code",
   "execution_count": null,
   "id": "00008b27",
   "metadata": {},
   "outputs": [],
   "source": [
    "# ANNOTATION (auf Deutsch):\n",
    "# Dieser Code führt die folgende Aufgabe aus:\n",
    "# (Fügen Sie hier eine spezifische Erklärung hinzu, basierend auf dem Code.)\n",
    "# This cell performs the following task:\n",
    "# (Add specific annotations here based on the logic in the cell)\n",
    "\n",
    "G.add_node(\"Fix\")"
   ]
  },
  {
   "cell_type": "code",
   "execution_count": null,
   "id": "dd5dbae4",
   "metadata": {},
   "outputs": [],
   "source": [
    "# ANNOTATION (auf Deutsch):\n",
    "# Dieser Code führt die folgende Aufgabe aus:\n",
    "# (Fügen Sie hier eine spezifische Erklärung hinzu, basierend auf dem Code.)\n",
    "# This cell performs the following task:\n",
    "# (Add specific annotations here based on the logic in the cell)\n",
    "\n",
    "G.add_node(\"Consul\")"
   ]
  },
  {
   "cell_type": "code",
   "execution_count": null,
   "id": "ea37a03a",
   "metadata": {},
   "outputs": [],
   "source": [
    "# ANNOTATION (auf Deutsch):\n",
    "# Dieser Code führt die folgende Aufgabe aus:\n",
    "# (Fügen Sie hier eine spezifische Erklärung hinzu, basierend auf dem Code.)\n",
    "# This cell performs the following task:\n",
    "# (Add specific annotations here based on the logic in the cell)\n",
    "\n",
    "G.add_node(\"Landlord\")"
   ]
  },
  {
   "cell_type": "code",
   "execution_count": null,
   "id": "0f67f459",
   "metadata": {},
   "outputs": [],
   "source": [
    "# ANNOTATION (auf Deutsch):\n",
    "# Dieser Code führt die folgende Aufgabe aus:\n",
    "# (Fügen Sie hier eine spezifische Erklärung hinzu, basierend auf dem Code.)\n",
    "# This cell performs the following task:\n",
    "# (Add specific annotations here based on the logic in the cell)\n",
    "\n",
    "G.add_node(\"Sir Francis Cromarty\")"
   ]
  },
  {
   "cell_type": "code",
   "execution_count": null,
   "id": "6a803fe2",
   "metadata": {},
   "outputs": [],
   "source": [
    "# ANNOTATION (auf Deutsch):\n",
    "# Dieser Code führt die folgende Aufgabe aus:\n",
    "# (Fügen Sie hier eine spezifische Erklärung hinzu, basierend auf dem Code.)\n",
    "# This cell performs the following task:\n",
    "# (Add specific annotations here based on the logic in the cell)\n",
    "\n",
    "G.add_node(\"Parsee guide\")"
   ]
  },
  {
   "cell_type": "code",
   "execution_count": null,
   "id": "29997ce8",
   "metadata": {},
   "outputs": [],
   "source": [
    "# ANNOTATION (auf Deutsch):\n",
    "# Dieser Code führt die folgende Aufgabe aus:\n",
    "# (Fügen Sie hier eine spezifische Erklärung hinzu, basierend auf dem Code.)\n",
    "# This cell performs the following task:\n",
    "# (Add specific annotations here based on the logic in the cell)\n",
    "\n",
    "G.add_node(\"Aouda\")"
   ]
  },
  {
   "cell_type": "code",
   "execution_count": null,
   "id": "222b1a5b",
   "metadata": {},
   "outputs": [],
   "source": [
    "# ANNOTATION (auf Deutsch):\n",
    "# Dieser Code führt die folgende Aufgabe aus:\n",
    "# (Fügen Sie hier eine spezifische Erklärung hinzu, basierend auf dem Code.)\n",
    "# This cell performs the following task:\n",
    "# (Add specific annotations here based on the logic in the cell)\n",
    "\n",
    "G.add_node(\"Policeman\")"
   ]
  },
  {
   "cell_type": "code",
   "execution_count": null,
   "id": "2c7e43e7",
   "metadata": {},
   "outputs": [],
   "source": [
    "# ANNOTATION (auf Deutsch):\n",
    "# Dieser Code führt die folgende Aufgabe aus:\n",
    "# (Fügen Sie hier eine spezifische Erklärung hinzu, basierend auf dem Code.)\n",
    "# This cell performs the following task:\n",
    "# (Add specific annotations here based on the logic in the cell)\n",
    "\n",
    "G.add_node(\"Judge Obadiah\")"
   ]
  },
  {
   "cell_type": "code",
   "execution_count": null,
   "id": "e7c34939",
   "metadata": {},
   "outputs": [],
   "source": [
    "# ANNOTATION (auf Deutsch):\n",
    "# Dieser Code führt die folgende Aufgabe aus:\n",
    "# (Fügen Sie hier eine spezifische Erklärung hinzu, basierend auf dem Code.)\n",
    "# This cell performs the following task:\n",
    "# (Add specific annotations here based on the logic in the cell)\n",
    "\n",
    "G.add_node(\"Clerk\")"
   ]
  },
  {
   "cell_type": "code",
   "execution_count": null,
   "id": "7214d0ef",
   "metadata": {},
   "outputs": [],
   "source": [
    "# ANNOTATION (auf Deutsch):\n",
    "# Dieser Code führt die folgende Aufgabe aus:\n",
    "# (Fügen Sie hier eine spezifische Erklärung hinzu, basierend auf dem Code.)\n",
    "# This cell performs the following task:\n",
    "# (Add specific annotations here based on the logic in the cell)\n",
    "\n",
    "G.add_node(\"Pilot\")"
   ]
  },
  {
   "cell_type": "code",
   "execution_count": null,
   "id": "5fdfe82a",
   "metadata": {},
   "outputs": [],
   "source": [
    "# ANNOTATION (auf Deutsch):\n",
    "# Dieser Code führt die folgende Aufgabe aus:\n",
    "# (Fügen Sie hier eine spezifische Erklärung hinzu, basierend auf dem Code.)\n",
    "# This cell performs the following task:\n",
    "# (Add specific annotations here based on the logic in the cell)\n",
    "\n",
    "G.add_node(\"Sailor\")"
   ]
  },
  {
   "cell_type": "code",
   "execution_count": null,
   "id": "3b8b7cab",
   "metadata": {},
   "outputs": [],
   "source": [
    "# ANNOTATION (auf Deutsch):\n",
    "# Dieser Code führt die folgende Aufgabe aus:\n",
    "# (Fügen Sie hier eine spezifische Erklärung hinzu, basierend auf dem Code.)\n",
    "# This cell performs the following task:\n",
    "# (Add specific annotations here based on the logic in the cell)\n",
    "\n",
    "G.add_node(\"Mr. Batulcar\")"
   ]
  },
  {
   "cell_type": "code",
   "execution_count": null,
   "id": "5a6d01c8",
   "metadata": {},
   "outputs": [],
   "source": [
    "# ANNOTATION (auf Deutsch):\n",
    "# Dieser Code führt die folgende Aufgabe aus:\n",
    "# (Fügen Sie hier eine spezifische Erklärung hinzu, basierend auf dem Code.)\n",
    "# This cell performs the following task:\n",
    "# (Add specific annotations here based on the logic in the cell)\n",
    "\n",
    "G.add_node(\"Colonel Proctor\")"
   ]
  },
  {
   "cell_type": "code",
   "execution_count": null,
   "id": "5b752fdc",
   "metadata": {},
   "outputs": [],
   "source": [
    "# ANNOTATION (auf Deutsch):\n",
    "# Dieser Code führt die folgende Aufgabe aus:\n",
    "# (Fügen Sie hier eine spezifische Erklärung hinzu, basierend auf dem Code.)\n",
    "# This cell performs the following task:\n",
    "# (Add specific annotations here based on the logic in the cell)\n",
    "\n",
    "G.add_node(\"Elder William Hitch\")"
   ]
  },
  {
   "cell_type": "code",
   "execution_count": null,
   "id": "d926a777",
   "metadata": {},
   "outputs": [],
   "source": [
    "# ANNOTATION (auf Deutsch):\n",
    "# Dieser Code führt die folgende Aufgabe aus:\n",
    "# (Fügen Sie hier eine spezifische Erklärung hinzu, basierend auf dem Code.)\n",
    "# This cell performs the following task:\n",
    "# (Add specific annotations here based on the logic in the cell)\n",
    "\n",
    "G.add_node(\"Colonel Proctor\")"
   ]
  },
  {
   "cell_type": "code",
   "execution_count": null,
   "id": "3bdadf5e",
   "metadata": {},
   "outputs": [],
   "source": [
    "# ANNOTATION (auf Deutsch):\n",
    "# Dieser Code führt die folgende Aufgabe aus:\n",
    "# (Fügen Sie hier eine spezifische Erklärung hinzu, basierend auf dem Code.)\n",
    "# This cell performs the following task:\n",
    "# (Add specific annotations here based on the logic in the cell)\n",
    "\n",
    "G.add_node(\"Conductor\")"
   ]
  },
  {
   "cell_type": "code",
   "execution_count": null,
   "id": "9d6ea612",
   "metadata": {},
   "outputs": [],
   "source": [
    "# ANNOTATION (auf Deutsch):\n",
    "# Dieser Code führt die folgende Aufgabe aus:\n",
    "# (Fügen Sie hier eine spezifische Erklärung hinzu, basierend auf dem Code.)\n",
    "# This cell performs the following task:\n",
    "# (Add specific annotations here based on the logic in the cell)\n",
    "\n",
    "G.add_node(\"Forster\")"
   ]
  },
  {
   "cell_type": "code",
   "execution_count": null,
   "id": "35c7ab2e",
   "metadata": {},
   "outputs": [],
   "source": [
    "# ANNOTATION (auf Deutsch):\n",
    "# Dieser Code führt die folgende Aufgabe aus:\n",
    "# (Fügen Sie hier eine spezifische Erklärung hinzu, basierend auf dem Code.)\n",
    "# This cell performs the following task:\n",
    "# (Add specific annotations here based on the logic in the cell)\n",
    "\n",
    "G.add_node(\"Passenger\")"
   ]
  },
  {
   "cell_type": "code",
   "execution_count": null,
   "id": "33dfe76f",
   "metadata": {},
   "outputs": [],
   "source": [
    "# ANNOTATION (auf Deutsch):\n",
    "# Dieser Code führt die folgende Aufgabe aus:\n",
    "# (Fügen Sie hier eine spezifische Erklärung hinzu, basierend auf dem Code.)\n",
    "# This cell performs the following task:\n",
    "# (Add specific annotations here based on the logic in the cell)\n",
    "\n",
    "G.add_node(\"Captain\")"
   ]
  },
  {
   "cell_type": "code",
   "execution_count": null,
   "id": "ea8e1b31",
   "metadata": {},
   "outputs": [],
   "source": [
    "# ANNOTATION (auf Deutsch):\n",
    "# Dieser Code führt die folgende Aufgabe aus:\n",
    "# (Fügen Sie hier eine spezifische Erklärung hinzu, basierend auf dem Code.)\n",
    "# This cell performs the following task:\n",
    "# (Add specific annotations here based on the logic in the cell)\n",
    "\n",
    "G.add_node(\"Andrew Speedy\")"
   ]
  },
  {
   "cell_type": "markdown",
   "id": "06b8ef03",
   "metadata": {},
   "source": [
    "# 4. Textual Interactions"
   ]
  },
  {
   "cell_type": "markdown",
   "id": "f9d5760c",
   "metadata": {},
   "source": [
    "Then we count (old school style by reading the book) who is talking to whom, and we write that down in **G.add_edge()**. If we make a mistake and we accidentally write twice when a character talks to another one, it doesn´t matter. The networkx library will only take into acount one edge per pair of nodes. "
   ]
  },
  {
   "cell_type": "code",
   "execution_count": null,
   "id": "d4e4f636",
   "metadata": {},
   "outputs": [],
   "source": [
    "# ANNOTATION (auf Deutsch):\n",
    "# Dieser Code führt die folgende Aufgabe aus:\n",
    "# (Fügen Sie hier eine spezifische Erklärung hinzu, basierend auf dem Code.)\n",
    "# This cell performs the following task:\n",
    "# (Add specific annotations here based on the logic in the cell)\n",
    "\n",
    "G.add_edge(\"Phileas Fogg\", \"Jean Passepartout\") "
   ]
  },
  {
   "cell_type": "code",
   "execution_count": null,
   "id": "9d1a41de",
   "metadata": {},
   "outputs": [],
   "source": [
    "# ANNOTATION (auf Deutsch):\n",
    "# Dieser Code führt die folgende Aufgabe aus:\n",
    "# (Fügen Sie hier eine spezifische Erklärung hinzu, basierend auf dem Code.)\n",
    "# This cell performs the following task:\n",
    "# (Add specific annotations here based on the logic in the cell)\n",
    "\n",
    "G.add_edge(\"Thomas Flanagan\", \"Gauthier Ralph\") "
   ]
  },
  {
   "cell_type": "code",
   "execution_count": null,
   "id": "a46a3d1f",
   "metadata": {},
   "outputs": [],
   "source": [
    "# ANNOTATION (auf Deutsch):\n",
    "# Dieser Code führt die folgende Aufgabe aus:\n",
    "# (Fügen Sie hier eine spezifische Erklärung hinzu, basierend auf dem Code.)\n",
    "# This cell performs the following task:\n",
    "# (Add specific annotations here based on the logic in the cell)\n",
    "\n",
    "G.add_edge(\"Andrew Stuart\", \"Thomas Flanagan\") "
   ]
  },
  {
   "cell_type": "code",
   "execution_count": null,
   "id": "9e831311",
   "metadata": {},
   "outputs": [],
   "source": [
    "# ANNOTATION (auf Deutsch):\n",
    "# Dieser Code führt die folgende Aufgabe aus:\n",
    "# (Fügen Sie hier eine spezifische Erklärung hinzu, basierend auf dem Code.)\n",
    "# This cell performs the following task:\n",
    "# (Add specific annotations here based on the logic in the cell)\n",
    "\n",
    "G.add_edge(\"Gauthier Ralph\", \"Andrew Stuart\") "
   ]
  },
  {
   "cell_type": "code",
   "execution_count": null,
   "id": "ee706386",
   "metadata": {},
   "outputs": [],
   "source": [
    "# ANNOTATION (auf Deutsch):\n",
    "# Dieser Code führt die folgende Aufgabe aus:\n",
    "# (Fügen Sie hier eine spezifische Erklärung hinzu, basierend auf dem Code.)\n",
    "# This cell performs the following task:\n",
    "# (Add specific annotations here based on the logic in the cell)\n",
    "\n",
    "G.add_edge(\"Phileas Fogg\", \"Andrew Stuart\") "
   ]
  },
  {
   "cell_type": "code",
   "execution_count": null,
   "id": "973746e7",
   "metadata": {},
   "outputs": [],
   "source": [
    "# ANNOTATION (auf Deutsch):\n",
    "# Dieser Code führt die folgende Aufgabe aus:\n",
    "# (Fügen Sie hier eine spezifische Erklärung hinzu, basierend auf dem Code.)\n",
    "# This cell performs the following task:\n",
    "# (Add specific annotations here based on the logic in the cell)\n",
    "\n",
    "G.add_edge(\"Samuel Fallentin\", \"Andrew Stuart\") "
   ]
  },
  {
   "cell_type": "code",
   "execution_count": null,
   "id": "c37c58a7",
   "metadata": {},
   "outputs": [],
   "source": [
    "# ANNOTATION (auf Deutsch):\n",
    "# Dieser Code führt die folgende Aufgabe aus:\n",
    "# (Fügen Sie hier eine spezifische Erklärung hinzu, basierend auf dem Code.)\n",
    "# This cell performs the following task:\n",
    "# (Add specific annotations here based on the logic in the cell)\n",
    "\n",
    "G.add_edge(\"John Sullivan\", \"Phileas Fogg\") "
   ]
  },
  {
   "cell_type": "code",
   "execution_count": null,
   "id": "3fcc1b98",
   "metadata": {},
   "outputs": [],
   "source": [
    "# ANNOTATION (auf Deutsch):\n",
    "# Dieser Code führt die folgende Aufgabe aus:\n",
    "# (Fügen Sie hier eine spezifische Erklärung hinzu, basierend auf dem Code.)\n",
    "# This cell performs the following task:\n",
    "# (Add specific annotations here based on the logic in the cell)\n",
    "\n",
    "G.add_edge(\"Fix\", \"Consul\") "
   ]
  },
  {
   "cell_type": "code",
   "execution_count": null,
   "id": "40fb9453",
   "metadata": {},
   "outputs": [],
   "source": [
    "# ANNOTATION (auf Deutsch):\n",
    "# Dieser Code führt die folgende Aufgabe aus:\n",
    "# (Fügen Sie hier eine spezifische Erklärung hinzu, basierend auf dem Code.)\n",
    "# This cell performs the following task:\n",
    "# (Add specific annotations here based on the logic in the cell)\n",
    "\n",
    "G.add_edge(\"Phileas Fogg\", \"Consul\") "
   ]
  },
  {
   "cell_type": "code",
   "execution_count": null,
   "id": "f7627dba",
   "metadata": {},
   "outputs": [],
   "source": [
    "# ANNOTATION (auf Deutsch):\n",
    "# Dieser Code führt die folgende Aufgabe aus:\n",
    "# (Fügen Sie hier eine spezifische Erklärung hinzu, basierend auf dem Code.)\n",
    "# This cell performs the following task:\n",
    "# (Add specific annotations here based on the logic in the cell)\n",
    "\n",
    "G.add_edge(\"Fix\", \"Jean Passepartout\") "
   ]
  },
  {
   "cell_type": "code",
   "execution_count": null,
   "id": "4439a805",
   "metadata": {},
   "outputs": [],
   "source": [
    "# ANNOTATION (auf Deutsch):\n",
    "# Dieser Code führt die folgende Aufgabe aus:\n",
    "# (Fügen Sie hier eine spezifische Erklärung hinzu, basierend auf dem Code.)\n",
    "# This cell performs the following task:\n",
    "# (Add specific annotations here based on the logic in the cell)\n",
    "\n",
    "G.add_edge(\"Phileas Fogg\", \"Landlord\") "
   ]
  },
  {
   "cell_type": "code",
   "execution_count": null,
   "id": "e0bfd682",
   "metadata": {},
   "outputs": [],
   "source": [
    "# ANNOTATION (auf Deutsch):\n",
    "# Dieser Code führt die folgende Aufgabe aus:\n",
    "# (Fügen Sie hier eine spezifische Erklärung hinzu, basierend auf dem Code.)\n",
    "# This cell performs the following task:\n",
    "# (Add specific annotations here based on the logic in the cell)\n",
    "\n",
    "G.add_edge(\"Phileas Fogg\", \"Sir Francis Cromarty\") "
   ]
  },
  {
   "cell_type": "code",
   "execution_count": null,
   "id": "a0b31cc0",
   "metadata": {},
   "outputs": [],
   "source": [
    "# ANNOTATION (auf Deutsch):\n",
    "# Dieser Code führt die folgende Aufgabe aus:\n",
    "# (Fügen Sie hier eine spezifische Erklärung hinzu, basierend auf dem Code.)\n",
    "# This cell performs the following task:\n",
    "# (Add specific annotations here based on the logic in the cell)\n",
    "\n",
    "G.add_edge(\"Jean Passepartout\", \"Sir Francis Cromarty\") "
   ]
  },
  {
   "cell_type": "code",
   "execution_count": null,
   "id": "dca4c0e9",
   "metadata": {},
   "outputs": [],
   "source": [
    "# ANNOTATION (auf Deutsch):\n",
    "# Dieser Code führt die folgende Aufgabe aus:\n",
    "# (Fügen Sie hier eine spezifische Erklärung hinzu, basierend auf dem Code.)\n",
    "# This cell performs the following task:\n",
    "# (Add specific annotations here based on the logic in the cell)\n",
    "\n",
    "G.add_edge(\"Parsee guide\", \"Sir Francis Cromarty\") "
   ]
  },
  {
   "cell_type": "code",
   "execution_count": null,
   "id": "ca300169",
   "metadata": {},
   "outputs": [],
   "source": [
    "# ANNOTATION (auf Deutsch):\n",
    "# Dieser Code führt die folgende Aufgabe aus:\n",
    "# (Fügen Sie hier eine spezifische Erklärung hinzu, basierend auf dem Code.)\n",
    "# This cell performs the following task:\n",
    "# (Add specific annotations here based on the logic in the cell)\n",
    "\n",
    "G.add_edge(\"Parsee guide\", \"Jean Passepartout\") "
   ]
  },
  {
   "cell_type": "code",
   "execution_count": null,
   "id": "7101c7e5",
   "metadata": {},
   "outputs": [],
   "source": [
    "# ANNOTATION (auf Deutsch):\n",
    "# Dieser Code führt die folgende Aufgabe aus:\n",
    "# (Fügen Sie hier eine spezifische Erklärung hinzu, basierend auf dem Code.)\n",
    "# This cell performs the following task:\n",
    "# (Add specific annotations here based on the logic in the cell)\n",
    "\n",
    "G.add_edge(\"Parsee guide\", \"Phileas Fogg\") "
   ]
  },
  {
   "cell_type": "code",
   "execution_count": null,
   "id": "cf645978",
   "metadata": {},
   "outputs": [],
   "source": [
    "# ANNOTATION (auf Deutsch):\n",
    "# Dieser Code führt die folgende Aufgabe aus:\n",
    "# (Fügen Sie hier eine spezifische Erklärung hinzu, basierend auf dem Code.)\n",
    "# This cell performs the following task:\n",
    "# (Add specific annotations here based on the logic in the cell)\n",
    "\n",
    "G.add_edge(\"Policeman\", \"Phileas Fogg\") "
   ]
  },
  {
   "cell_type": "code",
   "execution_count": null,
   "id": "b8db87fd",
   "metadata": {},
   "outputs": [],
   "source": [
    "# ANNOTATION (auf Deutsch):\n",
    "# Dieser Code führt die folgende Aufgabe aus:\n",
    "# (Fügen Sie hier eine spezifische Erklärung hinzu, basierend auf dem Code.)\n",
    "# This cell performs the following task:\n",
    "# (Add specific annotations here based on the logic in the cell)\n",
    "\n",
    "G.add_edge(\"Policeman\", \"Jean Passepartout\") "
   ]
  },
  {
   "cell_type": "code",
   "execution_count": null,
   "id": "3afdc763",
   "metadata": {},
   "outputs": [],
   "source": [
    "# ANNOTATION (auf Deutsch):\n",
    "# Dieser Code führt die folgende Aufgabe aus:\n",
    "# (Fügen Sie hier eine spezifische Erklärung hinzu, basierend auf dem Code.)\n",
    "# This cell performs the following task:\n",
    "# (Add specific annotations here based on the logic in the cell)\n",
    "\n",
    "G.add_edge(\"Aouda\", \"Phileas Fogg\") "
   ]
  },
  {
   "cell_type": "code",
   "execution_count": null,
   "id": "0a8ab716",
   "metadata": {},
   "outputs": [],
   "source": [
    "# ANNOTATION (auf Deutsch):\n",
    "# Dieser Code führt die folgende Aufgabe aus:\n",
    "# (Fügen Sie hier eine spezifische Erklärung hinzu, basierend auf dem Code.)\n",
    "# This cell performs the following task:\n",
    "# (Add specific annotations here based on the logic in the cell)\n",
    "\n",
    "G.add_edge(\"Clerk\", \"Judge Obadiah\") "
   ]
  },
  {
   "cell_type": "code",
   "execution_count": null,
   "id": "417a933b",
   "metadata": {},
   "outputs": [],
   "source": [
    "# ANNOTATION (auf Deutsch):\n",
    "# Dieser Code führt die folgende Aufgabe aus:\n",
    "# (Fügen Sie hier eine spezifische Erklärung hinzu, basierend auf dem Code.)\n",
    "# This cell performs the following task:\n",
    "# (Add specific annotations here based on the logic in the cell)\n",
    "\n",
    "G.add_edge(\"Phileas Fogg\", \"Judge Obadiah\") "
   ]
  },
  {
   "cell_type": "code",
   "execution_count": null,
   "id": "7673782f",
   "metadata": {},
   "outputs": [],
   "source": [
    "# ANNOTATION (auf Deutsch):\n",
    "# Dieser Code führt die folgende Aufgabe aus:\n",
    "# (Fügen Sie hier eine spezifische Erklärung hinzu, basierend auf dem Code.)\n",
    "# This cell performs the following task:\n",
    "# (Add specific annotations here based on the logic in the cell)\n",
    "\n",
    "G.add_edge(\"Jean Passepartout\", \"Judge Obadiah\") "
   ]
  },
  {
   "cell_type": "code",
   "execution_count": null,
   "id": "9d9a76c2",
   "metadata": {},
   "outputs": [],
   "source": [
    "# ANNOTATION (auf Deutsch):\n",
    "# Dieser Code führt die folgende Aufgabe aus:\n",
    "# (Fügen Sie hier eine spezifische Erklärung hinzu, basierend auf dem Code.)\n",
    "# This cell performs the following task:\n",
    "# (Add specific annotations here based on the logic in the cell)\n",
    "\n",
    "G.add_edge(\"Jean Passepartout\", \"Clerk\") "
   ]
  },
  {
   "cell_type": "code",
   "execution_count": null,
   "id": "54862f7c",
   "metadata": {},
   "outputs": [],
   "source": [
    "# ANNOTATION (auf Deutsch):\n",
    "# Dieser Code führt die folgende Aufgabe aus:\n",
    "# (Fügen Sie hier eine spezifische Erklärung hinzu, basierend auf dem Code.)\n",
    "# This cell performs the following task:\n",
    "# (Add specific annotations here based on the logic in the cell)\n",
    "\n",
    "G.add_edge(\"Pilot\", \"Phileas Fogg\") "
   ]
  },
  {
   "cell_type": "code",
   "execution_count": null,
   "id": "36f4dda6",
   "metadata": {},
   "outputs": [],
   "source": [
    "# ANNOTATION (auf Deutsch):\n",
    "# Dieser Code führt die folgende Aufgabe aus:\n",
    "# (Fügen Sie hier eine spezifische Erklärung hinzu, basierend auf dem Code.)\n",
    "# This cell performs the following task:\n",
    "# (Add specific annotations here based on the logic in the cell)\n",
    "\n",
    "G.add_edge(\"Pilot\", \"Jean Passepartout\") "
   ]
  },
  {
   "cell_type": "code",
   "execution_count": null,
   "id": "3afcb10b",
   "metadata": {},
   "outputs": [],
   "source": [
    "# ANNOTATION (auf Deutsch):\n",
    "# Dieser Code führt die folgende Aufgabe aus:\n",
    "# (Fügen Sie hier eine spezifische Erklärung hinzu, basierend auf dem Code.)\n",
    "# This cell performs the following task:\n",
    "# (Add specific annotations here based on the logic in the cell)\n",
    "\n",
    "G.add_edge(\"Fix\", \"Phileas Fogg\") "
   ]
  },
  {
   "cell_type": "code",
   "execution_count": null,
   "id": "a6156c8f",
   "metadata": {},
   "outputs": [],
   "source": [
    "# ANNOTATION (auf Deutsch):\n",
    "# Dieser Code führt die folgende Aufgabe aus:\n",
    "# (Fügen Sie hier eine spezifische Erklärung hinzu, basierend auf dem Code.)\n",
    "# This cell performs the following task:\n",
    "# (Add specific annotations here based on the logic in the cell)\n",
    "\n",
    "G.add_edge(\"Fix\", \"Aouda\") "
   ]
  },
  {
   "cell_type": "code",
   "execution_count": null,
   "id": "d7e2f8fe",
   "metadata": {},
   "outputs": [],
   "source": [
    "# ANNOTATION (auf Deutsch):\n",
    "# Dieser Code führt die folgende Aufgabe aus:\n",
    "# (Fügen Sie hier eine spezifische Erklärung hinzu, basierend auf dem Code.)\n",
    "# This cell performs the following task:\n",
    "# (Add specific annotations here based on the logic in the cell)\n",
    "\n",
    "G.add_edge(\"Sailor\", \"Phileas Fogg\") "
   ]
  },
  {
   "cell_type": "code",
   "execution_count": null,
   "id": "422520aa",
   "metadata": {},
   "outputs": [],
   "source": [
    "# ANNOTATION (auf Deutsch):\n",
    "# Dieser Code führt die folgende Aufgabe aus:\n",
    "# (Fügen Sie hier eine spezifische Erklärung hinzu, basierend auf dem Code.)\n",
    "# This cell performs the following task:\n",
    "# (Add specific annotations here based on the logic in the cell)\n",
    "\n",
    "G.add_edge(\"Mr. Batulcar\", \"Jean Passepartout\") "
   ]
  },
  {
   "cell_type": "code",
   "execution_count": null,
   "id": "f02b8fb3",
   "metadata": {},
   "outputs": [],
   "source": [
    "# ANNOTATION (auf Deutsch):\n",
    "# Dieser Code führt die folgende Aufgabe aus:\n",
    "# (Fügen Sie hier eine spezifische Erklärung hinzu, basierend auf dem Code.)\n",
    "# This cell performs the following task:\n",
    "# (Add specific annotations here based on the logic in the cell)\n",
    "\n",
    "G.add_edge(\"Phileas Fogg\", \"Colonel Proctor\") "
   ]
  },
  {
   "cell_type": "code",
   "execution_count": null,
   "id": "13f40d36",
   "metadata": {},
   "outputs": [],
   "source": [
    "# ANNOTATION (auf Deutsch):\n",
    "# Dieser Code führt die folgende Aufgabe aus:\n",
    "# (Fügen Sie hier eine spezifische Erklärung hinzu, basierend auf dem Code.)\n",
    "# This cell performs the following task:\n",
    "# (Add specific annotations here based on the logic in the cell)\n",
    "\n",
    "G.add_edge(\"Elder William Hitch\", \"Jean Passepartout\") "
   ]
  },
  {
   "cell_type": "code",
   "execution_count": null,
   "id": "701d3e8b",
   "metadata": {},
   "outputs": [],
   "source": [
    "# ANNOTATION (auf Deutsch):\n",
    "# Dieser Code führt die folgende Aufgabe aus:\n",
    "# (Fügen Sie hier eine spezifische Erklärung hinzu, basierend auf dem Code.)\n",
    "# This cell performs the following task:\n",
    "# (Add specific annotations here based on the logic in the cell)\n",
    "\n",
    "G.add_edge(\"Colonel Proctor\", \"Conductor\")"
   ]
  },
  {
   "cell_type": "code",
   "execution_count": null,
   "id": "9cf38a2c",
   "metadata": {},
   "outputs": [],
   "source": [
    "# ANNOTATION (auf Deutsch):\n",
    "# Dieser Code führt die folgende Aufgabe aus:\n",
    "# (Fügen Sie hier eine spezifische Erklärung hinzu, basierend auf dem Code.)\n",
    "# This cell performs the following task:\n",
    "# (Add specific annotations here based on the logic in the cell)\n",
    "\n",
    "G.add_edge(\"Colonel Proctor\", \"Jean Passepartout\")"
   ]
  },
  {
   "cell_type": "code",
   "execution_count": null,
   "id": "894eacbc",
   "metadata": {},
   "outputs": [],
   "source": [
    "# ANNOTATION (auf Deutsch):\n",
    "# Dieser Code führt die folgende Aufgabe aus:\n",
    "# (Fügen Sie hier eine spezifische Erklärung hinzu, basierend auf dem Code.)\n",
    "# This cell performs the following task:\n",
    "# (Add specific annotations here based on the logic in the cell)\n",
    "\n",
    "G.add_edge(\"Forster\", \"Conductor\")"
   ]
  },
  {
   "cell_type": "code",
   "execution_count": null,
   "id": "765f6539",
   "metadata": {},
   "outputs": [],
   "source": [
    "# ANNOTATION (auf Deutsch):\n",
    "# Dieser Code führt die folgende Aufgabe aus:\n",
    "# (Fügen Sie hier eine spezifische Erklärung hinzu, basierend auf dem Code.)\n",
    "# This cell performs the following task:\n",
    "# (Add specific annotations here based on the logic in the cell)\n",
    "\n",
    "G.add_edge(\"Forster\", \"Jean Passepartout\")"
   ]
  },
  {
   "cell_type": "code",
   "execution_count": null,
   "id": "3cd1cea0",
   "metadata": {},
   "outputs": [],
   "source": [
    "# ANNOTATION (auf Deutsch):\n",
    "# Dieser Code führt die folgende Aufgabe aus:\n",
    "# (Fügen Sie hier eine spezifische Erklärung hinzu, basierend auf dem Code.)\n",
    "# This cell performs the following task:\n",
    "# (Add specific annotations here based on the logic in the cell)\n",
    "\n",
    "G.add_edge(\"Passenger\", \"Jean Passepartout\")"
   ]
  },
  {
   "cell_type": "code",
   "execution_count": null,
   "id": "02cff968",
   "metadata": {},
   "outputs": [],
   "source": [
    "# ANNOTATION (auf Deutsch):\n",
    "# Dieser Code führt die folgende Aufgabe aus:\n",
    "# (Fügen Sie hier eine spezifische Erklärung hinzu, basierend auf dem Code.)\n",
    "# This cell performs the following task:\n",
    "# (Add specific annotations here based on the logic in the cell)\n",
    "\n",
    "G.add_edge(\"Fix\", \"Colonel Proctor\") "
   ]
  },
  {
   "cell_type": "code",
   "execution_count": null,
   "id": "916fa05e",
   "metadata": {},
   "outputs": [],
   "source": [
    "# ANNOTATION (auf Deutsch):\n",
    "# Dieser Code führt die folgende Aufgabe aus:\n",
    "# (Fügen Sie hier eine spezifische Erklärung hinzu, basierend auf dem Code.)\n",
    "# This cell performs the following task:\n",
    "# (Add specific annotations here based on the logic in the cell)\n",
    "\n",
    "G.add_edge(\"Phileas Fogg\", \"Captain\") "
   ]
  },
  {
   "cell_type": "code",
   "execution_count": null,
   "id": "27329e6e",
   "metadata": {},
   "outputs": [],
   "source": [
    "# ANNOTATION (auf Deutsch):\n",
    "# Dieser Code führt die folgende Aufgabe aus:\n",
    "# (Fügen Sie hier eine spezifische Erklärung hinzu, basierend auf dem Code.)\n",
    "# This cell performs the following task:\n",
    "# (Add specific annotations here based on the logic in the cell)\n",
    "\n",
    "G.add_edge(\"Aouda\", \"Conductor\")"
   ]
  },
  {
   "cell_type": "code",
   "execution_count": null,
   "id": "b9ee37d3",
   "metadata": {},
   "outputs": [],
   "source": [
    "# ANNOTATION (auf Deutsch):\n",
    "# Dieser Code führt die folgende Aufgabe aus:\n",
    "# (Fügen Sie hier eine spezifische Erklärung hinzu, basierend auf dem Code.)\n",
    "# This cell performs the following task:\n",
    "# (Add specific annotations here based on the logic in the cell)\n",
    "\n",
    "G.add_edge(\"Andrew Speedy\", \"Phileas Fogg\")"
   ]
  },
  {
   "cell_type": "code",
   "execution_count": null,
   "id": "2ec93f56",
   "metadata": {},
   "outputs": [],
   "source": [
    "# ANNOTATION (auf Deutsch):\n",
    "# Dieser Code führt die folgende Aufgabe aus:\n",
    "# (Fügen Sie hier eine spezifische Erklärung hinzu, basierend auf dem Code.)\n",
    "# This cell performs the following task:\n",
    "# (Add specific annotations here based on the logic in the cell)\n",
    "\n",
    "G.add_edge(\"John Sullivan\", \"Andrew Stuart\") "
   ]
  },
  {
   "cell_type": "markdown",
   "id": "9af9e786",
   "metadata": {},
   "source": [
    "# 5. Checking the structure of our network"
   ]
  },
  {
   "cell_type": "markdown",
   "id": "70570ec4",
   "metadata": {},
   "source": [
    "Now let's have a look at the number of nodes that we have."
   ]
  },
  {
   "cell_type": "code",
   "execution_count": null,
   "id": "b019ae03",
   "metadata": {},
   "outputs": [],
   "source": [
    "# ANNOTATION (auf Deutsch):\n",
    "# Dieser Code führt die folgende Aufgabe aus:\n",
    "# (Fügen Sie hier eine spezifische Erklärung hinzu, basierend auf dem Code.)\n",
    "# This cell performs the following task:\n",
    "# (Add specific annotations here based on the logic in the cell)\n",
    "\n",
    "G.number_of_nodes()"
   ]
  },
  {
   "cell_type": "code",
   "execution_count": null,
   "id": "e48af800",
   "metadata": {},
   "outputs": [],
   "source": [
    "# ANNOTATION (auf Deutsch):\n",
    "# Dieser Code führt die folgende Aufgabe aus:\n",
    "# (Fügen Sie hier eine spezifische Erklärung hinzu, basierend auf dem Code.)\n",
    "# This cell performs the following task:\n",
    "# (Add specific annotations here based on the logic in the cell)\n",
    "\n",
    "list(G.nodes)"
   ]
  },
  {
   "cell_type": "markdown",
   "id": "e9c41c19",
   "metadata": {},
   "source": [
    "Let's do the same with the edges."
   ]
  },
  {
   "cell_type": "code",
   "execution_count": null,
   "id": "05962c66",
   "metadata": {},
   "outputs": [],
   "source": [
    "# ANNOTATION (auf Deutsch):\n",
    "# Dieser Code führt die folgende Aufgabe aus:\n",
    "# (Fügen Sie hier eine spezifische Erklärung hinzu, basierend auf dem Code.)\n",
    "# This cell performs the following task:\n",
    "# (Add specific annotations here based on the logic in the cell)\n",
    "\n",
    "G.number_of_edges()"
   ]
  },
  {
   "cell_type": "code",
   "execution_count": null,
   "id": "cd2d24ef",
   "metadata": {},
   "outputs": [],
   "source": [
    "# ANNOTATION (auf Deutsch):\n",
    "# Dieser Code führt die folgende Aufgabe aus:\n",
    "# (Fügen Sie hier eine spezifische Erklärung hinzu, basierend auf dem Code.)\n",
    "# This cell performs the following task:\n",
    "# (Add specific annotations here based on the logic in the cell)\n",
    "\n",
    "list(G.edges)"
   ]
  },
  {
   "cell_type": "markdown",
   "id": "cb72d1e5",
   "metadata": {},
   "source": [
    "# 6. Network Visualization"
   ]
  },
  {
   "cell_type": "markdown",
   "id": "19ca1f38",
   "metadata": {},
   "source": [
    "And now let's have a look at our network!"
   ]
  },
  {
   "cell_type": "code",
   "execution_count": null,
   "id": "7333fcc3",
   "metadata": {},
   "outputs": [],
   "source": [
    "# ANNOTATION (auf Deutsch):\n",
    "# Dieser Code führt die folgende Aufgabe aus:\n",
    "# (Fügen Sie hier eine spezifische Erklärung hinzu, basierend auf dem Code.)\n",
    "# This cell performs the following task:\n",
    "# (Add specific annotations here based on the logic in the cell)\n",
    "\n",
    "import matplotlib.pyplot as plt"
   ]
  },
  {
   "cell_type": "code",
   "execution_count": null,
   "id": "549dd395",
   "metadata": {},
   "outputs": [],
   "source": [
    "# ANNOTATION (auf Deutsch):\n",
    "# Dieser Code führt die folgende Aufgabe aus:\n",
    "# (Fügen Sie hier eine spezifische Erklärung hinzu, basierend auf dem Code.)\n",
    "# This cell performs the following task:\n",
    "# (Add specific annotations here based on the logic in the cell)\n",
    "\n",
    "plt.rcParams[\"figure.figsize\"] = (10, 10) #to change the size of the figure"
   ]
  },
  {
   "cell_type": "code",
   "execution_count": null,
   "id": "792e6396",
   "metadata": {},
   "outputs": [],
   "source": [
    "# ANNOTATION (auf Deutsch):\n",
    "# Dieser Code führt die folgende Aufgabe aus:\n",
    "# (Fügen Sie hier eine spezifische Erklärung hinzu, basierend auf dem Code.)\n",
    "# This cell performs the following task:\n",
    "# (Add specific annotations here based on the logic in the cell)\n",
    "\n",
    "nx.draw(G, with_labels = True, node_size = 1000) #to change the size of our nodes\n",
    "plt.show()"
   ]
  },
  {
   "cell_type": "markdown",
   "id": "382465b1",
   "metadata": {},
   "source": [
    "# 7. Network metrics"
   ]
  },
  {
   "cell_type": "markdown",
   "id": "cd45c976",
   "metadata": {},
   "source": [
    "I looks like the tree characters that appear in the center of the network are Kat, Patrick and Joey. Let's try to discover who is the **hub**: the node of the network with the higher number of connections."
   ]
  },
  {
   "cell_type": "markdown",
   "id": "71ad83dd",
   "metadata": {},
   "source": [
    "1. Calculating **Network Degree**: who has more connections?"
   ]
  },
  {
   "cell_type": "code",
   "execution_count": null,
   "id": "8507c0e7",
   "metadata": {},
   "outputs": [],
   "source": [
    "# ANNOTATION (auf Deutsch):\n",
    "# Dieser Code führt die folgende Aufgabe aus:\n",
    "# (Fügen Sie hier eine spezifische Erklärung hinzu, basierend auf dem Code.)\n",
    "# This cell performs the following task:\n",
    "# (Add specific annotations here based on the logic in the cell)\n",
    "\n",
    "nx.degree(G)"
   ]
  },
  {
   "cell_type": "code",
   "execution_count": null,
   "id": "cddd6243",
   "metadata": {},
   "outputs": [],
   "source": [
    "# ANNOTATION (auf Deutsch):\n",
    "# Dieser Code führt die folgende Aufgabe aus:\n",
    "# (Fügen Sie hier eine spezifische Erklärung hinzu, basierend auf dem Code.)\n",
    "# This cell performs the following task:\n",
    "# (Add specific annotations here based on the logic in the cell)\n",
    "\n",
    "degrees = list(sorted(nx.degree(G), key=lambda x: x[1], reverse=True))"
   ]
  },
  {
   "cell_type": "code",
   "execution_count": null,
   "id": "11ab73c0",
   "metadata": {},
   "outputs": [],
   "source": [
    "# ANNOTATION (auf Deutsch):\n",
    "# Dieser Code führt die folgende Aufgabe aus:\n",
    "# (Fügen Sie hier eine spezifische Erklärung hinzu, basierend auf dem Code.)\n",
    "# This cell performs the following task:\n",
    "# (Add specific annotations here based on the logic in the cell)\n",
    "\n",
    "degrees"
   ]
  },
  {
   "cell_type": "markdown",
   "id": "dced2f3f",
   "metadata": {},
   "source": [
    "So: the network hub is Phileas Fogg! He is the character that has the biggest number of connections, followed by Jean Passepartout. This could be considered as a preliminary metric of **plot character agency**, showing that in terms of who knows whom, these two characters are the most popular ones in the story."
   ]
  },
  {
   "cell_type": "markdown",
   "id": "ebd28399",
   "metadata": {},
   "source": [
    "2. Calculating **Betweenes Centrality Scores**: who is the person that connects more nodes in the network?"
   ]
  },
  {
   "cell_type": "code",
   "execution_count": null,
   "id": "0a853888",
   "metadata": {},
   "outputs": [],
   "source": [
    "# ANNOTATION (auf Deutsch):\n",
    "# Dieser Code führt die folgende Aufgabe aus:\n",
    "# (Fügen Sie hier eine spezifische Erklärung hinzu, basierend auf dem Code.)\n",
    "# This cell performs the following task:\n",
    "# (Add specific annotations here based on the logic in the cell)\n",
    "\n",
    "betweenness = nx.betweenness_centrality(G)"
   ]
  },
  {
   "cell_type": "code",
   "execution_count": null,
   "id": "c372a55a",
   "metadata": {},
   "outputs": [],
   "source": [
    "# ANNOTATION (auf Deutsch):\n",
    "# Dieser Code führt die folgende Aufgabe aus:\n",
    "# (Fügen Sie hier eine spezifische Erklärung hinzu, basierend auf dem Code.)\n",
    "# This cell performs the following task:\n",
    "# (Add specific annotations here based on the logic in the cell)\n",
    "\n",
    "betweenness"
   ]
  },
  {
   "cell_type": "code",
   "execution_count": null,
   "id": "361050e9",
   "metadata": {},
   "outputs": [],
   "source": [
    "# ANNOTATION (auf Deutsch):\n",
    "# Dieser Code führt die folgende Aufgabe aus:\n",
    "# (Fügen Sie hier eine spezifische Erklärung hinzu, basierend auf dem Code.)\n",
    "# This cell performs the following task:\n",
    "# (Add specific annotations here based on the logic in the cell)\n",
    "\n",
    "betweenness = sorted(betweenness.items(), key=lambda x: x[1], reverse=True)"
   ]
  },
  {
   "cell_type": "code",
   "execution_count": null,
   "id": "e1fb9231",
   "metadata": {},
   "outputs": [],
   "source": [
    "# ANNOTATION (auf Deutsch):\n",
    "# Dieser Code führt die folgende Aufgabe aus:\n",
    "# (Fügen Sie hier eine spezifische Erklärung hinzu, basierend auf dem Code.)\n",
    "# This cell performs the following task:\n",
    "# (Add specific annotations here based on the logic in the cell)\n",
    "\n",
    "betweenness"
   ]
  },
  {
   "cell_type": "markdown",
   "id": "20bd03bb",
   "metadata": {},
   "source": [
    "This is another metric to determine who can put more people in touch within the network. That position goes to Phileas Fogg, and by far!"
   ]
  },
  {
   "cell_type": "markdown",
   "id": "27f364a2",
   "metadata": {},
   "source": [
    "3. **Communities**: who forms different communities within this network?"
   ]
  },
  {
   "cell_type": "code",
   "execution_count": null,
   "id": "15b94b4f",
   "metadata": {},
   "outputs": [],
   "source": [
    "# ANNOTATION (auf Deutsch):\n",
    "# Dieser Code führt die folgende Aufgabe aus:\n",
    "# (Fügen Sie hier eine spezifische Erklärung hinzu, basierend auf dem Code.)\n",
    "# This cell performs the following task:\n",
    "# (Add specific annotations here based on the logic in the cell)\n",
    "\n",
    "from networkx.algorithms import community"
   ]
  },
  {
   "cell_type": "code",
   "execution_count": null,
   "id": "a80cef4a",
   "metadata": {},
   "outputs": [],
   "source": [
    "# ANNOTATION (auf Deutsch):\n",
    "# Dieser Code führt die folgende Aufgabe aus:\n",
    "# (Fügen Sie hier eine spezifische Erklärung hinzu, basierend auf dem Code.)\n",
    "# This cell performs the following task:\n",
    "# (Add specific annotations here based on the logic in the cell)\n",
    "\n",
    "communities = community.greedy_modularity_communities(G)"
   ]
  },
  {
   "cell_type": "code",
   "execution_count": null,
   "id": "c5a2334e",
   "metadata": {},
   "outputs": [],
   "source": [
    "# ANNOTATION (auf Deutsch):\n",
    "# Dieser Code führt die folgende Aufgabe aus:\n",
    "# (Fügen Sie hier eine spezifische Erklärung hinzu, basierend auf dem Code.)\n",
    "# This cell performs the following task:\n",
    "# (Add specific annotations here based on the logic in the cell)\n",
    "\n",
    "communities"
   ]
  },
  {
   "cell_type": "markdown",
   "id": "725511cc",
   "metadata": {},
   "source": [
    "And then we can check whether there are some narrative sub-groups that tend to interact more with each other, and we do indeed observe four different communities."
   ]
  },
  {
   "cell_type": "markdown",
   "id": "e38948fe",
   "metadata": {},
   "source": [
    "# 8. Conclusion"
   ]
  },
  {
   "cell_type": "markdown",
   "id": "594c0037",
   "metadata": {},
   "source": [
    "While our network does not give any information about the content of the interactions between characters, or about how much they talk to each other (amount of text), it is a preliminary approach that shows how the hub of the network is Phileas Fogg, followed by Jean Passepartout, and therefore, these two characters direct the narrative. "
   ]
  },
  {
   "cell_type": "markdown",
   "id": "8f30fd8d",
   "metadata": {},
   "source": [
    "# 9. Saving up our data"
   ]
  },
  {
   "cell_type": "markdown",
   "id": "3dc8d31d",
   "metadata": {},
   "source": [
    "Let's transform our network into a Pandas Dataframe. We can use nx.to_pandas_adjacency() to do this. It will return a Document Term Matrix where each node is assigned 1 point if there is an interaction between two characters, and 0 points if there is no interaction."
   ]
  },
  {
   "cell_type": "code",
   "execution_count": null,
   "id": "21ca6a97",
   "metadata": {},
   "outputs": [],
   "source": [
    "# ANNOTATION (auf Deutsch):\n",
    "# Dieser Code führt die folgende Aufgabe aus:\n",
    "# (Fügen Sie hier eine spezifische Erklärung hinzu, basierend auf dem Code.)\n",
    "# This cell performs the following task:\n",
    "# (Add specific annotations here based on the logic in the cell)\n",
    "\n",
    "df_aroundtheworld = nx.to_pandas_adjacency(G)"
   ]
  },
  {
   "cell_type": "code",
   "execution_count": null,
   "id": "d37b58c6",
   "metadata": {},
   "outputs": [],
   "source": [
    "# ANNOTATION (auf Deutsch):\n",
    "# Dieser Code führt die folgende Aufgabe aus:\n",
    "# (Fügen Sie hier eine spezifische Erklärung hinzu, basierend auf dem Code.)\n",
    "# This cell performs the following task:\n",
    "# (Add specific annotations here based on the logic in the cell)\n",
    "\n",
    "df_aroundtheworld"
   ]
  },
  {
   "cell_type": "code",
   "execution_count": null,
   "id": "f7ffee9a",
   "metadata": {},
   "outputs": [],
   "source": [
    "# ANNOTATION (auf Deutsch):\n",
    "# Dieser Code führt die folgende Aufgabe aus:\n",
    "# (Fügen Sie hier eine spezifische Erklärung hinzu, basierend auf dem Code.)\n",
    "# This cell performs the following task:\n",
    "# (Add specific annotations here based on the logic in the cell)\n",
    "\n",
    "df_aroundtheworld.to_csv(\"aroundtheworld.csv\")"
   ]
  },
  {
   "cell_type": "markdown",
   "id": "e3f16326",
   "metadata": {},
   "source": [
    "# Exercise 1"
   ]
  },
  {
   "cell_type": "markdown",
   "id": "ee36fda7",
   "metadata": {},
   "source": [
    "### Content from: Harry Potter around the World.ipynb"
   ]
  },
  {
   "cell_type": "markdown",
   "id": "50164ac3",
   "metadata": {},
   "source": [
    "#### Annotation:\n",
    "This section includes the content and logic from the original notebook. Annotations have been added to explain the purpose and function of each code cell."
   ]
  },
  {
   "cell_type": "markdown",
   "id": "a92457b8",
   "metadata": {},
   "source": [
    "# Mapping the world of Harry Potter"
   ]
  },
  {
   "cell_type": "markdown",
   "id": "d1482a27",
   "metadata": {},
   "source": [
    "**Script source:** several queries to Perplexity AI!"
   ]
  },
  {
   "cell_type": "markdown",
   "id": "dc085bb8",
   "metadata": {},
   "source": [
    "Harry Potter is one of the most translated (and popular) books around the world and it is available in 85 languages! (https://en.wikipedia.org/wiki/List_of_Harry_Potter_translations)\n",
    "\n",
    "Let's write a python script to do a geo-spatial analysis visualization of things!"
   ]
  },
  {
   "cell_type": "markdown",
   "id": "831b31a8",
   "metadata": {},
   "source": [
    "# 1. We import the libraries"
   ]
  },
  {
   "cell_type": "code",
   "execution_count": null,
   "id": "9fa3b6be",
   "metadata": {},
   "outputs": [],
   "source": [
    "# ANNOTATION (auf Deutsch):\n",
    "# Dieser Code führt die folgende Aufgabe aus:\n",
    "# (Fügen Sie hier eine spezifische Erklärung hinzu, basierend auf dem Code.)\n",
    "# This cell performs the following task:\n",
    "# (Add specific annotations here based on the logic in the cell)\n",
    "\n",
    "#Your code in here"
   ]
  },
  {
   "cell_type": "code",
   "execution_count": null,
   "id": "3034db78",
   "metadata": {},
   "outputs": [],
   "source": [
    "# ANNOTATION (auf Deutsch):\n",
    "# Dieser Code führt die folgende Aufgabe aus:\n",
    "# (Fügen Sie hier eine spezifische Erklärung hinzu, basierend auf dem Code.)\n",
    "# This cell performs the following task:\n",
    "# (Add specific annotations here based on the logic in the cell)\n",
    "\n",
    "import pandas as pd\n",
    "\n",
    "import plotly.express as px\n",
    "import plotly.graph_objects as go\n",
    "import plotly.offline as py \n",
    "from plotly.figure_factory import create_table\n",
    "\n",
    "import geopy"
   ]
  },
  {
   "cell_type": "markdown",
   "id": "02b7faba",
   "metadata": {},
   "source": [
    "# 2. We create a variable with the capitals of the countries where Harry Potter has been translated"
   ]
  },
  {
   "cell_type": "markdown",
   "id": "f56b182a",
   "metadata": {},
   "source": [
    "In the real world you would need to do this step yourself! How would you do this using Python?\n",
    "\n",
    "And: every time there is more than one language in a country (i.e. South Africa: English and Afrikaans) I have used two cities in that country (i.e Pretoria and Cape Town) to show linguistic diversity!)"
   ]
  },
  {
   "cell_type": "code",
   "execution_count": null,
   "id": "4649575c",
   "metadata": {},
   "outputs": [],
   "source": [
    "# ANNOTATION (auf Deutsch):\n",
    "# Dieser Code führt die folgende Aufgabe aus:\n",
    "# (Fügen Sie hier eine spezifische Erklärung hinzu, basierend auf dem Code.)\n",
    "# This cell performs the following task:\n",
    "# (Add specific annotations here based on the logic in the cell)\n",
    "\n",
    "cities = [\"London\", \"Dublin\", \"Sydney\", \"Wellington\", \"Toronto\", \"Pretoria\", \"Cape Town\", \"Washington DC\", \"New Dehli\", \"Kuala Lumpur\", \n",
    "          \"Manila\", \"Singapore\", \"Tirana\", \"Pristina\", \"Cairo\", \"Yerevan\", \"Oviedo\", \"Baku\", \"Bilbao\", \"Minsk\", \"Dhaka\", \"Sarajevo\", \n",
    "          \"Rennes\", \"Sofia\", \"Barcelona\", \"Beijing\", \"Taiwan\", \"Hong Kong\", \"Macau\", \"Taiwan\", \"Zagreb\", \"Prague\", \"Copenhagen\", \n",
    "          \"Ghent\", \"Amsterdam\", \"Paramaribo\", \"Tallinn\", \"Tórshavn\", \"Pasay\", \"Helsinki\", \"Brussels\", \"Quebec\", \"Paris\", \"Monaco\",\n",
    "          \"Lausanne\", \"Luxembourg\", \"Leeuwarden\", \"Santiago\", \"Tbilisi\", \"Vienna\", \"Berlin\", \"Vaduz\", \"Zurich\", \"Echternach\",\n",
    "          \"Hamburg\", \"Athens\", \"Thessaloniki\", \"Nuuk\", \"Gandhinagar\", \"Honolulu\", \"Jerusalem\", \"Mumbai\", \"Budapest\", \n",
    "          \"Reykjavik\", \"Jakarta\", \"Galway\", \"Belfast\", \"Rome\", \"San Marino\", \"Lugano\", \"Tokyo\", \"Phnom Penh\", \"Lahore\", \n",
    "          \"Seoul\", \"Milan\", \"Riga\", \"Vilnius\", \"Diekirch\", \"Skopje\", \"Kuantan\", \"Thiruvananthapuram\", \"Auckland\", \n",
    "          \"Nagpur\", \"Ulaanbaatar\", \"Kathmandu\", \"Trondheim\", \"Bourdeaux\", \"Girona\", \"Tehran\", \"Warsaw\", \"Lisboa\", \n",
    "          \"Brasília\", \"Bucharest\", \"Chișinău\", \"Moscow\", \"Edinburgh\", \"Belgrade\", \"Podgorica\", \"Trebinje\", \"Colombo\", \n",
    "          \"Bratislava\", \"Ljubljana\", \"Madrid\", \"Rosario\", \"Buenos Aires\", \"Stockholm\", \"Nyland\", \"Chennai\", \"Amaravati\",\n",
    "          \"Bangkok\", \"Lhasa\", \"Ankara\", \"Kyiv\", \"Islamabad\", \"Hanoi\", \"Cardiff\", \"Jerusalem\", \"Mostar\", \"New York City\", \n",
    "          \"Utrecht\", \"Krakow\", \"Sibiu\", \"Gothenborg\", \"Horlivka\"]\n",
    "          \n",
    "          "
   ]
  },
  {
   "cell_type": "code",
   "execution_count": null,
   "id": "d873d16b",
   "metadata": {},
   "outputs": [],
   "source": [
    "# ANNOTATION (auf Deutsch):\n",
    "# Dieser Code führt die folgende Aufgabe aus:\n",
    "# (Fügen Sie hier eine spezifische Erklärung hinzu, basierend auf dem Code.)\n",
    "# This cell performs the following task:\n",
    "# (Add specific annotations here based on the logic in the cell)\n",
    "\n",
    "len(cities)"
   ]
  },
  {
   "cell_type": "markdown",
   "id": "1d220d31",
   "metadata": {},
   "source": [
    "# 3. We create a list with the Lattitude and Longitude of those cities using Geopy"
   ]
  },
  {
   "cell_type": "markdown",
   "id": "e5718e4b",
   "metadata": {},
   "source": [
    "Let's first practice getting the lat and lon of 3 English speaking main cities: London, Dublin, and New York City. "
   ]
  },
  {
   "cell_type": "code",
   "execution_count": null,
   "id": "c8aac48c",
   "metadata": {},
   "outputs": [],
   "source": [
    "# ANNOTATION (auf Deutsch):\n",
    "# Dieser Code führt die folgende Aufgabe aus:\n",
    "# (Fügen Sie hier eine spezifische Erklärung hinzu, basierend auf dem Code.)\n",
    "# This cell performs the following task:\n",
    "# (Add specific annotations here based on the logic in the cell)\n",
    "\n",
    "#Your code in here"
   ]
  },
  {
   "cell_type": "code",
   "execution_count": null,
   "id": "87b222f8",
   "metadata": {},
   "outputs": [],
   "source": [
    "# ANNOTATION (auf Deutsch):\n",
    "# Dieser Code führt die folgende Aufgabe aus:\n",
    "# (Fügen Sie hier eine spezifische Erklärung hinzu, basierend auf dem Code.)\n",
    "# This cell performs the following task:\n",
    "# (Add specific annotations here based on the logic in the cell)\n",
    "\n",
    "#Solution\n",
    "\n",
    "from geopy.geocoders import Nominatim\n",
    "from geopy.extra.rate_limiter import RateLimiter"
   ]
  },
  {
   "cell_type": "code",
   "execution_count": null,
   "id": "a4f8a0ce",
   "metadata": {},
   "outputs": [],
   "source": [
    "# ANNOTATION (auf Deutsch):\n",
    "# Dieser Code führt die folgende Aufgabe aus:\n",
    "# (Fügen Sie hier eine spezifische Erklärung hinzu, basierend auf dem Code.)\n",
    "# This cell performs the following task:\n",
    "# (Add specific annotations here based on the logic in the cell)\n",
    "\n",
    "geolocator = Nominatim(user_agent=\"MyApp\", timeout = 5)\n",
    "geocode = RateLimiter(geolocator.geocode, min_delay_seconds=1)"
   ]
  },
  {
   "cell_type": "code",
   "execution_count": null,
   "id": "15dc5a09",
   "metadata": {},
   "outputs": [],
   "source": [
    "# ANNOTATION (auf Deutsch):\n",
    "# Dieser Code führt die folgende Aufgabe aus:\n",
    "# (Fügen Sie hier eine spezifische Erklärung hinzu, basierend auf dem Code.)\n",
    "# This cell performs the following task:\n",
    "# (Add specific annotations here based on the logic in the cell)\n",
    "\n",
    "london = geolocator.geocode(\"London\")\n",
    "dublin = geolocator.geocode(\"Dublin\")\n",
    "nyc = geolocator.geocode(\"New York\")"
   ]
  },
  {
   "cell_type": "code",
   "execution_count": null,
   "id": "a4f9c84a",
   "metadata": {},
   "outputs": [],
   "source": [
    "# ANNOTATION (auf Deutsch):\n",
    "# Dieser Code führt die folgende Aufgabe aus:\n",
    "# (Fügen Sie hier eine spezifische Erklärung hinzu, basierend auf dem Code.)\n",
    "# This cell performs the following task:\n",
    "# (Add specific annotations here based on the logic in the cell)\n",
    "\n",
    "london"
   ]
  },
  {
   "cell_type": "code",
   "execution_count": null,
   "id": "1a3d330c",
   "metadata": {},
   "outputs": [],
   "source": [
    "# ANNOTATION (auf Deutsch):\n",
    "# Dieser Code führt die folgende Aufgabe aus:\n",
    "# (Fügen Sie hier eine spezifische Erklärung hinzu, basierend auf dem Code.)\n",
    "# This cell performs the following task:\n",
    "# (Add specific annotations here based on the logic in the cell)\n",
    "\n",
    "print(f\"The lat and long of {london} is: \", london.latitude, london.longitude)\n",
    "print(f\"The lat and long of {dublin} is: \", dublin.latitude, dublin.longitude)\n",
    "print(f\"The lat and long of {nyc} is: \", nyc.latitude, nyc.longitude)"
   ]
  },
  {
   "cell_type": "markdown",
   "id": "93fbac1e",
   "metadata": {},
   "source": [
    "Now let's do that for all the cities in our list!"
   ]
  },
  {
   "cell_type": "code",
   "execution_count": null,
   "id": "ae99e88b",
   "metadata": {},
   "outputs": [],
   "source": [
    "# ANNOTATION (auf Deutsch):\n",
    "# Dieser Code führt die folgende Aufgabe aus:\n",
    "# (Fügen Sie hier eine spezifische Erklärung hinzu, basierend auf dem Code.)\n",
    "# This cell performs the following task:\n",
    "# (Add specific annotations here based on the logic in the cell)\n",
    "\n",
    "#Your code in here"
   ]
  },
  {
   "cell_type": "code",
   "execution_count": null,
   "id": "f628bcdf",
   "metadata": {},
   "outputs": [],
   "source": [
    "# ANNOTATION (auf Deutsch):\n",
    "# Dieser Code führt die folgende Aufgabe aus:\n",
    "# (Fügen Sie hier eine spezifische Erklärung hinzu, basierend auf dem Code.)\n",
    "# This cell performs the following task:\n",
    "# (Add specific annotations here based on the logic in the cell)\n",
    "\n",
    "#Solution\n",
    "city_coords = []"
   ]
  },
  {
   "cell_type": "code",
   "execution_count": null,
   "id": "6fda5772",
   "metadata": {},
   "outputs": [],
   "source": [
    "# ANNOTATION (auf Deutsch):\n",
    "# Dieser Code führt die folgende Aufgabe aus:\n",
    "# (Fügen Sie hier eine spezifische Erklärung hinzu, basierend auf dem Code.)\n",
    "# This cell performs the following task:\n",
    "# (Add specific annotations here based on the logic in the cell)\n",
    "\n",
    "for city in cities:\n",
    "    location = geolocator.geocode(city)\n",
    "    if location:\n",
    "        city_coords.append((location.point.latitude, location.point.longitude))\n",
    "    else:\n",
    "        city_coords.append(None)"
   ]
  },
  {
   "cell_type": "code",
   "execution_count": null,
   "id": "8631b3f0",
   "metadata": {},
   "outputs": [],
   "source": [
    "# ANNOTATION (auf Deutsch):\n",
    "# Dieser Code führt die folgende Aufgabe aus:\n",
    "# (Fügen Sie hier eine spezifische Erklärung hinzu, basierend auf dem Code.)\n",
    "# This cell performs the following task:\n",
    "# (Add specific annotations here based on the logic in the cell)\n",
    "\n",
    "city_coords"
   ]
  },
  {
   "cell_type": "code",
   "execution_count": null,
   "id": "e093748f",
   "metadata": {},
   "outputs": [],
   "source": [
    "# ANNOTATION (auf Deutsch):\n",
    "# Dieser Code führt die folgende Aufgabe aus:\n",
    "# (Fügen Sie hier eine spezifische Erklärung hinzu, basierend auf dem Code.)\n",
    "# This cell performs the following task:\n",
    "# (Add specific annotations here based on the logic in the cell)\n",
    "\n",
    "len(city_coords)"
   ]
  },
  {
   "cell_type": "markdown",
   "id": "89f3f750",
   "metadata": {},
   "source": [
    "# 4. Pandas Data Frame"
   ]
  },
  {
   "cell_type": "markdown",
   "id": "67ba658c",
   "metadata": {},
   "source": [
    "Now let's create a Pandas Dataframe that contains our cities and their lat and lon"
   ]
  },
  {
   "cell_type": "markdown",
   "id": "1dfd6213",
   "metadata": {},
   "source": [
    "First let's create a column with the names of the cities"
   ]
  },
  {
   "cell_type": "code",
   "execution_count": null,
   "id": "51250c38",
   "metadata": {},
   "outputs": [],
   "source": [
    "# ANNOTATION (auf Deutsch):\n",
    "# Dieser Code führt die folgende Aufgabe aus:\n",
    "# (Fügen Sie hier eine spezifische Erklärung hinzu, basierend auf dem Code.)\n",
    "# This cell performs the following task:\n",
    "# (Add specific annotations here based on the logic in the cell)\n",
    "\n",
    "#Your code in here"
   ]
  },
  {
   "cell_type": "code",
   "execution_count": null,
   "id": "7a2e3eda",
   "metadata": {},
   "outputs": [],
   "source": [
    "# ANNOTATION (auf Deutsch):\n",
    "# Dieser Code führt die folgende Aufgabe aus:\n",
    "# (Fügen Sie hier eine spezifische Erklärung hinzu, basierend auf dem Code.)\n",
    "# This cell performs the following task:\n",
    "# (Add specific annotations here based on the logic in the cell)\n",
    "\n",
    "#Solution\n",
    "harry_potter = pd.DataFrame(cities, columns = [\"Cities\"])"
   ]
  },
  {
   "cell_type": "code",
   "execution_count": null,
   "id": "55a7aea8",
   "metadata": {},
   "outputs": [],
   "source": [
    "# ANNOTATION (auf Deutsch):\n",
    "# Dieser Code führt die folgende Aufgabe aus:\n",
    "# (Fügen Sie hier eine spezifische Erklärung hinzu, basierend auf dem Code.)\n",
    "# This cell performs the following task:\n",
    "# (Add specific annotations here based on the logic in the cell)\n",
    "\n",
    "harry_potter"
   ]
  },
  {
   "cell_type": "markdown",
   "id": "90e127e5",
   "metadata": {},
   "source": [
    "Now create two variables: one for latituted and one for longitude"
   ]
  },
  {
   "cell_type": "code",
   "execution_count": null,
   "id": "9e44144f",
   "metadata": {},
   "outputs": [],
   "source": [
    "# ANNOTATION (auf Deutsch):\n",
    "# Dieser Code führt die folgende Aufgabe aus:\n",
    "# (Fügen Sie hier eine spezifische Erklärung hinzu, basierend auf dem Code.)\n",
    "# This cell performs the following task:\n",
    "# (Add specific annotations here based on the logic in the cell)\n",
    "\n",
    "#Your code in here"
   ]
  },
  {
   "cell_type": "code",
   "execution_count": null,
   "id": "b466ffcd",
   "metadata": {},
   "outputs": [],
   "source": [
    "# ANNOTATION (auf Deutsch):\n",
    "# Dieser Code führt die folgende Aufgabe aus:\n",
    "# (Fügen Sie hier eine spezifische Erklärung hinzu, basierend auf dem Code.)\n",
    "# This cell performs the following task:\n",
    "# (Add specific annotations here based on the logic in the cell)\n",
    "\n",
    "#Solution"
   ]
  },
  {
   "cell_type": "code",
   "execution_count": null,
   "id": "2c9b8bc6",
   "metadata": {},
   "outputs": [],
   "source": [
    "# ANNOTATION (auf Deutsch):\n",
    "# Dieser Code führt die folgende Aufgabe aus:\n",
    "# (Fügen Sie hier eine spezifische Erklärung hinzu, basierend auf dem Code.)\n",
    "# This cell performs the following task:\n",
    "# (Add specific annotations here based on the logic in the cell)\n",
    "\n",
    "type(city_coords)"
   ]
  },
  {
   "cell_type": "code",
   "execution_count": null,
   "id": "0b35e04e",
   "metadata": {},
   "outputs": [],
   "source": [
    "# ANNOTATION (auf Deutsch):\n",
    "# Dieser Code führt die folgende Aufgabe aus:\n",
    "# (Fügen Sie hier eine spezifische Erklärung hinzu, basierend auf dem Code.)\n",
    "# This cell performs the following task:\n",
    "# (Add specific annotations here based on the logic in the cell)\n",
    "\n",
    "city_coords[0]"
   ]
  },
  {
   "cell_type": "code",
   "execution_count": null,
   "id": "cf3602ba",
   "metadata": {},
   "outputs": [],
   "source": [
    "# ANNOTATION (auf Deutsch):\n",
    "# Dieser Code führt die folgende Aufgabe aus:\n",
    "# (Fügen Sie hier eine spezifische Erklärung hinzu, basierend auf dem Code.)\n",
    "# This cell performs the following task:\n",
    "# (Add specific annotations here based on the logic in the cell)\n",
    "\n",
    "type(city_coords[0])"
   ]
  },
  {
   "cell_type": "code",
   "execution_count": null,
   "id": "839df82e",
   "metadata": {},
   "outputs": [],
   "source": [
    "# ANNOTATION (auf Deutsch):\n",
    "# Dieser Code führt die folgende Aufgabe aus:\n",
    "# (Fügen Sie hier eine spezifische Erklärung hinzu, basierend auf dem Code.)\n",
    "# This cell performs the following task:\n",
    "# (Add specific annotations here based on the logic in the cell)\n",
    "\n",
    "lat = [x[0] for x in city_coords]\n",
    "lon = [x[1] for x in city_coords]"
   ]
  },
  {
   "cell_type": "code",
   "execution_count": null,
   "id": "784940e3",
   "metadata": {},
   "outputs": [],
   "source": [
    "# ANNOTATION (auf Deutsch):\n",
    "# Dieser Code führt die folgende Aufgabe aus:\n",
    "# (Fügen Sie hier eine spezifische Erklärung hinzu, basierend auf dem Code.)\n",
    "# This cell performs the following task:\n",
    "# (Add specific annotations here based on the logic in the cell)\n",
    "\n",
    "len(lat)"
   ]
  },
  {
   "cell_type": "code",
   "execution_count": null,
   "id": "227f18f4",
   "metadata": {},
   "outputs": [],
   "source": [
    "# ANNOTATION (auf Deutsch):\n",
    "# Dieser Code führt die folgende Aufgabe aus:\n",
    "# (Fügen Sie hier eine spezifische Erklärung hinzu, basierend auf dem Code.)\n",
    "# This cell performs the following task:\n",
    "# (Add specific annotations here based on the logic in the cell)\n",
    "\n",
    "len(lon)"
   ]
  },
  {
   "cell_type": "markdown",
   "id": "1fd4b8c8",
   "metadata": {},
   "source": [
    "And now let's add those columns to our data frame"
   ]
  },
  {
   "cell_type": "code",
   "execution_count": null,
   "id": "58a1a22a",
   "metadata": {},
   "outputs": [],
   "source": [
    "# ANNOTATION (auf Deutsch):\n",
    "# Dieser Code führt die folgende Aufgabe aus:\n",
    "# (Fügen Sie hier eine spezifische Erklärung hinzu, basierend auf dem Code.)\n",
    "# This cell performs the following task:\n",
    "# (Add specific annotations here based on the logic in the cell)\n",
    "\n",
    "#Your code in here"
   ]
  },
  {
   "cell_type": "code",
   "execution_count": null,
   "id": "13d3828e",
   "metadata": {},
   "outputs": [],
   "source": [
    "# ANNOTATION (auf Deutsch):\n",
    "# Dieser Code führt die folgende Aufgabe aus:\n",
    "# (Fügen Sie hier eine spezifische Erklärung hinzu, basierend auf dem Code.)\n",
    "# This cell performs the following task:\n",
    "# (Add specific annotations here based on the logic in the cell)\n",
    "\n",
    "#Solution\n",
    "harry_potter[\"lat\"] = lat\n",
    "harry_potter[\"lon\"] = lon"
   ]
  },
  {
   "cell_type": "code",
   "execution_count": null,
   "id": "42283f14",
   "metadata": {},
   "outputs": [],
   "source": [
    "# ANNOTATION (auf Deutsch):\n",
    "# Dieser Code führt die folgende Aufgabe aus:\n",
    "# (Fügen Sie hier eine spezifische Erklärung hinzu, basierend auf dem Code.)\n",
    "# This cell performs the following task:\n",
    "# (Add specific annotations here based on the logic in the cell)\n",
    "\n",
    "harry_potter"
   ]
  },
  {
   "cell_type": "markdown",
   "id": "24c7f9af",
   "metadata": {},
   "source": [
    "# 5. And now let's visualize things!"
   ]
  },
  {
   "cell_type": "markdown",
   "id": "3e839f56",
   "metadata": {},
   "source": [
    "Change the colour for red (for Gryffindor!)"
   ]
  },
  {
   "cell_type": "code",
   "execution_count": null,
   "id": "d52fd130",
   "metadata": {},
   "outputs": [],
   "source": [
    "# ANNOTATION (auf Deutsch):\n",
    "# Dieser Code führt die folgende Aufgabe aus:\n",
    "# (Fügen Sie hier eine spezifische Erklärung hinzu, basierend auf dem Code.)\n",
    "# This cell performs the following task:\n",
    "# (Add specific annotations here based on the logic in the cell)\n",
    "\n",
    "fig = px.scatter_mapbox(harry_potter, lat=\"lat\", lon=\"lon\", hover_name=\"Cities\", #this is the text\n",
    "                        color_discrete_sequence=[\"fuchsia\"], zoom=3, height=300)                     #that goes inside the boxes\n",
    "\n",
    "fig.update_layout(mapbox_style=\"open-street-map\")\n",
    "fig.update_layout(margin={\"r\":0,\"t\":0,\"l\":0,\"b\":0})\n",
    "\n",
    "fig.show()"
   ]
  },
  {
   "cell_type": "markdown",
   "id": "5c505276",
   "metadata": {},
   "source": [
    "And now change the colour for green (for Slytherin!)"
   ]
  },
  {
   "cell_type": "code",
   "execution_count": null,
   "id": "7c474625",
   "metadata": {},
   "outputs": [],
   "source": [
    "# ANNOTATION (auf Deutsch):\n",
    "# Dieser Code führt die folgende Aufgabe aus:\n",
    "# (Fügen Sie hier eine spezifische Erklärung hinzu, basierend auf dem Code.)\n",
    "# This cell performs the following task:\n",
    "# (Add specific annotations here based on the logic in the cell)\n",
    "\n",
    "import plotly.graph_objects as go\n",
    "\n",
    "# Assume 'harry_potter' is your data frame with 'lon', 'lat', and 'text' columns\n",
    "harry_potter['marker_color'] = 'blue'  # Assign a default color\n",
    "harry_potter.loc[harry_potter['Cities'].str.contains('Harry Potter'), 'marker_color'] = 'red'  # Change color for specific text\n",
    "\n",
    "fig = go.Figure(data=go.Scattergeo(\n",
    "    lon = harry_potter['lon'],\n",
    "    lat = harry_potter['lat'],\n",
    "    text = harry_potter['Cities'],\n",
    "    mode = 'markers',\n",
    "    marker = dict(\n",
    "        color = harry_potter['marker_color'])))\n",
    "\n",
    "fig.update_layout(\n",
    "    title = 'Harry Potter Translations',\n",
    "    geo_scope = 'world'\n",
    ")\n",
    "\n",
    "fig.show()"
   ]
  },
  {
   "cell_type": "markdown",
   "id": "ce6f746f",
   "metadata": {},
   "source": [
    "### Content from: Geospatial Analysis.ipynb"
   ]
  },
  {
   "cell_type": "markdown",
   "id": "1875a8ed",
   "metadata": {},
   "source": [
    "#### Annotation:\n",
    "This section includes the content and logic from the original notebook. Annotations have been added to explain the purpose and function of each code cell."
   ]
  },
  {
   "cell_type": "markdown",
   "id": "cbaaf8f5",
   "metadata": {},
   "source": [
    "# Using Geospatial Analysis to visually analyze Travel Literature!"
   ]
  },
  {
   "cell_type": "markdown",
   "id": "0c2f7cf9",
   "metadata": {},
   "source": [
    "Geospatial Analysis can be a great tool to help us digg into the textual analysis of Literary Text. This can be particularly useful if we want to add extra layers of analysis to some genres such as **Travel Literature**. In this notebook we are going to exolore how to use the Python Library Plotly: https://plotly.com/python/getting-started/"
   ]
  },
  {
   "cell_type": "markdown",
   "id": "f8d674d3",
   "metadata": {},
   "source": [
    "**Sources:** the majority of the scripts in this notebook come from these sources from plotly: https://plotly.com/python/mapbox-layers/, https://plotly.com/python/scatter-plots-on-maps/, https://plotly.com/python/mapbox-layers/, https://plotly.com/python/reference/scattermapbox/#scattermapbox-marker-symbol. For more senior scripts about geo-spatial data science, this is an excellent course: https://github.com/suneman/socialdata2023."
   ]
  },
  {
   "cell_type": "markdown",
   "id": "2e8b625b",
   "metadata": {},
   "source": [
    "# 1. We import the libraries"
   ]
  },
  {
   "cell_type": "code",
   "execution_count": null,
   "id": "fa60de7d",
   "metadata": {},
   "outputs": [],
   "source": [
    "# ANNOTATION (auf Deutsch):\n",
    "# Dieser Code führt die folgende Aufgabe aus:\n",
    "# (Fügen Sie hier eine spezifische Erklärung hinzu, basierend auf dem Code.)\n",
    "# This cell performs the following task:\n",
    "# (Add specific annotations here based on the logic in the cell)\n",
    "\n",
    "#pip install plotly"
   ]
  },
  {
   "cell_type": "code",
   "execution_count": null,
   "id": "95edca61",
   "metadata": {},
   "outputs": [],
   "source": [
    "# ANNOTATION (auf Deutsch):\n",
    "# Dieser Code führt die folgende Aufgabe aus:\n",
    "# (Fügen Sie hier eine spezifische Erklärung hinzu, basierend auf dem Code.)\n",
    "# This cell performs the following task:\n",
    "# (Add specific annotations here based on the logic in the cell)\n",
    "\n",
    "import pandas as pd\n",
    "import plotly.express as px\n",
    "import plotly.graph_objects as go\n",
    "import plotly.offline as py \n",
    "from plotly.figure_factory import create_table # for creating nice table "
   ]
  },
  {
   "cell_type": "markdown",
   "id": "8f23bafe",
   "metadata": {},
   "source": [
    "# 2. We manually inspect our city dataset"
   ]
  },
  {
   "cell_type": "markdown",
   "id": "ab223e7e",
   "metadata": {},
   "source": [
    "All Digital Humanities projects involve some degree of close reading analysis. We need to inspect our \"GPE_aroundtheworld.txt\" file and decide which cities we are going to include in our selection! (you will see that there is a considereable ammount of noise even using Spacy, or that some place names are contemporary to the age of Jules Verne but have changed ever since)."
   ]
  },
  {
   "cell_type": "markdown",
   "id": "76e78e64",
   "metadata": {},
   "source": [
    "# 3. We create our GPS dataset."
   ]
  },
  {
   "cell_type": "markdown",
   "id": "2c4e9d2f",
   "metadata": {},
   "source": [
    "To be able to map our cities, we need to extensively google the Latitude and Longitude of all of them, and manually annotate the results in several lists (as we will need to create a CSV dataframe to be able to plot things in maps with Plotly).\n",
    "\n",
    "Be aware that:\n",
    "\n",
    "**GPS Lat-Long signs: N+, S-, W-, E+.**\n",
    "\n",
    "For example:\n",
    "\n",
    "Rio de Janeiro: 22.9068° S, 43.1729° W (-22.9068, -43.1729)\n",
    "London: 51.5072° N, 0.1276° W (51.5072, -0.1276)\n",
    "Stockholm: 59.3293° N, 18.0686° E (59.3293, 18.0686)\n",
    "Sydney: 25.2744° S, 133.7751° E (-25.2744, -133.7751)"
   ]
  },
  {
   "cell_type": "markdown",
   "id": "81cd86eb",
   "metadata": {},
   "source": [
    "# Activity for you\n",
    "\n",
    "Please google \"Lat Long decimal\" and add the coordinates of **Denver, Bloomington (Indiana), Sacramento**. Add the lattitude, the longitude, and the country (at each corresponding list). Remember to remove the dots (that is just to indicate you where you should be writing things) and to write the closing braket of the list! Once you are finished run the scripts and you will automatically have a Pandas dataframe with all the information!"
   ]
  },
  {
   "cell_type": "code",
   "execution_count": null,
   "id": "8c518997",
   "metadata": {},
   "outputs": [],
   "source": [
    "# ANNOTATION (auf Deutsch):\n",
    "# Dieser Code führt die folgende Aufgabe aus:\n",
    "# (Fügen Sie hier eine spezifische Erklärung hinzu, basierend auf dem Code.)\n",
    "# This cell performs the following task:\n",
    "# (Add specific annotations here based on the logic in the cell)\n",
    "\n",
    "places = [\"Huangpu River (Shanghai River)\", \"Salt Lake City\", \"Lima (Peru)\", \"Green Creek\", \"Hong Kong\", \"Rewa (Vindhias)\",\n",
    "          \"San Francisco\", \"Aurangabad\", \"Macao\", \"New York\", \"Omaha\", \"Philadelphia (Pensilvania)\", \"Dublin\", \"Turin\", \n",
    "          \"Burhampoor\", \"Stockholm (Sweden)\", \"Golconda\", \"Dover\", \"Bundelkhand (Bundelcund)\", \"Ganges\", \"Bihar (Behar)\", \n",
    "          \"Havre\", \"Tokyo (Japanese Empire)\", \"Surat\", \"Fire Island\", \"Birmingham\", \"Cairo (Egypt)\", \"Paris (France)\", \n",
    "          \"Formosa\", \"Yokohama\", \"Brasilia (Brasil)\", \"Cambridge (Kirkland)\", \"Weber River\", \"Desmoines (Iowa)\", \n",
    "          \"Jackson (Missisipi)\", \"Pittsburg\", \"Mexico City (Mexico)\", \"Brindisi\", \"Jersey City\", \"Canberra (New Holland)\",\n",
    "          \"London\", \"Portland (Oregon)\", \"Murshedabad\", \"Singapur\", \"Victoria\", \"New Hampshire (Vermont)\", \"Glasgow\",\n",
    "          \"Calcutta\", \"Malacca\", \"Kansas City (Kansas)\", \"Edinburgh\", \"Carson City (Nevada)\", \n",
    "          \"Lawrence Kansas (Fort Saunders)\", \"Rock Island (Illinois)\", \"the Strait of Bab-el-Mandeb (Bab-el-Mandeb)\",\n",
    "          \"Hamburg\", \"Oslo\", \"Little Rock (Arkansas)\", \"Khandallah\", \"Nagasaki\", \"Mumbai\", \"Queenstown\", \"Edo (Yeddo)\", \n",
    "          \"Odgen\", \"Amman (Jordan)\", \"Burdwan\", \"Yokohama\", \"Oakland\", \"Marylebone\", \"Greenwich\", \"Columbus\",\n",
    "          \"Reno\", \"Amsterdam (Holland)\", \"Chicago (Illinois)\", \"Aden\", \"Cheyenne (Wyoming)\", \"Bardhaman (Burdivan)\", \n",
    "          \"Paris\", \"Liverpool\", \"Elephanta Island\", \"Southampton\", \"Long Island\", \"Fort Wayne\", \"Saddle Peak\", \n",
    "          \"Allahaban\"]"
   ]
  },
  {
   "cell_type": "code",
   "execution_count": null,
   "id": "05436dc2",
   "metadata": {},
   "outputs": [],
   "source": [
    "# ANNOTATION (auf Deutsch):\n",
    "# Dieser Code führt die folgende Aufgabe aus:\n",
    "# (Fügen Sie hier eine spezifische Erklärung hinzu, basierend auf dem Code.)\n",
    "# This cell performs the following task:\n",
    "# (Add specific annotations here based on the logic in the cell)\n",
    "\n",
    "lat = [31.267401, 40.758701, -12.046374, 41.344525, 22.302711, 24.530727,  37.773972, 19.901054, 22.210928,  40.730610,\n",
    "        41.257160, 39.952583,  53.350140, 45.116177, 21.307373, 59.334591, 17.383336111111, 39.161079,  25.4556,\n",
    "       29.7666636, 25.612677, 49.490002, 35.652832, 21.170240, 40.630239, 52.489471, 30.033333, 48.864716, -26.18948040,\n",
    "       35.443707, -15.793889, 42.373611, 40.71578,  41.619549, 35.514706, 40.440624, 19.432608, 40.633331, 40.719074,\n",
    "       -35.282001, 51.509865,  45.523064, 24.175903,  1.290270,  -37.020100, 44.000000, 55.860916, 22.572645, \n",
    "       2.200844, 39.106667,  55.953251, 39.1638, 38.960213, 41.487076, 12.583, 53.551086, 59.911491, 34.746483, \n",
    "       -41.24500000, 32.764233, 19.076090, -45.031162, 35.822994, 34.273178, 31.963158, 23.232513, 35.443707,\n",
    "       37.804363, 51.518875, 51.477928, 39.983334,  39.530895, 52.377956, 41.881832, 12.800000, 41.161079, \n",
    "       23.232513,  48.864716,  53.400002,  18.963253,  50.909698, 40.792240, 41.093842, 11.623377, 25.473034]"
   ]
  },
  {
   "cell_type": "code",
   "execution_count": null,
   "id": "dd6c5e83",
   "metadata": {},
   "outputs": [],
   "source": [
    "# ANNOTATION (auf Deutsch):\n",
    "# Dieser Code führt die folgende Aufgabe aus:\n",
    "# (Fügen Sie hier eine spezifische Erklärung hinzu, basierend auf dem Code.)\n",
    "# This cell performs the following task:\n",
    "# (Add specific annotations here based on the logic in the cell)\n",
    "\n",
    "lon = [121.522179, 111.876183, -77.042793, -82.968471, 114.177216,  81.299110, -122.431297, 75.352478, 113.552971, \n",
    "       -73.935242, -95.995102, -75.165222,  -6.266155, 7.742615, 76.230415, 18.063240, 78.404169444444, -75.525681, \n",
    "       78.5636, 78.1999992, 85.158875, 0.100000, 139.839478, 72.831062, -73.308549,  -1.898575,  31.233334, 2.349014,\n",
    "       -58.22428060, 139.638031, -47.882778, -71.110558,  -110.898227, -93.598022,  -89.912506, -79.995888,  -99.133209,\n",
    "        17.933332, -74.050552, 149.128998, -0.118092, -122.676483, 88.280182, 103.851959, 144.964600, -72.699997, \n",
    "       -4.251433, 88.363892, 102.240143, -94.676392, -3.188267,  -119.7674, -95.277390,  -90.589691, 43.417, \n",
    "       9.993682, 10.757933,  -92.289597, 174.79422000, 129.872696, 72.877426, 168.662643,  139.753493,  -77.818047, \n",
    "        35.930359,  87.863419, 139.638031, -122.271111, -0.149895, -0.001545, -82.983330, -119.814972,  4.897070, \n",
    "        -87.623177, 45.033333, -104.805450, 87.863419, 2.349014,  -2.983333,  72.931442, -1.404351, -73.138260, \n",
    "       -85.139236,  92.726486, 81.878357]"
   ]
  },
  {
   "cell_type": "code",
   "execution_count": null,
   "id": "80174a68",
   "metadata": {},
   "outputs": [],
   "source": [
    "# ANNOTATION (auf Deutsch):\n",
    "# Dieser Code führt die folgende Aufgabe aus:\n",
    "# (Fügen Sie hier eine spezifische Erklärung hinzu, basierend auf dem Code.)\n",
    "# This cell performs the following task:\n",
    "# (Add specific annotations here based on the logic in the cell)\n",
    "\n",
    "countries = [\"China\", \"USA\", \"Peru\", \"USA\", \"Hong Kong\", \"India\", \"USA\", \"India\", \"China\", \"USA\", \"USA\", \"USA\", \"Ireland\", \n",
    "             \"Italy\", \"India\", \"Sweden\", \"India\", \"UK\", \"India\", \"India\", \"India\", \"France\", \"Japan\", \"India\", \"USA\", \n",
    "              \"UK\", \"Egypt\", \"France\", \"Argentina\", \"Japan\", \"Brazil\", \"USA\", \"USA\", \"USA\", \"USA\", \"USA\", \"Mexico\",\n",
    "             \"Italy\", \"USA\", \"Australia\", \"UK\", \"USA\", \"India\", \"Singapore\", \"Australia\", \"USA\", \"UK\", \"India\", \"Malaysia\",\n",
    "             \"USA\", \"UK\", \"USA\", \"USA\", \"USA\", \"Ocean\", \"Germany\", \"Norway\", \"USA\", \"New Zealand\", \"Japan\", \"India\", \n",
    "             \"Australia\", \"Japan\", \"USA\", \"Jordan\", \"India\", \"Japan\", \"USA\", \"UK\", \"UK\", \"USA\", \"USA\", \"Netherlands\", \n",
    "             \"USA\", \"Yemen\", \"USA\", \"India\", \"France\", \"UK\", \"India\", \"UK\", \"USA\", \"USA\", \"India\", \"India\"] "
   ]
  },
  {
   "cell_type": "code",
   "execution_count": null,
   "id": "53850f84",
   "metadata": {},
   "outputs": [],
   "source": [
    "# ANNOTATION (auf Deutsch):\n",
    "# Dieser Code führt die folgende Aufgabe aus:\n",
    "# (Fügen Sie hier eine spezifische Erklärung hinzu, basierend auf dem Code.)\n",
    "# This cell performs the following task:\n",
    "# (Add specific annotations here based on the logic in the cell)\n",
    "\n",
    "data = pd.DataFrame(places, columns = [\"cities\"])"
   ]
  },
  {
   "cell_type": "code",
   "execution_count": null,
   "id": "bae58b36",
   "metadata": {},
   "outputs": [],
   "source": [
    "# ANNOTATION (auf Deutsch):\n",
    "# Dieser Code führt die folgende Aufgabe aus:\n",
    "# (Fügen Sie hier eine spezifische Erklärung hinzu, basierend auf dem Code.)\n",
    "# This cell performs the following task:\n",
    "# (Add specific annotations here based on the logic in the cell)\n",
    "\n",
    "data[\"lat\"] = lat"
   ]
  },
  {
   "cell_type": "code",
   "execution_count": null,
   "id": "39e1c491",
   "metadata": {},
   "outputs": [],
   "source": [
    "# ANNOTATION (auf Deutsch):\n",
    "# Dieser Code führt die folgende Aufgabe aus:\n",
    "# (Fügen Sie hier eine spezifische Erklärung hinzu, basierend auf dem Code.)\n",
    "# This cell performs the following task:\n",
    "# (Add specific annotations here based on the logic in the cell)\n",
    "\n",
    "data[\"lon\"] = lon"
   ]
  },
  {
   "cell_type": "code",
   "execution_count": null,
   "id": "6f3c00f4",
   "metadata": {},
   "outputs": [],
   "source": [
    "# ANNOTATION (auf Deutsch):\n",
    "# Dieser Code führt die folgende Aufgabe aus:\n",
    "# (Fügen Sie hier eine spezifische Erklärung hinzu, basierend auf dem Code.)\n",
    "# This cell performs the following task:\n",
    "# (Add specific annotations here based on the logic in the cell)\n",
    "\n",
    "data[\"countries\"] = countries"
   ]
  },
  {
   "cell_type": "code",
   "execution_count": null,
   "id": "734ba1a2",
   "metadata": {},
   "outputs": [],
   "source": [
    "# ANNOTATION (auf Deutsch):\n",
    "# Dieser Code führt die folgende Aufgabe aus:\n",
    "# (Fügen Sie hier eine spezifische Erklärung hinzu, basierend auf dem Code.)\n",
    "# This cell performs the following task:\n",
    "# (Add specific annotations here based on the logic in the cell)\n",
    "\n",
    "data"
   ]
  },
  {
   "cell_type": "markdown",
   "id": "802ce269",
   "metadata": {},
   "source": [
    "# Geopy"
   ]
  },
  {
   "cell_type": "markdown",
   "id": "b4f57202",
   "metadata": {},
   "source": [
    "And now let's try another python library called GEOPY that will tell us the coordinates of our cities! If you are curious, you can read the documentation in here: https://geopy.readthedocs.io/en/stable/. For a faster tutorial you can have a look at https://pypi.org/project/geopy/"
   ]
  },
  {
   "cell_type": "code",
   "execution_count": null,
   "id": "28d5f68e",
   "metadata": {},
   "outputs": [],
   "source": [
    "# ANNOTATION (auf Deutsch):\n",
    "# Dieser Code führt die folgende Aufgabe aus:\n",
    "# (Fügen Sie hier eine spezifische Erklärung hinzu, basierend auf dem Code.)\n",
    "# This cell performs the following task:\n",
    "# (Add specific annotations here based on the logic in the cell)\n",
    "\n",
    "import geopy\n",
    "from geopy.geocoders import Nominatim"
   ]
  },
  {
   "cell_type": "code",
   "execution_count": null,
   "id": "adb68d04",
   "metadata": {},
   "outputs": [],
   "source": [
    "# ANNOTATION (auf Deutsch):\n",
    "# Dieser Code führt die folgende Aufgabe aus:\n",
    "# (Fügen Sie hier eine spezifische Erklärung hinzu, basierend auf dem Code.)\n",
    "# This cell performs the following task:\n",
    "# (Add specific annotations here based on the logic in the cell)\n",
    "\n",
    "# Initialize the Nominatim geocoder\n",
    "geolocator = Nominatim(user_agent=\"MyApp\", timeout = 5)\n",
    "geocode = RateLimiter(geolocator.geocode, min_delay_seconds=1)"
   ]
  },
  {
   "cell_type": "code",
   "execution_count": null,
   "id": "c1e37955",
   "metadata": {},
   "outputs": [],
   "source": [
    "# ANNOTATION (auf Deutsch):\n",
    "# Dieser Code führt die folgende Aufgabe aus:\n",
    "# (Fügen Sie hier eine spezifische Erklärung hinzu, basierend auf dem Code.)\n",
    "# This cell performs the following task:\n",
    "# (Add specific annotations here based on the logic in the cell)\n",
    "\n",
    "#Choose a city\n",
    "location = geolocator.geocode(\"Paris\")"
   ]
  },
  {
   "cell_type": "code",
   "execution_count": null,
   "id": "c0783018",
   "metadata": {},
   "outputs": [],
   "source": [
    "# ANNOTATION (auf Deutsch):\n",
    "# Dieser Code führt die folgende Aufgabe aus:\n",
    "# (Fügen Sie hier eine spezifische Erklärung hinzu, basierend auf dem Code.)\n",
    "# This cell performs the following task:\n",
    "# (Add specific annotations here based on the logic in the cell)\n",
    "\n",
    "location"
   ]
  },
  {
   "cell_type": "code",
   "execution_count": null,
   "id": "a6c0ff6b",
   "metadata": {},
   "outputs": [],
   "source": [
    "# ANNOTATION (auf Deutsch):\n",
    "# Dieser Code führt die folgende Aufgabe aus:\n",
    "# (Fügen Sie hier eine spezifische Erklärung hinzu, basierend auf dem Code.)\n",
    "# This cell performs the following task:\n",
    "# (Add specific annotations here based on the logic in the cell)\n",
    "\n",
    "print(\"The latitude of the location is: \", location.latitude)\n",
    "print(\"The longitude of the location is: \", location.longitude)"
   ]
  },
  {
   "cell_type": "code",
   "execution_count": null,
   "id": "3a8f5122",
   "metadata": {},
   "outputs": [],
   "source": [
    "# ANNOTATION (auf Deutsch):\n",
    "# Dieser Code führt die folgende Aufgabe aus:\n",
    "# (Fügen Sie hier eine spezifische Erklärung hinzu, basierend auf dem Code.)\n",
    "# This cell performs the following task:\n",
    "# (Add specific annotations here based on the logic in the cell)\n",
    "\n",
    "paris = [location.latitude, location.longitude]"
   ]
  },
  {
   "cell_type": "code",
   "execution_count": null,
   "id": "0a107dc6",
   "metadata": {},
   "outputs": [],
   "source": [
    "# ANNOTATION (auf Deutsch):\n",
    "# Dieser Code führt die folgende Aufgabe aus:\n",
    "# (Fügen Sie hier eine spezifische Erklärung hinzu, basierend auf dem Code.)\n",
    "# This cell performs the following task:\n",
    "# (Add specific annotations here based on the logic in the cell)\n",
    "\n",
    "paris"
   ]
  },
  {
   "cell_type": "markdown",
   "id": "719b397f",
   "metadata": {},
   "source": [
    "Let's scale that to our full dataset of cities (so: if we have a file with all the GPE locations, we feed it into this script and it wil be super fast!)"
   ]
  },
  {
   "cell_type": "code",
   "execution_count": null,
   "id": "ee940eee",
   "metadata": {},
   "outputs": [],
   "source": [
    "# ANNOTATION (auf Deutsch):\n",
    "# Dieser Code führt die folgende Aufgabe aus:\n",
    "# (Fügen Sie hier eine spezifische Erklärung hinzu, basierend auf dem Code.)\n",
    "# This cell performs the following task:\n",
    "# (Add specific annotations here based on the logic in the cell)\n",
    "\n",
    "places"
   ]
  },
  {
   "cell_type": "code",
   "execution_count": null,
   "id": "e44b72a4",
   "metadata": {},
   "outputs": [],
   "source": [
    "# ANNOTATION (auf Deutsch):\n",
    "# Dieser Code führt die folgende Aufgabe aus:\n",
    "# (Fügen Sie hier eine spezifische Erklärung hinzu, basierend auf dem Code.)\n",
    "# This cell performs the following task:\n",
    "# (Add specific annotations here based on the logic in the cell)\n",
    "\n",
    "city_coords = []"
   ]
  },
  {
   "cell_type": "code",
   "execution_count": null,
   "id": "03cc468f",
   "metadata": {},
   "outputs": [],
   "source": [
    "# ANNOTATION (auf Deutsch):\n",
    "# Dieser Code führt die folgende Aufgabe aus:\n",
    "# (Fügen Sie hier eine spezifische Erklärung hinzu, basierend auf dem Code.)\n",
    "# This cell performs the following task:\n",
    "# (Add specific annotations here based on the logic in the cell)\n",
    "\n",
    "for city in places:\n",
    "    location = geolocator.geocode(city)\n",
    "    if location:\n",
    "        city_coords.append((location.point.latitude, location.point.longitude))\n",
    "    else:\n",
    "        city_coords.append(None)"
   ]
  },
  {
   "cell_type": "markdown",
   "id": "da8e904d",
   "metadata": {},
   "source": [
    "When we get a none message it means that geopy does not know where is that city"
   ]
  },
  {
   "cell_type": "code",
   "execution_count": null,
   "id": "a00361e2",
   "metadata": {},
   "outputs": [],
   "source": [
    "# ANNOTATION (auf Deutsch):\n",
    "# Dieser Code führt die folgende Aufgabe aus:\n",
    "# (Fügen Sie hier eine spezifische Erklärung hinzu, basierend auf dem Code.)\n",
    "# This cell performs the following task:\n",
    "# (Add specific annotations here based on the logic in the cell)\n",
    "\n",
    "city_coords"
   ]
  },
  {
   "cell_type": "markdown",
   "id": "959cc864",
   "metadata": {},
   "source": [
    "# 5. And now we visualize things!"
   ]
  },
  {
   "cell_type": "markdown",
   "id": "81f2c0ef",
   "metadata": {},
   "source": [
    "Let's first try this map."
   ]
  },
  {
   "cell_type": "markdown",
   "id": "4c7b9905",
   "metadata": {},
   "source": [
    "#### A. Mapbox Maps"
   ]
  },
  {
   "cell_type": "markdown",
   "id": "9cc7d47b",
   "metadata": {},
   "source": [
    "Mapbox maps are also called tile-based maps and they allow you to zoom in \"google maps\" style. For more information have a look at: https://plotly.com/python/mapbox-layers/"
   ]
  },
  {
   "cell_type": "markdown",
   "id": "5893ce1b",
   "metadata": {},
   "source": [
    "### Activity for you"
   ]
  },
  {
   "cell_type": "markdown",
   "id": "7e71ed3e",
   "metadata": {},
   "source": [
    "Change the color_discrete_sequence = [] variable from \"fuschia\" to \"green\". You can try other colours!"
   ]
  },
  {
   "cell_type": "code",
   "execution_count": null,
   "id": "80357197",
   "metadata": {},
   "outputs": [],
   "source": [
    "# ANNOTATION (auf Deutsch):\n",
    "# Dieser Code führt die folgende Aufgabe aus:\n",
    "# (Fügen Sie hier eine spezifische Erklärung hinzu, basierend auf dem Code.)\n",
    "# This cell performs the following task:\n",
    "# (Add specific annotations here based on the logic in the cell)\n",
    "\n",
    "import pandas as pd\n",
    "import plotly.express as px\n",
    "\n",
    "fig = px.scatter_mapbox(data, lat=\"lat\", lon=\"lon\", hover_name=\"cities\", hover_data=[\"countries\"], #this is the text\n",
    "                        color_discrete_sequence=[\"fuchsia\"], zoom=3, height=300)                     #that goes inside the boxes\n",
    "\n",
    "fig.update_layout(mapbox_style=\"open-street-map\")\n",
    "fig.update_layout(margin={\"r\":0,\"t\":0,\"l\":0,\"b\":0})\n",
    "\n",
    "fig.show()"
   ]
  },
  {
   "cell_type": "markdown",
   "id": "da41547f",
   "metadata": {},
   "source": [
    "#### Activity for you"
   ]
  },
  {
   "cell_type": "markdown",
   "id": "1b500971",
   "metadata": {},
   "source": [
    "Move around your mouse on the top right corner of the map and click on the picture camera, where it says \"Download plot as PNG\". You will be able to download your map in your own laptop!"
   ]
  },
  {
   "cell_type": "markdown",
   "id": "4a700097",
   "metadata": {},
   "source": [
    "#### B. Geo maps"
   ]
  },
  {
   "cell_type": "markdown",
   "id": "79e98a58",
   "metadata": {},
   "source": [
    "Geo Maps only show the physical boundaries of countries. Have a look at: https://plotly.com/python/map-configuration/"
   ]
  },
  {
   "cell_type": "code",
   "execution_count": null,
   "id": "c0c944b0",
   "metadata": {},
   "outputs": [],
   "source": [
    "# ANNOTATION (auf Deutsch):\n",
    "# Dieser Code führt die folgende Aufgabe aus:\n",
    "# (Fügen Sie hier eine spezifische Erklärung hinzu, basierend auf dem Code.)\n",
    "# This cell performs the following task:\n",
    "# (Add specific annotations here based on the logic in the cell)\n",
    "\n",
    "data['text'] = data['cities'] + ', ' + data[\"countries\"].astype(str)\n",
    "\n",
    "fig = go.Figure(data=go.Scattergeo(\n",
    "        lon = data['lon'],\n",
    "        lat = data['lat'],\n",
    "        text = data['text'],\n",
    "        mode = 'markers',\n",
    "        ))\n",
    "\n",
    "fig.update_layout(\n",
    "        title = 'Around the World in 80 days',\n",
    "        geo_scope='world',\n",
    "    )\n",
    "fig.show()"
   ]
  },
  {
   "cell_type": "markdown",
   "id": "0df6a669",
   "metadata": {},
   "source": [
    "Which one do you like the most?"
   ]
  },
  {
   "cell_type": "markdown",
   "id": "c3de9168",
   "metadata": {},
   "source": [
    "# Exercise 1"
   ]
  },
  {
   "cell_type": "markdown",
   "id": "ce28788e",
   "metadata": {},
   "source": [
    "### Content from: Mapping Jules Verne. NER with Spacy.ipynb"
   ]
  },
  {
   "cell_type": "markdown",
   "id": "4ab85fbd",
   "metadata": {},
   "source": [
    "#### Annotation:\n",
    "This section includes the content and logic from the original notebook. Annotations have been added to explain the purpose and function of each code cell."
   ]
  },
  {
   "cell_type": "markdown",
   "id": "5dae6d76",
   "metadata": {},
   "source": [
    "Now that we have done things at the chapter level, let's do it at the book level! Let's focus on mapping geographically the world of Jules verne by extracting GPE and LOC of **Around the World in 80 days**."
   ]
  },
  {
   "cell_type": "markdown",
   "id": "6e580991",
   "metadata": {},
   "source": [
    "# 1. We import our libraries"
   ]
  },
  {
   "cell_type": "code",
   "execution_count": null,
   "id": "9c16931d",
   "metadata": {},
   "outputs": [],
   "source": [
    "# ANNOTATION (auf Deutsch):\n",
    "# Dieser Code führt die folgende Aufgabe aus:\n",
    "# (Fügen Sie hier eine spezifische Erklärung hinzu, basierend auf dem Code.)\n",
    "# This cell performs the following task:\n",
    "# (Add specific annotations here based on the logic in the cell)\n",
    "\n",
    "import spacy"
   ]
  },
  {
   "cell_type": "markdown",
   "id": "6ac37531",
   "metadata": {},
   "source": [
    "# 2. We get our data"
   ]
  },
  {
   "cell_type": "markdown",
   "id": "4c79751d",
   "metadata": {},
   "source": [
    "This data has not been cleaned and pre-processed to avoid confusing the parser (only \\r\\n characters have been removed!)"
   ]
  },
  {
   "cell_type": "code",
   "execution_count": null,
   "id": "5d67b416",
   "metadata": {},
   "outputs": [],
   "source": [
    "# ANNOTATION (auf Deutsch):\n",
    "# Dieser Code führt die folgende Aufgabe aus:\n",
    "# (Fügen Sie hier eine spezifische Erklärung hinzu, basierend auf dem Code.)\n",
    "# This cell performs the following task:\n",
    "# (Add specific annotations here based on the logic in the cell)\n",
    "\n",
    "with open(\"around_the_world.txt\", \"r\", encoding = \"utf-8\") as f:\n",
    "    data = f.read()"
   ]
  },
  {
   "cell_type": "markdown",
   "id": "f41cf94d",
   "metadata": {},
   "source": [
    "# 3. We import the English pipeline"
   ]
  },
  {
   "cell_type": "code",
   "execution_count": null,
   "id": "adb35c1f",
   "metadata": {},
   "outputs": [],
   "source": [
    "# ANNOTATION (auf Deutsch):\n",
    "# Dieser Code führt die folgende Aufgabe aus:\n",
    "# (Fügen Sie hier eine spezifische Erklärung hinzu, basierend auf dem Code.)\n",
    "# This cell performs the following task:\n",
    "# (Add specific annotations here based on the logic in the cell)\n",
    "\n",
    "nlp = spacy.load(\"en_core_web_sm\")"
   ]
  },
  {
   "cell_type": "markdown",
   "id": "3f4be97e",
   "metadata": {},
   "source": [
    "# 4. We create the Spacy nlp object"
   ]
  },
  {
   "cell_type": "code",
   "execution_count": null,
   "id": "94ee4c64",
   "metadata": {},
   "outputs": [],
   "source": [
    "# ANNOTATION (auf Deutsch):\n",
    "# Dieser Code führt die folgende Aufgabe aus:\n",
    "# (Fügen Sie hier eine spezifische Erklärung hinzu, basierend auf dem Code.)\n",
    "# This cell performs the following task:\n",
    "# (Add specific annotations here based on the logic in the cell)\n",
    "\n",
    "doc = nlp(data)"
   ]
  },
  {
   "cell_type": "markdown",
   "id": "e03da04e",
   "metadata": {},
   "source": [
    "# 5. We inspect the English model labels"
   ]
  },
  {
   "cell_type": "markdown",
   "id": "339d2078",
   "metadata": {},
   "source": [
    "Let's remember the entities that we have in Spacy:"
   ]
  },
  {
   "cell_type": "code",
   "execution_count": null,
   "id": "c48d2766",
   "metadata": {},
   "outputs": [],
   "source": [
    "# ANNOTATION (auf Deutsch):\n",
    "# Dieser Code führt die folgende Aufgabe aus:\n",
    "# (Fügen Sie hier eine spezifische Erklärung hinzu, basierend auf dem Code.)\n",
    "# This cell performs the following task:\n",
    "# (Add specific annotations here based on the logic in the cell)\n",
    "\n",
    "nlp.get_pipe('ner').labels"
   ]
  },
  {
   "cell_type": "markdown",
   "id": "3c5cb06a",
   "metadata": {},
   "source": [
    "# 6. We print the entities"
   ]
  },
  {
   "cell_type": "code",
   "execution_count": null,
   "id": "0d68d2a7",
   "metadata": {},
   "outputs": [],
   "source": [
    "# ANNOTATION (auf Deutsch):\n",
    "# Dieser Code führt die folgende Aufgabe aus:\n",
    "# (Fügen Sie hier eine spezifische Erklärung hinzu, basierend auf dem Code.)\n",
    "# This cell performs the following task:\n",
    "# (Add specific annotations here based on the logic in the cell)\n",
    "\n",
    "for ent in doc.ents:\n",
    "    print(ent.text, ent.label_)"
   ]
  },
  {
   "cell_type": "markdown",
   "id": "b448d5e6",
   "metadata": {},
   "source": [
    "# 7. We create one list with GPE "
   ]
  },
  {
   "cell_type": "markdown",
   "id": "383664c4",
   "metadata": {},
   "source": [
    "While possibly LOC is a lable that contains interesting information, as this is a DH introductory course, let's just focus on GPE!"
   ]
  },
  {
   "cell_type": "code",
   "execution_count": null,
   "id": "7db4de31",
   "metadata": {},
   "outputs": [],
   "source": [
    "# ANNOTATION (auf Deutsch):\n",
    "# Dieser Code führt die folgende Aufgabe aus:\n",
    "# (Fügen Sie hier eine spezifische Erklärung hinzu, basierend auf dem Code.)\n",
    "# This cell performs the following task:\n",
    "# (Add specific annotations here based on the logic in the cell)\n",
    "\n",
    "GPE = []\n",
    "\n",
    "for ent in doc.ents:\n",
    "    if ent.label_ == \"GPE\":\n",
    "        GPE.append([ent.text, ent.label_])"
   ]
  },
  {
   "cell_type": "code",
   "execution_count": null,
   "id": "b50b1862",
   "metadata": {},
   "outputs": [],
   "source": [
    "# ANNOTATION (auf Deutsch):\n",
    "# Dieser Code führt die folgende Aufgabe aus:\n",
    "# (Fügen Sie hier eine spezifische Erklärung hinzu, basierend auf dem Code.)\n",
    "# This cell performs the following task:\n",
    "# (Add specific annotations here based on the logic in the cell)\n",
    "\n",
    "GPE"
   ]
  },
  {
   "cell_type": "markdown",
   "id": "8062bb09",
   "metadata": {},
   "source": [
    "Now let's drop the duplicates in there!"
   ]
  },
  {
   "cell_type": "code",
   "execution_count": null,
   "id": "6a8e5605",
   "metadata": {},
   "outputs": [],
   "source": [
    "# ANNOTATION (auf Deutsch):\n",
    "# Dieser Code führt die folgende Aufgabe aus:\n",
    "# (Fügen Sie hier eine spezifische Erklärung hinzu, basierend auf dem Code.)\n",
    "# This cell performs the following task:\n",
    "# (Add specific annotations here based on the logic in the cell)\n",
    "\n",
    "GPE_places = []\n",
    "\n",
    "for a, b in GPE:\n",
    "    GPE_places.append(a)  "
   ]
  },
  {
   "cell_type": "code",
   "execution_count": null,
   "id": "122ef359",
   "metadata": {},
   "outputs": [],
   "source": [
    "# ANNOTATION (auf Deutsch):\n",
    "# Dieser Code führt die folgende Aufgabe aus:\n",
    "# (Fügen Sie hier eine spezifische Erklärung hinzu, basierend auf dem Code.)\n",
    "# This cell performs the following task:\n",
    "# (Add specific annotations here based on the logic in the cell)\n",
    "\n",
    "unique_GPE = set(GPE_places)"
   ]
  },
  {
   "cell_type": "code",
   "execution_count": null,
   "id": "f766846a",
   "metadata": {},
   "outputs": [],
   "source": [
    "# ANNOTATION (auf Deutsch):\n",
    "# Dieser Code führt die folgende Aufgabe aus:\n",
    "# (Fügen Sie hier eine spezifische Erklärung hinzu, basierend auf dem Code.)\n",
    "# This cell performs the following task:\n",
    "# (Add specific annotations here based on the logic in the cell)\n",
    "\n",
    "unique_GPE"
   ]
  },
  {
   "cell_type": "markdown",
   "id": "66c9d0bc",
   "metadata": {},
   "source": [
    "Let's save our values!"
   ]
  },
  {
   "cell_type": "code",
   "execution_count": null,
   "id": "82ca4a22",
   "metadata": {},
   "outputs": [],
   "source": [
    "# ANNOTATION (auf Deutsch):\n",
    "# Dieser Code führt die folgende Aufgabe aus:\n",
    "# (Fügen Sie hier eine spezifische Erklärung hinzu, basierend auf dem Code.)\n",
    "# This cell performs the following task:\n",
    "# (Add specific annotations here based on the logic in the cell)\n",
    "\n",
    "with open(\"GPE_aroundtheworld.txt\", \"w\", encoding = \"utf-8\") as f:\n",
    "    f.write(str(unique_GPE))"
   ]
  },
  {
   "cell_type": "markdown",
   "id": "2bacabbf",
   "metadata": {},
   "source": [
    "# Exercise 3"
   ]
  },
  {
   "cell_type": "markdown",
   "id": "9551b4f1",
   "metadata": {},
   "source": [
    "### Content from: Information Extraction.ipynb"
   ]
  },
  {
   "cell_type": "markdown",
   "id": "67ee6d97",
   "metadata": {},
   "source": [
    "#### Annotation:\n",
    "This section includes the content and logic from the original notebook. Annotations have been added to explain the purpose and function of each code cell."
   ]
  },
  {
   "cell_type": "markdown",
   "id": "5fc4d771",
   "metadata": {},
   "source": [
    "# Information Extraction: NLTK and Spacy"
   ]
  },
  {
   "cell_type": "markdown",
   "id": "2d46f2f7",
   "metadata": {},
   "source": [
    "Script Sources:\n",
    "\n",
    "* **NLTK**: Tsilimos, Maria. Python: Introduction to Natural Language Processing (NLP). IT Central, University of Zurich.\n",
    "* **Spacy**: https://spacy.io/usage/spacy-101"
   ]
  },
  {
   "cell_type": "markdown",
   "id": "1ad63b79",
   "metadata": {},
   "source": [
    "**Information Extraction (IE)** consists on transforming **Natural Language unstructured data** (written or spoken) into **structured data** ready to be used by machines. \n",
    "\n",
    "In this notebook we are going to learn two different IE methods: **Part of Speech Tagging (POS)** and **Name Entity Recognition (NER)**.\n",
    "\n",
    "There are many excellent Python libraries out there to write scripts that will allow us to do both things. In this notebook we will learn how to use **NLTK** and **Spacy** and understand the advantages and disadvantages of both!"
   ]
  },
  {
   "cell_type": "markdown",
   "id": "f2b1c427",
   "metadata": {},
   "source": [
    "# 1. Importing our data"
   ]
  },
  {
   "cell_type": "markdown",
   "id": "d15049cb",
   "metadata": {},
   "source": [
    "Let's begin by using the first chapter of **Around the World in Eighty Days** by Jules Verne."
   ]
  },
  {
   "cell_type": "markdown",
   "id": "638d8bfc",
   "metadata": {},
   "source": [
    "If you remember, in the previous chapter we did 4 steps of cleaning and pre-processing:\n",
    "\n",
    "* Tokenization\n",
    "* Lowercasing\n",
    "* Removing Punctuation\n",
    "* Removing Stopwords\n",
    "\n",
    "Now **we are not going to do any of those things**. We need to do **POS tagging**, and for that, it is necessary to keep punctuation and stopwords to avoid confusing the parser. \n",
    "\n",
    "The only thing that we are going to remove are the noisy characters \"\\r\\n\".\n",
    "\n",
    "For that, we are going to use this script: **re.sub(r\"\\r\\n\", \" \", data\")**. (in case you want to replicate it on your own dataset). \n",
    "\n",
    "For efficiency purposes a clean first chapter has been created for you with that process already incorporated."
   ]
  },
  {
   "cell_type": "code",
   "execution_count": null,
   "id": "842115f0",
   "metadata": {},
   "outputs": [],
   "source": [
    "# ANNOTATION (auf Deutsch):\n",
    "# Dieser Code führt die folgende Aufgabe aus:\n",
    "# (Fügen Sie hier eine spezifische Erklärung hinzu, basierend auf dem Code.)\n",
    "# This cell performs the following task:\n",
    "# (Add specific annotations here based on the logic in the cell)\n",
    "\n",
    "with open(\"chapter_1_80.txt\", \"r\", encoding = \"utf-8\") as f:\n",
    "    data = f.read()"
   ]
  },
  {
   "cell_type": "markdown",
   "id": "01359902",
   "metadata": {},
   "source": [
    "# 2. Understanding Information Extraction Architecture: NLTK"
   ]
  },
  {
   "cell_type": "markdown",
   "id": "aaf6af84",
   "metadata": {},
   "source": [
    "### A. We import the libraries"
   ]
  },
  {
   "cell_type": "code",
   "execution_count": null,
   "id": "8060b41e",
   "metadata": {},
   "outputs": [],
   "source": [
    "# ANNOTATION (auf Deutsch):\n",
    "# Dieser Code führt die folgende Aufgabe aus:\n",
    "# (Fügen Sie hier eine spezifische Erklärung hinzu, basierend auf dem Code.)\n",
    "# This cell performs the following task:\n",
    "# (Add specific annotations here based on the logic in the cell)\n",
    "\n",
    "import nltk\n",
    "from nltk import word_tokenize\n",
    "from nltk import sent_tokenize\n",
    "from nltk import pos_tag\n",
    "from nltk import ne_chunk\n",
    "from nltk.chunk import conlltags2tree, tree2conlltags\n",
    "from nltk.draw import draw_trees"
   ]
  },
  {
   "cell_type": "markdown",
   "id": "0009f992",
   "metadata": {},
   "source": [
    "### B. We initialize the Information Extracture Pipeline:\n",
    "\n",
    "1. Sentence Segmentation\n",
    "2. Tokenization\n",
    "3. POS Tagging\n",
    "4. Chunking\n",
    "5. NER"
   ]
  },
  {
   "cell_type": "markdown",
   "id": "2c3bdfe8",
   "metadata": {},
   "source": [
    "#### 1. Sentence Segmentation"
   ]
  },
  {
   "cell_type": "code",
   "execution_count": null,
   "id": "ba035962",
   "metadata": {},
   "outputs": [],
   "source": [
    "# ANNOTATION (auf Deutsch):\n",
    "# Dieser Code führt die folgende Aufgabe aus:\n",
    "# (Fügen Sie hier eine spezifische Erklärung hinzu, basierend auf dem Code.)\n",
    "# This cell performs the following task:\n",
    "# (Add specific annotations here based on the logic in the cell)\n",
    "\n",
    "sentences = sent_tokenize(data) \n",
    "sentences"
   ]
  },
  {
   "cell_type": "markdown",
   "id": "cdbd9df7",
   "metadata": {},
   "source": [
    "#### 2. Tokenization"
   ]
  },
  {
   "cell_type": "code",
   "execution_count": null,
   "id": "4ad2b9cc",
   "metadata": {},
   "outputs": [],
   "source": [
    "# ANNOTATION (auf Deutsch):\n",
    "# Dieser Code führt die folgende Aufgabe aus:\n",
    "# (Fügen Sie hier eine spezifische Erklärung hinzu, basierend auf dem Code.)\n",
    "# This cell performs the following task:\n",
    "# (Add specific annotations here based on the logic in the cell)\n",
    "\n",
    "token_sentences = [word_tokenize(sentence) for sentence in sentences] "
   ]
  },
  {
   "cell_type": "code",
   "execution_count": null,
   "id": "baca6c2d",
   "metadata": {},
   "outputs": [],
   "source": [
    "# ANNOTATION (auf Deutsch):\n",
    "# Dieser Code führt die folgende Aufgabe aus:\n",
    "# (Fügen Sie hier eine spezifische Erklärung hinzu, basierend auf dem Code.)\n",
    "# This cell performs the following task:\n",
    "# (Add specific annotations here based on the logic in the cell)\n",
    "\n",
    "print(token_sentences)"
   ]
  },
  {
   "cell_type": "markdown",
   "id": "e788262c",
   "metadata": {},
   "source": [
    "#### 3. POS Tagging"
   ]
  },
  {
   "cell_type": "code",
   "execution_count": null,
   "id": "383d8286",
   "metadata": {},
   "outputs": [],
   "source": [
    "# ANNOTATION (auf Deutsch):\n",
    "# Dieser Code führt die folgende Aufgabe aus:\n",
    "# (Fügen Sie hier eine spezifische Erklärung hinzu, basierend auf dem Code.)\n",
    "# This cell performs the following task:\n",
    "# (Add specific annotations here based on the logic in the cell)\n",
    "\n",
    "pos_sentences = [nltk.pos_tag(sentence) for sentence in token_sentences ] "
   ]
  },
  {
   "cell_type": "code",
   "execution_count": null,
   "id": "fe4988fa",
   "metadata": {},
   "outputs": [],
   "source": [
    "# ANNOTATION (auf Deutsch):\n",
    "# Dieser Code führt die folgende Aufgabe aus:\n",
    "# (Fügen Sie hier eine spezifische Erklärung hinzu, basierend auf dem Code.)\n",
    "# This cell performs the following task:\n",
    "# (Add specific annotations here based on the logic in the cell)\n",
    "\n",
    "pos_sentences"
   ]
  },
  {
   "cell_type": "markdown",
   "id": "5104842c",
   "metadata": {},
   "source": [
    "#### 4. Chunking and NER"
   ]
  },
  {
   "cell_type": "markdown",
   "id": "168b2457",
   "metadata": {},
   "source": [
    "#### Chunking"
   ]
  },
  {
   "cell_type": "code",
   "execution_count": null,
   "id": "b632e185",
   "metadata": {},
   "outputs": [],
   "source": [
    "# ANNOTATION (auf Deutsch):\n",
    "# Dieser Code führt die folgende Aufgabe aus:\n",
    "# (Fügen Sie hier eine spezifische Erklärung hinzu, basierend auf dem Code.)\n",
    "# This cell performs the following task:\n",
    "# (Add specific annotations here based on the logic in the cell)\n",
    "\n",
    "sentence = pos_sentences[7]"
   ]
  },
  {
   "cell_type": "code",
   "execution_count": null,
   "id": "55336fd0",
   "metadata": {},
   "outputs": [],
   "source": [
    "# ANNOTATION (auf Deutsch):\n",
    "# Dieser Code führt die folgende Aufgabe aus:\n",
    "# (Fügen Sie hier eine spezifische Erklärung hinzu, basierend auf dem Code.)\n",
    "# This cell performs the following task:\n",
    "# (Add specific annotations here based on the logic in the cell)\n",
    "\n",
    "sentence"
   ]
  },
  {
   "cell_type": "code",
   "execution_count": null,
   "id": "1bd5f20b",
   "metadata": {},
   "outputs": [],
   "source": [
    "# ANNOTATION (auf Deutsch):\n",
    "# Dieser Code führt die folgende Aufgabe aus:\n",
    "# (Fügen Sie hier eine spezifische Erklärung hinzu, basierend auf dem Code.)\n",
    "# This cell performs the following task:\n",
    "# (Add specific annotations here based on the logic in the cell)\n",
    "\n",
    "grammar = \"NP: {<DT>?<JJ>*<NN>}\" "
   ]
  },
  {
   "cell_type": "code",
   "execution_count": null,
   "id": "e371ea3b",
   "metadata": {},
   "outputs": [],
   "source": [
    "# ANNOTATION (auf Deutsch):\n",
    "# Dieser Code führt die folgende Aufgabe aus:\n",
    "# (Fügen Sie hier eine spezifische Erklärung hinzu, basierend auf dem Code.)\n",
    "# This cell performs the following task:\n",
    "# (Add specific annotations here based on the logic in the cell)\n",
    "\n",
    "cp = nltk.RegexpParser(grammar)\n",
    "result = cp.parse(sentence) \n",
    "print(result)"
   ]
  },
  {
   "cell_type": "code",
   "execution_count": null,
   "id": "0bb91e30",
   "metadata": {},
   "outputs": [],
   "source": [
    "# ANNOTATION (auf Deutsch):\n",
    "# Dieser Code führt die folgende Aufgabe aus:\n",
    "# (Fügen Sie hier eine spezifische Erklärung hinzu, basierend auf dem Code.)\n",
    "# This cell performs the following task:\n",
    "# (Add specific annotations here based on the logic in the cell)\n",
    "\n",
    "result.draw()"
   ]
  },
  {
   "cell_type": "markdown",
   "id": "be8a42ac",
   "metadata": {},
   "source": [
    "#### NER"
   ]
  },
  {
   "cell_type": "code",
   "execution_count": null,
   "id": "04411233",
   "metadata": {},
   "outputs": [],
   "source": [
    "# ANNOTATION (auf Deutsch):\n",
    "# Dieser Code führt die folgende Aufgabe aus:\n",
    "# (Fügen Sie hier eine spezifische Erklärung hinzu, basierend auf dem Code.)\n",
    "# This cell performs the following task:\n",
    "# (Add specific annotations here based on the logic in the cell)\n",
    "\n",
    "chunked_sentences = nltk.ne_chunk_sents(pos_sentences)"
   ]
  },
  {
   "cell_type": "code",
   "execution_count": null,
   "id": "d07de489",
   "metadata": {},
   "outputs": [],
   "source": [
    "# ANNOTATION (auf Deutsch):\n",
    "# Dieser Code führt die folgende Aufgabe aus:\n",
    "# (Fügen Sie hier eine spezifische Erklärung hinzu, basierend auf dem Code.)\n",
    "# This cell performs the following task:\n",
    "# (Add specific annotations here based on the logic in the cell)\n",
    "\n",
    "chunked_sentences"
   ]
  },
  {
   "cell_type": "code",
   "execution_count": null,
   "id": "f44c3d0a",
   "metadata": {},
   "outputs": [],
   "source": [
    "# ANNOTATION (auf Deutsch):\n",
    "# Dieser Code führt die folgende Aufgabe aus:\n",
    "# (Fügen Sie hier eine spezifische Erklärung hinzu, basierend auf dem Code.)\n",
    "# This cell performs the following task:\n",
    "# (Add specific annotations here based on the logic in the cell)\n",
    "\n",
    "for sent in chunked_sentences:\n",
    "    for chunk in sent: \n",
    "        if hasattr(chunk,'label'): \n",
    "            print(chunk.label(), ' '.join(c[0] for c in chunk))"
   ]
  },
  {
   "cell_type": "markdown",
   "id": "684d9144",
   "metadata": {},
   "source": [
    "And now let's transform that into a list!"
   ]
  },
  {
   "cell_type": "markdown",
   "id": "68c27669",
   "metadata": {},
   "source": [
    "Source = https://nanonets.com/blog/named-entity-recognition-with-nltk-and-spacy/"
   ]
  },
  {
   "cell_type": "code",
   "execution_count": null,
   "id": "7d9e9fff",
   "metadata": {},
   "outputs": [],
   "source": [
    "# ANNOTATION (auf Deutsch):\n",
    "# Dieser Code führt die folgende Aufgabe aus:\n",
    "# (Fügen Sie hier eine spezifische Erklärung hinzu, basierend auf dem Code.)\n",
    "# This cell performs the following task:\n",
    "# (Add specific annotations here based on the logic in the cell)\n",
    "\n",
    "chunked_sentences = nltk.ne_chunk_sents(pos_sentences)"
   ]
  },
  {
   "cell_type": "code",
   "execution_count": null,
   "id": "99fae04d",
   "metadata": {},
   "outputs": [],
   "source": [
    "# ANNOTATION (auf Deutsch):\n",
    "# Dieser Code führt die folgende Aufgabe aus:\n",
    "# (Fügen Sie hier eine spezifische Erklärung hinzu, basierend auf dem Code.)\n",
    "# This cell performs the following task:\n",
    "# (Add specific annotations here based on the logic in the cell)\n",
    "\n",
    "named_entities = []"
   ]
  },
  {
   "cell_type": "code",
   "execution_count": null,
   "id": "afede6d7",
   "metadata": {},
   "outputs": [],
   "source": [
    "# ANNOTATION (auf Deutsch):\n",
    "# Dieser Code führt die folgende Aufgabe aus:\n",
    "# (Fügen Sie hier eine spezifische Erklärung hinzu, basierend auf dem Code.)\n",
    "# This cell performs the following task:\n",
    "# (Add specific annotations here based on the logic in the cell)\n",
    "\n",
    "for sent in chunked_sentences:\n",
    "    for chunk in sent:\n",
    "        if hasattr(chunk, \"label\"):\n",
    "            named_entities.append((chunk.label(), ' '.join(c[0] for c in chunk)))"
   ]
  },
  {
   "cell_type": "code",
   "execution_count": null,
   "id": "dd1be6a3",
   "metadata": {},
   "outputs": [],
   "source": [
    "# ANNOTATION (auf Deutsch):\n",
    "# Dieser Code führt die folgende Aufgabe aus:\n",
    "# (Fügen Sie hier eine spezifische Erklärung hinzu, basierend auf dem Code.)\n",
    "# This cell performs the following task:\n",
    "# (Add specific annotations here based on the logic in the cell)\n",
    "\n",
    "named_entities"
   ]
  },
  {
   "cell_type": "code",
   "execution_count": null,
   "id": "00969ed6",
   "metadata": {},
   "outputs": [],
   "source": [
    "# ANNOTATION (auf Deutsch):\n",
    "# Dieser Code führt die folgende Aufgabe aus:\n",
    "# (Fügen Sie hier eine spezifische Erklärung hinzu, basierend auf dem Code.)\n",
    "# This cell performs the following task:\n",
    "# (Add specific annotations here based on the logic in the cell)\n",
    "\n",
    "person = []\n",
    "\n",
    "for a,b in named_entities:\n",
    "    if a == \"PERSON\":\n",
    "        person.append([a, b])"
   ]
  },
  {
   "cell_type": "code",
   "execution_count": null,
   "id": "ee0245a4",
   "metadata": {},
   "outputs": [],
   "source": [
    "# ANNOTATION (auf Deutsch):\n",
    "# Dieser Code führt die folgende Aufgabe aus:\n",
    "# (Fügen Sie hier eine spezifische Erklärung hinzu, basierend auf dem Code.)\n",
    "# This cell performs the following task:\n",
    "# (Add specific annotations here based on the logic in the cell)\n",
    "\n",
    "person"
   ]
  },
  {
   "cell_type": "markdown",
   "id": "c8706341",
   "metadata": {},
   "source": [
    "That looks good so far! Let's now check **Geopolitical Entities (GPE)**"
   ]
  },
  {
   "cell_type": "code",
   "execution_count": null,
   "id": "60690a96",
   "metadata": {},
   "outputs": [],
   "source": [
    "# ANNOTATION (auf Deutsch):\n",
    "# Dieser Code führt die folgende Aufgabe aus:\n",
    "# (Fügen Sie hier eine spezifische Erklärung hinzu, basierend auf dem Code.)\n",
    "# This cell performs the following task:\n",
    "# (Add specific annotations here based on the logic in the cell)\n",
    "\n",
    "GPE = []\n",
    "\n",
    "for a,b in named_entities:\n",
    "    if a == \"GPE\":\n",
    "        GPE.append([a, b])"
   ]
  },
  {
   "cell_type": "code",
   "execution_count": null,
   "id": "f73069f8",
   "metadata": {},
   "outputs": [],
   "source": [
    "# ANNOTATION (auf Deutsch):\n",
    "# Dieser Code führt die folgende Aufgabe aus:\n",
    "# (Fügen Sie hier eine spezifische Erklärung hinzu, basierend auf dem Code.)\n",
    "# This cell performs the following task:\n",
    "# (Add specific annotations here based on the logic in the cell)\n",
    "\n",
    "GPE"
   ]
  },
  {
   "cell_type": "markdown",
   "id": "452c7206",
   "metadata": {},
   "source": [
    "That also looks quite good! However we observe some **issues**: is American or Londoner a person or a GPE?"
   ]
  },
  {
   "cell_type": "code",
   "execution_count": null,
   "id": "750f9526",
   "metadata": {},
   "outputs": [],
   "source": [
    "# ANNOTATION (auf Deutsch):\n",
    "# Dieser Code führt die folgende Aufgabe aus:\n",
    "# (Fügen Sie hier eine spezifische Erklärung hinzu, basierend auf dem Code.)\n",
    "# This cell performs the following task:\n",
    "# (Add specific annotations here based on the logic in the cell)\n",
    "\n",
    "organization = []\n",
    "\n",
    "for a,b in named_entities:\n",
    "    if a == \"ORGANIZATION\":\n",
    "        organization.append([a, b])"
   ]
  },
  {
   "cell_type": "code",
   "execution_count": null,
   "id": "74a54ee3",
   "metadata": {},
   "outputs": [],
   "source": [
    "# ANNOTATION (auf Deutsch):\n",
    "# Dieser Code führt die folgende Aufgabe aus:\n",
    "# (Fügen Sie hier eine spezifische Erklärung hinzu, basierend auf dem Code.)\n",
    "# This cell performs the following task:\n",
    "# (Add specific annotations here based on the logic in the cell)\n",
    "\n",
    "organization"
   ]
  },
  {
   "cell_type": "markdown",
   "id": "ed3b6675",
   "metadata": {},
   "source": [
    "# Exercise 1"
   ]
  },
  {
   "cell_type": "markdown",
   "id": "15733523",
   "metadata": {},
   "source": [
    "# Spacy"
   ]
  },
  {
   "cell_type": "markdown",
   "id": "4e5885db",
   "metadata": {},
   "source": [
    "And now let's try Spacy. Spacy does not follow the same architecture as NLTK: we don´t need to follow the 4 step pipeline (sentence segmentation, tokenization, POS tagging, NER chunking). All of that is implemented in their code! Have a look at: https://spacy.io/usage/linguistic-features#named-entities"
   ]
  },
  {
   "cell_type": "markdown",
   "id": "2f62acb5",
   "metadata": {},
   "source": [
    "You may need to install the Spacy pipeline. If so, remove the #symbol in the following cells."
   ]
  },
  {
   "cell_type": "code",
   "execution_count": null,
   "id": "1c20f8b4",
   "metadata": {},
   "outputs": [],
   "source": [
    "# ANNOTATION (auf Deutsch):\n",
    "# Dieser Code führt die folgende Aufgabe aus:\n",
    "# (Fügen Sie hier eine spezifische Erklärung hinzu, basierend auf dem Code.)\n",
    "# This cell performs the following task:\n",
    "# (Add specific annotations here based on the logic in the cell)\n",
    "\n",
    "#!pip install spacy"
   ]
  },
  {
   "cell_type": "code",
   "execution_count": null,
   "id": "1c13306a",
   "metadata": {},
   "outputs": [],
   "source": [
    "# ANNOTATION (auf Deutsch):\n",
    "# Dieser Code führt die folgende Aufgabe aus:\n",
    "# (Fügen Sie hier eine spezifische Erklärung hinzu, basierend auf dem Code.)\n",
    "# This cell performs the following task:\n",
    "# (Add specific annotations here based on the logic in the cell)\n",
    "\n",
    "#!python -m spacy download en_core_web_sm"
   ]
  },
  {
   "cell_type": "code",
   "execution_count": null,
   "id": "2e1901b1",
   "metadata": {},
   "outputs": [],
   "source": [
    "# ANNOTATION (auf Deutsch):\n",
    "# Dieser Code führt die folgende Aufgabe aus:\n",
    "# (Fügen Sie hier eine spezifische Erklärung hinzu, basierend auf dem Code.)\n",
    "# This cell performs the following task:\n",
    "# (Add specific annotations here based on the logic in the cell)\n",
    "\n",
    "import spacy"
   ]
  },
  {
   "cell_type": "code",
   "execution_count": null,
   "id": "64122e7b",
   "metadata": {},
   "outputs": [],
   "source": [
    "# ANNOTATION (auf Deutsch):\n",
    "# Dieser Code führt die folgende Aufgabe aus:\n",
    "# (Fügen Sie hier eine spezifische Erklärung hinzu, basierend auf dem Code.)\n",
    "# This cell performs the following task:\n",
    "# (Add specific annotations here based on the logic in the cell)\n",
    "\n",
    "nlp = spacy.load(\"en_core_web_sm\")"
   ]
  },
  {
   "cell_type": "code",
   "execution_count": null,
   "id": "00e25fbc",
   "metadata": {},
   "outputs": [],
   "source": [
    "# ANNOTATION (auf Deutsch):\n",
    "# Dieser Code führt die folgende Aufgabe aus:\n",
    "# (Fügen Sie hier eine spezifische Erklärung hinzu, basierend auf dem Code.)\n",
    "# This cell performs the following task:\n",
    "# (Add specific annotations here based on the logic in the cell)\n",
    "\n",
    "doc = nlp(data)"
   ]
  },
  {
   "cell_type": "markdown",
   "id": "31bc97c0",
   "metadata": {},
   "source": [
    "Let's first have a look at the existing Entity Labels"
   ]
  },
  {
   "cell_type": "code",
   "execution_count": null,
   "id": "5daeeb7c",
   "metadata": {},
   "outputs": [],
   "source": [
    "# ANNOTATION (auf Deutsch):\n",
    "# Dieser Code führt die folgende Aufgabe aus:\n",
    "# (Fügen Sie hier eine spezifische Erklärung hinzu, basierend auf dem Code.)\n",
    "# This cell performs the following task:\n",
    "# (Add specific annotations here based on the logic in the cell)\n",
    "\n",
    "nlp.get_pipe('ner').labels"
   ]
  },
  {
   "cell_type": "code",
   "execution_count": null,
   "id": "99c8f1dd",
   "metadata": {},
   "outputs": [],
   "source": [
    "# ANNOTATION (auf Deutsch):\n",
    "# Dieser Code führt die folgende Aufgabe aus:\n",
    "# (Fügen Sie hier eine spezifische Erklärung hinzu, basierend auf dem Code.)\n",
    "# This cell performs the following task:\n",
    "# (Add specific annotations here based on the logic in the cell)\n",
    "\n",
    "for ent in doc.ents:\n",
    "    print(ent.text, ent.label_)"
   ]
  },
  {
   "cell_type": "code",
   "execution_count": null,
   "id": "fadd9434",
   "metadata": {},
   "outputs": [],
   "source": [
    "# ANNOTATION (auf Deutsch):\n",
    "# Dieser Code führt die folgende Aufgabe aus:\n",
    "# (Fügen Sie hier eine spezifische Erklärung hinzu, basierend auf dem Code.)\n",
    "# This cell performs the following task:\n",
    "# (Add specific annotations here based on the logic in the cell)\n",
    "\n",
    "for ent in doc.ents:\n",
    "    if ent.label_ == \"PERSON\":\n",
    "        print(ent.text, ent.label_)"
   ]
  },
  {
   "cell_type": "code",
   "execution_count": null,
   "id": "d8e9f1d9",
   "metadata": {},
   "outputs": [],
   "source": [
    "# ANNOTATION (auf Deutsch):\n",
    "# Dieser Code führt die folgende Aufgabe aus:\n",
    "# (Fügen Sie hier eine spezifische Erklärung hinzu, basierend auf dem Code.)\n",
    "# This cell performs the following task:\n",
    "# (Add specific annotations here based on the logic in the cell)\n",
    "\n",
    "for ent in doc.ents:\n",
    "    if ent.label_ == \"GPE\":\n",
    "        print(ent.text, ent.label_)"
   ]
  },
  {
   "cell_type": "code",
   "execution_count": null,
   "id": "9ac551f4",
   "metadata": {},
   "outputs": [],
   "source": [
    "# ANNOTATION (auf Deutsch):\n",
    "# Dieser Code führt die folgende Aufgabe aus:\n",
    "# (Fügen Sie hier eine spezifische Erklärung hinzu, basierend auf dem Code.)\n",
    "# This cell performs the following task:\n",
    "# (Add specific annotations here based on the logic in the cell)\n",
    "\n",
    "for ent in doc.ents:\n",
    "    if ent.label_ == \"ORG\":\n",
    "        print(ent.text, ent.label_)"
   ]
  },
  {
   "cell_type": "markdown",
   "id": "8f780527",
   "metadata": {},
   "source": [
    "We have a winner!"
   ]
  },
  {
   "cell_type": "markdown",
   "id": "5aa7fc3d",
   "metadata": {},
   "source": [
    "# Exercise 2"
   ]
  },
  {
   "cell_type": "markdown",
   "id": "34bef217",
   "metadata": {},
   "source": [
    "### Content from: Exercises Information Extraction.ipynb"
   ]
  },
  {
   "cell_type": "markdown",
   "id": "72fb4946",
   "metadata": {},
   "source": [
    "#### Annotation:\n",
    "This section includes the content and logic from the original notebook. Annotations have been added to explain the purpose and function of each code cell."
   ]
  },
  {
   "cell_type": "markdown",
   "id": "e2c184b5",
   "metadata": {},
   "source": [
    "And now let's practice what we have just learnt but now with a multilingual text!\n",
    "\n",
    "Script Sources:\n",
    "\n",
    "* **NLTK**: Tsilimos, Maria. Python: Introduction to Natural Language Processing (NLP). IT Central, University of Zurich.\n",
    "* **Spacy**: https://spacy.io/usage/spacy-101"
   ]
  },
  {
   "cell_type": "markdown",
   "id": "251fd040",
   "metadata": {},
   "source": [
    "# Exercise 1: replicating the NLTK IE architecture with the first chapter of Twenty Thousand Leagues Under the Sea"
   ]
  },
  {
   "cell_type": "markdown",
   "id": "b8584532",
   "metadata": {},
   "source": [
    "#### A. We import our data"
   ]
  },
  {
   "cell_type": "markdown",
   "id": "ebe4e928",
   "metadata": {},
   "source": [
    "The second chapter of **Around the World in 80 days** has been created for you (without being cleaned and pre-processed, yet without \\r\\n characters). Write some code to open it!\n",
    "\n",
    "(P.S. Again, if you want to replicate the code for your own exercises, run the following script: import re re.sub(r\"\\r\\n\", \" \", data\")). "
   ]
  },
  {
   "cell_type": "code",
   "execution_count": null,
   "id": "f7f0e48e",
   "metadata": {},
   "outputs": [],
   "source": [
    "# ANNOTATION (auf Deutsch):\n",
    "# Dieser Code führt die folgende Aufgabe aus:\n",
    "# (Fügen Sie hier eine spezifische Erklärung hinzu, basierend auf dem Code.)\n",
    "# This cell performs the following task:\n",
    "# (Add specific annotations here based on the logic in the cell)\n",
    "\n",
    "#Your code in here"
   ]
  },
  {
   "cell_type": "code",
   "execution_count": null,
   "id": "1676d456",
   "metadata": {},
   "outputs": [],
   "source": [
    "# ANNOTATION (auf Deutsch):\n",
    "# Dieser Code führt die folgende Aufgabe aus:\n",
    "# (Fügen Sie hier eine spezifische Erklärung hinzu, basierend auf dem Code.)\n",
    "# This cell performs the following task:\n",
    "# (Add specific annotations here based on the logic in the cell)\n",
    "\n",
    "#Solution\n",
    "with open(\"chapter_2_80.txt\", \"r\", encoding = \"utf-8\") as f:\n",
    "    data = f.read()"
   ]
  },
  {
   "cell_type": "markdown",
   "id": "5ac0a8e9",
   "metadata": {},
   "source": [
    "#### B. We import the libraries"
   ]
  },
  {
   "cell_type": "code",
   "execution_count": null,
   "id": "7f4041b3",
   "metadata": {},
   "outputs": [],
   "source": [
    "# ANNOTATION (auf Deutsch):\n",
    "# Dieser Code führt die folgende Aufgabe aus:\n",
    "# (Fügen Sie hier eine spezifische Erklärung hinzu, basierend auf dem Code.)\n",
    "# This cell performs the following task:\n",
    "# (Add specific annotations here based on the logic in the cell)\n",
    "\n",
    "#Your code in here"
   ]
  },
  {
   "cell_type": "code",
   "execution_count": null,
   "id": "3727a341",
   "metadata": {},
   "outputs": [],
   "source": [
    "# ANNOTATION (auf Deutsch):\n",
    "# Dieser Code führt die folgende Aufgabe aus:\n",
    "# (Fügen Sie hier eine spezifische Erklärung hinzu, basierend auf dem Code.)\n",
    "# This cell performs the following task:\n",
    "# (Add specific annotations here based on the logic in the cell)\n",
    "\n",
    "#Solution\n",
    "import nltk\n",
    "from nltk import word_tokenize\n",
    "from nltk import sent_tokenize\n",
    "from nltk import pos_tag\n",
    "from nltk import ne_chunk\n",
    "from nltk.chunk import conlltags2tree, tree2conlltags\n",
    "from nltk.draw import draw_trees"
   ]
  },
  {
   "cell_type": "markdown",
   "id": "635df862",
   "metadata": {},
   "source": [
    "#### C. Sentence Segmentation"
   ]
  },
  {
   "cell_type": "code",
   "execution_count": null,
   "id": "da598f68",
   "metadata": {},
   "outputs": [],
   "source": [
    "# ANNOTATION (auf Deutsch):\n",
    "# Dieser Code führt die folgende Aufgabe aus:\n",
    "# (Fügen Sie hier eine spezifische Erklärung hinzu, basierend auf dem Code.)\n",
    "# This cell performs the following task:\n",
    "# (Add specific annotations here based on the logic in the cell)\n",
    "\n",
    "#Your code in here"
   ]
  },
  {
   "cell_type": "code",
   "execution_count": null,
   "id": "489cafdc",
   "metadata": {},
   "outputs": [],
   "source": [
    "# ANNOTATION (auf Deutsch):\n",
    "# Dieser Code führt die folgende Aufgabe aus:\n",
    "# (Fügen Sie hier eine spezifische Erklärung hinzu, basierend auf dem Code.)\n",
    "# This cell performs the following task:\n",
    "# (Add specific annotations here based on the logic in the cell)\n",
    "\n",
    "#Solution\n",
    "sentences = sent_tokenize(data) "
   ]
  },
  {
   "cell_type": "markdown",
   "id": "ca402949",
   "metadata": {},
   "source": [
    "#### D. Tokenization"
   ]
  },
  {
   "cell_type": "code",
   "execution_count": null,
   "id": "e4fade92",
   "metadata": {},
   "outputs": [],
   "source": [
    "# ANNOTATION (auf Deutsch):\n",
    "# Dieser Code führt die folgende Aufgabe aus:\n",
    "# (Fügen Sie hier eine spezifische Erklärung hinzu, basierend auf dem Code.)\n",
    "# This cell performs the following task:\n",
    "# (Add specific annotations here based on the logic in the cell)\n",
    "\n",
    "#Your code in here"
   ]
  },
  {
   "cell_type": "code",
   "execution_count": null,
   "id": "21c39a76",
   "metadata": {},
   "outputs": [],
   "source": [
    "# ANNOTATION (auf Deutsch):\n",
    "# Dieser Code führt die folgende Aufgabe aus:\n",
    "# (Fügen Sie hier eine spezifische Erklärung hinzu, basierend auf dem Code.)\n",
    "# This cell performs the following task:\n",
    "# (Add specific annotations here based on the logic in the cell)\n",
    "\n",
    "#Solution\n",
    "token_sentences = [word_tokenize(sentence) for sentence in sentences] "
   ]
  },
  {
   "cell_type": "code",
   "execution_count": null,
   "id": "02c3f0f4",
   "metadata": {},
   "outputs": [],
   "source": [
    "# ANNOTATION (auf Deutsch):\n",
    "# Dieser Code führt die folgende Aufgabe aus:\n",
    "# (Fügen Sie hier eine spezifische Erklärung hinzu, basierend auf dem Code.)\n",
    "# This cell performs the following task:\n",
    "# (Add specific annotations here based on the logic in the cell)\n",
    "\n",
    "token_sentences"
   ]
  },
  {
   "cell_type": "markdown",
   "id": "f703d9ae",
   "metadata": {},
   "source": [
    "#### E. POS Tagging"
   ]
  },
  {
   "cell_type": "code",
   "execution_count": null,
   "id": "9cc48939",
   "metadata": {},
   "outputs": [],
   "source": [
    "# ANNOTATION (auf Deutsch):\n",
    "# Dieser Code führt die folgende Aufgabe aus:\n",
    "# (Fügen Sie hier eine spezifische Erklärung hinzu, basierend auf dem Code.)\n",
    "# This cell performs the following task:\n",
    "# (Add specific annotations here based on the logic in the cell)\n",
    "\n",
    "#Your code in here"
   ]
  },
  {
   "cell_type": "code",
   "execution_count": null,
   "id": "96c8d652",
   "metadata": {},
   "outputs": [],
   "source": [
    "# ANNOTATION (auf Deutsch):\n",
    "# Dieser Code führt die folgende Aufgabe aus:\n",
    "# (Fügen Sie hier eine spezifische Erklärung hinzu, basierend auf dem Code.)\n",
    "# This cell performs the following task:\n",
    "# (Add specific annotations here based on the logic in the cell)\n",
    "\n",
    "#Solution\n",
    "pos_sentences = [nltk.pos_tag(sentence) for sentence in token_sentences ] "
   ]
  },
  {
   "cell_type": "code",
   "execution_count": null,
   "id": "f9d9032f",
   "metadata": {},
   "outputs": [],
   "source": [
    "# ANNOTATION (auf Deutsch):\n",
    "# Dieser Code führt die folgende Aufgabe aus:\n",
    "# (Fügen Sie hier eine spezifische Erklärung hinzu, basierend auf dem Code.)\n",
    "# This cell performs the following task:\n",
    "# (Add specific annotations here based on the logic in the cell)\n",
    "\n",
    "pos_sentences"
   ]
  },
  {
   "cell_type": "markdown",
   "id": "79554728",
   "metadata": {},
   "source": [
    "#### F. Chunking and NER"
   ]
  },
  {
   "cell_type": "markdown",
   "id": "11eb2716",
   "metadata": {},
   "source": [
    "#### Chunking"
   ]
  },
  {
   "cell_type": "markdown",
   "id": "2154b148",
   "metadata": {},
   "source": [
    "Try extracting a sentence that you like. "
   ]
  },
  {
   "cell_type": "code",
   "execution_count": null,
   "id": "cebcd256",
   "metadata": {},
   "outputs": [],
   "source": [
    "# ANNOTATION (auf Deutsch):\n",
    "# Dieser Code führt die folgende Aufgabe aus:\n",
    "# (Fügen Sie hier eine spezifische Erklärung hinzu, basierend auf dem Code.)\n",
    "# This cell performs the following task:\n",
    "# (Add specific annotations here based on the logic in the cell)\n",
    "\n",
    "#Your code in here"
   ]
  },
  {
   "cell_type": "code",
   "execution_count": null,
   "id": "377c475a",
   "metadata": {},
   "outputs": [],
   "source": [
    "# ANNOTATION (auf Deutsch):\n",
    "# Dieser Code führt die folgende Aufgabe aus:\n",
    "# (Fügen Sie hier eine spezifische Erklärung hinzu, basierend auf dem Code.)\n",
    "# This cell performs the following task:\n",
    "# (Add specific annotations here based on the logic in the cell)\n",
    "\n",
    "#Solution\n",
    "sentence = pos_sentences[2]"
   ]
  },
  {
   "cell_type": "code",
   "execution_count": null,
   "id": "38a49f5d",
   "metadata": {},
   "outputs": [],
   "source": [
    "# ANNOTATION (auf Deutsch):\n",
    "# Dieser Code führt die folgende Aufgabe aus:\n",
    "# (Fügen Sie hier eine spezifische Erklärung hinzu, basierend auf dem Code.)\n",
    "# This cell performs the following task:\n",
    "# (Add specific annotations here based on the logic in the cell)\n",
    "\n",
    "sentence"
   ]
  },
  {
   "cell_type": "markdown",
   "id": "c49f1c91",
   "metadata": {},
   "source": [
    "Now create a tree out of that!"
   ]
  },
  {
   "cell_type": "code",
   "execution_count": null,
   "id": "34533e3a",
   "metadata": {},
   "outputs": [],
   "source": [
    "# ANNOTATION (auf Deutsch):\n",
    "# Dieser Code führt die folgende Aufgabe aus:\n",
    "# (Fügen Sie hier eine spezifische Erklärung hinzu, basierend auf dem Code.)\n",
    "# This cell performs the following task:\n",
    "# (Add specific annotations here based on the logic in the cell)\n",
    "\n",
    "grammar = \"NP: {<DT>?<JJ>*<NN>}\" "
   ]
  },
  {
   "cell_type": "code",
   "execution_count": null,
   "id": "436d4ce9",
   "metadata": {},
   "outputs": [],
   "source": [
    "# ANNOTATION (auf Deutsch):\n",
    "# Dieser Code führt die folgende Aufgabe aus:\n",
    "# (Fügen Sie hier eine spezifische Erklärung hinzu, basierend auf dem Code.)\n",
    "# This cell performs the following task:\n",
    "# (Add specific annotations here based on the logic in the cell)\n",
    "\n",
    "cp = nltk.RegexpParser(grammar)\n",
    "result = cp.parse(sentence) \n",
    "print(result)"
   ]
  },
  {
   "cell_type": "code",
   "execution_count": null,
   "id": "b1d2cb5b",
   "metadata": {},
   "outputs": [],
   "source": [
    "# ANNOTATION (auf Deutsch):\n",
    "# Dieser Code führt die folgende Aufgabe aus:\n",
    "# (Fügen Sie hier eine spezifische Erklärung hinzu, basierend auf dem Code.)\n",
    "# This cell performs the following task:\n",
    "# (Add specific annotations here based on the logic in the cell)\n",
    "\n",
    "result.draw()"
   ]
  },
  {
   "cell_type": "code",
   "execution_count": null,
   "id": "c790138f",
   "metadata": {},
   "outputs": [],
   "source": [
    "# ANNOTATION (auf Deutsch):\n",
    "# Dieser Code führt die folgende Aufgabe aus:\n",
    "# (Fügen Sie hier eine spezifische Erklärung hinzu, basierend auf dem Code.)\n",
    "# This cell performs the following task:\n",
    "# (Add specific annotations here based on the logic in the cell)\n",
    "\n",
    "#Your code in here"
   ]
  },
  {
   "cell_type": "code",
   "execution_count": null,
   "id": "460e8143",
   "metadata": {},
   "outputs": [],
   "source": [
    "# ANNOTATION (auf Deutsch):\n",
    "# Dieser Code führt die folgende Aufgabe aus:\n",
    "# (Fügen Sie hier eine spezifische Erklärung hinzu, basierend auf dem Code.)\n",
    "# This cell performs the following task:\n",
    "# (Add specific annotations here based on the logic in the cell)\n",
    "\n",
    "#Solution\n",
    "chunked_sentences = nltk.ne_chunk_sents(pos_sentences)"
   ]
  },
  {
   "cell_type": "code",
   "execution_count": null,
   "id": "e27abd37",
   "metadata": {},
   "outputs": [],
   "source": [
    "# ANNOTATION (auf Deutsch):\n",
    "# Dieser Code führt die folgende Aufgabe aus:\n",
    "# (Fügen Sie hier eine spezifische Erklärung hinzu, basierend auf dem Code.)\n",
    "# This cell performs the following task:\n",
    "# (Add specific annotations here based on the logic in the cell)\n",
    "\n",
    "for sent in chunked_sentences:\n",
    "    for chunk in sent: \n",
    "        if hasattr(chunk,'label'): \n",
    "            print(chunk.label(), ' '.join(c[0] for c in chunk))"
   ]
  },
  {
   "cell_type": "markdown",
   "id": "c7054e34",
   "metadata": {},
   "source": [
    "#### G. Transforming that into a list and creating three different lists: 1. Person, 2. Organization, 3. GPE "
   ]
  },
  {
   "cell_type": "code",
   "execution_count": null,
   "id": "2f99664c",
   "metadata": {},
   "outputs": [],
   "source": [
    "# ANNOTATION (auf Deutsch):\n",
    "# Dieser Code führt die folgende Aufgabe aus:\n",
    "# (Fügen Sie hier eine spezifische Erklärung hinzu, basierend auf dem Code.)\n",
    "# This cell performs the following task:\n",
    "# (Add specific annotations here based on the logic in the cell)\n",
    "\n",
    "#Your code in here"
   ]
  },
  {
   "cell_type": "code",
   "execution_count": null,
   "id": "c21d8b98",
   "metadata": {},
   "outputs": [],
   "source": [
    "# ANNOTATION (auf Deutsch):\n",
    "# Dieser Code führt die folgende Aufgabe aus:\n",
    "# (Fügen Sie hier eine spezifische Erklärung hinzu, basierend auf dem Code.)\n",
    "# This cell performs the following task:\n",
    "# (Add specific annotations here based on the logic in the cell)\n",
    "\n",
    "#Solution"
   ]
  },
  {
   "cell_type": "markdown",
   "id": "3eb2e961",
   "metadata": {},
   "source": [
    "1. Creating a list"
   ]
  },
  {
   "cell_type": "code",
   "execution_count": null,
   "id": "7a0b2e24",
   "metadata": {},
   "outputs": [],
   "source": [
    "# ANNOTATION (auf Deutsch):\n",
    "# Dieser Code führt die folgende Aufgabe aus:\n",
    "# (Fügen Sie hier eine spezifische Erklärung hinzu, basierend auf dem Code.)\n",
    "# This cell performs the following task:\n",
    "# (Add specific annotations here based on the logic in the cell)\n",
    "\n",
    "chunked_sentences = nltk.ne_chunk_sents(pos_sentences) #remember to always write this again! "
   ]
  },
  {
   "cell_type": "code",
   "execution_count": null,
   "id": "0cb67286",
   "metadata": {},
   "outputs": [],
   "source": [
    "# ANNOTATION (auf Deutsch):\n",
    "# Dieser Code führt die folgende Aufgabe aus:\n",
    "# (Fügen Sie hier eine spezifische Erklärung hinzu, basierend auf dem Code.)\n",
    "# This cell performs the following task:\n",
    "# (Add specific annotations here based on the logic in the cell)\n",
    "\n",
    "named_entities = []"
   ]
  },
  {
   "cell_type": "code",
   "execution_count": null,
   "id": "6bdf94e7",
   "metadata": {},
   "outputs": [],
   "source": [
    "# ANNOTATION (auf Deutsch):\n",
    "# Dieser Code führt die folgende Aufgabe aus:\n",
    "# (Fügen Sie hier eine spezifische Erklärung hinzu, basierend auf dem Code.)\n",
    "# This cell performs the following task:\n",
    "# (Add specific annotations here based on the logic in the cell)\n",
    "\n",
    "for sent in chunked_sentences:\n",
    "    for chunk in sent:\n",
    "        if hasattr(chunk, \"label\"):\n",
    "            named_entities.append((chunk.label(), ' '.join(c[0] for c in chunk)))"
   ]
  },
  {
   "cell_type": "code",
   "execution_count": null,
   "id": "b22bb23b",
   "metadata": {},
   "outputs": [],
   "source": [
    "# ANNOTATION (auf Deutsch):\n",
    "# Dieser Code führt die folgende Aufgabe aus:\n",
    "# (Fügen Sie hier eine spezifische Erklärung hinzu, basierend auf dem Code.)\n",
    "# This cell performs the following task:\n",
    "# (Add specific annotations here based on the logic in the cell)\n",
    "\n",
    "named_entities"
   ]
  },
  {
   "cell_type": "markdown",
   "id": "24d7085b",
   "metadata": {},
   "source": [
    "2. Creating a person list"
   ]
  },
  {
   "cell_type": "code",
   "execution_count": null,
   "id": "669eeae7",
   "metadata": {},
   "outputs": [],
   "source": [
    "# ANNOTATION (auf Deutsch):\n",
    "# Dieser Code führt die folgende Aufgabe aus:\n",
    "# (Fügen Sie hier eine spezifische Erklärung hinzu, basierend auf dem Code.)\n",
    "# This cell performs the following task:\n",
    "# (Add specific annotations here based on the logic in the cell)\n",
    "\n",
    "person = []\n",
    "\n",
    "for a,b in named_entities:\n",
    "    if a == \"PERSON\":\n",
    "        person.append([a, b])"
   ]
  },
  {
   "cell_type": "code",
   "execution_count": null,
   "id": "62321bd6",
   "metadata": {},
   "outputs": [],
   "source": [
    "# ANNOTATION (auf Deutsch):\n",
    "# Dieser Code führt die folgende Aufgabe aus:\n",
    "# (Fügen Sie hier eine spezifische Erklärung hinzu, basierend auf dem Code.)\n",
    "# This cell performs the following task:\n",
    "# (Add specific annotations here based on the logic in the cell)\n",
    "\n",
    "person"
   ]
  },
  {
   "cell_type": "markdown",
   "id": "4c8759a2",
   "metadata": {},
   "source": [
    "3. Creating a GPE list"
   ]
  },
  {
   "cell_type": "code",
   "execution_count": null,
   "id": "1b268b01",
   "metadata": {},
   "outputs": [],
   "source": [
    "# ANNOTATION (auf Deutsch):\n",
    "# Dieser Code führt die folgende Aufgabe aus:\n",
    "# (Fügen Sie hier eine spezifische Erklärung hinzu, basierend auf dem Code.)\n",
    "# This cell performs the following task:\n",
    "# (Add specific annotations here based on the logic in the cell)\n",
    "\n",
    "GPE = []\n",
    "\n",
    "for a,b in named_entities:\n",
    "    if a == \"GPE\":\n",
    "        GPE.append([a, b])"
   ]
  },
  {
   "cell_type": "code",
   "execution_count": null,
   "id": "0c663cd2",
   "metadata": {},
   "outputs": [],
   "source": [
    "# ANNOTATION (auf Deutsch):\n",
    "# Dieser Code führt die folgende Aufgabe aus:\n",
    "# (Fügen Sie hier eine spezifische Erklärung hinzu, basierend auf dem Code.)\n",
    "# This cell performs the following task:\n",
    "# (Add specific annotations here based on the logic in the cell)\n",
    "\n",
    "GPE"
   ]
  },
  {
   "cell_type": "markdown",
   "id": "001dd971",
   "metadata": {},
   "source": [
    "4. Creating an organization list"
   ]
  },
  {
   "cell_type": "code",
   "execution_count": null,
   "id": "d596f356",
   "metadata": {},
   "outputs": [],
   "source": [
    "# ANNOTATION (auf Deutsch):\n",
    "# Dieser Code führt die folgende Aufgabe aus:\n",
    "# (Fügen Sie hier eine spezifische Erklärung hinzu, basierend auf dem Code.)\n",
    "# This cell performs the following task:\n",
    "# (Add specific annotations here based on the logic in the cell)\n",
    "\n",
    "organization = []\n",
    "\n",
    "for a,b in named_entities:\n",
    "    if a == \"ORGANIZATION\":\n",
    "        organization.append([a, b])"
   ]
  },
  {
   "cell_type": "code",
   "execution_count": null,
   "id": "c94791cc",
   "metadata": {},
   "outputs": [],
   "source": [
    "# ANNOTATION (auf Deutsch):\n",
    "# Dieser Code führt die folgende Aufgabe aus:\n",
    "# (Fügen Sie hier eine spezifische Erklärung hinzu, basierend auf dem Code.)\n",
    "# This cell performs the following task:\n",
    "# (Add specific annotations here based on the logic in the cell)\n",
    "\n",
    "organization"
   ]
  },
  {
   "cell_type": "markdown",
   "id": "48eec074",
   "metadata": {},
   "source": [
    "# Exercise 2: Spacy"
   ]
  },
  {
   "cell_type": "markdown",
   "id": "f6d24cbd",
   "metadata": {},
   "source": [
    "Now let's repeat the exercise with Spacy to compare the performance of both."
   ]
  },
  {
   "cell_type": "markdown",
   "id": "9b96532b",
   "metadata": {},
   "source": [
    "#### A. We import the libraries"
   ]
  },
  {
   "cell_type": "code",
   "execution_count": null,
   "id": "d13a727d",
   "metadata": {},
   "outputs": [],
   "source": [
    "# ANNOTATION (auf Deutsch):\n",
    "# Dieser Code führt die folgende Aufgabe aus:\n",
    "# (Fügen Sie hier eine spezifische Erklärung hinzu, basierend auf dem Code.)\n",
    "# This cell performs the following task:\n",
    "# (Add specific annotations here based on the logic in the cell)\n",
    "\n",
    "#Your code"
   ]
  },
  {
   "cell_type": "code",
   "execution_count": null,
   "id": "748bf4a4",
   "metadata": {},
   "outputs": [],
   "source": [
    "# ANNOTATION (auf Deutsch):\n",
    "# Dieser Code führt die folgende Aufgabe aus:\n",
    "# (Fügen Sie hier eine spezifische Erklärung hinzu, basierend auf dem Code.)\n",
    "# This cell performs the following task:\n",
    "# (Add specific annotations here based on the logic in the cell)\n",
    "\n",
    "#Solution\n",
    "import spacy"
   ]
  },
  {
   "cell_type": "markdown",
   "id": "af26b1b1",
   "metadata": {},
   "source": [
    "#### B. We download the French SPACY pipeline and we inspect the entity labels"
   ]
  },
  {
   "cell_type": "markdown",
   "id": "8ce1db2f",
   "metadata": {},
   "source": [
    "You may need to do this (remove the #symbol)"
   ]
  },
  {
   "cell_type": "code",
   "execution_count": null,
   "id": "cab26d18",
   "metadata": {},
   "outputs": [],
   "source": [
    "# ANNOTATION (auf Deutsch):\n",
    "# Dieser Code führt die folgende Aufgabe aus:\n",
    "# (Fügen Sie hier eine spezifische Erklärung hinzu, basierend auf dem Code.)\n",
    "# This cell performs the following task:\n",
    "# (Add specific annotations here based on the logic in the cell)\n",
    "\n",
    "#!python -m spacy download fr_core_news_sm"
   ]
  },
  {
   "cell_type": "code",
   "execution_count": null,
   "id": "0472ee8f",
   "metadata": {},
   "outputs": [],
   "source": [
    "# ANNOTATION (auf Deutsch):\n",
    "# Dieser Code führt die folgende Aufgabe aus:\n",
    "# (Fügen Sie hier eine spezifische Erklärung hinzu, basierend auf dem Code.)\n",
    "# This cell performs the following task:\n",
    "# (Add specific annotations here based on the logic in the cell)\n",
    "\n",
    "#Your code"
   ]
  },
  {
   "cell_type": "code",
   "execution_count": null,
   "id": "6ad6bb8e",
   "metadata": {},
   "outputs": [],
   "source": [
    "# ANNOTATION (auf Deutsch):\n",
    "# Dieser Code führt die folgende Aufgabe aus:\n",
    "# (Fügen Sie hier eine spezifische Erklärung hinzu, basierend auf dem Code.)\n",
    "# This cell performs the following task:\n",
    "# (Add specific annotations here based on the logic in the cell)\n",
    "\n",
    "#Solution\n",
    "nlp = spacy.load(\"en_core_web_sm\")"
   ]
  },
  {
   "cell_type": "code",
   "execution_count": null,
   "id": "cce37ae7",
   "metadata": {},
   "outputs": [],
   "source": [
    "# ANNOTATION (auf Deutsch):\n",
    "# Dieser Code führt die folgende Aufgabe aus:\n",
    "# (Fügen Sie hier eine spezifische Erklärung hinzu, basierend auf dem Code.)\n",
    "# This cell performs the following task:\n",
    "# (Add specific annotations here based on the logic in the cell)\n",
    "\n",
    "nlp.get_pipe('ner').labels"
   ]
  },
  {
   "cell_type": "markdown",
   "id": "1e9f32e0",
   "metadata": {},
   "source": [
    "#### C. We initialize the NLP object"
   ]
  },
  {
   "cell_type": "code",
   "execution_count": null,
   "id": "a33e0dd0",
   "metadata": {},
   "outputs": [],
   "source": [
    "# ANNOTATION (auf Deutsch):\n",
    "# Dieser Code führt die folgende Aufgabe aus:\n",
    "# (Fügen Sie hier eine spezifische Erklärung hinzu, basierend auf dem Code.)\n",
    "# This cell performs the following task:\n",
    "# (Add specific annotations here based on the logic in the cell)\n",
    "\n",
    "#Your code in here"
   ]
  },
  {
   "cell_type": "code",
   "execution_count": null,
   "id": "d64ae158",
   "metadata": {},
   "outputs": [],
   "source": [
    "# ANNOTATION (auf Deutsch):\n",
    "# Dieser Code führt die folgende Aufgabe aus:\n",
    "# (Fügen Sie hier eine spezifische Erklärung hinzu, basierend auf dem Code.)\n",
    "# This cell performs the following task:\n",
    "# (Add specific annotations here based on the logic in the cell)\n",
    "\n",
    "#Solution\n",
    "doc = nlp(data)"
   ]
  },
  {
   "cell_type": "markdown",
   "id": "a556708e",
   "metadata": {},
   "source": [
    "#### D. We create a list with the entities"
   ]
  },
  {
   "cell_type": "code",
   "execution_count": null,
   "id": "fb3aebd2",
   "metadata": {},
   "outputs": [],
   "source": [
    "# ANNOTATION (auf Deutsch):\n",
    "# Dieser Code führt die folgende Aufgabe aus:\n",
    "# (Fügen Sie hier eine spezifische Erklärung hinzu, basierend auf dem Code.)\n",
    "# This cell performs the following task:\n",
    "# (Add specific annotations here based on the logic in the cell)\n",
    "\n",
    "#Your code in here"
   ]
  },
  {
   "cell_type": "code",
   "execution_count": null,
   "id": "6bceee2c",
   "metadata": {},
   "outputs": [],
   "source": [
    "# ANNOTATION (auf Deutsch):\n",
    "# Dieser Code führt die folgende Aufgabe aus:\n",
    "# (Fügen Sie hier eine spezifische Erklärung hinzu, basierend auf dem Code.)\n",
    "# This cell performs the following task:\n",
    "# (Add specific annotations here based on the logic in the cell)\n",
    "\n",
    "#Solution\n",
    "named_entities = []\n",
    "\n",
    "for ent in doc.ents:\n",
    "    named_entities.append([ent.text, ent.label_])"
   ]
  },
  {
   "cell_type": "code",
   "execution_count": null,
   "id": "d4666314",
   "metadata": {},
   "outputs": [],
   "source": [
    "# ANNOTATION (auf Deutsch):\n",
    "# Dieser Code führt die folgende Aufgabe aus:\n",
    "# (Fügen Sie hier eine spezifische Erklärung hinzu, basierend auf dem Code.)\n",
    "# This cell performs the following task:\n",
    "# (Add specific annotations here based on the logic in the cell)\n",
    "\n",
    "named_entities"
   ]
  },
  {
   "cell_type": "markdown",
   "id": "19e8e078",
   "metadata": {},
   "source": [
    "#### E. We create three lists: one with person (PERSON), one with Geopolitical Entities (GPE), one with Organization (ORG)."
   ]
  },
  {
   "cell_type": "code",
   "execution_count": null,
   "id": "50b856c5",
   "metadata": {},
   "outputs": [],
   "source": [
    "# ANNOTATION (auf Deutsch):\n",
    "# Dieser Code führt die folgende Aufgabe aus:\n",
    "# (Fügen Sie hier eine spezifische Erklärung hinzu, basierend auf dem Code.)\n",
    "# This cell performs the following task:\n",
    "# (Add specific annotations here based on the logic in the cell)\n",
    "\n",
    "#Your code in here"
   ]
  },
  {
   "cell_type": "code",
   "execution_count": null,
   "id": "bfcfbc65",
   "metadata": {},
   "outputs": [],
   "source": [
    "# ANNOTATION (auf Deutsch):\n",
    "# Dieser Code führt die folgende Aufgabe aus:\n",
    "# (Fügen Sie hier eine spezifische Erklärung hinzu, basierend auf dem Code.)\n",
    "# This cell performs the following task:\n",
    "# (Add specific annotations here based on the logic in the cell)\n",
    "\n",
    "#Solution\n",
    "person = []\n",
    "\n",
    "for ent in doc.ents:\n",
    "    if ent.label_ == \"PERSON\":\n",
    "        person.append([ent.text, ent.label_])"
   ]
  },
  {
   "cell_type": "code",
   "execution_count": null,
   "id": "92432fe0",
   "metadata": {},
   "outputs": [],
   "source": [
    "# ANNOTATION (auf Deutsch):\n",
    "# Dieser Code führt die folgende Aufgabe aus:\n",
    "# (Fügen Sie hier eine spezifische Erklärung hinzu, basierend auf dem Code.)\n",
    "# This cell performs the following task:\n",
    "# (Add specific annotations here based on the logic in the cell)\n",
    "\n",
    "person"
   ]
  },
  {
   "cell_type": "code",
   "execution_count": null,
   "id": "f586fe2c",
   "metadata": {},
   "outputs": [],
   "source": [
    "# ANNOTATION (auf Deutsch):\n",
    "# Dieser Code führt die folgende Aufgabe aus:\n",
    "# (Fügen Sie hier eine spezifische Erklärung hinzu, basierend auf dem Code.)\n",
    "# This cell performs the following task:\n",
    "# (Add specific annotations here based on the logic in the cell)\n",
    "\n",
    "#Solution\n",
    "GPE = []\n",
    "\n",
    "for ent in doc.ents:\n",
    "    if ent.label_ == \"GPE\":\n",
    "        GPE.append([ent.text, ent.label_])"
   ]
  },
  {
   "cell_type": "code",
   "execution_count": null,
   "id": "5d65da9e",
   "metadata": {},
   "outputs": [],
   "source": [
    "# ANNOTATION (auf Deutsch):\n",
    "# Dieser Code führt die folgende Aufgabe aus:\n",
    "# (Fügen Sie hier eine spezifische Erklärung hinzu, basierend auf dem Code.)\n",
    "# This cell performs the following task:\n",
    "# (Add specific annotations here based on the logic in the cell)\n",
    "\n",
    "GPE"
   ]
  },
  {
   "cell_type": "code",
   "execution_count": null,
   "id": "7b7735ec",
   "metadata": {},
   "outputs": [],
   "source": [
    "# ANNOTATION (auf Deutsch):\n",
    "# Dieser Code führt die folgende Aufgabe aus:\n",
    "# (Fügen Sie hier eine spezifische Erklärung hinzu, basierend auf dem Code.)\n",
    "# This cell performs the following task:\n",
    "# (Add specific annotations here based on the logic in the cell)\n",
    "\n",
    "org = []\n",
    "\n",
    "for ent in doc.ents:\n",
    "    if ent.label_ == \"ORG\":\n",
    "        org.append([ent.text, ent.label_])"
   ]
  },
  {
   "cell_type": "code",
   "execution_count": null,
   "id": "0fad5f00",
   "metadata": {},
   "outputs": [],
   "source": [
    "# ANNOTATION (auf Deutsch):\n",
    "# Dieser Code führt die folgende Aufgabe aus:\n",
    "# (Fügen Sie hier eine spezifische Erklärung hinzu, basierend auf dem Code.)\n",
    "# This cell performs the following task:\n",
    "# (Add specific annotations here based on the logic in the cell)\n",
    "\n",
    "org"
   ]
  },
  {
   "cell_type": "markdown",
   "id": "e0e43f48",
   "metadata": {},
   "source": [
    "So: once again we see that Spacy really outperforms NLTK!"
   ]
  },
  {
   "cell_type": "markdown",
   "id": "ab908622",
   "metadata": {},
   "source": [
    "### Content from: PDF text extraction.ipynb"
   ]
  },
  {
   "cell_type": "markdown",
   "id": "f1ff5f8c",
   "metadata": {},
   "source": [
    "#### Annotation:\n",
    "This section includes the content and logic from the original notebook. Annotations have been added to explain the purpose and function of each code cell."
   ]
  },
  {
   "cell_type": "markdown",
   "id": "5fed1e21",
   "metadata": {},
   "source": [
    "Script source: many queries to Perplexity AI (https://www.perplexity.ai/)"
   ]
  },
  {
   "cell_type": "markdown",
   "id": "f29ba659",
   "metadata": {},
   "source": [
    "# 1. We import the libraries"
   ]
  },
  {
   "cell_type": "markdown",
   "id": "23e865e4",
   "metadata": {},
   "source": [
    "We install the library"
   ]
  },
  {
   "cell_type": "code",
   "execution_count": null,
   "id": "a6913cbc",
   "metadata": {},
   "outputs": [],
   "source": [
    "# ANNOTATION (auf Deutsch):\n",
    "# Dieser Code führt die folgende Aufgabe aus:\n",
    "# (Fügen Sie hier eine spezifische Erklärung hinzu, basierend auf dem Code.)\n",
    "# This cell performs the following task:\n",
    "# (Add specific annotations here based on the logic in the cell)\n",
    "\n",
    "pip install PyPDF2"
   ]
  },
  {
   "cell_type": "markdown",
   "id": "bf8ae705",
   "metadata": {},
   "source": [
    "And then we import it"
   ]
  },
  {
   "cell_type": "code",
   "execution_count": null,
   "id": "338a93ba",
   "metadata": {},
   "outputs": [],
   "source": [
    "# ANNOTATION (auf Deutsch):\n",
    "# Dieser Code führt die folgende Aufgabe aus:\n",
    "# (Fügen Sie hier eine spezifische Erklärung hinzu, basierend auf dem Code.)\n",
    "# This cell performs the following task:\n",
    "# (Add specific annotations here based on the logic in the cell)\n",
    "\n",
    "import PyPDF2"
   ]
  },
  {
   "cell_type": "markdown",
   "id": "b5b90ddd",
   "metadata": {},
   "source": [
    "We also import pandas"
   ]
  },
  {
   "cell_type": "code",
   "execution_count": null,
   "id": "eda27cb8",
   "metadata": {},
   "outputs": [],
   "source": [
    "# ANNOTATION (auf Deutsch):\n",
    "# Dieser Code führt die folgende Aufgabe aus:\n",
    "# (Fügen Sie hier eine spezifische Erklärung hinzu, basierend auf dem Code.)\n",
    "# This cell performs the following task:\n",
    "# (Add specific annotations here based on the logic in the cell)\n",
    "\n",
    "import pandas as pd"
   ]
  },
  {
   "cell_type": "markdown",
   "id": "5a5dd476",
   "metadata": {},
   "source": [
    "And the Operative System Library"
   ]
  },
  {
   "cell_type": "code",
   "execution_count": null,
   "id": "040e30e7",
   "metadata": {},
   "outputs": [],
   "source": [
    "# ANNOTATION (auf Deutsch):\n",
    "# Dieser Code führt die folgende Aufgabe aus:\n",
    "# (Fügen Sie hier eine spezifische Erklärung hinzu, basierend auf dem Code.)\n",
    "# This cell performs the following task:\n",
    "# (Add specific annotations here based on the logic in the cell)\n",
    "\n",
    "import os"
   ]
  },
  {
   "cell_type": "markdown",
   "id": "651f164b",
   "metadata": {},
   "source": [
    "# 2. We extract the text from the PDF"
   ]
  },
  {
   "cell_type": "markdown",
   "id": "e4c47e65",
   "metadata": {},
   "source": [
    "Let's select the PDF 2412.18779 that we have in our directory"
   ]
  },
  {
   "cell_type": "code",
   "execution_count": null,
   "id": "4d004f28",
   "metadata": {},
   "outputs": [],
   "source": [
    "# ANNOTATION (auf Deutsch):\n",
    "# Dieser Code führt die folgende Aufgabe aus:\n",
    "# (Fügen Sie hier eine spezifische Erklärung hinzu, basierend auf dem Code.)\n",
    "# This cell performs the following task:\n",
    "# (Add specific annotations here based on the logic in the cell)\n",
    "\n",
    "#Create empty list\n",
    "text = []\n",
    "\n",
    "# Open the PDF file\n",
    "with open('2412.18779.pdf', 'rb') as file:\n",
    "    # Create a PDF reader object\n",
    "    pdf_reader = PyPDF2.PdfReader(file)\n",
    "\n",
    "    # Get the number of pages in the PDF\n",
    "    num_pages = len(pdf_reader.pages)\n",
    "\n",
    "    # Initialize an empty string to store the extracted text\n",
    "    extracted_text = ''\n",
    "\n",
    "    # Loop through each page and extract the text\n",
    "    for page_num in range(num_pages):\n",
    "        page = pdf_reader.pages[page_num]\n",
    "        extracted_text += page.extract_text()"
   ]
  },
  {
   "cell_type": "code",
   "execution_count": null,
   "id": "0fb5d7c4",
   "metadata": {},
   "outputs": [],
   "source": [
    "# ANNOTATION (auf Deutsch):\n",
    "# Dieser Code führt die folgende Aufgabe aus:\n",
    "# (Fügen Sie hier eine spezifische Erklärung hinzu, basierend auf dem Code.)\n",
    "# This cell performs the following task:\n",
    "# (Add specific annotations here based on the logic in the cell)\n",
    "\n",
    "# Append the extracted text\n",
    "text.append(extracted_text)"
   ]
  },
  {
   "cell_type": "code",
   "execution_count": null,
   "id": "1205b88c",
   "metadata": {},
   "outputs": [],
   "source": [
    "# ANNOTATION (auf Deutsch):\n",
    "# Dieser Code führt die folgende Aufgabe aus:\n",
    "# (Fügen Sie hier eine spezifische Erklärung hinzu, basierend auf dem Code.)\n",
    "# This cell performs the following task:\n",
    "# (Add specific annotations here based on the logic in the cell)\n",
    "\n",
    "text"
   ]
  },
  {
   "cell_type": "markdown",
   "id": "99d2ea60",
   "metadata": {},
   "source": [
    "# 3. We do that we with all our files"
   ]
  },
  {
   "cell_type": "markdown",
   "id": "30a4b578",
   "metadata": {},
   "source": [
    "I have done a new query at the Arxiv notebook (check the notebook in this same folder!) using the term **Facebook**. Let's locate the directory."
   ]
  },
  {
   "cell_type": "code",
   "execution_count": null,
   "id": "75b82265",
   "metadata": {},
   "outputs": [],
   "source": [
    "# ANNOTATION (auf Deutsch):\n",
    "# Dieser Code führt die folgende Aufgabe aus:\n",
    "# (Fügen Sie hier eine spezifische Erklärung hinzu, basierend auf dem Code.)\n",
    "# This cell performs the following task:\n",
    "# (Add specific annotations here based on the logic in the cell)\n",
    "\n",
    "pwd"
   ]
  },
  {
   "cell_type": "markdown",
   "id": "9ac734fe",
   "metadata": {},
   "source": [
    "Now let's open it"
   ]
  },
  {
   "cell_type": "code",
   "execution_count": null,
   "id": "ff13e310",
   "metadata": {},
   "outputs": [],
   "source": [
    "# ANNOTATION (auf Deutsch):\n",
    "# Dieser Code führt die folgende Aufgabe aus:\n",
    "# (Fügen Sie hier eine spezifische Erklärung hinzu, basierend auf dem Code.)\n",
    "# This cell performs the following task:\n",
    "# (Add specific annotations here based on the logic in the cell)\n",
    "\n",
    "# Set the directory path where the PDF files are located\n",
    "pdf_dir = 'C:\\\\Users\\\\usuario\\\\ELENA\\\\it-training uzh\\\\it-training uzh\\\\Python for Digital Humanities\\\\Day 2\\\\PDF extraction\\\\arxiv_pdfs_facebook'\n",
    "\n",
    "# Get a list of all files in the directory\n",
    "all_files = os.listdir(pdf_dir)"
   ]
  },
  {
   "cell_type": "code",
   "execution_count": null,
   "id": "abb5b062",
   "metadata": {},
   "outputs": [],
   "source": [
    "# ANNOTATION (auf Deutsch):\n",
    "# Dieser Code führt die folgende Aufgabe aus:\n",
    "# (Fügen Sie hier eine spezifische Erklärung hinzu, basierend auf dem Code.)\n",
    "# This cell performs the following task:\n",
    "# (Add specific annotations here based on the logic in the cell)\n",
    "\n",
    "all_files"
   ]
  },
  {
   "cell_type": "markdown",
   "id": "668fb453",
   "metadata": {},
   "source": [
    "There we have our files!"
   ]
  },
  {
   "cell_type": "markdown",
   "id": "7f3c919c",
   "metadata": {},
   "source": [
    "Now let's extract all the text inside them."
   ]
  },
  {
   "cell_type": "code",
   "execution_count": null,
   "id": "de3fc231",
   "metadata": {},
   "outputs": [],
   "source": [
    "# ANNOTATION (auf Deutsch):\n",
    "# Dieser Code führt die folgende Aufgabe aus:\n",
    "# (Fügen Sie hier eine spezifische Erklärung hinzu, basierend auf dem Code.)\n",
    "# This cell performs the following task:\n",
    "# (Add specific annotations here based on the logic in the cell)\n",
    "\n",
    "# Loop through each PDF file\n",
    "extracted_texts = []\n",
    "\n",
    "for file in all_files:\n",
    "    file_path = os.path.join(pdf_dir, file)  # Specify the directory where the files are located\n",
    "    with open(file_path, 'rb') as pdf_file:\n",
    "        # Create a PDF reader object\n",
    "        pdf_reader = PyPDF2.PdfReader(pdf_file)\n",
    "\n",
    "        # Get the number of pages in the PDF\n",
    "        num_pages = len(pdf_reader.pages)\n",
    "\n",
    "        # Initialize an empty string to store the extracted text\n",
    "        extracted_text = ''\n",
    "\n",
    "        # Loop through each page and extract the text\n",
    "        for page_num in range(num_pages):\n",
    "            page = pdf_reader.pages[page_num]\n",
    "            extracted_text += page.extract_text()\n",
    "    \n",
    "    # Add the extracted text to the list\n",
    "    extracted_texts.append(['Doc ' + file, extracted_text])"
   ]
  },
  {
   "cell_type": "code",
   "execution_count": null,
   "id": "488f0005",
   "metadata": {},
   "outputs": [],
   "source": [
    "# ANNOTATION (auf Deutsch):\n",
    "# Dieser Code führt die folgende Aufgabe aus:\n",
    "# (Fügen Sie hier eine spezifische Erklärung hinzu, basierend auf dem Code.)\n",
    "# This cell performs the following task:\n",
    "# (Add specific annotations here based on the logic in the cell)\n",
    "\n",
    "extracted_texts[0:1]"
   ]
  },
  {
   "cell_type": "code",
   "execution_count": null,
   "id": "a2acf8c4",
   "metadata": {},
   "outputs": [],
   "source": [
    "# ANNOTATION (auf Deutsch):\n",
    "# Dieser Code führt die folgende Aufgabe aus:\n",
    "# (Fügen Sie hier eine spezifische Erklärung hinzu, basierend auf dem Code.)\n",
    "# This cell performs the following task:\n",
    "# (Add specific annotations here based on the logic in the cell)\n",
    "\n",
    "extracted_texts[1:2]"
   ]
  },
  {
   "cell_type": "markdown",
   "id": "f69b8df9",
   "metadata": {},
   "source": [
    "# 4. We save that into our computer"
   ]
  },
  {
   "cell_type": "markdown",
   "id": "74887289",
   "metadata": {},
   "source": [
    "First we extract the headers"
   ]
  },
  {
   "cell_type": "code",
   "execution_count": null,
   "id": "121b5063",
   "metadata": {},
   "outputs": [],
   "source": [
    "# ANNOTATION (auf Deutsch):\n",
    "# Dieser Code führt die folgende Aufgabe aus:\n",
    "# (Fügen Sie hier eine spezifische Erklärung hinzu, basierend auf dem Code.)\n",
    "# This cell performs the following task:\n",
    "# (Add specific annotations here based on the logic in the cell)\n",
    "\n",
    "headers = [item[0] for item in extracted_texts]"
   ]
  },
  {
   "cell_type": "code",
   "execution_count": null,
   "id": "2b019fbc",
   "metadata": {},
   "outputs": [],
   "source": [
    "# ANNOTATION (auf Deutsch):\n",
    "# Dieser Code führt die folgende Aufgabe aus:\n",
    "# (Fügen Sie hier eine spezifische Erklärung hinzu, basierend auf dem Code.)\n",
    "# This cell performs the following task:\n",
    "# (Add specific annotations here based on the logic in the cell)\n",
    "\n",
    "headers"
   ]
  },
  {
   "cell_type": "code",
   "execution_count": null,
   "id": "6b99b0a9",
   "metadata": {},
   "outputs": [],
   "source": [
    "# ANNOTATION (auf Deutsch):\n",
    "# Dieser Code führt die folgende Aufgabe aus:\n",
    "# (Fügen Sie hier eine spezifische Erklärung hinzu, basierend auf dem Code.)\n",
    "# This cell performs the following task:\n",
    "# (Add specific annotations here based on the logic in the cell)\n",
    "\n",
    "len(headers)"
   ]
  },
  {
   "cell_type": "markdown",
   "id": "aaf61d6a",
   "metadata": {},
   "source": [
    "And now we extract the text of the articles"
   ]
  },
  {
   "cell_type": "code",
   "execution_count": null,
   "id": "7fe2316b",
   "metadata": {},
   "outputs": [],
   "source": [
    "# ANNOTATION (auf Deutsch):\n",
    "# Dieser Code führt die folgende Aufgabe aus:\n",
    "# (Fügen Sie hier eine spezifische Erklärung hinzu, basierend auf dem Code.)\n",
    "# This cell performs the following task:\n",
    "# (Add specific annotations here based on the logic in the cell)\n",
    "\n",
    "text_elements = [item[1] for item in extracted_texts]"
   ]
  },
  {
   "cell_type": "code",
   "execution_count": null,
   "id": "437b7e11",
   "metadata": {},
   "outputs": [],
   "source": [
    "# ANNOTATION (auf Deutsch):\n",
    "# Dieser Code führt die folgende Aufgabe aus:\n",
    "# (Fügen Sie hier eine spezifische Erklärung hinzu, basierend auf dem Code.)\n",
    "# This cell performs the following task:\n",
    "# (Add specific annotations here based on the logic in the cell)\n",
    "\n",
    "text_elements"
   ]
  },
  {
   "cell_type": "code",
   "execution_count": null,
   "id": "244ee8f9",
   "metadata": {},
   "outputs": [],
   "source": [
    "# ANNOTATION (auf Deutsch):\n",
    "# Dieser Code führt die folgende Aufgabe aus:\n",
    "# (Fügen Sie hier eine spezifische Erklärung hinzu, basierend auf dem Code.)\n",
    "# This cell performs the following task:\n",
    "# (Add specific annotations here based on the logic in the cell)\n",
    "\n",
    "len(text_elements)"
   ]
  },
  {
   "cell_type": "markdown",
   "id": "0f3cf592",
   "metadata": {},
   "source": [
    "Now we create a Pandas DataFrame"
   ]
  },
  {
   "cell_type": "code",
   "execution_count": null,
   "id": "0f1cff77",
   "metadata": {},
   "outputs": [],
   "source": [
    "# ANNOTATION (auf Deutsch):\n",
    "# Dieser Code führt die folgende Aufgabe aus:\n",
    "# (Fügen Sie hier eine spezifische Erklärung hinzu, basierend auf dem Code.)\n",
    "# This cell performs the following task:\n",
    "# (Add specific annotations here based on the logic in the cell)\n",
    "\n",
    "data = pd.DataFrame(headers, columns = [\"Title\"])"
   ]
  },
  {
   "cell_type": "code",
   "execution_count": null,
   "id": "e6007f74",
   "metadata": {},
   "outputs": [],
   "source": [
    "# ANNOTATION (auf Deutsch):\n",
    "# Dieser Code führt die folgende Aufgabe aus:\n",
    "# (Fügen Sie hier eine spezifische Erklärung hinzu, basierend auf dem Code.)\n",
    "# This cell performs the following task:\n",
    "# (Add specific annotations here based on the logic in the cell)\n",
    "\n",
    "data[\"Text\"] = text_elements"
   ]
  },
  {
   "cell_type": "code",
   "execution_count": null,
   "id": "2c581058",
   "metadata": {},
   "outputs": [],
   "source": [
    "# ANNOTATION (auf Deutsch):\n",
    "# Dieser Code führt die folgende Aufgabe aus:\n",
    "# (Fügen Sie hier eine spezifische Erklärung hinzu, basierend auf dem Code.)\n",
    "# This cell performs the following task:\n",
    "# (Add specific annotations here based on the logic in the cell)\n",
    "\n",
    "data"
   ]
  },
  {
   "cell_type": "markdown",
   "id": "0b48763a",
   "metadata": {},
   "source": [
    "And finally we save it into our laptop"
   ]
  },
  {
   "cell_type": "code",
   "execution_count": null,
   "id": "404dc988",
   "metadata": {},
   "outputs": [],
   "source": [
    "# ANNOTATION (auf Deutsch):\n",
    "# Dieser Code führt die folgende Aufgabe aus:\n",
    "# (Fügen Sie hier eine spezifische Erklärung hinzu, basierend auf dem Code.)\n",
    "# This cell performs the following task:\n",
    "# (Add specific annotations here based on the logic in the cell)\n",
    "\n",
    "data.to_csv(\"pdf_facebook.csv\")"
   ]
  },
  {
   "cell_type": "markdown",
   "id": "fc5f1901",
   "metadata": {},
   "source": [
    "# EXERCISE"
   ]
  },
  {
   "cell_type": "markdown",
   "id": "6cba26d0",
   "metadata": {},
   "source": [
    "Now let's create a new corpus of PDFs from ArXiv to use in our future data analysis"
   ]
  },
  {
   "cell_type": "markdown",
   "id": "2a418c42",
   "metadata": {},
   "source": [
    "* In this same folder you will find a notebook containing code to do an ArXiv query. So far we have used the key terms \"twitter\" and \"facebook\". Try doing a new one using a key term that is interesting to you. If you would like to use two words (Mark Zuckerberg, Climate Change, Donald Trump...) use this syntax: '\"climate change\"' (quotations inside quotations).\n",
    "\n",
    "* Now that you have your data, **duplicate this notebook** to have an extra copy of your code. Call the new version \"PDF text extraction EXERCISE\".\n",
    "\n",
    "* Once you have dubplicated your notebook and acquired your data, then first extract the text of one PDF (just like we do in here). Remember to change the name to the new file!\n",
    "\n",
    "* Then repeat the process with the whole folder. Remember to: \n",
    "                * Change the name of the folder in path_dir\n",
    "                * Change the name of the csv data folder containing your data to not overwrite your previous data."
   ]
  },
  {
   "cell_type": "markdown",
   "id": "c04d5ce2",
   "metadata": {},
   "source": [
    "### Content from: Exercise Getting Data from Arxiv-2.ipynb"
   ]
  },
  {
   "cell_type": "markdown",
   "id": "b23e02d9",
   "metadata": {},
   "source": [
    "#### Annotation:\n",
    "This section includes the content and logic from the original notebook. Annotations have been added to explain the purpose and function of each code cell."
   ]
  },
  {
   "cell_type": "markdown",
   "id": "f351e15e",
   "metadata": {},
   "source": [
    "# Accesing *ArXiv*\n",
    "\n",
    "## Elena Fernández Fernández"
   ]
  },
  {
   "cell_type": "markdown",
   "id": "0b8ba42c",
   "metadata": {},
   "source": [
    "Let's use **again** the ArXiv API to do a new query: https://pypi.org/project/arxiv/"
   ]
  },
  {
   "cell_type": "markdown",
   "id": "5143a873",
   "metadata": {},
   "source": [
    "# ArXiv API"
   ]
  },
  {
   "cell_type": "markdown",
   "id": "b17b837a",
   "metadata": {},
   "source": [
    "First let's import the libraries"
   ]
  },
  {
   "cell_type": "code",
   "execution_count": null,
   "id": "e0a2ffcf",
   "metadata": {},
   "outputs": [],
   "source": [
    "# ANNOTATION (auf Deutsch):\n",
    "# Dieser Code führt die folgende Aufgabe aus:\n",
    "# (Fügen Sie hier eine spezifische Erklärung hinzu, basierend auf dem Code.)\n",
    "# This cell performs the following task:\n",
    "# (Add specific annotations here based on the logic in the cell)\n",
    "\n",
    "import arxiv\n",
    "import time\n",
    "import os\n",
    "import urllib.request\n",
    "from urllib.request import urlopen"
   ]
  },
  {
   "cell_type": "markdown",
   "id": "7be4941d",
   "metadata": {},
   "source": [
    "Let's build a query"
   ]
  },
  {
   "cell_type": "code",
   "execution_count": null,
   "id": "e2d73931",
   "metadata": {},
   "outputs": [],
   "source": [
    "# ANNOTATION (auf Deutsch):\n",
    "# Dieser Code führt die folgende Aufgabe aus:\n",
    "# (Fügen Sie hier eine spezifische Erklärung hinzu, basierend auf dem Code.)\n",
    "# This cell performs the following task:\n",
    "# (Add specific annotations here based on the logic in the cell)\n",
    "\n",
    "# Construct the default API client.\n",
    "client = arxiv.Client()"
   ]
  },
  {
   "cell_type": "markdown",
   "id": "649a5112",
   "metadata": {},
   "source": [
    "And let's extract the 50 most recent Twitter ArXiv articles"
   ]
  },
  {
   "cell_type": "code",
   "execution_count": null,
   "id": "53152ba5",
   "metadata": {},
   "outputs": [],
   "source": [
    "# ANNOTATION (auf Deutsch):\n",
    "# Dieser Code führt die folgende Aufgabe aus:\n",
    "# (Fügen Sie hier eine spezifische Erklärung hinzu, basierend auf dem Code.)\n",
    "# This cell performs the following task:\n",
    "# (Add specific annotations here based on the logic in the cell)\n",
    "\n",
    "# Search for the 50 most recent articles matching the keyword \"facebook\"\n",
    "search = arxiv.Search(\n",
    "  query = 'facebook', #if we want to do a query that contains two terms we need to add double quotation marks. For exampke: '\"climate change\"'\n",
    "  max_results = 50,\n",
    "  sort_by = arxiv.SortCriterion.SubmittedDate\n",
    ")"
   ]
  },
  {
   "cell_type": "code",
   "execution_count": null,
   "id": "bfcb2e14",
   "metadata": {},
   "outputs": [],
   "source": [
    "# ANNOTATION (auf Deutsch):\n",
    "# Dieser Code führt die folgende Aufgabe aus:\n",
    "# (Fügen Sie hier eine spezifische Erklärung hinzu, basierend auf dem Code.)\n",
    "# This cell performs the following task:\n",
    "# (Add specific annotations here based on the logic in the cell)\n",
    "\n",
    "results = client.results(search)"
   ]
  },
  {
   "cell_type": "code",
   "execution_count": null,
   "id": "0560c00a",
   "metadata": {},
   "outputs": [],
   "source": [
    "# ANNOTATION (auf Deutsch):\n",
    "# Dieser Code führt die folgende Aufgabe aus:\n",
    "# (Fügen Sie hier eine spezifische Erklärung hinzu, basierend auf dem Code.)\n",
    "# This cell performs the following task:\n",
    "# (Add specific annotations here based on the logic in the cell)\n",
    "\n",
    "print(results)"
   ]
  },
  {
   "cell_type": "markdown",
   "id": "8465f7c6",
   "metadata": {},
   "source": [
    "Ok, so now let's first have a look at the titles. "
   ]
  },
  {
   "cell_type": "code",
   "execution_count": null,
   "id": "8ebd1155",
   "metadata": {},
   "outputs": [],
   "source": [
    "# ANNOTATION (auf Deutsch):\n",
    "# Dieser Code führt die folgende Aufgabe aus:\n",
    "# (Fügen Sie hier eine spezifische Erklärung hinzu, basierend auf dem Code.)\n",
    "# This cell performs the following task:\n",
    "# (Add specific annotations here based on the logic in the cell)\n",
    "\n",
    "for r in client.results(search):\n",
    "    print(r.title)"
   ]
  },
  {
   "cell_type": "markdown",
   "id": "afd70845",
   "metadata": {},
   "source": [
    "And now, if we compare that with the actual ArXiv website, it looks correct: https://arxiv.org/search/cs?query=twitter&searchtype=all&abstracts=show&order=-announced_date_first&size=50"
   ]
  },
  {
   "cell_type": "markdown",
   "id": "90af6365",
   "metadata": {},
   "source": [
    "Now let's begin saving the first pdf in that list in our laptop."
   ]
  },
  {
   "cell_type": "code",
   "execution_count": null,
   "id": "114f40f9",
   "metadata": {},
   "outputs": [],
   "source": [
    "# ANNOTATION (auf Deutsch):\n",
    "# Dieser Code führt die folgende Aufgabe aus:\n",
    "# (Fügen Sie hier eine spezifische Erklärung hinzu, basierend auf dem Code.)\n",
    "# This cell performs the following task:\n",
    "# (Add specific annotations here based on the logic in the cell)\n",
    "\n",
    "paper = next(arxiv.Client().results(arxiv.Search(id_list = [\"2412.18779\"])))\n",
    "# Download the PDF to the PWD with a default filename.\n",
    "paper.download_pdf()"
   ]
  },
  {
   "cell_type": "code",
   "execution_count": null,
   "id": "18f3400f",
   "metadata": {},
   "outputs": [],
   "source": [
    "# ANNOTATION (auf Deutsch):\n",
    "# Dieser Code führt die folgende Aufgabe aus:\n",
    "# (Fügen Sie hier eine spezifische Erklärung hinzu, basierend auf dem Code.)\n",
    "# This cell performs the following task:\n",
    "# (Add specific annotations here based on the logic in the cell)\n",
    "\n",
    "# Download the PDF to the PWD with a custom filename.\n",
    "paper.download_pdf(filename = \"2412.18779.pdf\")"
   ]
  },
  {
   "cell_type": "code",
   "execution_count": null,
   "id": "1de1f658",
   "metadata": {},
   "outputs": [],
   "source": [
    "# ANNOTATION (auf Deutsch):\n",
    "# Dieser Code führt die folgende Aufgabe aus:\n",
    "# (Fügen Sie hier eine spezifische Erklärung hinzu, basierend auf dem Code.)\n",
    "# This cell performs the following task:\n",
    "# (Add specific annotations here based on the logic in the cell)\n",
    "\n",
    "pwd"
   ]
  },
  {
   "cell_type": "markdown",
   "id": "ca64109d",
   "metadata": {},
   "source": [
    "And now we need to create a folder in our directory. Remember that we can also do that using bash commands here in Jupyter Notebooks. "
   ]
  },
  {
   "cell_type": "code",
   "execution_count": null,
   "id": "cd4b6b02",
   "metadata": {},
   "outputs": [],
   "source": [
    "# ANNOTATION (auf Deutsch):\n",
    "# Dieser Code führt die folgende Aufgabe aus:\n",
    "# (Fügen Sie hier eine spezifische Erklärung hinzu, basierend auf dem Code.)\n",
    "# This cell performs the following task:\n",
    "# (Add specific annotations here based on the logic in the cell)\n",
    "\n",
    "mkdir files_arxiv"
   ]
  },
  {
   "cell_type": "code",
   "execution_count": null,
   "id": "39b91726",
   "metadata": {},
   "outputs": [],
   "source": [
    "# ANNOTATION (auf Deutsch):\n",
    "# Dieser Code führt die folgende Aufgabe aus:\n",
    "# (Fügen Sie hier eine spezifische Erklärung hinzu, basierend auf dem Code.)\n",
    "# This cell performs the following task:\n",
    "# (Add specific annotations here based on the logic in the cell)\n",
    "\n",
    "# Download the PDF to a specified directory with a custom filename.\n",
    "paper.download_pdf(dirpath = \"C:\\\\Users\\\\usuario\\\\ELENA\\\\it-training uzh\\\\it-training uzh\\\\Python for Digital Humanities\\\\Day 2\\\\PDF extraction\\\\files_arxiv\",\n",
    "                    filename = \"2412.18779.pdf\")"
   ]
  },
  {
   "cell_type": "markdown",
   "id": "c6c26e2e",
   "metadata": {},
   "source": [
    "So far I have been using just the code provided by the Arxiv API to do all those things (https://pypi.org/project/arxiv/). Now let's go to the next level and let's extract a bunch of articles. Looking at the API it looks like we need to extract the IDs of the papers. Let's do that!"
   ]
  },
  {
   "cell_type": "code",
   "execution_count": null,
   "id": "32564060",
   "metadata": {},
   "outputs": [],
   "source": [
    "# ANNOTATION (auf Deutsch):\n",
    "# Dieser Code führt die folgende Aufgabe aus:\n",
    "# (Fügen Sie hier eine spezifische Erklärung hinzu, basierend auf dem Code.)\n",
    "# This cell performs the following task:\n",
    "# (Add specific annotations here based on the logic in the cell)\n",
    "\n",
    "ids = []\n",
    "\n",
    "for result in client.results(search):\n",
    "    ids.append(result.entry_id)"
   ]
  },
  {
   "cell_type": "code",
   "execution_count": null,
   "id": "0535c419",
   "metadata": {},
   "outputs": [],
   "source": [
    "# ANNOTATION (auf Deutsch):\n",
    "# Dieser Code führt die folgende Aufgabe aus:\n",
    "# (Fügen Sie hier eine spezifische Erklärung hinzu, basierend auf dem Code.)\n",
    "# This cell performs the following task:\n",
    "# (Add specific annotations here based on the logic in the cell)\n",
    "\n",
    "ids"
   ]
  },
  {
   "cell_type": "code",
   "execution_count": null,
   "id": "907068f1",
   "metadata": {},
   "outputs": [],
   "source": [
    "# ANNOTATION (auf Deutsch):\n",
    "# Dieser Code führt die folgende Aufgabe aus:\n",
    "# (Fügen Sie hier eine spezifische Erklärung hinzu, basierend auf dem Code.)\n",
    "# This cell performs the following task:\n",
    "# (Add specific annotations here based on the logic in the cell)\n",
    "\n",
    "type(ids)"
   ]
  },
  {
   "cell_type": "code",
   "execution_count": null,
   "id": "af8d09d6",
   "metadata": {},
   "outputs": [],
   "source": [
    "# ANNOTATION (auf Deutsch):\n",
    "# Dieser Code führt die folgende Aufgabe aus:\n",
    "# (Fügen Sie hier eine spezifische Erklärung hinzu, basierend auf dem Code.)\n",
    "# This cell performs the following task:\n",
    "# (Add specific annotations here based on the logic in the cell)\n",
    "\n",
    "ids[0]"
   ]
  },
  {
   "cell_type": "markdown",
   "id": "f5c5b8ad",
   "metadata": {},
   "source": [
    "What we need is just the ID number of the paper. Let's select that."
   ]
  },
  {
   "cell_type": "code",
   "execution_count": null,
   "id": "9e4b0709",
   "metadata": {},
   "outputs": [],
   "source": [
    "# ANNOTATION (auf Deutsch):\n",
    "# Dieser Code führt die folgende Aufgabe aus:\n",
    "# (Fügen Sie hier eine spezifische Erklärung hinzu, basierend auf dem Code.)\n",
    "# This cell performs the following task:\n",
    "# (Add specific annotations here based on the logic in the cell)\n",
    "\n",
    "ids[0].split(\"/\")[-1]"
   ]
  },
  {
   "cell_type": "code",
   "execution_count": null,
   "id": "129c44de",
   "metadata": {},
   "outputs": [],
   "source": [
    "# ANNOTATION (auf Deutsch):\n",
    "# Dieser Code führt die folgende Aufgabe aus:\n",
    "# (Fügen Sie hier eine spezifische Erklärung hinzu, basierend auf dem Code.)\n",
    "# This cell performs the following task:\n",
    "# (Add specific annotations here based on the logic in the cell)\n",
    "\n",
    "ids_2 = []\n",
    "\n",
    "for i in ids:\n",
    "    ids_2.append(i.split(\"/\")[-1])"
   ]
  },
  {
   "cell_type": "code",
   "execution_count": null,
   "id": "c9b2d1f4",
   "metadata": {},
   "outputs": [],
   "source": [
    "# ANNOTATION (auf Deutsch):\n",
    "# Dieser Code führt die folgende Aufgabe aus:\n",
    "# (Fügen Sie hier eine spezifische Erklärung hinzu, basierend auf dem Code.)\n",
    "# This cell performs the following task:\n",
    "# (Add specific annotations here based on the logic in the cell)\n",
    "\n",
    "ids_2"
   ]
  },
  {
   "cell_type": "code",
   "execution_count": null,
   "id": "bd3767d0",
   "metadata": {},
   "outputs": [],
   "source": [
    "# ANNOTATION (auf Deutsch):\n",
    "# Dieser Code führt die folgende Aufgabe aus:\n",
    "# (Fügen Sie hier eine spezifische Erklärung hinzu, basierend auf dem Code.)\n",
    "# This cell performs the following task:\n",
    "# (Add specific annotations here based on the logic in the cell)\n",
    "\n",
    "len(ids_2)"
   ]
  },
  {
   "cell_type": "markdown",
   "id": "d6118646",
   "metadata": {},
   "source": [
    "And now let's loop around that to get all the PDFs into our laptop. First let's create a new folder called \"arxiv_pdfs\""
   ]
  },
  {
   "cell_type": "code",
   "execution_count": null,
   "id": "725d9f92",
   "metadata": {},
   "outputs": [],
   "source": [
    "# ANNOTATION (auf Deutsch):\n",
    "# Dieser Code führt die folgende Aufgabe aus:\n",
    "# (Fügen Sie hier eine spezifische Erklärung hinzu, basierend auf dem Code.)\n",
    "# This cell performs the following task:\n",
    "# (Add specific annotations here based on the logic in the cell)\n",
    "\n",
    "mkdir arxiv_pdfs_facebook"
   ]
  },
  {
   "cell_type": "markdown",
   "id": "77c2d9f7",
   "metadata": {},
   "source": [
    "# IMPORTANT"
   ]
  },
  {
   "cell_type": "markdown",
   "id": "de075894",
   "metadata": {},
   "source": [
    "REMEMBER to create a new folder for the new query that you are going to do to create your own PDF database. Remember to change it in the filename variable too"
   ]
  },
  {
   "cell_type": "code",
   "execution_count": null,
   "id": "0e8c5f88",
   "metadata": {},
   "outputs": [],
   "source": [
    "# ANNOTATION (auf Deutsch):\n",
    "# Dieser Code führt die folgende Aufgabe aus:\n",
    "# (Fügen Sie hier eine spezifische Erklärung hinzu, basierend auf dem Code.)\n",
    "# This cell performs the following task:\n",
    "# (Add specific annotations here based on the logic in the cell)\n",
    "\n",
    "#mkdir (remove the #) and now add the name that you would like to have for a new folder (I suggest arxiv_pdfs_whatever (your query))"
   ]
  },
  {
   "cell_type": "markdown",
   "id": "cf02481d",
   "metadata": {},
   "source": [
    "And now let's get all the pdfs"
   ]
  },
  {
   "cell_type": "code",
   "execution_count": null,
   "id": "54a566ab",
   "metadata": {},
   "outputs": [],
   "source": [
    "# ANNOTATION (auf Deutsch):\n",
    "# Dieser Code führt die folgende Aufgabe aus:\n",
    "# (Fügen Sie hier eine spezifische Erklärung hinzu, basierend auf dem Code.)\n",
    "# This cell performs the following task:\n",
    "# (Add specific annotations here based on the logic in the cell)\n",
    "\n",
    "for id in ids_2:\n",
    "    # Search for the article with the given ID\n",
    "    search = arxiv.Search(id_list=[id])\n",
    "    paper = next(client.results(search))\n",
    "\n",
    "    # Download the PDF to the current working directory with a default filename\n",
    "    filename = os.path.join(\"arxiv_pdfs_facebook\", urllib.parse.quote(id))\n",
    "    paper.download_pdf(filename=f\"{filename}.pdf\")\n",
    "    \n",
    "    time.sleep(3)  # 3 seconds (this is the indication of the ArXiv API)"
   ]
  },
  {
   "cell_type": "markdown",
   "id": "8ea17701",
   "metadata": {},
   "source": [
    "And voila! According to the arxiv API (https://pypi.org/project/arxiv/1.4.8/) the daily limit is 300.000 results: that is a lot!"
   ]
  },
  {
   "cell_type": "markdown",
   "id": "f092f20a",
   "metadata": {},
   "source": [
    "### Content from: 5. Body.ipynb"
   ]
  },
  {
   "cell_type": "markdown",
   "id": "9ec619a4",
   "metadata": {},
   "source": [
    "#### Annotation:\n",
    "This section includes the content and logic from the original notebook. Annotations have been added to explain the purpose and function of each code cell."
   ]
  },
  {
   "cell_type": "markdown",
   "id": "4ad3677e",
   "metadata": {},
   "source": [
    "Now that we have our final dataframe, we still need to do some cleaning and preprocessing of our articles text. Let's do that!"
   ]
  },
  {
   "cell_type": "markdown",
   "id": "e514e057",
   "metadata": {},
   "source": [
    "# 1. We import the libraries"
   ]
  },
  {
   "cell_type": "code",
   "execution_count": null,
   "id": "c03a1201",
   "metadata": {},
   "outputs": [],
   "source": [
    "# ANNOTATION (auf Deutsch):\n",
    "# Dieser Code führt die folgende Aufgabe aus:\n",
    "# (Fügen Sie hier eine spezifische Erklärung hinzu, basierend auf dem Code.)\n",
    "# This cell performs the following task:\n",
    "# (Add specific annotations here based on the logic in the cell)\n",
    "\n",
    "import pandas as pd\n",
    "import re"
   ]
  },
  {
   "cell_type": "markdown",
   "id": "01c902c7",
   "metadata": {},
   "source": [
    "# 2. We get the data"
   ]
  },
  {
   "cell_type": "code",
   "execution_count": null,
   "id": "f919bbd4",
   "metadata": {},
   "outputs": [],
   "source": [
    "# ANNOTATION (auf Deutsch):\n",
    "# Dieser Code führt die folgende Aufgabe aus:\n",
    "# (Fügen Sie hier eine spezifische Erklärung hinzu, basierend auf dem Code.)\n",
    "# This cell performs the following task:\n",
    "# (Add specific annotations here based on the logic in the cell)\n",
    "\n",
    "data = pd.read_csv(\"final_data.csv\", index_col = 0)"
   ]
  },
  {
   "cell_type": "code",
   "execution_count": null,
   "id": "6dde1034",
   "metadata": {},
   "outputs": [],
   "source": [
    "# ANNOTATION (auf Deutsch):\n",
    "# Dieser Code führt die folgende Aufgabe aus:\n",
    "# (Fügen Sie hier eine spezifische Erklärung hinzu, basierend auf dem Code.)\n",
    "# This cell performs the following task:\n",
    "# (Add specific annotations here based on the logic in the cell)\n",
    "\n",
    "data"
   ]
  },
  {
   "cell_type": "markdown",
   "id": "2d758ad6",
   "metadata": {},
   "source": [
    "# 3. We select the text"
   ]
  },
  {
   "cell_type": "code",
   "execution_count": null,
   "id": "a0fa5666",
   "metadata": {},
   "outputs": [],
   "source": [
    "# ANNOTATION (auf Deutsch):\n",
    "# Dieser Code führt die folgende Aufgabe aus:\n",
    "# (Fügen Sie hier eine spezifische Erklärung hinzu, basierend auf dem Code.)\n",
    "# This cell performs the following task:\n",
    "# (Add specific annotations here based on the logic in the cell)\n",
    "\n",
    "body = data[\"Article\"].to_list()"
   ]
  },
  {
   "cell_type": "code",
   "execution_count": null,
   "id": "fe060023",
   "metadata": {},
   "outputs": [],
   "source": [
    "# ANNOTATION (auf Deutsch):\n",
    "# Dieser Code führt die folgende Aufgabe aus:\n",
    "# (Fügen Sie hier eine spezifische Erklärung hinzu, basierend auf dem Code.)\n",
    "# This cell performs the following task:\n",
    "# (Add specific annotations here based on the logic in the cell)\n",
    "\n",
    "len(body)"
   ]
  },
  {
   "cell_type": "code",
   "execution_count": null,
   "id": "d6b21dd9",
   "metadata": {},
   "outputs": [],
   "source": [
    "# ANNOTATION (auf Deutsch):\n",
    "# Dieser Code führt die folgende Aufgabe aus:\n",
    "# (Fügen Sie hier eine spezifische Erklärung hinzu, basierend auf dem Code.)\n",
    "# This cell performs the following task:\n",
    "# (Add specific annotations here based on the logic in the cell)\n",
    "\n",
    "body[0]"
   ]
  },
  {
   "cell_type": "code",
   "execution_count": null,
   "id": "a331d996",
   "metadata": {},
   "outputs": [],
   "source": [
    "# ANNOTATION (auf Deutsch):\n",
    "# Dieser Code führt die folgende Aufgabe aus:\n",
    "# (Fügen Sie hier eine spezifische Erklärung hinzu, basierend auf dem Code.)\n",
    "# This cell performs the following task:\n",
    "# (Add specific annotations here based on the logic in the cell)\n",
    "\n",
    "type(body[0])"
   ]
  },
  {
   "cell_type": "markdown",
   "id": "c8c8d68e",
   "metadata": {},
   "source": [
    "Checking if there are some float numbers (nan) that stand for missing data"
   ]
  },
  {
   "cell_type": "code",
   "execution_count": null,
   "id": "f244fa89",
   "metadata": {},
   "outputs": [],
   "source": [
    "# ANNOTATION (auf Deutsch):\n",
    "# Dieser Code führt die folgende Aufgabe aus:\n",
    "# (Fügen Sie hier eine spezifische Erklärung hinzu, basierend auf dem Code.)\n",
    "# This cell performs the following task:\n",
    "# (Add specific annotations here based on the logic in the cell)\n",
    "\n",
    "for i in body:\n",
    "    if type(i) == float:\n",
    "        print(type(i))"
   ]
  },
  {
   "cell_type": "code",
   "execution_count": null,
   "id": "b28da392",
   "metadata": {},
   "outputs": [],
   "source": [
    "# ANNOTATION (auf Deutsch):\n",
    "# Dieser Code führt die folgende Aufgabe aus:\n",
    "# (Fügen Sie hier eine spezifische Erklärung hinzu, basierend auf dem Code.)\n",
    "# This cell performs the following task:\n",
    "# (Add specific annotations here based on the logic in the cell)\n",
    "\n",
    "for index, value in enumerate(body):\n",
    "    if isinstance(value, float):\n",
    "        print(f\"Index: {index}, Value Type: {type(value)}\")"
   ]
  },
  {
   "cell_type": "code",
   "execution_count": null,
   "id": "e316dc78",
   "metadata": {},
   "outputs": [],
   "source": [
    "# ANNOTATION (auf Deutsch):\n",
    "# Dieser Code führt die folgende Aufgabe aus:\n",
    "# (Fügen Sie hier eine spezifische Erklärung hinzu, basierend auf dem Code.)\n",
    "# This cell performs the following task:\n",
    "# (Add specific annotations here based on the logic in the cell)\n",
    "\n",
    "body[228]"
   ]
  },
  {
   "cell_type": "code",
   "execution_count": null,
   "id": "c6c11f42",
   "metadata": {},
   "outputs": [],
   "source": [
    "# ANNOTATION (auf Deutsch):\n",
    "# Dieser Code führt die folgende Aufgabe aus:\n",
    "# (Fügen Sie hier eine spezifische Erklärung hinzu, basierend auf dem Code.)\n",
    "# This cell performs the following task:\n",
    "# (Add specific annotations here based on the logic in the cell)\n",
    "\n",
    "data.iloc[228:229]"
   ]
  },
  {
   "cell_type": "markdown",
   "id": "d2f09179",
   "metadata": {},
   "source": [
    "This is happening because we selected more metadata than proper articles (due to the 5000 download limit restrictions for full articles). So, there are some missing articles in there. Let's get rid of them!"
   ]
  },
  {
   "cell_type": "code",
   "execution_count": null,
   "id": "97569e14",
   "metadata": {},
   "outputs": [],
   "source": [
    "# ANNOTATION (auf Deutsch):\n",
    "# Dieser Code führt die folgende Aufgabe aus:\n",
    "# (Fügen Sie hier eine spezifische Erklärung hinzu, basierend auf dem Code.)\n",
    "# This cell performs the following task:\n",
    "# (Add specific annotations here based on the logic in the cell)\n",
    "\n",
    "data_clean = data.dropna(subset = [\"Article\"])"
   ]
  },
  {
   "cell_type": "code",
   "execution_count": null,
   "id": "77a64d8b",
   "metadata": {},
   "outputs": [],
   "source": [
    "# ANNOTATION (auf Deutsch):\n",
    "# Dieser Code führt die folgende Aufgabe aus:\n",
    "# (Fügen Sie hier eine spezifische Erklärung hinzu, basierend auf dem Code.)\n",
    "# This cell performs the following task:\n",
    "# (Add specific annotations here based on the logic in the cell)\n",
    "\n",
    "data_clean"
   ]
  },
  {
   "cell_type": "code",
   "execution_count": null,
   "id": "223d3674",
   "metadata": {},
   "outputs": [],
   "source": [
    "# ANNOTATION (auf Deutsch):\n",
    "# Dieser Code führt die folgende Aufgabe aus:\n",
    "# (Fügen Sie hier eine spezifische Erklärung hinzu, basierend auf dem Code.)\n",
    "# This cell performs the following task:\n",
    "# (Add specific annotations here based on the logic in the cell)\n",
    "\n",
    "len(data_clean)"
   ]
  },
  {
   "cell_type": "markdown",
   "id": "64ca59c1",
   "metadata": {},
   "source": [
    "We have a clean dataframe! Let's go back to the body part"
   ]
  },
  {
   "cell_type": "code",
   "execution_count": null,
   "id": "8e3260d2",
   "metadata": {},
   "outputs": [],
   "source": [
    "# ANNOTATION (auf Deutsch):\n",
    "# Dieser Code führt die folgende Aufgabe aus:\n",
    "# (Fügen Sie hier eine spezifische Erklärung hinzu, basierend auf dem Code.)\n",
    "# This cell performs the following task:\n",
    "# (Add specific annotations here based on the logic in the cell)\n",
    "\n",
    "body = data_clean[\"Article\"].to_list()"
   ]
  },
  {
   "cell_type": "code",
   "execution_count": null,
   "id": "49999199",
   "metadata": {},
   "outputs": [],
   "source": [
    "# ANNOTATION (auf Deutsch):\n",
    "# Dieser Code führt die folgende Aufgabe aus:\n",
    "# (Fügen Sie hier eine spezifische Erklärung hinzu, basierend auf dem Code.)\n",
    "# This cell performs the following task:\n",
    "# (Add specific annotations here based on the logic in the cell)\n",
    "\n",
    "body[0]"
   ]
  },
  {
   "cell_type": "markdown",
   "id": "370716f1",
   "metadata": {},
   "source": [
    "# 4. We clean and pre-process"
   ]
  },
  {
   "cell_type": "markdown",
   "id": "4e37e9a1",
   "metadata": {},
   "source": [
    "Time to do some cleaning"
   ]
  },
  {
   "cell_type": "code",
   "execution_count": null,
   "id": "d075697f",
   "metadata": {},
   "outputs": [],
   "source": [
    "# ANNOTATION (auf Deutsch):\n",
    "# Dieser Code führt die folgende Aufgabe aus:\n",
    "# (Fügen Sie hier eine spezifische Erklärung hinzu, basierend auf dem Code.)\n",
    "# This cell performs the following task:\n",
    "# (Add specific annotations here based on the logic in the cell)\n",
    "\n",
    "def clean_text(text):\n",
    "    clean_text = [i.replace(\"\\n\", \"\") for i in text]\n",
    "    final_text = [i.replace(\"\\\\\", \"\") for i in clean_text]\n",
    "    really_final_text = [i.replace(\"\\\\'\", \"\") for i in final_text]\n",
    "    return really_final_text"
   ]
  },
  {
   "cell_type": "code",
   "execution_count": null,
   "id": "3de715d9",
   "metadata": {},
   "outputs": [],
   "source": [
    "# ANNOTATION (auf Deutsch):\n",
    "# Dieser Code führt die folgende Aufgabe aus:\n",
    "# (Fügen Sie hier eine spezifische Erklärung hinzu, basierend auf dem Code.)\n",
    "# This cell performs the following task:\n",
    "# (Add specific annotations here based on the logic in the cell)\n",
    "\n",
    "final_text = clean_text(body)"
   ]
  },
  {
   "cell_type": "code",
   "execution_count": null,
   "id": "9aac942b",
   "metadata": {},
   "outputs": [],
   "source": [
    "# ANNOTATION (auf Deutsch):\n",
    "# Dieser Code führt die folgende Aufgabe aus:\n",
    "# (Fügen Sie hier eine spezifische Erklärung hinzu, basierend auf dem Code.)\n",
    "# This cell performs the following task:\n",
    "# (Add specific annotations here based on the logic in the cell)\n",
    "\n",
    "final_text[0]"
   ]
  },
  {
   "cell_type": "markdown",
   "id": "cd81877c",
   "metadata": {},
   "source": [
    "We can see that there is a rebel \\' character that has survived our cleaning function. Let's get rid of that!"
   ]
  },
  {
   "cell_type": "code",
   "execution_count": null,
   "id": "7368e6a0",
   "metadata": {},
   "outputs": [],
   "source": [
    "# ANNOTATION (auf Deutsch):\n",
    "# Dieser Code führt die folgende Aufgabe aus:\n",
    "# (Fügen Sie hier eine spezifische Erklärung hinzu, basierend auf dem Code.)\n",
    "# This cell performs the following task:\n",
    "# (Add specific annotations here based on the logic in the cell)\n",
    "\n",
    "def clean_text_final(text):\n",
    "    final_clean_text = [i.replace(\"\\n\", \"\").replace(\"\\\\\", \"\").replace(\"'\", \"\") for i in text]\n",
    "    return final_clean_text"
   ]
  },
  {
   "cell_type": "code",
   "execution_count": null,
   "id": "f3354ce4",
   "metadata": {},
   "outputs": [],
   "source": [
    "# ANNOTATION (auf Deutsch):\n",
    "# Dieser Code führt die folgende Aufgabe aus:\n",
    "# (Fügen Sie hier eine spezifische Erklärung hinzu, basierend auf dem Code.)\n",
    "# This cell performs the following task:\n",
    "# (Add specific annotations here based on the logic in the cell)\n",
    "\n",
    "really_final_text = clean_text_final(final_text)"
   ]
  },
  {
   "cell_type": "code",
   "execution_count": null,
   "id": "40e5377a",
   "metadata": {},
   "outputs": [],
   "source": [
    "# ANNOTATION (auf Deutsch):\n",
    "# Dieser Code führt die folgende Aufgabe aus:\n",
    "# (Fügen Sie hier eine spezifische Erklärung hinzu, basierend auf dem Code.)\n",
    "# This cell performs the following task:\n",
    "# (Add specific annotations here based on the logic in the cell)\n",
    "\n",
    "really_final_text[0]"
   ]
  },
  {
   "cell_type": "markdown",
   "id": "20ec09e8",
   "metadata": {},
   "source": [
    "Now let's change our column in the csv dataframe"
   ]
  },
  {
   "cell_type": "code",
   "execution_count": null,
   "id": "72956d08",
   "metadata": {},
   "outputs": [],
   "source": [
    "# ANNOTATION (auf Deutsch):\n",
    "# Dieser Code führt die folgende Aufgabe aus:\n",
    "# (Fügen Sie hier eine spezifische Erklärung hinzu, basierend auf dem Code.)\n",
    "# This cell performs the following task:\n",
    "# (Add specific annotations here based on the logic in the cell)\n",
    "\n",
    "data_clean.loc[:, \"Article\"] = really_final_text"
   ]
  },
  {
   "cell_type": "code",
   "execution_count": null,
   "id": "8154f92d",
   "metadata": {},
   "outputs": [],
   "source": [
    "# ANNOTATION (auf Deutsch):\n",
    "# Dieser Code führt die folgende Aufgabe aus:\n",
    "# (Fügen Sie hier eine spezifische Erklärung hinzu, basierend auf dem Code.)\n",
    "# This cell performs the following task:\n",
    "# (Add specific annotations here based on the logic in the cell)\n",
    "\n",
    "data_clean"
   ]
  },
  {
   "cell_type": "code",
   "execution_count": null,
   "id": "6416a339",
   "metadata": {},
   "outputs": [],
   "source": [
    "# ANNOTATION (auf Deutsch):\n",
    "# Dieser Code führt die folgende Aufgabe aus:\n",
    "# (Fügen Sie hier eine spezifische Erklärung hinzu, basierend auf dem Code.)\n",
    "# This cell performs the following task:\n",
    "# (Add specific annotations here based on the logic in the cell)\n",
    "\n",
    "data_clean[\"Article\"][1]"
   ]
  },
  {
   "cell_type": "markdown",
   "id": "af6b3b5a",
   "metadata": {},
   "source": [
    "# 5. Saving our data"
   ]
  },
  {
   "cell_type": "markdown",
   "id": "5466f947",
   "metadata": {},
   "source": [
    "And now we are reading to save our super clean dataframe for future Text Data Mining analysis!"
   ]
  },
  {
   "cell_type": "code",
   "execution_count": null,
   "id": "8766c925",
   "metadata": {},
   "outputs": [],
   "source": [
    "# ANNOTATION (auf Deutsch):\n",
    "# Dieser Code führt die folgende Aufgabe aus:\n",
    "# (Fügen Sie hier eine spezifische Erklärung hinzu, basierend auf dem Code.)\n",
    "# This cell performs the following task:\n",
    "# (Add specific annotations here based on the logic in the cell)\n",
    "\n",
    "data_clean.to_csv(\"final_TDM_dataframe.csv\")"
   ]
  },
  {
   "cell_type": "markdown",
   "id": "647a614f",
   "metadata": {},
   "source": [
    "### Content from: 4. Merging Dataframes.ipynb"
   ]
  },
  {
   "cell_type": "markdown",
   "id": "1262b287",
   "metadata": {},
   "source": [
    "#### Annotation:\n",
    "This section includes the content and logic from the original notebook. Annotations have been added to explain the purpose and function of each code cell."
   ]
  },
  {
   "cell_type": "markdown",
   "id": "5f637dab",
   "metadata": {},
   "source": [
    "As we will see in the next Jupyter Notebook (5. Body) to be able to clean and pre-process the body we need to drop some missing rows of our dataframe that have some missing data. To simplify that process, let's now merge both dataframes before we proceed to cleaning the body of the articles."
   ]
  },
  {
   "cell_type": "markdown",
   "id": "6721fc3d",
   "metadata": {},
   "source": [
    "# 1. We import our libraries"
   ]
  },
  {
   "cell_type": "code",
   "execution_count": null,
   "id": "6f7bb36b",
   "metadata": {},
   "outputs": [],
   "source": [
    "# ANNOTATION (auf Deutsch):\n",
    "# Dieser Code führt die folgende Aufgabe aus:\n",
    "# (Fügen Sie hier eine spezifische Erklärung hinzu, basierend auf dem Code.)\n",
    "# This cell performs the following task:\n",
    "# (Add specific annotations here based on the logic in the cell)\n",
    "\n",
    "import pandas as pd"
   ]
  },
  {
   "cell_type": "markdown",
   "id": "abe4f7d1",
   "metadata": {},
   "source": [
    "# 2. We get our data"
   ]
  },
  {
   "cell_type": "markdown",
   "id": "1f76824d",
   "metadata": {},
   "source": [
    "First we get the metadata "
   ]
  },
  {
   "cell_type": "code",
   "execution_count": null,
   "id": "ee6de5e8",
   "metadata": {},
   "outputs": [],
   "source": [
    "# ANNOTATION (auf Deutsch):\n",
    "# Dieser Code führt die folgende Aufgabe aus:\n",
    "# (Fügen Sie hier eine spezifische Erklärung hinzu, basierend auf dem Code.)\n",
    "# This cell performs the following task:\n",
    "# (Add specific annotations here based on the logic in the cell)\n",
    "\n",
    "metadata = pd.read_csv(\"final_metadata.csv\", index_col = 0)"
   ]
  },
  {
   "cell_type": "code",
   "execution_count": null,
   "id": "64b4b7cf",
   "metadata": {},
   "outputs": [],
   "source": [
    "# ANNOTATION (auf Deutsch):\n",
    "# Dieser Code führt die folgende Aufgabe aus:\n",
    "# (Fügen Sie hier eine spezifische Erklärung hinzu, basierend auf dem Code.)\n",
    "# This cell performs the following task:\n",
    "# (Add specific annotations here based on the logic in the cell)\n",
    "\n",
    "metadata"
   ]
  },
  {
   "cell_type": "markdown",
   "id": "61914486",
   "metadata": {},
   "source": [
    "Now let's change the name of the column \"Gale Document Number\" to ID to be able to merge dataframes in just a second"
   ]
  },
  {
   "cell_type": "code",
   "execution_count": null,
   "id": "49696935",
   "metadata": {},
   "outputs": [],
   "source": [
    "# ANNOTATION (auf Deutsch):\n",
    "# Dieser Code führt die folgende Aufgabe aus:\n",
    "# (Fügen Sie hier eine spezifische Erklärung hinzu, basierend auf dem Code.)\n",
    "# This cell performs the following task:\n",
    "# (Add specific annotations here based on the logic in the cell)\n",
    "\n",
    "metadata.rename(columns = {\"Gale Document Number\" :\"ID\"}, inplace = True)"
   ]
  },
  {
   "cell_type": "code",
   "execution_count": null,
   "id": "10894af5",
   "metadata": {},
   "outputs": [],
   "source": [
    "# ANNOTATION (auf Deutsch):\n",
    "# Dieser Code führt die folgende Aufgabe aus:\n",
    "# (Fügen Sie hier eine spezifische Erklärung hinzu, basierend auf dem Code.)\n",
    "# This cell performs the following task:\n",
    "# (Add specific annotations here based on the logic in the cell)\n",
    "\n",
    "metadata"
   ]
  },
  {
   "cell_type": "markdown",
   "id": "2823c592",
   "metadata": {},
   "source": [
    "And now we get the titles and the unclean body"
   ]
  },
  {
   "cell_type": "code",
   "execution_count": null,
   "id": "7ddf9592",
   "metadata": {},
   "outputs": [],
   "source": [
    "# ANNOTATION (auf Deutsch):\n",
    "# Dieser Code führt die folgende Aufgabe aus:\n",
    "# (Fügen Sie hier eine spezifische Erklärung hinzu, basierend auf dem Code.)\n",
    "# This cell performs the following task:\n",
    "# (Add specific annotations here based on the logic in the cell)\n",
    "\n",
    "articles = pd.read_csv(\"headers.csv\", index_col = 0)"
   ]
  },
  {
   "cell_type": "code",
   "execution_count": null,
   "id": "58d4ee93",
   "metadata": {},
   "outputs": [],
   "source": [
    "# ANNOTATION (auf Deutsch):\n",
    "# Dieser Code führt die folgende Aufgabe aus:\n",
    "# (Fügen Sie hier eine spezifische Erklärung hinzu, basierend auf dem Code.)\n",
    "# This cell performs the following task:\n",
    "# (Add specific annotations here based on the logic in the cell)\n",
    "\n",
    "articles"
   ]
  },
  {
   "cell_type": "markdown",
   "id": "a518a90c",
   "metadata": {},
   "source": [
    "# 3. Let's merge dataframes"
   ]
  },
  {
   "cell_type": "markdown",
   "id": "1211ead6",
   "metadata": {},
   "source": [
    "Now let's merge both dataframes using the ID column on both of them"
   ]
  },
  {
   "cell_type": "code",
   "execution_count": null,
   "id": "a9838bd1",
   "metadata": {},
   "outputs": [],
   "source": [
    "# ANNOTATION (auf Deutsch):\n",
    "# Dieser Code führt die folgende Aufgabe aus:\n",
    "# (Fügen Sie hier eine spezifische Erklärung hinzu, basierend auf dem Code.)\n",
    "# This cell performs the following task:\n",
    "# (Add specific annotations here based on the logic in the cell)\n",
    "\n",
    "merged_df = pd.merge(metadata, articles, on = 'ID', how = 'outer')"
   ]
  },
  {
   "cell_type": "code",
   "execution_count": null,
   "id": "edd6fda1",
   "metadata": {},
   "outputs": [],
   "source": [
    "# ANNOTATION (auf Deutsch):\n",
    "# Dieser Code führt die folgende Aufgabe aus:\n",
    "# (Fügen Sie hier eine spezifische Erklärung hinzu, basierend auf dem Code.)\n",
    "# This cell performs the following task:\n",
    "# (Add specific annotations here based on the logic in the cell)\n",
    "\n",
    "merged_df"
   ]
  },
  {
   "cell_type": "markdown",
   "id": "05a1ac6b",
   "metadata": {},
   "source": [
    "# 4. Cleaning new Dataframe"
   ]
  },
  {
   "cell_type": "markdown",
   "id": "038d03d9",
   "metadata": {},
   "source": [
    "If we want to make sure that the merge was done correctly, we can check the \"Document Title\" column from the metadata column with the \"Title Column\" from the articles dataframe. That being said: let's clean this dataframe a little bit and get rid of the columns Publisher, Subject, and Language. Let's keep the Title one (and we can drop it later on if that may be useful for us)."
   ]
  },
  {
   "cell_type": "code",
   "execution_count": null,
   "id": "9fa2ea0e",
   "metadata": {},
   "outputs": [],
   "source": [
    "# ANNOTATION (auf Deutsch):\n",
    "# Dieser Code führt die folgende Aufgabe aus:\n",
    "# (Fügen Sie hier eine spezifische Erklärung hinzu, basierend auf dem Code.)\n",
    "# This cell performs the following task:\n",
    "# (Add specific annotations here based on the logic in the cell)\n",
    "\n",
    "final_data = merged_df.drop(['Publisher', 'Subject', 'Language'], axis=1)"
   ]
  },
  {
   "cell_type": "code",
   "execution_count": null,
   "id": "6b8758ba",
   "metadata": {},
   "outputs": [],
   "source": [
    "# ANNOTATION (auf Deutsch):\n",
    "# Dieser Code führt die folgende Aufgabe aus:\n",
    "# (Fügen Sie hier eine spezifische Erklärung hinzu, basierend auf dem Code.)\n",
    "# This cell performs the following task:\n",
    "# (Add specific annotations here based on the logic in the cell)\n",
    "\n",
    "final_data"
   ]
  },
  {
   "cell_type": "markdown",
   "id": "5fed6411",
   "metadata": {},
   "source": [
    "# 5. Saving our data"
   ]
  },
  {
   "cell_type": "markdown",
   "id": "2ca6bbfc",
   "metadata": {},
   "source": [
    "And now let's save our data into a csv dataframe"
   ]
  },
  {
   "cell_type": "code",
   "execution_count": null,
   "id": "58870485",
   "metadata": {},
   "outputs": [],
   "source": [
    "# ANNOTATION (auf Deutsch):\n",
    "# Dieser Code führt die folgende Aufgabe aus:\n",
    "# (Fügen Sie hier eine spezifische Erklärung hinzu, basierend auf dem Code.)\n",
    "# This cell performs the following task:\n",
    "# (Add specific annotations here based on the logic in the cell)\n",
    "\n",
    "final_data.to_csv(\"final_data.csv\")"
   ]
  },
  {
   "cell_type": "markdown",
   "id": "67ceebc2",
   "metadata": {},
   "source": [
    "### Content from: 3. Headers.ipynb"
   ]
  },
  {
   "cell_type": "markdown",
   "id": "366bdd0a",
   "metadata": {},
   "source": [
    "#### Annotation:\n",
    "This section includes the content and logic from the original notebook. Annotations have been added to explain the purpose and function of each code cell."
   ]
  },
  {
   "cell_type": "markdown",
   "id": "b81f3738",
   "metadata": {},
   "source": [
    "Now let's begin by organizing (AKA cleaning and pre-processing) the titles (headers) of our articles."
   ]
  },
  {
   "cell_type": "markdown",
   "id": "4bf4e0ba",
   "metadata": {},
   "source": [
    "# 1. We import the libraries"
   ]
  },
  {
   "cell_type": "code",
   "execution_count": null,
   "id": "fca07957",
   "metadata": {},
   "outputs": [],
   "source": [
    "# ANNOTATION (auf Deutsch):\n",
    "# Dieser Code führt die folgende Aufgabe aus:\n",
    "# (Fügen Sie hier eine spezifische Erklärung hinzu, basierend auf dem Code.)\n",
    "# This cell performs the following task:\n",
    "# (Add specific annotations here based on the logic in the cell)\n",
    "\n",
    "import pandas as pd\n",
    "import re"
   ]
  },
  {
   "cell_type": "markdown",
   "id": "4caa4310",
   "metadata": {},
   "source": [
    "# 2. We get the data"
   ]
  },
  {
   "cell_type": "code",
   "execution_count": null,
   "id": "fcc8e682",
   "metadata": {},
   "outputs": [],
   "source": [
    "# ANNOTATION (auf Deutsch):\n",
    "# Dieser Code führt die folgende Aufgabe aus:\n",
    "# (Fügen Sie hier eine spezifische Erklärung hinzu, basierend auf dem Code.)\n",
    "# This cell performs the following task:\n",
    "# (Add specific annotations here based on the logic in the cell)\n",
    "\n",
    "data = pd.read_csv(\"raw_data.csv\")"
   ]
  },
  {
   "cell_type": "code",
   "execution_count": null,
   "id": "6e0f198a",
   "metadata": {},
   "outputs": [],
   "source": [
    "# ANNOTATION (auf Deutsch):\n",
    "# Dieser Code führt die folgende Aufgabe aus:\n",
    "# (Fügen Sie hier eine spezifische Erklärung hinzu, basierend auf dem Code.)\n",
    "# This cell performs the following task:\n",
    "# (Add specific annotations here based on the logic in the cell)\n",
    "\n",
    "data"
   ]
  },
  {
   "cell_type": "markdown",
   "id": "1919866a",
   "metadata": {},
   "source": [
    "# 3. We split the title to get the CS indentifier"
   ]
  },
  {
   "cell_type": "markdown",
   "id": "169bb47e",
   "metadata": {},
   "source": [
    "The way in which we are going to be able to match data (titles and articles) with metadata is by doing a match between the CS identifier in both dataframes. So: we need to extract that from the titles of the articles in here."
   ]
  },
  {
   "cell_type": "code",
   "execution_count": null,
   "id": "0eb91e45",
   "metadata": {},
   "outputs": [],
   "source": [
    "# ANNOTATION (auf Deutsch):\n",
    "# Dieser Code führt die folgende Aufgabe aus:\n",
    "# (Fügen Sie hier eine spezifische Erklärung hinzu, basierend auf dem Code.)\n",
    "# This cell performs the following task:\n",
    "# (Add specific annotations here based on the logic in the cell)\n",
    "\n",
    "title = data[\"Title\"].to_list()"
   ]
  },
  {
   "cell_type": "code",
   "execution_count": null,
   "id": "6b09e7de",
   "metadata": {},
   "outputs": [],
   "source": [
    "# ANNOTATION (auf Deutsch):\n",
    "# Dieser Code führt die folgende Aufgabe aus:\n",
    "# (Fügen Sie hier eine spezifische Erklärung hinzu, basierend auf dem Code.)\n",
    "# This cell performs the following task:\n",
    "# (Add specific annotations here based on the logic in the cell)\n",
    "\n",
    "title"
   ]
  },
  {
   "cell_type": "markdown",
   "id": "71ea8540",
   "metadata": {},
   "source": [
    "First we split things by \"CS\" (an alternative way would be to do this using regex but it's much more complicated)"
   ]
  },
  {
   "cell_type": "code",
   "execution_count": null,
   "id": "d2cf9c9b",
   "metadata": {},
   "outputs": [],
   "source": [
    "# ANNOTATION (auf Deutsch):\n",
    "# Dieser Code führt die folgende Aufgabe aus:\n",
    "# (Fügen Sie hier eine spezifische Erklärung hinzu, basierend auf dem Code.)\n",
    "# This cell performs the following task:\n",
    "# (Add specific annotations here based on the logic in the cell)\n",
    "\n",
    "result = [s.split('CS') for s in title]"
   ]
  },
  {
   "cell_type": "code",
   "execution_count": null,
   "id": "ed63f770",
   "metadata": {},
   "outputs": [],
   "source": [
    "# ANNOTATION (auf Deutsch):\n",
    "# Dieser Code führt die folgende Aufgabe aus:\n",
    "# (Fügen Sie hier eine spezifische Erklärung hinzu, basierend auf dem Code.)\n",
    "# This cell performs the following task:\n",
    "# (Add specific annotations here based on the logic in the cell)\n",
    "\n",
    "result"
   ]
  },
  {
   "cell_type": "markdown",
   "id": "49dc829c",
   "metadata": {},
   "source": [
    "And now we need to add CS again to make sure that we can later on concatenate it with the Metadata."
   ]
  },
  {
   "cell_type": "code",
   "execution_count": null,
   "id": "2eb18157",
   "metadata": {},
   "outputs": [],
   "source": [
    "# ANNOTATION (auf Deutsch):\n",
    "# Dieser Code führt die folgende Aufgabe aus:\n",
    "# (Fügen Sie hier eine spezifische Erklärung hinzu, basierend auf dem Code.)\n",
    "# This cell performs the following task:\n",
    "# (Add specific annotations here based on the logic in the cell)\n",
    "\n",
    "modified_data = [[inner[0], 'CS' + inner[1]] for inner in result]"
   ]
  },
  {
   "cell_type": "code",
   "execution_count": null,
   "id": "16db2b5f",
   "metadata": {},
   "outputs": [],
   "source": [
    "# ANNOTATION (auf Deutsch):\n",
    "# Dieser Code führt die folgende Aufgabe aus:\n",
    "# (Fügen Sie hier eine spezifische Erklärung hinzu, basierend auf dem Code.)\n",
    "# This cell performs the following task:\n",
    "# (Add specific annotations here based on the logic in the cell)\n",
    "\n",
    "modified_data"
   ]
  },
  {
   "cell_type": "markdown",
   "id": "2287d211",
   "metadata": {},
   "source": [
    "And now we need to get rid of the final .txt to be able to later on match things with the metadata dataframe"
   ]
  },
  {
   "cell_type": "code",
   "execution_count": null,
   "id": "66ac67a9",
   "metadata": {},
   "outputs": [],
   "source": [
    "# ANNOTATION (auf Deutsch):\n",
    "# Dieser Code führt die folgende Aufgabe aus:\n",
    "# (Fügen Sie hier eine spezifische Erklärung hinzu, basierend auf dem Code.)\n",
    "# This cell performs the following task:\n",
    "# (Add specific annotations here based on the logic in the cell)\n",
    "\n",
    "cleaned_data = [[item[0], item[1].replace('.txt', '')] for item in modified_data]"
   ]
  },
  {
   "cell_type": "code",
   "execution_count": null,
   "id": "ad245cb0",
   "metadata": {},
   "outputs": [],
   "source": [
    "# ANNOTATION (auf Deutsch):\n",
    "# Dieser Code führt die folgende Aufgabe aus:\n",
    "# (Fügen Sie hier eine spezifische Erklärung hinzu, basierend auf dem Code.)\n",
    "# This cell performs the following task:\n",
    "# (Add specific annotations here based on the logic in the cell)\n",
    "\n",
    "cleaned_data"
   ]
  },
  {
   "cell_type": "code",
   "execution_count": null,
   "id": "d5efcbb3",
   "metadata": {},
   "outputs": [],
   "source": [
    "# ANNOTATION (auf Deutsch):\n",
    "# Dieser Code führt die folgende Aufgabe aus:\n",
    "# (Fügen Sie hier eine spezifische Erklärung hinzu, basierend auf dem Code.)\n",
    "# This cell performs the following task:\n",
    "# (Add specific annotations here based on the logic in the cell)\n",
    "\n",
    "len(cleaned_data)"
   ]
  },
  {
   "cell_type": "markdown",
   "id": "61b29223",
   "metadata": {},
   "source": [
    "# 4. And now we create a new CSV data frame with a new column: Article ID"
   ]
  },
  {
   "cell_type": "markdown",
   "id": "e54bce73",
   "metadata": {},
   "source": [
    "First we break that list into two different ones"
   ]
  },
  {
   "cell_type": "code",
   "execution_count": null,
   "id": "53b3eb7b",
   "metadata": {},
   "outputs": [],
   "source": [
    "# ANNOTATION (auf Deutsch):\n",
    "# Dieser Code führt die folgende Aufgabe aus:\n",
    "# (Fügen Sie hier eine spezifische Erklärung hinzu, basierend auf dem Code.)\n",
    "# This cell performs the following task:\n",
    "# (Add specific annotations here based on the logic in the cell)\n",
    "\n",
    "title = [i[0] for i in cleaned_data]"
   ]
  },
  {
   "cell_type": "code",
   "execution_count": null,
   "id": "de0cf977",
   "metadata": {},
   "outputs": [],
   "source": [
    "# ANNOTATION (auf Deutsch):\n",
    "# Dieser Code führt die folgende Aufgabe aus:\n",
    "# (Fügen Sie hier eine spezifische Erklärung hinzu, basierend auf dem Code.)\n",
    "# This cell performs the following task:\n",
    "# (Add specific annotations here based on the logic in the cell)\n",
    "\n",
    "len(title)"
   ]
  },
  {
   "cell_type": "code",
   "execution_count": null,
   "id": "e6a24153",
   "metadata": {},
   "outputs": [],
   "source": [
    "# ANNOTATION (auf Deutsch):\n",
    "# Dieser Code führt die folgende Aufgabe aus:\n",
    "# (Fügen Sie hier eine spezifische Erklärung hinzu, basierend auf dem Code.)\n",
    "# This cell performs the following task:\n",
    "# (Add specific annotations here based on the logic in the cell)\n",
    "\n",
    "id_articles = [i[1] for i in cleaned_data]"
   ]
  },
  {
   "cell_type": "code",
   "execution_count": null,
   "id": "620499b1",
   "metadata": {},
   "outputs": [],
   "source": [
    "# ANNOTATION (auf Deutsch):\n",
    "# Dieser Code führt die folgende Aufgabe aus:\n",
    "# (Fügen Sie hier eine spezifische Erklärung hinzu, basierend auf dem Code.)\n",
    "# This cell performs the following task:\n",
    "# (Add specific annotations here based on the logic in the cell)\n",
    "\n",
    "len(id_articles)"
   ]
  },
  {
   "cell_type": "markdown",
   "id": "0c4d39ef",
   "metadata": {},
   "source": [
    "And now we create the new csv"
   ]
  },
  {
   "cell_type": "code",
   "execution_count": null,
   "id": "003523b4",
   "metadata": {},
   "outputs": [],
   "source": [
    "# ANNOTATION (auf Deutsch):\n",
    "# Dieser Code führt die folgende Aufgabe aus:\n",
    "# (Fügen Sie hier eine spezifische Erklärung hinzu, basierend auf dem Code.)\n",
    "# This cell performs the following task:\n",
    "# (Add specific annotations here based on the logic in the cell)\n",
    "\n",
    "final_data = pd.DataFrame(title, columns = [\"Title\"])"
   ]
  },
  {
   "cell_type": "code",
   "execution_count": null,
   "id": "8caa62b2",
   "metadata": {},
   "outputs": [],
   "source": [
    "# ANNOTATION (auf Deutsch):\n",
    "# Dieser Code führt die folgende Aufgabe aus:\n",
    "# (Fügen Sie hier eine spezifische Erklärung hinzu, basierend auf dem Code.)\n",
    "# This cell performs the following task:\n",
    "# (Add specific annotations here based on the logic in the cell)\n",
    "\n",
    "final_data"
   ]
  },
  {
   "cell_type": "code",
   "execution_count": null,
   "id": "8ae2481d",
   "metadata": {},
   "outputs": [],
   "source": [
    "# ANNOTATION (auf Deutsch):\n",
    "# Dieser Code führt die folgende Aufgabe aus:\n",
    "# (Fügen Sie hier eine spezifische Erklärung hinzu, basierend auf dem Code.)\n",
    "# This cell performs the following task:\n",
    "# (Add specific annotations here based on the logic in the cell)\n",
    "\n",
    "final_data[\"ID\"] = id_articles"
   ]
  },
  {
   "cell_type": "code",
   "execution_count": null,
   "id": "da988141",
   "metadata": {},
   "outputs": [],
   "source": [
    "# ANNOTATION (auf Deutsch):\n",
    "# Dieser Code führt die folgende Aufgabe aus:\n",
    "# (Fügen Sie hier eine spezifische Erklärung hinzu, basierend auf dem Code.)\n",
    "# This cell performs the following task:\n",
    "# (Add specific annotations here based on the logic in the cell)\n",
    "\n",
    "final_data"
   ]
  },
  {
   "cell_type": "markdown",
   "id": "c4bc1900",
   "metadata": {},
   "source": [
    "And now we link that to the original dataframe with the proper text"
   ]
  },
  {
   "cell_type": "code",
   "execution_count": null,
   "id": "644cf72e",
   "metadata": {},
   "outputs": [],
   "source": [
    "# ANNOTATION (auf Deutsch):\n",
    "# Dieser Code führt die folgende Aufgabe aus:\n",
    "# (Fügen Sie hier eine spezifische Erklärung hinzu, basierend auf dem Code.)\n",
    "# This cell performs the following task:\n",
    "# (Add specific annotations here based on the logic in the cell)\n",
    "\n",
    "text = data[\"Content\"].to_list()"
   ]
  },
  {
   "cell_type": "code",
   "execution_count": null,
   "id": "c927f230",
   "metadata": {},
   "outputs": [],
   "source": [
    "# ANNOTATION (auf Deutsch):\n",
    "# Dieser Code führt die folgende Aufgabe aus:\n",
    "# (Fügen Sie hier eine spezifische Erklärung hinzu, basierend auf dem Code.)\n",
    "# This cell performs the following task:\n",
    "# (Add specific annotations here based on the logic in the cell)\n",
    "\n",
    "text"
   ]
  },
  {
   "cell_type": "code",
   "execution_count": null,
   "id": "e46a050c",
   "metadata": {},
   "outputs": [],
   "source": [
    "# ANNOTATION (auf Deutsch):\n",
    "# Dieser Code führt die folgende Aufgabe aus:\n",
    "# (Fügen Sie hier eine spezifische Erklärung hinzu, basierend auf dem Code.)\n",
    "# This cell performs the following task:\n",
    "# (Add specific annotations here based on the logic in the cell)\n",
    "\n",
    "final_data[\"Article\"] = text"
   ]
  },
  {
   "cell_type": "code",
   "execution_count": null,
   "id": "0a8c82d1",
   "metadata": {},
   "outputs": [],
   "source": [
    "# ANNOTATION (auf Deutsch):\n",
    "# Dieser Code führt die folgende Aufgabe aus:\n",
    "# (Fügen Sie hier eine spezifische Erklärung hinzu, basierend auf dem Code.)\n",
    "# This cell performs the following task:\n",
    "# (Add specific annotations here based on the logic in the cell)\n",
    "\n",
    "final_data"
   ]
  },
  {
   "cell_type": "markdown",
   "id": "57637fea",
   "metadata": {},
   "source": [
    "So now we have our clean dataset!"
   ]
  },
  {
   "cell_type": "markdown",
   "id": "fdf5d95e",
   "metadata": {},
   "source": [
    "# 5. We export everything into a csv file"
   ]
  },
  {
   "cell_type": "code",
   "execution_count": null,
   "id": "ab6013b4",
   "metadata": {},
   "outputs": [],
   "source": [
    "# ANNOTATION (auf Deutsch):\n",
    "# Dieser Code führt die folgende Aufgabe aus:\n",
    "# (Fügen Sie hier eine spezifische Erklärung hinzu, basierend auf dem Code.)\n",
    "# This cell performs the following task:\n",
    "# (Add specific annotations here based on the logic in the cell)\n",
    "\n",
    "final_data.to_csv(\"headers.csv\")"
   ]
  },
  {
   "cell_type": "markdown",
   "id": "1a171c1d",
   "metadata": {},
   "source": [
    "### Content from: 2. Importing Text Data Gale.ipynb"
   ]
  },
  {
   "cell_type": "markdown",
   "id": "41659327",
   "metadata": {},
   "source": [
    "#### Annotation:\n",
    "This section includes the content and logic from the original notebook. Annotations have been added to explain the purpose and function of each code cell."
   ]
  },
  {
   "cell_type": "markdown",
   "id": "7785fdc4",
   "metadata": {},
   "source": [
    "Now that we have our dataframe with the Metadata, let's find a way to use the text files that we can download from the Gale. First, let's import them into our computer."
   ]
  },
  {
   "cell_type": "markdown",
   "id": "d9c2f14d",
   "metadata": {},
   "source": [
    "# 1. We import the libraries"
   ]
  },
  {
   "cell_type": "code",
   "execution_count": null,
   "id": "b15385b0",
   "metadata": {},
   "outputs": [],
   "source": [
    "# ANNOTATION (auf Deutsch):\n",
    "# Dieser Code führt die folgende Aufgabe aus:\n",
    "# (Fügen Sie hier eine spezifische Erklärung hinzu, basierend auf dem Code.)\n",
    "# This cell performs the following task:\n",
    "# (Add specific annotations here based on the logic in the cell)\n",
    "\n",
    "import pandas as pd\n",
    "import os"
   ]
  },
  {
   "cell_type": "markdown",
   "id": "99993560",
   "metadata": {},
   "source": [
    "# 2. We set a Path to get the files"
   ]
  },
  {
   "cell_type": "markdown",
   "id": "3c6164f8",
   "metadata": {},
   "source": [
    "To be able to access the files, we need to first find where they are located in our computer. So, we need to set a path."
   ]
  },
  {
   "cell_type": "code",
   "execution_count": null,
   "id": "de11025b",
   "metadata": {},
   "outputs": [],
   "source": [
    "# ANNOTATION (auf Deutsch):\n",
    "# Dieser Code führt die folgende Aufgabe aus:\n",
    "# (Fügen Sie hier eine spezifische Erklärung hinzu, basierend auf dem Code.)\n",
    "# This cell performs the following task:\n",
    "# (Add specific annotations here based on the logic in the cell)\n",
    "\n",
    "pwd"
   ]
  },
  {
   "cell_type": "code",
   "execution_count": null,
   "id": "4e39d0a8",
   "metadata": {},
   "outputs": [],
   "source": [
    "# ANNOTATION (auf Deutsch):\n",
    "# Dieser Code führt die folgende Aufgabe aus:\n",
    "# (Fügen Sie hier eine spezifische Erklärung hinzu, basierend auf dem Code.)\n",
    "# This cell performs the following task:\n",
    "# (Add specific annotations here based on the logic in the cell)\n",
    "\n",
    "ls"
   ]
  },
  {
   "cell_type": "code",
   "execution_count": null,
   "id": "42c96eb6",
   "metadata": {},
   "outputs": [],
   "source": [
    "# ANNOTATION (auf Deutsch):\n",
    "# Dieser Code führt die folgende Aufgabe aus:\n",
    "# (Fügen Sie hier eine spezifische Erklärung hinzu, basierend auf dem Code.)\n",
    "# This cell performs the following task:\n",
    "# (Add specific annotations here based on the logic in the cell)\n",
    "\n",
    "directory_path = \"yourpath\""
   ]
  },
  {
   "cell_type": "code",
   "execution_count": null,
   "id": "25df3dfb",
   "metadata": {},
   "outputs": [],
   "source": [
    "# ANNOTATION (auf Deutsch):\n",
    "# Dieser Code führt die folgende Aufgabe aus:\n",
    "# (Fügen Sie hier eine spezifische Erklärung hinzu, basierend auf dem Code.)\n",
    "# This cell performs the following task:\n",
    "# (Add specific annotations here based on the logic in the cell)\n",
    "\n",
    "directory_path"
   ]
  },
  {
   "cell_type": "markdown",
   "id": "83e2d234",
   "metadata": {},
   "source": [
    "# 3. We create the dataframe"
   ]
  },
  {
   "cell_type": "markdown",
   "id": "d56a5c8c",
   "metadata": {},
   "source": [
    "Now that we have the files, we need to import them into our laptop and create a datafarame with titles in one column and the text of the article in another column."
   ]
  },
  {
   "cell_type": "code",
   "execution_count": null,
   "id": "0c1d5156",
   "metadata": {},
   "outputs": [],
   "source": [
    "# ANNOTATION (auf Deutsch):\n",
    "# Dieser Code führt die folgende Aufgabe aus:\n",
    "# (Fügen Sie hier eine spezifische Erklärung hinzu, basierend auf dem Code.)\n",
    "# This cell performs the following task:\n",
    "# (Add specific annotations here based on the logic in the cell)\n",
    "\n",
    "titles = []\n",
    "contents = []"
   ]
  },
  {
   "cell_type": "code",
   "execution_count": null,
   "id": "2d649dd5",
   "metadata": {},
   "outputs": [],
   "source": [
    "# ANNOTATION (auf Deutsch):\n",
    "# Dieser Code führt die folgende Aufgabe aus:\n",
    "# (Fügen Sie hier eine spezifische Erklärung hinzu, basierend auf dem Code.)\n",
    "# This cell performs the following task:\n",
    "# (Add specific annotations here based on the logic in the cell)\n",
    "\n",
    "for filename in os.listdir(directory_path):\n",
    "    if filename.endswith('.txt'):  # Ensure you're only processing text files\n",
    "        with open(os.path.join(directory_path, filename), 'r') as file:\n",
    "            titles.append(filename)  # Store the filename as title\n",
    "            contents.append(file.read())  # Read and store the content"
   ]
  },
  {
   "cell_type": "code",
   "execution_count": null,
   "id": "ca8c5064",
   "metadata": {},
   "outputs": [],
   "source": [
    "# ANNOTATION (auf Deutsch):\n",
    "# Dieser Code führt die folgende Aufgabe aus:\n",
    "# (Fügen Sie hier eine spezifische Erklärung hinzu, basierend auf dem Code.)\n",
    "# This cell performs the following task:\n",
    "# (Add specific annotations here based on the logic in the cell)\n",
    "\n",
    "titles"
   ]
  },
  {
   "cell_type": "code",
   "execution_count": null,
   "id": "181a06b7",
   "metadata": {},
   "outputs": [],
   "source": [
    "# ANNOTATION (auf Deutsch):\n",
    "# Dieser Code führt die folgende Aufgabe aus:\n",
    "# (Fügen Sie hier eine spezifische Erklärung hinzu, basierend auf dem Code.)\n",
    "# This cell performs the following task:\n",
    "# (Add specific annotations here based on the logic in the cell)\n",
    "\n",
    "len(titles)"
   ]
  },
  {
   "cell_type": "code",
   "execution_count": null,
   "id": "f8dac68b",
   "metadata": {},
   "outputs": [],
   "source": [
    "# ANNOTATION (auf Deutsch):\n",
    "# Dieser Code führt die folgende Aufgabe aus:\n",
    "# (Fügen Sie hier eine spezifische Erklärung hinzu, basierend auf dem Code.)\n",
    "# This cell performs the following task:\n",
    "# (Add specific annotations here based on the logic in the cell)\n",
    "\n",
    "contents"
   ]
  },
  {
   "cell_type": "code",
   "execution_count": null,
   "id": "bff1cd2f",
   "metadata": {},
   "outputs": [],
   "source": [
    "# ANNOTATION (auf Deutsch):\n",
    "# Dieser Code führt die folgende Aufgabe aus:\n",
    "# (Fügen Sie hier eine spezifische Erklärung hinzu, basierend auf dem Code.)\n",
    "# This cell performs the following task:\n",
    "# (Add specific annotations here based on the logic in the cell)\n",
    "\n",
    "type(contents[0])"
   ]
  },
  {
   "cell_type": "code",
   "execution_count": null,
   "id": "ee8a582c",
   "metadata": {},
   "outputs": [],
   "source": [
    "# ANNOTATION (auf Deutsch):\n",
    "# Dieser Code führt die folgende Aufgabe aus:\n",
    "# (Fügen Sie hier eine spezifische Erklärung hinzu, basierend auf dem Code.)\n",
    "# This cell performs the following task:\n",
    "# (Add specific annotations here based on the logic in the cell)\n",
    "\n",
    "len(contents)"
   ]
  },
  {
   "cell_type": "code",
   "execution_count": null,
   "id": "693e2904",
   "metadata": {},
   "outputs": [],
   "source": [
    "# ANNOTATION (auf Deutsch):\n",
    "# Dieser Code führt die folgende Aufgabe aus:\n",
    "# (Fügen Sie hier eine spezifische Erklärung hinzu, basierend auf dem Code.)\n",
    "# This cell performs the following task:\n",
    "# (Add specific annotations here based on the logic in the cell)\n",
    "\n",
    "df = pd.DataFrame({\n",
    "    'Title': titles,\n",
    "    'Content': contents\n",
    "})"
   ]
  },
  {
   "cell_type": "code",
   "execution_count": null,
   "id": "204f531c",
   "metadata": {},
   "outputs": [],
   "source": [
    "# ANNOTATION (auf Deutsch):\n",
    "# Dieser Code führt die folgende Aufgabe aus:\n",
    "# (Fügen Sie hier eine spezifische Erklärung hinzu, basierend auf dem Code.)\n",
    "# This cell performs the following task:\n",
    "# (Add specific annotations here based on the logic in the cell)\n",
    "\n",
    "df"
   ]
  },
  {
   "cell_type": "markdown",
   "id": "d4ca239f",
   "metadata": {},
   "source": [
    "# 4. We export the dataframe"
   ]
  },
  {
   "cell_type": "markdown",
   "id": "4bb466bb",
   "metadata": {},
   "source": [
    "Success! We have our dataframe and we are ready to export it to a CSV file to start the process of cleaning and pre-processing."
   ]
  },
  {
   "cell_type": "code",
   "execution_count": null,
   "id": "648bba10",
   "metadata": {},
   "outputs": [],
   "source": [
    "# ANNOTATION (auf Deutsch):\n",
    "# Dieser Code führt die folgende Aufgabe aus:\n",
    "# (Fügen Sie hier eine spezifische Erklärung hinzu, basierend auf dem Code.)\n",
    "# This cell performs the following task:\n",
    "# (Add specific annotations here based on the logic in the cell)\n",
    "\n",
    "df.to_csv('raw_data.csv', index = False)"
   ]
  },
  {
   "cell_type": "markdown",
   "id": "ce3a1ca4",
   "metadata": {},
   "source": [
    "### Content from: 1. Gale Metadata.ipynb"
   ]
  },
  {
   "cell_type": "markdown",
   "id": "f8b5d7fb",
   "metadata": {},
   "source": [
    "#### Annotation:\n",
    "This section includes the content and logic from the original notebook. Annotations have been added to explain the purpose and function of each code cell."
   ]
  },
  {
   "cell_type": "markdown",
   "id": "c09a836a",
   "metadata": {},
   "source": [
    "Let's begin transforming the Gale Metadata Dataframe into something that we can use to later on merge with our text data."
   ]
  },
  {
   "cell_type": "markdown",
   "id": "9830dc87",
   "metadata": {},
   "source": [
    "# 1. We impor the libraries"
   ]
  },
  {
   "cell_type": "code",
   "execution_count": null,
   "id": "c69277f6",
   "metadata": {},
   "outputs": [],
   "source": [
    "# ANNOTATION (auf Deutsch):\n",
    "# Dieser Code führt die folgende Aufgabe aus:\n",
    "# (Fügen Sie hier eine spezifische Erklärung hinzu, basierend auf dem Code.)\n",
    "# This cell performs the following task:\n",
    "# (Add specific annotations here based on the logic in the cell)\n",
    "\n",
    "import pandas as pd\n",
    "import csv"
   ]
  },
  {
   "cell_type": "markdown",
   "id": "a1dce3bf",
   "metadata": {},
   "source": [
    "# 2. We import our data"
   ]
  },
  {
   "cell_type": "code",
   "execution_count": null,
   "id": "ae105a16",
   "metadata": {},
   "outputs": [],
   "source": [
    "# ANNOTATION (auf Deutsch):\n",
    "# Dieser Code führt die folgende Aufgabe aus:\n",
    "# (Fügen Sie hier eine spezifische Erklärung hinzu, basierend auf dem Code.)\n",
    "# This cell performs the following task:\n",
    "# (Add specific annotations here based on the logic in the cell)\n",
    "\n",
    "metadata = pd.read_csv(\"Times 1980 January February_metadata.csv\", index_col = False)"
   ]
  },
  {
   "cell_type": "code",
   "execution_count": null,
   "id": "900d4260",
   "metadata": {},
   "outputs": [],
   "source": [
    "# ANNOTATION (auf Deutsch):\n",
    "# Dieser Code führt die folgende Aufgabe aus:\n",
    "# (Fügen Sie hier eine spezifische Erklärung hinzu, basierend auf dem Code.)\n",
    "# This cell performs the following task:\n",
    "# (Add specific annotations here based on the logic in the cell)\n",
    "\n",
    "metadata"
   ]
  },
  {
   "cell_type": "markdown",
   "id": "4606b535",
   "metadata": {},
   "source": [
    "# 3. We modify the metadata column that we need to do the matching later on"
   ]
  },
  {
   "cell_type": "code",
   "execution_count": null,
   "id": "c50d0fd1",
   "metadata": {},
   "outputs": [],
   "source": [
    "# ANNOTATION (auf Deutsch):\n",
    "# Dieser Code führt die folgende Aufgabe aus:\n",
    "# (Fügen Sie hier eine spezifische Erklärung hinzu, basierend auf dem Code.)\n",
    "# This cell performs the following task:\n",
    "# (Add specific annotations here based on the logic in the cell)\n",
    "\n",
    "text = metadata[\"Gale Document Number\"].to_list()"
   ]
  },
  {
   "cell_type": "code",
   "execution_count": null,
   "id": "f7e9bb53",
   "metadata": {},
   "outputs": [],
   "source": [
    "# ANNOTATION (auf Deutsch):\n",
    "# Dieser Code führt die folgende Aufgabe aus:\n",
    "# (Fügen Sie hier eine spezifische Erklärung hinzu, basierend auf dem Code.)\n",
    "# This cell performs the following task:\n",
    "# (Add specific annotations here based on the logic in the cell)\n",
    "\n",
    "text"
   ]
  },
  {
   "cell_type": "markdown",
   "id": "a7a624a5",
   "metadata": {},
   "source": [
    "To be able to do a matching between the text dataframe and this column, we need to remove \"GALE\""
   ]
  },
  {
   "cell_type": "code",
   "execution_count": null,
   "id": "0b9cd887",
   "metadata": {},
   "outputs": [],
   "source": [
    "# ANNOTATION (auf Deutsch):\n",
    "# Dieser Code führt die folgende Aufgabe aus:\n",
    "# (Fügen Sie hier eine spezifische Erklärung hinzu, basierend auf dem Code.)\n",
    "# This cell performs the following task:\n",
    "# (Add specific annotations here based on the logic in the cell)\n",
    "\n",
    "new_text = []\n",
    "\n",
    "for i in text:\n",
    "    new_text.append(i.replace('GALE|', ''))\n",
    "    "
   ]
  },
  {
   "cell_type": "code",
   "execution_count": null,
   "id": "f8294fdd",
   "metadata": {},
   "outputs": [],
   "source": [
    "# ANNOTATION (auf Deutsch):\n",
    "# Dieser Code führt die folgende Aufgabe aus:\n",
    "# (Fügen Sie hier eine spezifische Erklärung hinzu, basierend auf dem Code.)\n",
    "# This cell performs the following task:\n",
    "# (Add specific annotations here based on the logic in the cell)\n",
    "\n",
    "new_text"
   ]
  },
  {
   "cell_type": "markdown",
   "id": "1020be2c",
   "metadata": {},
   "source": [
    "Now let's substitute the original column with that"
   ]
  },
  {
   "cell_type": "code",
   "execution_count": null,
   "id": "e1ad1d9a",
   "metadata": {},
   "outputs": [],
   "source": [
    "# ANNOTATION (auf Deutsch):\n",
    "# Dieser Code führt die folgende Aufgabe aus:\n",
    "# (Fügen Sie hier eine spezifische Erklärung hinzu, basierend auf dem Code.)\n",
    "# This cell performs the following task:\n",
    "# (Add specific annotations here based on the logic in the cell)\n",
    "\n",
    "metadata[\"Gale Document Number\"] = new_text"
   ]
  },
  {
   "cell_type": "code",
   "execution_count": null,
   "id": "a6e231b5",
   "metadata": {},
   "outputs": [],
   "source": [
    "# ANNOTATION (auf Deutsch):\n",
    "# Dieser Code führt die folgende Aufgabe aus:\n",
    "# (Fügen Sie hier eine spezifische Erklärung hinzu, basierend auf dem Code.)\n",
    "# This cell performs the following task:\n",
    "# (Add specific annotations here based on the logic in the cell)\n",
    "\n",
    "metadata"
   ]
  },
  {
   "cell_type": "markdown",
   "id": "00050214",
   "metadata": {},
   "source": [
    "# 4. We export that to a CSV dataframe that we can use later on"
   ]
  },
  {
   "cell_type": "code",
   "execution_count": null,
   "id": "6e205aa8",
   "metadata": {},
   "outputs": [],
   "source": [
    "# ANNOTATION (auf Deutsch):\n",
    "# Dieser Code führt die folgende Aufgabe aus:\n",
    "# (Fügen Sie hier eine spezifische Erklärung hinzu, basierend auf dem Code.)\n",
    "# This cell performs the following task:\n",
    "# (Add specific annotations here based on the logic in the cell)\n",
    "\n",
    "metadata.to_csv(\"final_metadata.csv\")"
   ]
  },
  {
   "cell_type": "markdown",
   "id": "4e046b25",
   "metadata": {},
   "source": [
    "### Content from: Exercises cleaning and pre-processing.ipynb"
   ]
  },
  {
   "cell_type": "markdown",
   "id": "97cf7c0b",
   "metadata": {},
   "source": [
    "#### Annotation:\n",
    "This section includes the content and logic from the original notebook. Annotations have been added to explain the purpose and function of each code cell."
   ]
  },
  {
   "cell_type": "markdown",
   "id": "4a405a70",
   "metadata": {},
   "source": [
    "# Cleaning and Preprocessing Exercises"
   ]
  },
  {
   "cell_type": "markdown",
   "id": "1092b788",
   "metadata": {},
   "source": [
    "Let's practice what we have just learnt!"
   ]
  },
  {
   "cell_type": "markdown",
   "id": "4973c0b5",
   "metadata": {},
   "source": [
    "# Exercise 1. Multilingual cleaning and pre-processing"
   ]
  },
  {
   "cell_type": "markdown",
   "id": "779572d6",
   "metadata": {},
   "source": [
    "#### A. Import the libraries"
   ]
  },
  {
   "cell_type": "code",
   "execution_count": null,
   "id": "ba731249",
   "metadata": {},
   "outputs": [],
   "source": [
    "# ANNOTATION (auf Deutsch):\n",
    "# Dieser Code führt die folgende Aufgabe aus:\n",
    "# (Fügen Sie hier eine spezifische Erklärung hinzu, basierend auf dem Code.)\n",
    "# This cell performs the following task:\n",
    "# (Add specific annotations here based on the logic in the cell)\n",
    "\n",
    "#Your code in here"
   ]
  },
  {
   "cell_type": "code",
   "execution_count": null,
   "id": "0415829e",
   "metadata": {},
   "outputs": [],
   "source": [
    "# ANNOTATION (auf Deutsch):\n",
    "# Dieser Code führt die folgende Aufgabe aus:\n",
    "# (Fügen Sie hier eine spezifische Erklärung hinzu, basierend auf dem Code.)\n",
    "# This cell performs the following task:\n",
    "# (Add specific annotations here based on the logic in the cell)\n",
    "\n",
    "#Solution\n",
    "\n",
    "import pandas as pd\n",
    "\n",
    "import string\n",
    "\n",
    "import nltk\n",
    "from nltk.tokenize import word_tokenize\n",
    "from nltk.corpus import stopwords\n",
    "\n",
    "\n",
    "import nltk\n",
    "from nltk.corpus import gutenberg\n",
    "from nltk.tokenize import word_tokenize"
   ]
  },
  {
   "cell_type": "markdown",
   "id": "c1c21d52",
   "metadata": {},
   "source": [
    "#### B. Open the file that you created in the first exercise (**Vingt milles lieues sous les mers**). "
   ]
  },
  {
   "cell_type": "code",
   "execution_count": null,
   "id": "d9bf86ab",
   "metadata": {},
   "outputs": [],
   "source": [
    "# ANNOTATION (auf Deutsch):\n",
    "# Dieser Code führt die folgende Aufgabe aus:\n",
    "# (Fügen Sie hier eine spezifische Erklärung hinzu, basierend auf dem Code.)\n",
    "# This cell performs the following task:\n",
    "# (Add specific annotations here based on the logic in the cell)\n",
    "\n",
    "#Your code in here"
   ]
  },
  {
   "cell_type": "code",
   "execution_count": null,
   "id": "c827e650",
   "metadata": {},
   "outputs": [],
   "source": [
    "# ANNOTATION (auf Deutsch):\n",
    "# Dieser Code führt die folgende Aufgabe aus:\n",
    "# (Fügen Sie hier eine spezifische Erklärung hinzu, basierend auf dem Code.)\n",
    "# This cell performs the following task:\n",
    "# (Add specific annotations here based on the logic in the cell)\n",
    "\n",
    "#Solution\n",
    "\n",
    "data = pd.read_csv(\"vingt_mille_chapters.csv\", index_col = 0)\n",
    "data"
   ]
  },
  {
   "cell_type": "markdown",
   "id": "dfa1880f",
   "metadata": {},
   "source": [
    "#### C. Extract the text of the chapters into a list"
   ]
  },
  {
   "cell_type": "code",
   "execution_count": null,
   "id": "20013df5",
   "metadata": {},
   "outputs": [],
   "source": [
    "# ANNOTATION (auf Deutsch):\n",
    "# Dieser Code führt die folgende Aufgabe aus:\n",
    "# (Fügen Sie hier eine spezifische Erklärung hinzu, basierend auf dem Code.)\n",
    "# This cell performs the following task:\n",
    "# (Add specific annotations here based on the logic in the cell)\n",
    "\n",
    "#Your code in here"
   ]
  },
  {
   "cell_type": "code",
   "execution_count": null,
   "id": "58c63d96",
   "metadata": {},
   "outputs": [],
   "source": [
    "# ANNOTATION (auf Deutsch):\n",
    "# Dieser Code führt die folgende Aufgabe aus:\n",
    "# (Fügen Sie hier eine spezifische Erklärung hinzu, basierend auf dem Code.)\n",
    "# This cell performs the following task:\n",
    "# (Add specific annotations here based on the logic in the cell)\n",
    "\n",
    "#Solution\n",
    "\n",
    "text = data[\"Text\"].to_list()"
   ]
  },
  {
   "cell_type": "code",
   "execution_count": null,
   "id": "c41c5be3",
   "metadata": {},
   "outputs": [],
   "source": [
    "# ANNOTATION (auf Deutsch):\n",
    "# Dieser Code führt die folgende Aufgabe aus:\n",
    "# (Fügen Sie hier eine spezifische Erklärung hinzu, basierend auf dem Code.)\n",
    "# This cell performs the following task:\n",
    "# (Add specific annotations here based on the logic in the cell)\n",
    "\n",
    "len(text)"
   ]
  },
  {
   "cell_type": "markdown",
   "id": "0a54a3db",
   "metadata": {},
   "source": [
    "#### D. Tokenize your text"
   ]
  },
  {
   "cell_type": "code",
   "execution_count": null,
   "id": "86a97955",
   "metadata": {},
   "outputs": [],
   "source": [
    "# ANNOTATION (auf Deutsch):\n",
    "# Dieser Code führt die folgende Aufgabe aus:\n",
    "# (Fügen Sie hier eine spezifische Erklärung hinzu, basierend auf dem Code.)\n",
    "# This cell performs the following task:\n",
    "# (Add specific annotations here based on the logic in the cell)\n",
    "\n",
    "#Your code in here"
   ]
  },
  {
   "cell_type": "code",
   "execution_count": null,
   "id": "368814fb",
   "metadata": {},
   "outputs": [],
   "source": [
    "# ANNOTATION (auf Deutsch):\n",
    "# Dieser Code führt die folgende Aufgabe aus:\n",
    "# (Fügen Sie hier eine spezifische Erklärung hinzu, basierend auf dem Code.)\n",
    "# This cell performs the following task:\n",
    "# (Add specific annotations here based on the logic in the cell)\n",
    "\n",
    "#Solution\n",
    "tokens = []\n",
    "\n",
    "for i in text:\n",
    "    tokens.append(word_tokenize(i))"
   ]
  },
  {
   "cell_type": "markdown",
   "id": "a1740525",
   "metadata": {},
   "source": [
    "#### E. Lowercase your text"
   ]
  },
  {
   "cell_type": "code",
   "execution_count": null,
   "id": "b0946c6c",
   "metadata": {},
   "outputs": [],
   "source": [
    "# ANNOTATION (auf Deutsch):\n",
    "# Dieser Code führt die folgende Aufgabe aus:\n",
    "# (Fügen Sie hier eine spezifische Erklärung hinzu, basierend auf dem Code.)\n",
    "# This cell performs the following task:\n",
    "# (Add specific annotations here based on the logic in the cell)\n",
    "\n",
    "#Solution\n",
    "lower_tokens = []\n",
    "\n",
    "for i in tokens:\n",
    "    list_1 = [] \n",
    "    for x in i: \n",
    "        list_1.append(x.lower()) \n",
    "    lower_tokens.append(list_1)"
   ]
  },
  {
   "cell_type": "markdown",
   "id": "6deb498b",
   "metadata": {},
   "source": [
    "#### F. Remove Punctuation"
   ]
  },
  {
   "cell_type": "code",
   "execution_count": null,
   "id": "28f18cf9",
   "metadata": {},
   "outputs": [],
   "source": [
    "# ANNOTATION (auf Deutsch):\n",
    "# Dieser Code führt die folgende Aufgabe aus:\n",
    "# (Fügen Sie hier eine spezifische Erklärung hinzu, basierend auf dem Code.)\n",
    "# This cell performs the following task:\n",
    "# (Add specific annotations here based on the logic in the cell)\n",
    "\n",
    "#Your code in here"
   ]
  },
  {
   "cell_type": "code",
   "execution_count": null,
   "id": "c8cea044",
   "metadata": {},
   "outputs": [],
   "source": [
    "# ANNOTATION (auf Deutsch):\n",
    "# Dieser Code führt die folgende Aufgabe aus:\n",
    "# (Fügen Sie hier eine spezifische Erklärung hinzu, basierend auf dem Code.)\n",
    "# This cell performs the following task:\n",
    "# (Add specific annotations here based on the logic in the cell)\n",
    "\n",
    "#Solution\n",
    "\n",
    "punctuation_free = []\n",
    "\n",
    "for i in lower_tokens:\n",
    "    punctuation_free.append(\" \".join(c for c in i if c not in string.punctuation))"
   ]
  },
  {
   "cell_type": "markdown",
   "id": "e1ea1985",
   "metadata": {},
   "source": [
    "#### G. Remove Stopwords"
   ]
  },
  {
   "cell_type": "code",
   "execution_count": null,
   "id": "10e909fa",
   "metadata": {},
   "outputs": [],
   "source": [
    "# ANNOTATION (auf Deutsch):\n",
    "# Dieser Code führt die folgende Aufgabe aus:\n",
    "# (Fügen Sie hier eine spezifische Erklärung hinzu, basierend auf dem Code.)\n",
    "# This cell performs the following task:\n",
    "# (Add specific annotations here based on the logic in the cell)\n",
    "\n",
    "print(stopwords.words(\"french\"))"
   ]
  },
  {
   "cell_type": "code",
   "execution_count": null,
   "id": "9fc2e306",
   "metadata": {},
   "outputs": [],
   "source": [
    "# ANNOTATION (auf Deutsch):\n",
    "# Dieser Code führt die folgende Aufgabe aus:\n",
    "# (Fügen Sie hier eine spezifische Erklärung hinzu, basierend auf dem Code.)\n",
    "# This cell performs the following task:\n",
    "# (Add specific annotations here based on the logic in the cell)\n",
    "\n",
    "#Your code in here"
   ]
  },
  {
   "cell_type": "code",
   "execution_count": null,
   "id": "485e7558",
   "metadata": {},
   "outputs": [],
   "source": [
    "# ANNOTATION (auf Deutsch):\n",
    "# Dieser Code führt die folgende Aufgabe aus:\n",
    "# (Fügen Sie hier eine spezifische Erklärung hinzu, basierend auf dem Code.)\n",
    "# This cell performs the following task:\n",
    "# (Add specific annotations here based on the logic in the cell)\n",
    "\n",
    "#Solution\n",
    "\n",
    "super_clean = []\n",
    "for i in punctuation_free:\n",
    "    super_clean.append(\" \".join(c for c in i.split() if c not in stopwords.words(\"french\")))"
   ]
  },
  {
   "cell_type": "markdown",
   "id": "bfd88b76",
   "metadata": {},
   "source": [
    "#### F. Check out Stopwords in German (this is useful for those of you who want to use German text!)"
   ]
  },
  {
   "cell_type": "code",
   "execution_count": null,
   "id": "f9f37dd4",
   "metadata": {},
   "outputs": [],
   "source": [
    "# ANNOTATION (auf Deutsch):\n",
    "# Dieser Code führt die folgende Aufgabe aus:\n",
    "# (Fügen Sie hier eine spezifische Erklärung hinzu, basierend auf dem Code.)\n",
    "# This cell performs the following task:\n",
    "# (Add specific annotations here based on the logic in the cell)\n",
    "\n",
    "print(stopwords.words(\"german\"))"
   ]
  },
  {
   "cell_type": "markdown",
   "id": "921e52d8",
   "metadata": {},
   "source": [
    "# Exercise 2"
   ]
  },
  {
   "cell_type": "markdown",
   "id": "dde02271",
   "metadata": {},
   "source": [
    "#### A. Create a Pandas Dataframe with your clean text"
   ]
  },
  {
   "cell_type": "code",
   "execution_count": null,
   "id": "8d8ba00f",
   "metadata": {},
   "outputs": [],
   "source": [
    "# ANNOTATION (auf Deutsch):\n",
    "# Dieser Code führt die folgende Aufgabe aus:\n",
    "# (Fügen Sie hier eine spezifische Erklärung hinzu, basierend auf dem Code.)\n",
    "# This cell performs the following task:\n",
    "# (Add specific annotations here based on the logic in the cell)\n",
    "\n",
    "#Your code in here"
   ]
  },
  {
   "cell_type": "code",
   "execution_count": null,
   "id": "b5e75eee",
   "metadata": {},
   "outputs": [],
   "source": [
    "# ANNOTATION (auf Deutsch):\n",
    "# Dieser Code führt die folgende Aufgabe aus:\n",
    "# (Fügen Sie hier eine spezifische Erklärung hinzu, basierend auf dem Code.)\n",
    "# This cell performs the following task:\n",
    "# (Add specific annotations here based on the logic in the cell)\n",
    "\n",
    "#Solution\n",
    "\n",
    "chapter = []\n",
    "\n",
    "x = list(range(1, 48))\n",
    "for i in x:\n",
    "    chapter.append(f\"Chapter {i}\")"
   ]
  },
  {
   "cell_type": "code",
   "execution_count": null,
   "id": "b5e539bd",
   "metadata": {},
   "outputs": [],
   "source": [
    "# ANNOTATION (auf Deutsch):\n",
    "# Dieser Code führt die folgende Aufgabe aus:\n",
    "# (Fügen Sie hier eine spezifische Erklärung hinzu, basierend auf dem Code.)\n",
    "# This cell performs the following task:\n",
    "# (Add specific annotations here based on the logic in the cell)\n",
    "\n",
    "key_list = chapter\n",
    "value_list = super_clean"
   ]
  },
  {
   "cell_type": "code",
   "execution_count": null,
   "id": "7d6101f3",
   "metadata": {},
   "outputs": [],
   "source": [
    "# ANNOTATION (auf Deutsch):\n",
    "# Dieser Code führt die folgende Aufgabe aus:\n",
    "# (Fügen Sie hier eine spezifische Erklärung hinzu, basierend auf dem Code.)\n",
    "# This cell performs the following task:\n",
    "# (Add specific annotations here based on the logic in the cell)\n",
    "\n",
    "data = dict(zip(key_list, value_list))"
   ]
  },
  {
   "cell_type": "code",
   "execution_count": null,
   "id": "0373dfbb",
   "metadata": {},
   "outputs": [],
   "source": [
    "# ANNOTATION (auf Deutsch):\n",
    "# Dieser Code führt die folgende Aufgabe aus:\n",
    "# (Fügen Sie hier eine spezifische Erklärung hinzu, basierend auf dem Code.)\n",
    "# This cell performs the following task:\n",
    "# (Add specific annotations here based on the logic in the cell)\n",
    "\n",
    "data = pd.DataFrame(chapter, columns = [\"Chapter\"]) #so the only thing that we need to do is to create a dataframe with pandas.\n",
    "data[\"Text\"] = super_clean"
   ]
  },
  {
   "cell_type": "markdown",
   "id": "27285782",
   "metadata": {},
   "source": [
    "#### B. Save that into a csv file"
   ]
  },
  {
   "cell_type": "code",
   "execution_count": null,
   "id": "87558e32",
   "metadata": {},
   "outputs": [],
   "source": [
    "# ANNOTATION (auf Deutsch):\n",
    "# Dieser Code führt die folgende Aufgabe aus:\n",
    "# (Fügen Sie hier eine spezifische Erklärung hinzu, basierend auf dem Code.)\n",
    "# This cell performs the following task:\n",
    "# (Add specific annotations here based on the logic in the cell)\n",
    "\n",
    "data.to_csv(\"clean_vingtmille_chapters.csv\")"
   ]
  },
  {
   "cell_type": "markdown",
   "id": "a8f7ca49",
   "metadata": {},
   "source": [
    "#### C. Transform your super_clean variable (a list) into a single string"
   ]
  },
  {
   "cell_type": "code",
   "execution_count": null,
   "id": "d89bc669",
   "metadata": {},
   "outputs": [],
   "source": [
    "# ANNOTATION (auf Deutsch):\n",
    "# Dieser Code führt die folgende Aufgabe aus:\n",
    "# (Fügen Sie hier eine spezifische Erklärung hinzu, basierend auf dem Code.)\n",
    "# This cell performs the following task:\n",
    "# (Add specific annotations here based on the logic in the cell)\n",
    "\n",
    "#Your code in here"
   ]
  },
  {
   "cell_type": "code",
   "execution_count": null,
   "id": "84346d39",
   "metadata": {},
   "outputs": [],
   "source": [
    "# ANNOTATION (auf Deutsch):\n",
    "# Dieser Code führt die folgende Aufgabe aus:\n",
    "# (Fügen Sie hier eine spezifische Erklärung hinzu, basierend auf dem Code.)\n",
    "# This cell performs the following task:\n",
    "# (Add specific annotations here based on the logic in the cell)\n",
    "\n",
    "#Solution\n",
    "\n",
    "full_text = \" \".join(super_clean)"
   ]
  },
  {
   "cell_type": "markdown",
   "id": "28fd3c52",
   "metadata": {},
   "source": [
    "#### D. Store that into a txt file"
   ]
  },
  {
   "cell_type": "code",
   "execution_count": null,
   "id": "cf4f6c19",
   "metadata": {},
   "outputs": [],
   "source": [
    "# ANNOTATION (auf Deutsch):\n",
    "# Dieser Code führt die folgende Aufgabe aus:\n",
    "# (Fügen Sie hier eine spezifische Erklärung hinzu, basierend auf dem Code.)\n",
    "# This cell performs the following task:\n",
    "# (Add specific annotations here based on the logic in the cell)\n",
    "\n",
    "#Your code in here"
   ]
  },
  {
   "cell_type": "code",
   "execution_count": null,
   "id": "d593a6a4",
   "metadata": {},
   "outputs": [],
   "source": [
    "# ANNOTATION (auf Deutsch):\n",
    "# Dieser Code führt die folgende Aufgabe aus:\n",
    "# (Fügen Sie hier eine spezifische Erklärung hinzu, basierend auf dem Code.)\n",
    "# This cell performs the following task:\n",
    "# (Add specific annotations here based on the logic in the cell)\n",
    "\n",
    "#Solution\n",
    "\n",
    "with open(\"full_text_vingtmille.txt\", \"w\", encoding = \"utf-8\") as f:\n",
    "    f.write(full_text)"
   ]
  },
  {
   "cell_type": "markdown",
   "id": "8ac76a32",
   "metadata": {},
   "source": [
    "### Content from: Cleaning and preprocessing data.ipynb"
   ]
  },
  {
   "cell_type": "markdown",
   "id": "8e895dc4",
   "metadata": {},
   "source": [
    "#### Annotation:\n",
    "This section includes the content and logic from the original notebook. Annotations have been added to explain the purpose and function of each code cell."
   ]
  },
  {
   "cell_type": "markdown",
   "id": "f155f6d7",
   "metadata": {},
   "source": [
    "# Step 2. Cleaning and Pre-processing data"
   ]
  },
  {
   "cell_type": "markdown",
   "id": "2500c3ae",
   "metadata": {},
   "source": [
    "Now that you have your data (Webscraping, APIs, PDFs, databases...) the next step in our Digital Humanities project is **cleaning and pre-processing**. In this notebook we are going to use the file that we just created in the previous notebook (*Around the World in Eighty Days*) and we are going to:\n",
    "\n",
    "* Tokenize\n",
    "* Lowercase\n",
    "* Remove Punctuation\n",
    "* Remove Stopwords"
   ]
  },
  {
   "cell_type": "markdown",
   "id": "996de354",
   "metadata": {},
   "source": [
    "# 1. We import our libraries"
   ]
  },
  {
   "cell_type": "code",
   "execution_count": null,
   "id": "62b0cea6",
   "metadata": {},
   "outputs": [],
   "source": [
    "# ANNOTATION (auf Deutsch):\n",
    "# Dieser Code führt die folgende Aufgabe aus:\n",
    "# (Fügen Sie hier eine spezifische Erklärung hinzu, basierend auf dem Code.)\n",
    "# This cell performs the following task:\n",
    "# (Add specific annotations here based on the logic in the cell)\n",
    "\n",
    "import pandas as pd\n",
    "\n",
    "import string\n",
    "\n",
    "import nltk\n",
    "from nltk.tokenize import word_tokenize\n",
    "from nltk.corpus import stopwords\n",
    "\n",
    "\n",
    "import nltk\n",
    "from nltk.corpus import gutenberg\n",
    "from nltk.tokenize import word_tokenize"
   ]
  },
  {
   "cell_type": "markdown",
   "id": "65869b12",
   "metadata": {},
   "source": [
    "# 2. We get our data"
   ]
  },
  {
   "cell_type": "code",
   "execution_count": null,
   "id": "60b330d3",
   "metadata": {},
   "outputs": [],
   "source": [
    "# ANNOTATION (auf Deutsch):\n",
    "# Dieser Code führt die folgende Aufgabe aus:\n",
    "# (Fügen Sie hier eine spezifische Erklärung hinzu, basierend auf dem Code.)\n",
    "# This cell performs the following task:\n",
    "# (Add specific annotations here based on the logic in the cell)\n",
    "\n",
    "data = pd.read_csv(\"around_the_world_chapters.csv\", index_col = 0)"
   ]
  },
  {
   "cell_type": "code",
   "execution_count": null,
   "id": "5b99bee2",
   "metadata": {},
   "outputs": [],
   "source": [
    "# ANNOTATION (auf Deutsch):\n",
    "# Dieser Code führt die folgende Aufgabe aus:\n",
    "# (Fügen Sie hier eine spezifische Erklärung hinzu, basierend auf dem Code.)\n",
    "# This cell performs the following task:\n",
    "# (Add specific annotations here based on the logic in the cell)\n",
    "\n",
    "data"
   ]
  },
  {
   "cell_type": "markdown",
   "id": "e30fc2de",
   "metadata": {},
   "source": [
    "# 3. We extract the text"
   ]
  },
  {
   "cell_type": "code",
   "execution_count": null,
   "id": "c0974ef5",
   "metadata": {},
   "outputs": [],
   "source": [
    "# ANNOTATION (auf Deutsch):\n",
    "# Dieser Code führt die folgende Aufgabe aus:\n",
    "# (Fügen Sie hier eine spezifische Erklärung hinzu, basierend auf dem Code.)\n",
    "# This cell performs the following task:\n",
    "# (Add specific annotations here based on the logic in the cell)\n",
    "\n",
    "text = data[\"Text\"].to_list() #we need to convert it into a list or else we would get a Pandas series and we could not work with it!"
   ]
  },
  {
   "cell_type": "code",
   "execution_count": null,
   "id": "c16008f6",
   "metadata": {},
   "outputs": [],
   "source": [
    "# ANNOTATION (auf Deutsch):\n",
    "# Dieser Code führt die folgende Aufgabe aus:\n",
    "# (Fügen Sie hier eine spezifische Erklärung hinzu, basierend auf dem Code.)\n",
    "# This cell performs the following task:\n",
    "# (Add specific annotations here based on the logic in the cell)\n",
    "\n",
    "len(text)"
   ]
  },
  {
   "cell_type": "markdown",
   "id": "b3266628",
   "metadata": {},
   "source": [
    "# 4. Tokenization"
   ]
  },
  {
   "cell_type": "code",
   "execution_count": null,
   "id": "29dde20e",
   "metadata": {},
   "outputs": [],
   "source": [
    "# ANNOTATION (auf Deutsch):\n",
    "# Dieser Code führt die folgende Aufgabe aus:\n",
    "# (Fügen Sie hier eine spezifische Erklärung hinzu, basierend auf dem Code.)\n",
    "# This cell performs the following task:\n",
    "# (Add specific annotations here based on the logic in the cell)\n",
    "\n",
    "import nltk #we already imported this library but it is just to show you that we are going to use it in here!\n",
    "from nltk.tokenize import word_tokenize"
   ]
  },
  {
   "cell_type": "code",
   "execution_count": null,
   "id": "fed4e4b5",
   "metadata": {},
   "outputs": [],
   "source": [
    "# ANNOTATION (auf Deutsch):\n",
    "# Dieser Code führt die folgende Aufgabe aus:\n",
    "# (Fügen Sie hier eine spezifische Erklärung hinzu, basierend auf dem Code.)\n",
    "# This cell performs the following task:\n",
    "# (Add specific annotations here based on the logic in the cell)\n",
    "\n",
    "tokens = []\n",
    "\n",
    "for i in text:\n",
    "    tokens.append(word_tokenize(i))"
   ]
  },
  {
   "cell_type": "code",
   "execution_count": null,
   "id": "478a6362",
   "metadata": {},
   "outputs": [],
   "source": [
    "# ANNOTATION (auf Deutsch):\n",
    "# Dieser Code führt die folgende Aufgabe aus:\n",
    "# (Fügen Sie hier eine spezifische Erklärung hinzu, basierend auf dem Code.)\n",
    "# This cell performs the following task:\n",
    "# (Add specific annotations here based on the logic in the cell)\n",
    "\n",
    "tokens"
   ]
  },
  {
   "cell_type": "code",
   "execution_count": null,
   "id": "b78f34d9",
   "metadata": {},
   "outputs": [],
   "source": [
    "# ANNOTATION (auf Deutsch):\n",
    "# Dieser Code führt die folgende Aufgabe aus:\n",
    "# (Fügen Sie hier eine spezifische Erklärung hinzu, basierend auf dem Code.)\n",
    "# This cell performs the following task:\n",
    "# (Add specific annotations here based on the logic in the cell)\n",
    "\n",
    "len(tokens)"
   ]
  },
  {
   "cell_type": "markdown",
   "id": "694cf915",
   "metadata": {},
   "source": [
    "# 5. Lower casing"
   ]
  },
  {
   "cell_type": "markdown",
   "id": "5de72dc3",
   "metadata": {},
   "source": [
    "To lower case our data, we need to right a double loop, as we are looping over each element (tokens) contained in each element of the list. So, first we loop over the list, and then we loop over each token in each list item."
   ]
  },
  {
   "cell_type": "code",
   "execution_count": null,
   "id": "0a2da2c0",
   "metadata": {},
   "outputs": [],
   "source": [
    "# ANNOTATION (auf Deutsch):\n",
    "# Dieser Code führt die folgende Aufgabe aus:\n",
    "# (Fügen Sie hier eine spezifische Erklärung hinzu, basierend auf dem Code.)\n",
    "# This cell performs the following task:\n",
    "# (Add specific annotations here based on the logic in the cell)\n",
    "\n",
    "lower_tokens = []"
   ]
  },
  {
   "cell_type": "code",
   "execution_count": null,
   "id": "28faf77c",
   "metadata": {},
   "outputs": [],
   "source": [
    "# ANNOTATION (auf Deutsch):\n",
    "# Dieser Code führt die folgende Aufgabe aus:\n",
    "# (Fügen Sie hier eine spezifische Erklärung hinzu, basierend auf dem Code.)\n",
    "# This cell performs the following task:\n",
    "# (Add specific annotations here based on the logic in the cell)\n",
    "\n",
    "for i in tokens:\n",
    "    list_1 = [] \n",
    "    for x in i: \n",
    "        list_1.append(x.lower()) \n",
    "    lower_tokens.append(list_1)"
   ]
  },
  {
   "cell_type": "code",
   "execution_count": null,
   "id": "500a23c3",
   "metadata": {},
   "outputs": [],
   "source": [
    "# ANNOTATION (auf Deutsch):\n",
    "# Dieser Code führt die folgende Aufgabe aus:\n",
    "# (Fügen Sie hier eine spezifische Erklärung hinzu, basierend auf dem Code.)\n",
    "# This cell performs the following task:\n",
    "# (Add specific annotations here based on the logic in the cell)\n",
    "\n",
    "lower_tokens"
   ]
  },
  {
   "cell_type": "code",
   "execution_count": null,
   "id": "34264299",
   "metadata": {},
   "outputs": [],
   "source": [
    "# ANNOTATION (auf Deutsch):\n",
    "# Dieser Code führt die folgende Aufgabe aus:\n",
    "# (Fügen Sie hier eine spezifische Erklärung hinzu, basierend auf dem Code.)\n",
    "# This cell performs the following task:\n",
    "# (Add specific annotations here based on the logic in the cell)\n",
    "\n",
    "len(lower_tokens)"
   ]
  },
  {
   "cell_type": "markdown",
   "id": "2ec1285d",
   "metadata": {},
   "source": [
    "# 6. Punctuation"
   ]
  },
  {
   "cell_type": "code",
   "execution_count": null,
   "id": "0e48e0a7",
   "metadata": {},
   "outputs": [],
   "source": [
    "# ANNOTATION (auf Deutsch):\n",
    "# Dieser Code führt die folgende Aufgabe aus:\n",
    "# (Fügen Sie hier eine spezifische Erklärung hinzu, basierend auf dem Code.)\n",
    "# This cell performs the following task:\n",
    "# (Add specific annotations here based on the logic in the cell)\n",
    "\n",
    "punctuation_free = []\n",
    "\n",
    "for i in lower_tokens:\n",
    "    punctuation_free.append(\" \".join(c for c in i if c not in string.punctuation))"
   ]
  },
  {
   "cell_type": "code",
   "execution_count": null,
   "id": "68f18643",
   "metadata": {},
   "outputs": [],
   "source": [
    "# ANNOTATION (auf Deutsch):\n",
    "# Dieser Code führt die folgende Aufgabe aus:\n",
    "# (Fügen Sie hier eine spezifische Erklärung hinzu, basierend auf dem Code.)\n",
    "# This cell performs the following task:\n",
    "# (Add specific annotations here based on the logic in the cell)\n",
    "\n",
    "punctuation_free"
   ]
  },
  {
   "cell_type": "code",
   "execution_count": null,
   "id": "65b901ca",
   "metadata": {},
   "outputs": [],
   "source": [
    "# ANNOTATION (auf Deutsch):\n",
    "# Dieser Code führt die folgende Aufgabe aus:\n",
    "# (Fügen Sie hier eine spezifische Erklärung hinzu, basierend auf dem Code.)\n",
    "# This cell performs the following task:\n",
    "# (Add specific annotations here based on the logic in the cell)\n",
    "\n",
    "len(punctuation_free)"
   ]
  },
  {
   "cell_type": "markdown",
   "id": "6527e752",
   "metadata": {},
   "source": [
    "# 7. Stopwords"
   ]
  },
  {
   "cell_type": "markdown",
   "id": "c221c704",
   "metadata": {},
   "source": [
    "Let's first have a look at stopwords in English."
   ]
  },
  {
   "cell_type": "code",
   "execution_count": null,
   "id": "31725f3a",
   "metadata": {},
   "outputs": [],
   "source": [
    "# ANNOTATION (auf Deutsch):\n",
    "# Dieser Code führt die folgende Aufgabe aus:\n",
    "# (Fügen Sie hier eine spezifische Erklärung hinzu, basierend auf dem Code.)\n",
    "# This cell performs the following task:\n",
    "# (Add specific annotations here based on the logic in the cell)\n",
    "\n",
    "print(stopwords.words(\"english\"))"
   ]
  },
  {
   "cell_type": "code",
   "execution_count": null,
   "id": "cb9665fa",
   "metadata": {},
   "outputs": [],
   "source": [
    "# ANNOTATION (auf Deutsch):\n",
    "# Dieser Code führt die folgende Aufgabe aus:\n",
    "# (Fügen Sie hier eine spezifische Erklärung hinzu, basierend auf dem Code.)\n",
    "# This cell performs the following task:\n",
    "# (Add specific annotations here based on the logic in the cell)\n",
    "\n",
    "super_clean = []\n",
    "for i in punctuation_free:\n",
    "    super_clean.append(\" \".join(c for c in i.split() if c not in stopwords.words(\"english\")))"
   ]
  },
  {
   "cell_type": "code",
   "execution_count": null,
   "id": "7cece387",
   "metadata": {},
   "outputs": [],
   "source": [
    "# ANNOTATION (auf Deutsch):\n",
    "# Dieser Code führt die folgende Aufgabe aus:\n",
    "# (Fügen Sie hier eine spezifische Erklärung hinzu, basierend auf dem Code.)\n",
    "# This cell performs the following task:\n",
    "# (Add specific annotations here based on the logic in the cell)\n",
    "\n",
    "super_clean"
   ]
  },
  {
   "cell_type": "code",
   "execution_count": null,
   "id": "826226c9",
   "metadata": {},
   "outputs": [],
   "source": [
    "# ANNOTATION (auf Deutsch):\n",
    "# Dieser Code führt die folgende Aufgabe aus:\n",
    "# (Fügen Sie hier eine spezifische Erklärung hinzu, basierend auf dem Code.)\n",
    "# This cell performs the following task:\n",
    "# (Add specific annotations here based on the logic in the cell)\n",
    "\n",
    "len(super_clean)"
   ]
  },
  {
   "cell_type": "markdown",
   "id": "1f1dc8a8",
   "metadata": {},
   "source": [
    "Great! We have 37 very clean chapters of **Around the World in 80 days**!"
   ]
  },
  {
   "cell_type": "markdown",
   "id": "5e7376d3",
   "metadata": {},
   "source": [
    "# Exercise 1"
   ]
  },
  {
   "cell_type": "markdown",
   "id": "81d968b1",
   "metadata": {},
   "source": [
    "# 8. Using that data"
   ]
  },
  {
   "cell_type": "markdown",
   "id": "a13cf9be",
   "metadata": {},
   "source": [
    "Now that we have **very clean data**, we have two options:\n",
    "    \n",
    "    1. We use it chapter by chapter the way we have it (in case we may want to see how things evolve over the novel)\n",
    "    2. We transform it into a single string in case we may want to analyse the whole book at once.\n",
    "    \n",
    "Let's do both things!"
   ]
  },
  {
   "cell_type": "markdown",
   "id": "88aced5a",
   "metadata": {},
   "source": [
    "**8.1. Chapters**"
   ]
  },
  {
   "cell_type": "code",
   "execution_count": null,
   "id": "5eebb793",
   "metadata": {},
   "outputs": [],
   "source": [
    "# ANNOTATION (auf Deutsch):\n",
    "# Dieser Code führt die folgende Aufgabe aus:\n",
    "# (Fügen Sie hier eine spezifische Erklärung hinzu, basierend auf dem Code.)\n",
    "# This cell performs the following task:\n",
    "# (Add specific annotations here based on the logic in the cell)\n",
    "\n",
    "chapter = []\n",
    "\n",
    "x = list(range(1, 38)) #we need to write 38 due to Python notation\n",
    "for i in x:\n",
    "    chapter.append(f\"Chapter {i}\")\n",
    "print(chapter)"
   ]
  },
  {
   "cell_type": "code",
   "execution_count": null,
   "id": "b76088ca",
   "metadata": {},
   "outputs": [],
   "source": [
    "# ANNOTATION (auf Deutsch):\n",
    "# Dieser Code führt die folgende Aufgabe aus:\n",
    "# (Fügen Sie hier eine spezifische Erklärung hinzu, basierend auf dem Code.)\n",
    "# This cell performs the following task:\n",
    "# (Add specific annotations here based on the logic in the cell)\n",
    "\n",
    "key_list = chapter\n",
    "value_list = super_clean"
   ]
  },
  {
   "cell_type": "markdown",
   "id": "a561095c",
   "metadata": {},
   "source": [
    "We can stor things into a dictionary"
   ]
  },
  {
   "cell_type": "code",
   "execution_count": null,
   "id": "88e860f4",
   "metadata": {},
   "outputs": [],
   "source": [
    "# ANNOTATION (auf Deutsch):\n",
    "# Dieser Code führt die folgende Aufgabe aus:\n",
    "# (Fügen Sie hier eine spezifische Erklärung hinzu, basierend auf dem Code.)\n",
    "# This cell performs the following task:\n",
    "# (Add specific annotations here based on the logic in the cell)\n",
    "\n",
    "data = dict(zip(key_list, value_list))\n",
    "data"
   ]
  },
  {
   "cell_type": "markdown",
   "id": "b1c3d319",
   "metadata": {},
   "source": [
    "Or into a csv file"
   ]
  },
  {
   "cell_type": "code",
   "execution_count": null,
   "id": "8d54c722",
   "metadata": {},
   "outputs": [],
   "source": [
    "# ANNOTATION (auf Deutsch):\n",
    "# Dieser Code führt die folgende Aufgabe aus:\n",
    "# (Fügen Sie hier eine spezifische Erklärung hinzu, basierend auf dem Code.)\n",
    "# This cell performs the following task:\n",
    "# (Add specific annotations here based on the logic in the cell)\n",
    "\n",
    "data = pd.DataFrame(chapter, columns = [\"Chapter\"]) #so the only thing that we need to do is to create a dataframe with pandas.\n",
    "data[\"Text\"] = super_clean"
   ]
  },
  {
   "cell_type": "code",
   "execution_count": null,
   "id": "d8072f1a",
   "metadata": {},
   "outputs": [],
   "source": [
    "# ANNOTATION (auf Deutsch):\n",
    "# Dieser Code führt die folgende Aufgabe aus:\n",
    "# (Fügen Sie hier eine spezifische Erklärung hinzu, basierend auf dem Code.)\n",
    "# This cell performs the following task:\n",
    "# (Add specific annotations here based on the logic in the cell)\n",
    "\n",
    "data"
   ]
  },
  {
   "cell_type": "markdown",
   "id": "6e990a20",
   "metadata": {},
   "source": [
    "And now let's save that into a dataframe"
   ]
  },
  {
   "cell_type": "code",
   "execution_count": null,
   "id": "19df7a10",
   "metadata": {},
   "outputs": [],
   "source": [
    "# ANNOTATION (auf Deutsch):\n",
    "# Dieser Code führt die folgende Aufgabe aus:\n",
    "# (Fügen Sie hier eine spezifische Erklärung hinzu, basierend auf dem Code.)\n",
    "# This cell performs the following task:\n",
    "# (Add specific annotations here based on the logic in the cell)\n",
    "\n",
    "data.to_csv(\"clean_around_the_world_chapters.csv\")"
   ]
  },
  {
   "cell_type": "markdown",
   "id": "75b4f6ea",
   "metadata": {},
   "source": [
    "**8.2. Full text**"
   ]
  },
  {
   "cell_type": "code",
   "execution_count": null,
   "id": "5ae5f2ed",
   "metadata": {},
   "outputs": [],
   "source": [
    "# ANNOTATION (auf Deutsch):\n",
    "# Dieser Code führt die folgende Aufgabe aus:\n",
    "# (Fügen Sie hier eine spezifische Erklärung hinzu, basierend auf dem Code.)\n",
    "# This cell performs the following task:\n",
    "# (Add specific annotations here based on the logic in the cell)\n",
    "\n",
    "full_text = \" \".join(super_clean)"
   ]
  },
  {
   "cell_type": "code",
   "execution_count": null,
   "id": "08b535ce",
   "metadata": {},
   "outputs": [],
   "source": [
    "# ANNOTATION (auf Deutsch):\n",
    "# Dieser Code führt die folgende Aufgabe aus:\n",
    "# (Fügen Sie hier eine spezifische Erklärung hinzu, basierend auf dem Code.)\n",
    "# This cell performs the following task:\n",
    "# (Add specific annotations here based on the logic in the cell)\n",
    "\n",
    "full_text"
   ]
  },
  {
   "cell_type": "code",
   "execution_count": null,
   "id": "bcc9940c",
   "metadata": {},
   "outputs": [],
   "source": [
    "# ANNOTATION (auf Deutsch):\n",
    "# Dieser Code führt die folgende Aufgabe aus:\n",
    "# (Fügen Sie hier eine spezifische Erklärung hinzu, basierend auf dem Code.)\n",
    "# This cell performs the following task:\n",
    "# (Add specific annotations here based on the logic in the cell)\n",
    "\n",
    "len(full_text)"
   ]
  },
  {
   "cell_type": "markdown",
   "id": "80732051",
   "metadata": {},
   "source": [
    "Let's now save that into a txt file format (which is widely used in Digital Humanities!)."
   ]
  },
  {
   "cell_type": "code",
   "execution_count": null,
   "id": "c9c616aa",
   "metadata": {},
   "outputs": [],
   "source": [
    "# ANNOTATION (auf Deutsch):\n",
    "# Dieser Code führt die folgende Aufgabe aus:\n",
    "# (Fügen Sie hier eine spezifische Erklärung hinzu, basierend auf dem Code.)\n",
    "# This cell performs the following task:\n",
    "# (Add specific annotations here based on the logic in the cell)\n",
    "\n",
    "with open(\"full_text_aroundtheworld.txt\", \"w\", encoding = \"utf-8\") as f:\n",
    "    f.write(full_text)"
   ]
  },
  {
   "cell_type": "markdown",
   "id": "f452d77b",
   "metadata": {},
   "source": [
    "You should now have that file into your laptop! We will be using it during the following days."
   ]
  },
  {
   "cell_type": "markdown",
   "id": "f96c52ed",
   "metadata": {},
   "source": [
    "# Exercise 2"
   ]
  },
  {
   "cell_type": "markdown",
   "id": "9ff2db6e",
   "metadata": {},
   "source": [
    "### Content from: 1. API The Guardian.ipynb"
   ]
  },
  {
   "cell_type": "markdown",
   "id": "ee65660b",
   "metadata": {},
   "source": [
    "#### Annotation:\n",
    "This section includes the content and logic from the original notebook. Annotations have been added to explain the purpose and function of each code cell."
   ]
  },
  {
   "cell_type": "markdown",
   "id": "09862c1e",
   "metadata": {},
   "source": [
    "**References**: the code in this notebook comes from this script (written by my baby-programmer self 5 years ago: https://github.com/effernan/New-York-Times-Archive-API-code), and this more senior script: https://github.com/rochelleterman/scrape-interwebz/blob/master/1_APIs/3_api_workbook.ipynb "
   ]
  },
  {
   "cell_type": "markdown",
   "id": "4cd661bf",
   "metadata": {},
   "source": [
    "# The Guardian"
   ]
  },
  {
   "cell_type": "markdown",
   "id": "1202e62d",
   "metadata": {},
   "source": [
    "In this exercise we will be using the API of **The Guardian** (that does provide the full text of articles): https://open-platform.theguardian.com/access"
   ]
  },
  {
   "cell_type": "markdown",
   "id": "e6f1db51",
   "metadata": {},
   "source": [
    "First, you need a key, that you can get in here: https://bonobo.capi.gutools.co.uk/register/developer "
   ]
  },
  {
   "cell_type": "markdown",
   "id": "5effda4f",
   "metadata": {},
   "source": [
    "Let's explore **The Guardian** documentation website: https://open-platform.theguardian.com/documentation/\n",
    "\n",
    "There are **5 endpoints**: Content, Tags, Sections, Editions, Single item. The one that we need is **content**: https://open-platform.theguardian.com/documentation/search \n",
    "\n",
    "So, in there, we have all the different options that the API is providing. The base_url is: \"https://content.guardianapis.com/search?\"\n",
    "\n",
    "Everything else is very similar to The New York Times, but in here, there is one option that we can include in the parameters that will return the full text of the articles: \"\"show-fields\" : \"body\". How **super cool** is that?"
   ]
  },
  {
   "cell_type": "markdown",
   "id": "80d9c052",
   "metadata": {},
   "source": [
    "#### 1. Let's build the API request"
   ]
  },
  {
   "cell_type": "code",
   "execution_count": null,
   "id": "a48fa51d",
   "metadata": {},
   "outputs": [],
   "source": [
    "# ANNOTATION (auf Deutsch):\n",
    "# Dieser Code führt die folgende Aufgabe aus:\n",
    "# (Fügen Sie hier eine spezifische Erklärung hinzu, basierend auf dem Code.)\n",
    "# This cell performs the following task:\n",
    "# (Add specific annotations here based on the logic in the cell)\n",
    "\n",
    "import requests\n",
    "import json\n",
    "import time  # to pause after each API call \n",
    "from __future__ import division\n",
    "import math\n",
    "import csv\n",
    "import matplotlib.pyplot as plt\n",
    "import pandas as pd  # to see our CSV "
   ]
  },
  {
   "cell_type": "code",
   "execution_count": null,
   "id": "b233f59a",
   "metadata": {},
   "outputs": [],
   "source": [
    "# ANNOTATION (auf Deutsch):\n",
    "# Dieser Code führt die folgende Aufgabe aus:\n",
    "# (Fügen Sie hier eine spezifische Erklärung hinzu, basierend auf dem Code.)\n",
    "# This cell performs the following task:\n",
    "# (Add specific annotations here based on the logic in the cell)\n",
    "\n",
    "# set key\n",
    "key= \"8ab705db-157a-4270-9fd1-a5499f3f1196\"\n",
    "\n",
    "# set base url\n",
    "base_url= \"https://content.guardianapis.com/search?\"\n",
    "\n",
    "# set response format\n",
    "response_format= \".json\""
   ]
  },
  {
   "cell_type": "code",
   "execution_count": null,
   "id": "b7abf24e",
   "metadata": {},
   "outputs": [],
   "source": [
    "# ANNOTATION (auf Deutsch):\n",
    "# Dieser Code führt die folgende Aufgabe aus:\n",
    "# (Fügen Sie hier eine spezifische Erklärung hinzu, basierend auf dem Code.)\n",
    "# This cell performs the following task:\n",
    "# (Add specific annotations here based on the logic in the cell)\n",
    "\n",
    "search_params = {\"q\": \"David Beckham\",\n",
    "                 \"from-date\" : \"2001-01-01\", #we need to change the dates format\n",
    "                 \"to-date\" : \"2001-12-31\", \n",
    "                 \"show-fields\" : \"body\", #this is the full text of the article!\n",
    "                 \"id\" : \"id\",\n",
    "                 \"format\" : \"json\",\n",
    "                 \"api-key\": key}    "
   ]
  },
  {
   "cell_type": "code",
   "execution_count": null,
   "id": "54f5a147",
   "metadata": {},
   "outputs": [],
   "source": [
    "# ANNOTATION (auf Deutsch):\n",
    "# Dieser Code führt die folgende Aufgabe aus:\n",
    "# (Fügen Sie hier eine spezifische Erklärung hinzu, basierend auf dem Code.)\n",
    "# This cell performs the following task:\n",
    "# (Add specific annotations here based on the logic in the cell)\n",
    "\n",
    "# make request\n",
    "r = requests.get(base_url + response_format, params = search_params)"
   ]
  },
  {
   "cell_type": "code",
   "execution_count": null,
   "id": "f52d76e7",
   "metadata": {},
   "outputs": [],
   "source": [
    "# ANNOTATION (auf Deutsch):\n",
    "# Dieser Code führt die folgende Aufgabe aus:\n",
    "# (Fügen Sie hier eine spezifische Erklärung hinzu, basierend auf dem Code.)\n",
    "# This cell performs the following task:\n",
    "# (Add specific annotations here based on the logic in the cell)\n",
    "\n",
    "print(r.url)"
   ]
  },
  {
   "cell_type": "code",
   "execution_count": null,
   "id": "a53f8c7e",
   "metadata": {},
   "outputs": [],
   "source": [
    "# ANNOTATION (auf Deutsch):\n",
    "# Dieser Code führt die folgende Aufgabe aus:\n",
    "# (Fügen Sie hier eine spezifische Erklärung hinzu, basierend auf dem Code.)\n",
    "# This cell performs the following task:\n",
    "# (Add specific annotations here based on the logic in the cell)\n",
    "\n",
    "response_text= r.text\n",
    "print(response_text[:1000])  #looks good!"
   ]
  },
  {
   "cell_type": "code",
   "execution_count": null,
   "id": "524c7155",
   "metadata": {},
   "outputs": [],
   "source": [
    "# ANNOTATION (auf Deutsch):\n",
    "# Dieser Code führt die folgende Aufgabe aus:\n",
    "# (Fügen Sie hier eine spezifische Erklärung hinzu, basierend auf dem Code.)\n",
    "# This cell performs the following task:\n",
    "# (Add specific annotations here based on the logic in the cell)\n",
    "\n",
    "# Convert JSON response to a dictionary\n",
    "data = json.loads(response_text)"
   ]
  },
  {
   "cell_type": "code",
   "execution_count": null,
   "id": "08ccbc82",
   "metadata": {},
   "outputs": [],
   "source": [
    "# ANNOTATION (auf Deutsch):\n",
    "# Dieser Code führt die folgende Aufgabe aus:\n",
    "# (Fügen Sie hier eine spezifische Erklärung hinzu, basierend auf dem Code.)\n",
    "# This cell performs the following task:\n",
    "# (Add specific annotations here based on the logic in the cell)\n",
    "\n",
    "print(data.keys()) #we need to access the data that is stored in \"response\""
   ]
  },
  {
   "cell_type": "code",
   "execution_count": null,
   "id": "b8cfa690",
   "metadata": {},
   "outputs": [],
   "source": [
    "# ANNOTATION (auf Deutsch):\n",
    "# Dieser Code führt die folgende Aufgabe aus:\n",
    "# (Fügen Sie hier eine spezifische Erklärung hinzu, basierend auf dem Code.)\n",
    "# This cell performs the following task:\n",
    "# (Add specific annotations here based on the logic in the cell)\n",
    "\n",
    "data['response'].keys()"
   ]
  },
  {
   "cell_type": "markdown",
   "id": "5acfd34c",
   "metadata": {},
   "source": [
    "Now the keys have changed! What we need to access is \"results\""
   ]
  },
  {
   "cell_type": "code",
   "execution_count": null,
   "id": "958c842c",
   "metadata": {},
   "outputs": [],
   "source": [
    "# ANNOTATION (auf Deutsch):\n",
    "# Dieser Code führt die folgende Aufgabe aus:\n",
    "# (Fügen Sie hier eine spezifische Erklärung hinzu, basierend auf dem Code.)\n",
    "# This cell performs the following task:\n",
    "# (Add specific annotations here based on the logic in the cell)\n",
    "\n",
    "type(data['response']['results'])"
   ]
  },
  {
   "cell_type": "code",
   "execution_count": null,
   "id": "e922c1fe",
   "metadata": {},
   "outputs": [],
   "source": [
    "# ANNOTATION (auf Deutsch):\n",
    "# Dieser Code führt die folgende Aufgabe aus:\n",
    "# (Fügen Sie hier eine spezifische Erklärung hinzu, basierend auf dem Code.)\n",
    "# This cell performs the following task:\n",
    "# (Add specific annotations here based on the logic in the cell)\n",
    "\n",
    "docs = data['response']['results']"
   ]
  },
  {
   "cell_type": "code",
   "execution_count": null,
   "id": "88e81bf6",
   "metadata": {},
   "outputs": [],
   "source": [
    "# ANNOTATION (auf Deutsch):\n",
    "# Dieser Code führt die folgende Aufgabe aus:\n",
    "# (Fügen Sie hier eine spezifische Erklärung hinzu, basierend auf dem Code.)\n",
    "# This cell performs the following task:\n",
    "# (Add specific annotations here based on the logic in the cell)\n",
    "\n",
    "len(docs) #same problem as before: we need to lover over the request to get all the documents!"
   ]
  },
  {
   "cell_type": "code",
   "execution_count": null,
   "id": "a415c2f6",
   "metadata": {},
   "outputs": [],
   "source": [
    "# ANNOTATION (auf Deutsch):\n",
    "# Dieser Code führt die folgende Aufgabe aus:\n",
    "# (Fügen Sie hier eine spezifische Erklärung hinzu, basierend auf dem Code.)\n",
    "# This cell performs the following task:\n",
    "# (Add specific annotations here based on the logic in the cell)\n",
    "\n",
    "#docs[0] #and there is the body of our article!"
   ]
  },
  {
   "cell_type": "markdown",
   "id": "5104963f",
   "metadata": {},
   "source": [
    "Now let's build the proper call modifying our previous script."
   ]
  },
  {
   "cell_type": "code",
   "execution_count": null,
   "id": "762d7f75",
   "metadata": {},
   "outputs": [],
   "source": [
    "# ANNOTATION (auf Deutsch):\n",
    "# Dieser Code führt die folgende Aufgabe aus:\n",
    "# (Fügen Sie hier eine spezifische Erklärung hinzu, basierend auf dem Code.)\n",
    "# This cell performs the following task:\n",
    "# (Add specific annotations here based on the logic in the cell)\n",
    "\n",
    "# set key\n",
    "key=  \"8ab705db-157a-4270-9fd1-a5499f3f1196\"\n",
    "\n",
    "# set base url\n",
    "base_url= \"https://content.guardianapis.com/search?\" #we also need to change this to The Guardian one\n",
    "\n",
    "# set response format\n",
    "response_format=\".json\"\n",
    "\n",
    "# set search parameters\n",
    "search_params = {\"q\": \"David Beckham\",\n",
    "                 \"from-date\" : \"2001-01-01\", #we need to change the dates format\n",
    "                 \"to-date\" : \"2001-12-31\", \n",
    "                 \"show-fields\" : \"body\", #this is the full text of the article!\n",
    "                 \"id\" : \"id\",\n",
    "                 \"format\" : \"json\",\n",
    "                 \"api-key\": key}    \n",
    "\n",
    "# make request\n",
    "r = requests.get(base_url+response_format, params=search_params)\n",
    "    \n",
    "# convert to a dictionary\n",
    "data=json.loads(r.text)\n",
    "    \n",
    "# get number of hits\n",
    "hits = data['response']['pages'] #we need to change this too\n",
    "print(\"number of hits: \", str(hits))\n",
    "    \n",
    "# get number of pages\n",
    "pages = hits \n",
    "    \n",
    "# make an empty list where we'll hold all of our docs for every page\n",
    "all_docs = [] \n",
    "    \n",
    "# now we're ready to loop through the pages\n",
    "for i in range(pages):\n",
    "    print(\"collecting page\", str(i))\n",
    "        \n",
    "    # set the page parameter\n",
    "    search_params['page'] = i\n",
    "        \n",
    "    # make request\n",
    "    r = requests.get(base_url+response_format, params=search_params)\n",
    "    r = requests.get(base_url+response_format, params=search_params)\n",
    "    if r.status_code == 200:\n",
    "        # get text and convert to a dictionary\n",
    "        data=json.loads(r.text)\n",
    "        \n",
    "        # get just the docs\n",
    "        if 'response' in data and 'results' in data['response']: #we need to change this to \"results\"\n",
    "            docs = data['response']['results']\n",
    "        \n",
    "            # add those docs to the big list\n",
    "            all_docs = all_docs + docs\n",
    "    \n",
    "    #IMPORTANT pause between calls\n",
    "    time.sleep(1)"
   ]
  },
  {
   "cell_type": "markdown",
   "id": "fa28c45d",
   "metadata": {},
   "source": [
    "Let's have a look at that first element in our list of documents."
   ]
  },
  {
   "cell_type": "code",
   "execution_count": null,
   "id": "b4504465",
   "metadata": {},
   "outputs": [],
   "source": [
    "# ANNOTATION (auf Deutsch):\n",
    "# Dieser Code führt die folgende Aufgabe aus:\n",
    "# (Fügen Sie hier eine spezifische Erklärung hinzu, basierend auf dem Code.)\n",
    "# This cell performs the following task:\n",
    "# (Add specific annotations here based on the logic in the cell)\n",
    "\n",
    "all_docs[0]"
   ]
  },
  {
   "cell_type": "markdown",
   "id": "89d080c5",
   "metadata": {},
   "source": [
    "So, what we want is: id, webPublicationDate, webTitle, webUrl, and the content of the article (that is in fields). Let's modify our function to get us that!"
   ]
  },
  {
   "cell_type": "code",
   "execution_count": null,
   "id": "2a5ae84f",
   "metadata": {},
   "outputs": [],
   "source": [
    "# ANNOTATION (auf Deutsch):\n",
    "# Dieser Code führt die folgende Aufgabe aus:\n",
    "# (Fügen Sie hier eine spezifische Erklärung hinzu, basierend auf dem Code.)\n",
    "# This cell performs the following task:\n",
    "# (Add specific annotations here based on the logic in the cell)\n",
    "\n",
    "def format_articles(unformatted_docs):\n",
    "    '''\n",
    "    This function takes in a list of documents returned by the NYT api \n",
    "    and parses the documents into a list of dictionaries, \n",
    "    with 'id', 'header', and 'date' keys\n",
    "    '''\n",
    "    formatted = []\n",
    "    for i in unformatted_docs:\n",
    "        dic = {}\n",
    "        dic['id'] = i['id']\n",
    "        dic['webPublicationDate'] = i['webPublicationDate'] # cutting time of day.\n",
    "        dic['webTitle'] = i['webTitle']\n",
    "        dic[\"webUrl\"] = i[\"webUrl\"]\n",
    "        dic[\"fields\"] = i[\"fields\"]\n",
    "        formatted.append(dic)\n",
    "    return(formatted)"
   ]
  },
  {
   "cell_type": "code",
   "execution_count": null,
   "id": "73bb7b24",
   "metadata": {},
   "outputs": [],
   "source": [
    "# ANNOTATION (auf Deutsch):\n",
    "# Dieser Code führt die folgende Aufgabe aus:\n",
    "# (Fügen Sie hier eine spezifische Erklärung hinzu, basierend auf dem Code.)\n",
    "# This cell performs the following task:\n",
    "# (Add specific annotations here based on the logic in the cell)\n",
    "\n",
    "all_formatted = format_articles(all_docs)"
   ]
  },
  {
   "cell_type": "code",
   "execution_count": null,
   "id": "d19dedb5",
   "metadata": {},
   "outputs": [],
   "source": [
    "# ANNOTATION (auf Deutsch):\n",
    "# Dieser Code führt die folgende Aufgabe aus:\n",
    "# (Fügen Sie hier eine spezifische Erklärung hinzu, basierend auf dem Code.)\n",
    "# This cell performs the following task:\n",
    "# (Add specific annotations here based on the logic in the cell)\n",
    "\n",
    "all_formatted[0]"
   ]
  },
  {
   "cell_type": "markdown",
   "id": "6a668eab",
   "metadata": {},
   "source": [
    "And now let's store that. We have a super cool David Beckham dataset that we can use for our future data analysis!"
   ]
  },
  {
   "cell_type": "code",
   "execution_count": null,
   "id": "d80f7007",
   "metadata": {},
   "outputs": [],
   "source": [
    "# ANNOTATION (auf Deutsch):\n",
    "# Dieser Code führt die folgende Aufgabe aus:\n",
    "# (Fügen Sie hier eine spezifische Erklärung hinzu, basierend auf dem Code.)\n",
    "# This cell performs the following task:\n",
    "# (Add specific annotations here based on the logic in the cell)\n",
    "\n",
    "keys = all_formatted[1]\n",
    "\n",
    "# writing the rest\n",
    "with open('david_beckham.csv', 'w', encoding = 'utf-8') as output_file:\n",
    "    dict_writer = csv.DictWriter(output_file, keys)\n",
    "    dict_writer.writeheader()\n",
    "    dict_writer.writerows(all_formatted)"
   ]
  },
  {
   "cell_type": "markdown",
   "id": "680c607b",
   "metadata": {},
   "source": [
    "# Exercise"
   ]
  },
  {
   "cell_type": "markdown",
   "id": "d6f51aff",
   "metadata": {},
   "source": [
    "And now: repeat the exercise but enter some term that you may be interested about (i.e. another Athlete, or some other group of news that you would like to see.) Remember to change the name of the csv file to not overwrite your data!"
   ]
  },
  {
   "cell_type": "markdown",
   "id": "b3bae986",
   "metadata": {},
   "source": [
    "### Content from: Exercise Getting Data from Arxiv.ipynb"
   ]
  },
  {
   "cell_type": "markdown",
   "id": "eeb7eaa1",
   "metadata": {},
   "source": [
    "#### Annotation:\n",
    "This section includes the content and logic from the original notebook. Annotations have been added to explain the purpose and function of each code cell."
   ]
  },
  {
   "cell_type": "markdown",
   "id": "ac10ab38",
   "metadata": {},
   "source": [
    "# Accesing *ArXiv*\n",
    "\n",
    "## Elena Fernández Fernández"
   ]
  },
  {
   "cell_type": "markdown",
   "id": "8dd66c3e",
   "metadata": {},
   "source": [
    "Let's give a try to webscrape the ArXiv website (disclaimer: I previously emailed them and ask if it was ok and legal to do this and they said yes!).\n",
    "\n",
    "ArXiv is one of the most popular Computer Science article repositories out there and a great resource for Text Data Mining Research! Let's try to get the latest 50 articles about Twitter: https://arxiv.org/search/cs?query=twitter&searchtype=all&abstracts=show&order=-announced_date_first&size=50\n",
    "\n",
    "If you right click on your mouse, you will see that the source code of the website is very similar to La Gaceta de Madrid. So: let's try to re-use that script for this!"
   ]
  },
  {
   "cell_type": "markdown",
   "id": "b1d81ed7",
   "metadata": {},
   "source": [
    "The first thing that you need to do is to import the necessary libraries for webscraping"
   ]
  },
  {
   "cell_type": "code",
   "execution_count": null,
   "id": "3f1a8406",
   "metadata": {},
   "outputs": [],
   "source": [
    "# ANNOTATION (auf Deutsch):\n",
    "# Dieser Code führt die folgende Aufgabe aus:\n",
    "# (Fügen Sie hier eine spezifische Erklärung hinzu, basierend auf dem Code.)\n",
    "# This cell performs the following task:\n",
    "# (Add specific annotations here based on the logic in the cell)\n",
    "\n",
    "import urllib.request\n",
    "from urllib.request import urlopen\n",
    "from bs4 import BeautifulSoup\n",
    "import shutil #this one is for saving the PDFs from our computer.\n",
    "import os"
   ]
  },
  {
   "cell_type": "markdown",
   "id": "d8c85554",
   "metadata": {},
   "source": [
    "Then let's put the url into our laptop"
   ]
  },
  {
   "cell_type": "code",
   "execution_count": null,
   "id": "438eeb71",
   "metadata": {},
   "outputs": [],
   "source": [
    "# ANNOTATION (auf Deutsch):\n",
    "# Dieser Code führt die folgende Aufgabe aus:\n",
    "# (Fügen Sie hier eine spezifische Erklärung hinzu, basierend auf dem Code.)\n",
    "# This cell performs the following task:\n",
    "# (Add specific annotations here based on the logic in the cell)\n",
    "\n",
    "html = urlopen(\"https://arxiv.org/search/cs?query=twitter&searchtype=all&abstracts=show&order=-announced_date_first&size=50\")"
   ]
  },
  {
   "cell_type": "markdown",
   "id": "d076451c",
   "metadata": {},
   "source": [
    "And now let's access the text"
   ]
  },
  {
   "cell_type": "code",
   "execution_count": null,
   "id": "b1e11a80",
   "metadata": {},
   "outputs": [],
   "source": [
    "# ANNOTATION (auf Deutsch):\n",
    "# Dieser Code führt die folgende Aufgabe aus:\n",
    "# (Fügen Sie hier eine spezifische Erklärung hinzu, basierend auf dem Code.)\n",
    "# This cell performs the following task:\n",
    "# (Add specific annotations here based on the logic in the cell)\n",
    "\n",
    "soup = BeautifulSoup(html, \"html.parser\")\n",
    "print(soup.prettify())"
   ]
  },
  {
   "cell_type": "markdown",
   "id": "45b20ec7",
   "metadata": {},
   "source": [
    "The PDFs, which is what we are looking for, are contained in the category \"a\", so we need to filter our search to get all the information stored within \"a\"."
   ]
  },
  {
   "cell_type": "code",
   "execution_count": null,
   "id": "d0413cfe",
   "metadata": {},
   "outputs": [],
   "source": [
    "# ANNOTATION (auf Deutsch):\n",
    "# Dieser Code führt die folgende Aufgabe aus:\n",
    "# (Fügen Sie hier eine spezifische Erklärung hinzu, basierend auf dem Code.)\n",
    "# This cell performs the following task:\n",
    "# (Add specific annotations here based on the logic in the cell)\n",
    "\n",
    "soup.find_all(\"a\")"
   ]
  },
  {
   "cell_type": "markdown",
   "id": "784491d0",
   "metadata": {},
   "source": [
    "Once we have all the \"a\" information, we need to define our search even more, as the PDFs links that we are looking for are stored within the \"href\" category inside of \"a\". We will store them in a list (pdfs)."
   ]
  },
  {
   "cell_type": "code",
   "execution_count": null,
   "id": "606fe044",
   "metadata": {},
   "outputs": [],
   "source": [
    "# ANNOTATION (auf Deutsch):\n",
    "# Dieser Code führt die folgende Aufgabe aus:\n",
    "# (Fügen Sie hier eine spezifische Erklärung hinzu, basierend auf dem Code.)\n",
    "# This cell performs the following task:\n",
    "# (Add specific annotations here based on the logic in the cell)\n",
    "\n",
    "pdfs = []\n",
    "for link in soup.find_all('a'):\n",
    "    pdfs.append(link.get(\"href\"))\n",
    "pdfs"
   ]
  },
  {
   "cell_type": "markdown",
   "id": "99c64f2b",
   "metadata": {},
   "source": [
    "Now we need to narrow our search even more. What we need are all the strings in which the PDFs are stored. Let's try to get them!"
   ]
  },
  {
   "cell_type": "code",
   "execution_count": null,
   "id": "ea5b770d",
   "metadata": {},
   "outputs": [],
   "source": [
    "# ANNOTATION (auf Deutsch):\n",
    "# Dieser Code führt die folgende Aufgabe aus:\n",
    "# (Fügen Sie hier eine spezifische Erklärung hinzu, basierend auf dem Code.)\n",
    "# This cell performs the following task:\n",
    "# (Add specific annotations here based on the logic in the cell)\n",
    "\n",
    "type(pdfs)"
   ]
  },
  {
   "cell_type": "code",
   "execution_count": null,
   "id": "dda04186",
   "metadata": {},
   "outputs": [],
   "source": [
    "# ANNOTATION (auf Deutsch):\n",
    "# Dieser Code führt die folgende Aufgabe aus:\n",
    "# (Fügen Sie hier eine spezifische Erklärung hinzu, basierend auf dem Code.)\n",
    "# This cell performs the following task:\n",
    "# (Add specific annotations here based on the logic in the cell)\n",
    "\n",
    "for i in pdfs:\n",
    "    if \"pdf\" in i:\n",
    "        print(i)"
   ]
  },
  {
   "cell_type": "markdown",
   "id": "4278a4f9",
   "metadata": {},
   "source": [
    "Something is not working. What is it? Let's ask Perplexity AI: https://www.perplexity.ai/search/Im-trying-to-U7GFFcNcTb6df18PJ_RpZg"
   ]
  },
  {
   "cell_type": "markdown",
   "id": "9a9a2166",
   "metadata": {},
   "source": [
    "So: the ArXiv web developers have built some sort of mechanisms that do not allow us to webscrape their website! But good news: we can use their API: https://pypi.org/project/arxiv/"
   ]
  },
  {
   "cell_type": "markdown",
   "id": "6e2653cb",
   "metadata": {},
   "source": [
    "# ArXiv API"
   ]
  },
  {
   "cell_type": "markdown",
   "id": "ec11b135",
   "metadata": {},
   "source": [
    "First let's install the python library arxiv"
   ]
  },
  {
   "cell_type": "code",
   "execution_count": null,
   "id": "ba33ccaa",
   "metadata": {},
   "outputs": [],
   "source": [
    "# ANNOTATION (auf Deutsch):\n",
    "# Dieser Code führt die folgende Aufgabe aus:\n",
    "# (Fügen Sie hier eine spezifische Erklärung hinzu, basierend auf dem Code.)\n",
    "# This cell performs the following task:\n",
    "# (Add specific annotations here based on the logic in the cell)\n",
    "\n",
    "pip install arxiv"
   ]
  },
  {
   "cell_type": "markdown",
   "id": "c8e276dd",
   "metadata": {},
   "source": [
    "And now let's import it"
   ]
  },
  {
   "cell_type": "code",
   "execution_count": null,
   "id": "d7d0686f",
   "metadata": {},
   "outputs": [],
   "source": [
    "# ANNOTATION (auf Deutsch):\n",
    "# Dieser Code führt die folgende Aufgabe aus:\n",
    "# (Fügen Sie hier eine spezifische Erklärung hinzu, basierend auf dem Code.)\n",
    "# This cell performs the following task:\n",
    "# (Add specific annotations here based on the logic in the cell)\n",
    "\n",
    "import arxiv"
   ]
  },
  {
   "cell_type": "markdown",
   "id": "92446691",
   "metadata": {},
   "source": [
    "Let's also import the time library"
   ]
  },
  {
   "cell_type": "code",
   "execution_count": null,
   "id": "8b72568e",
   "metadata": {},
   "outputs": [],
   "source": [
    "# ANNOTATION (auf Deutsch):\n",
    "# Dieser Code führt die folgende Aufgabe aus:\n",
    "# (Fügen Sie hier eine spezifische Erklärung hinzu, basierend auf dem Code.)\n",
    "# This cell performs the following task:\n",
    "# (Add specific annotations here based on the logic in the cell)\n",
    "\n",
    "import time"
   ]
  },
  {
   "cell_type": "markdown",
   "id": "d8490f42",
   "metadata": {},
   "source": [
    "Let's build a query"
   ]
  },
  {
   "cell_type": "code",
   "execution_count": null,
   "id": "74d34cad",
   "metadata": {},
   "outputs": [],
   "source": [
    "# ANNOTATION (auf Deutsch):\n",
    "# Dieser Code führt die folgende Aufgabe aus:\n",
    "# (Fügen Sie hier eine spezifische Erklärung hinzu, basierend auf dem Code.)\n",
    "# This cell performs the following task:\n",
    "# (Add specific annotations here based on the logic in the cell)\n",
    "\n",
    "# Construct the default API client.\n",
    "client = arxiv.Client()"
   ]
  },
  {
   "cell_type": "markdown",
   "id": "8eb3daac",
   "metadata": {},
   "source": [
    "And let's extract the 50 most recent Twitter ArXiv articles"
   ]
  },
  {
   "cell_type": "code",
   "execution_count": null,
   "id": "67ff1d28",
   "metadata": {},
   "outputs": [],
   "source": [
    "# ANNOTATION (auf Deutsch):\n",
    "# Dieser Code führt die folgende Aufgabe aus:\n",
    "# (Fügen Sie hier eine spezifische Erklärung hinzu, basierend auf dem Code.)\n",
    "# This cell performs the following task:\n",
    "# (Add specific annotations here based on the logic in the cell)\n",
    "\n",
    "# Search for the 50 most recent articles matching the keyword \"quantum.\"\n",
    "search = arxiv.Search(\n",
    "  query = \"twitter\",\n",
    "  max_results = 50,\n",
    "  sort_by = arxiv.SortCriterion.SubmittedDate\n",
    ")"
   ]
  },
  {
   "cell_type": "code",
   "execution_count": null,
   "id": "1c9900dd",
   "metadata": {},
   "outputs": [],
   "source": [
    "# ANNOTATION (auf Deutsch):\n",
    "# Dieser Code führt die folgende Aufgabe aus:\n",
    "# (Fügen Sie hier eine spezifische Erklärung hinzu, basierend auf dem Code.)\n",
    "# This cell performs the following task:\n",
    "# (Add specific annotations here based on the logic in the cell)\n",
    "\n",
    "results = client.results(search)"
   ]
  },
  {
   "cell_type": "code",
   "execution_count": null,
   "id": "c301ba99",
   "metadata": {},
   "outputs": [],
   "source": [
    "# ANNOTATION (auf Deutsch):\n",
    "# Dieser Code führt die folgende Aufgabe aus:\n",
    "# (Fügen Sie hier eine spezifische Erklärung hinzu, basierend auf dem Code.)\n",
    "# This cell performs the following task:\n",
    "# (Add specific annotations here based on the logic in the cell)\n",
    "\n",
    "print(results)"
   ]
  },
  {
   "cell_type": "markdown",
   "id": "5a6e9f97",
   "metadata": {},
   "source": [
    "Ok, so now let's first have a look at the titles. "
   ]
  },
  {
   "cell_type": "code",
   "execution_count": null,
   "id": "771e77f5",
   "metadata": {},
   "outputs": [],
   "source": [
    "# ANNOTATION (auf Deutsch):\n",
    "# Dieser Code führt die folgende Aufgabe aus:\n",
    "# (Fügen Sie hier eine spezifische Erklärung hinzu, basierend auf dem Code.)\n",
    "# This cell performs the following task:\n",
    "# (Add specific annotations here based on the logic in the cell)\n",
    "\n",
    "for r in client.results(search):\n",
    "    print(r.title)"
   ]
  },
  {
   "cell_type": "markdown",
   "id": "b44d685a",
   "metadata": {},
   "source": [
    "And now, if we compare that with the actual ArXiv website, it looks correct: https://arxiv.org/search/cs?query=twitter&searchtype=all&abstracts=show&order=-announced_date_first&size=50"
   ]
  },
  {
   "cell_type": "markdown",
   "id": "db6d7e8f",
   "metadata": {},
   "source": [
    "Now let's begin saving the first pdf in that list in our laptop."
   ]
  },
  {
   "cell_type": "code",
   "execution_count": null,
   "id": "732276d4",
   "metadata": {},
   "outputs": [],
   "source": [
    "# ANNOTATION (auf Deutsch):\n",
    "# Dieser Code führt die folgende Aufgabe aus:\n",
    "# (Fügen Sie hier eine spezifische Erklärung hinzu, basierend auf dem Code.)\n",
    "# This cell performs the following task:\n",
    "# (Add specific annotations here based on the logic in the cell)\n",
    "\n",
    "paper = next(arxiv.Client().results(arxiv.Search(id_list=[\"2406.12444\"])))\n",
    "# Download the PDF to the PWD with a default filename.\n",
    "paper.download_pdf()"
   ]
  },
  {
   "cell_type": "code",
   "execution_count": null,
   "id": "3b5c75a0",
   "metadata": {},
   "outputs": [],
   "source": [
    "# ANNOTATION (auf Deutsch):\n",
    "# Dieser Code führt die folgende Aufgabe aus:\n",
    "# (Fügen Sie hier eine spezifische Erklärung hinzu, basierend auf dem Code.)\n",
    "# This cell performs the following task:\n",
    "# (Add specific annotations here based on the logic in the cell)\n",
    "\n",
    "# Download the PDF to the PWD with a custom filename.\n",
    "paper.download_pdf(filename=\"2406.12444v1.pdf\")"
   ]
  },
  {
   "cell_type": "code",
   "execution_count": null,
   "id": "8dd0d624",
   "metadata": {},
   "outputs": [],
   "source": [
    "# ANNOTATION (auf Deutsch):\n",
    "# Dieser Code führt die folgende Aufgabe aus:\n",
    "# (Fügen Sie hier eine spezifische Erklärung hinzu, basierend auf dem Code.)\n",
    "# This cell performs the following task:\n",
    "# (Add specific annotations here based on the logic in the cell)\n",
    "\n",
    "pwd"
   ]
  },
  {
   "cell_type": "markdown",
   "id": "b58d43ab",
   "metadata": {},
   "source": [
    "And now we need to create a folder in our directory. Remember that we can also do that using bash commands here in Jupyter Notebooks. "
   ]
  },
  {
   "cell_type": "code",
   "execution_count": null,
   "id": "8db5180b",
   "metadata": {},
   "outputs": [],
   "source": [
    "# ANNOTATION (auf Deutsch):\n",
    "# Dieser Code führt die folgende Aufgabe aus:\n",
    "# (Fügen Sie hier eine spezifische Erklärung hinzu, basierend auf dem Code.)\n",
    "# This cell performs the following task:\n",
    "# (Add specific annotations here based on the logic in the cell)\n",
    "\n",
    "mkdir files_arxiv"
   ]
  },
  {
   "cell_type": "markdown",
   "id": "d34906bd",
   "metadata": {},
   "source": [
    "# IMPORTANT"
   ]
  },
  {
   "cell_type": "markdown",
   "id": "756a6819",
   "metadata": {},
   "source": [
    "REMEMBER to create a new folder for the new query that you are going when you will be doing the exercise"
   ]
  },
  {
   "cell_type": "code",
   "execution_count": null,
   "id": "64736987",
   "metadata": {},
   "outputs": [],
   "source": [
    "# ANNOTATION (auf Deutsch):\n",
    "# Dieser Code führt die folgende Aufgabe aus:\n",
    "# (Fügen Sie hier eine spezifische Erklärung hinzu, basierend auf dem Code.)\n",
    "# This cell performs the following task:\n",
    "# (Add specific annotations here based on the logic in the cell)\n",
    "\n",
    "#mkdir (remove the #) and now add the name that you would like to have for a new folder (I suggest arxiv_pdfs_whatever (your query))"
   ]
  },
  {
   "cell_type": "markdown",
   "id": "fbad295f",
   "metadata": {},
   "source": [
    "And remember to change the name of the folder in the dirpath when you do the exercise. "
   ]
  },
  {
   "cell_type": "code",
   "execution_count": null,
   "id": "edbd1762",
   "metadata": {},
   "outputs": [],
   "source": [
    "# ANNOTATION (auf Deutsch):\n",
    "# Dieser Code führt die folgende Aufgabe aus:\n",
    "# (Fügen Sie hier eine spezifische Erklärung hinzu, basierend auf dem Code.)\n",
    "# This cell performs the following task:\n",
    "# (Add specific annotations here based on the logic in the cell)\n",
    "\n",
    "# Download the PDF to a specified directory with a custom filename.\n",
    "paper.download_pdf(dirpath = 'C:\\\\Users\\\\usuario\\\\ELENA\\\\it-training uzh\\\\it-training uzh\\\\Python for Digital Humanities\\\\Day 1\\\\APIs 1. Arxiv\\\\files_arxiv',\n",
    "                    filename = \"2406.12444v1.pdf\")"
   ]
  },
  {
   "cell_type": "markdown",
   "id": "f32d7481",
   "metadata": {},
   "source": [
    "So far I have been using just the code provided by the Arxiv API to do all those things (https://pypi.org/project/arxiv/). Now let's go to the next level and let's extract a bunch of articles. Looking at the API it looks like we need to extract the IDs of the papers. Let's do that!"
   ]
  },
  {
   "cell_type": "code",
   "execution_count": null,
   "id": "156eee28",
   "metadata": {},
   "outputs": [],
   "source": [
    "# ANNOTATION (auf Deutsch):\n",
    "# Dieser Code führt die folgende Aufgabe aus:\n",
    "# (Fügen Sie hier eine spezifische Erklärung hinzu, basierend auf dem Code.)\n",
    "# This cell performs the following task:\n",
    "# (Add specific annotations here based on the logic in the cell)\n",
    "\n",
    "ids = []\n",
    "\n",
    "for result in client.results(search):\n",
    "    ids.append(result.entry_id)"
   ]
  },
  {
   "cell_type": "code",
   "execution_count": null,
   "id": "94e3e9ed",
   "metadata": {},
   "outputs": [],
   "source": [
    "# ANNOTATION (auf Deutsch):\n",
    "# Dieser Code führt die folgende Aufgabe aus:\n",
    "# (Fügen Sie hier eine spezifische Erklärung hinzu, basierend auf dem Code.)\n",
    "# This cell performs the following task:\n",
    "# (Add specific annotations here based on the logic in the cell)\n",
    "\n",
    "ids"
   ]
  },
  {
   "cell_type": "code",
   "execution_count": null,
   "id": "0eff3b00",
   "metadata": {},
   "outputs": [],
   "source": [
    "# ANNOTATION (auf Deutsch):\n",
    "# Dieser Code führt die folgende Aufgabe aus:\n",
    "# (Fügen Sie hier eine spezifische Erklärung hinzu, basierend auf dem Code.)\n",
    "# This cell performs the following task:\n",
    "# (Add specific annotations here based on the logic in the cell)\n",
    "\n",
    "type(ids)"
   ]
  },
  {
   "cell_type": "code",
   "execution_count": null,
   "id": "f1c45f0a",
   "metadata": {},
   "outputs": [],
   "source": [
    "# ANNOTATION (auf Deutsch):\n",
    "# Dieser Code führt die folgende Aufgabe aus:\n",
    "# (Fügen Sie hier eine spezifische Erklärung hinzu, basierend auf dem Code.)\n",
    "# This cell performs the following task:\n",
    "# (Add specific annotations here based on the logic in the cell)\n",
    "\n",
    "ids[0]"
   ]
  },
  {
   "cell_type": "markdown",
   "id": "f49d54f7",
   "metadata": {},
   "source": [
    "What we need is just the ID number of the paper. Let's select that."
   ]
  },
  {
   "cell_type": "code",
   "execution_count": null,
   "id": "c7c895c3",
   "metadata": {},
   "outputs": [],
   "source": [
    "# ANNOTATION (auf Deutsch):\n",
    "# Dieser Code führt die folgende Aufgabe aus:\n",
    "# (Fügen Sie hier eine spezifische Erklärung hinzu, basierend auf dem Code.)\n",
    "# This cell performs the following task:\n",
    "# (Add specific annotations here based on the logic in the cell)\n",
    "\n",
    "ids[0].split(\"/\")[-1]"
   ]
  },
  {
   "cell_type": "code",
   "execution_count": null,
   "id": "b0da8427",
   "metadata": {},
   "outputs": [],
   "source": [
    "# ANNOTATION (auf Deutsch):\n",
    "# Dieser Code führt die folgende Aufgabe aus:\n",
    "# (Fügen Sie hier eine spezifische Erklärung hinzu, basierend auf dem Code.)\n",
    "# This cell performs the following task:\n",
    "# (Add specific annotations here based on the logic in the cell)\n",
    "\n",
    "ids_2 = []\n",
    "\n",
    "for i in ids:\n",
    "    ids_2.append(i.split(\"/\")[-1])"
   ]
  },
  {
   "cell_type": "code",
   "execution_count": null,
   "id": "1681e029",
   "metadata": {},
   "outputs": [],
   "source": [
    "# ANNOTATION (auf Deutsch):\n",
    "# Dieser Code führt die folgende Aufgabe aus:\n",
    "# (Fügen Sie hier eine spezifische Erklärung hinzu, basierend auf dem Code.)\n",
    "# This cell performs the following task:\n",
    "# (Add specific annotations here based on the logic in the cell)\n",
    "\n",
    "ids_2"
   ]
  },
  {
   "cell_type": "code",
   "execution_count": null,
   "id": "e306b5a2",
   "metadata": {},
   "outputs": [],
   "source": [
    "# ANNOTATION (auf Deutsch):\n",
    "# Dieser Code führt die folgende Aufgabe aus:\n",
    "# (Fügen Sie hier eine spezifische Erklärung hinzu, basierend auf dem Code.)\n",
    "# This cell performs the following task:\n",
    "# (Add specific annotations here based on the logic in the cell)\n",
    "\n",
    "len(ids_2)"
   ]
  },
  {
   "cell_type": "markdown",
   "id": "83c07f7e",
   "metadata": {},
   "source": [
    "And now let's loop around that to get all the PDFs into our laptop. First let's create a new folder called \"arxiv_pdfs\""
   ]
  },
  {
   "cell_type": "code",
   "execution_count": null,
   "id": "15672649",
   "metadata": {},
   "outputs": [],
   "source": [
    "# ANNOTATION (auf Deutsch):\n",
    "# Dieser Code führt die folgende Aufgabe aus:\n",
    "# (Fügen Sie hier eine spezifische Erklärung hinzu, basierend auf dem Code.)\n",
    "# This cell performs the following task:\n",
    "# (Add specific annotations here based on the logic in the cell)\n",
    "\n",
    "mkdir arxiv_pdfs"
   ]
  },
  {
   "cell_type": "markdown",
   "id": "084dd96f",
   "metadata": {},
   "source": [
    "# IMPORTANT"
   ]
  },
  {
   "cell_type": "markdown",
   "id": "b527902c",
   "metadata": {},
   "source": [
    "REMEMBER to create a new folder for the new query that you are going when you will be doing the exercise. Remember to change the name of the folder in filename down there"
   ]
  },
  {
   "cell_type": "code",
   "execution_count": null,
   "id": "cd8e421f",
   "metadata": {},
   "outputs": [],
   "source": [
    "# ANNOTATION (auf Deutsch):\n",
    "# Dieser Code führt die folgende Aufgabe aus:\n",
    "# (Fügen Sie hier eine spezifische Erklärung hinzu, basierend auf dem Code.)\n",
    "# This cell performs the following task:\n",
    "# (Add specific annotations here based on the logic in the cell)\n",
    "\n",
    "#mkdir (remove the #) and now add the name that you would like to have for a new folder (I suggest arxiv_pdfs_whatever (your query))"
   ]
  },
  {
   "cell_type": "markdown",
   "id": "5b556355",
   "metadata": {},
   "source": [
    "And now let's get all the pdfs"
   ]
  },
  {
   "cell_type": "code",
   "execution_count": null,
   "id": "6c8ad8df",
   "metadata": {},
   "outputs": [],
   "source": [
    "# ANNOTATION (auf Deutsch):\n",
    "# Dieser Code führt die folgende Aufgabe aus:\n",
    "# (Fügen Sie hier eine spezifische Erklärung hinzu, basierend auf dem Code.)\n",
    "# This cell performs the following task:\n",
    "# (Add specific annotations here based on the logic in the cell)\n",
    "\n",
    "for id in ids_2:\n",
    "    # Search for the article with the given ID\n",
    "    search = arxiv.Search(id_list=[id])\n",
    "    paper = next(client.results(search))\n",
    "\n",
    "    # Download the PDF to the current working directory with a default filename\n",
    "    filename = os.path.join(\"arxiv_pdfs\", urllib.parse.quote(id))\n",
    "    result.download_pdf(filename=f\"{filename}.pdf\")\n",
    "    \n",
    "    time.sleep(3)  # 3 seconds (this is the indication of the ArXiv API)"
   ]
  },
  {
   "cell_type": "markdown",
   "id": "a2746e06",
   "metadata": {},
   "source": [
    "And voila! According to the arxiv API (https://pypi.org/project/arxiv/1.4.8/) the daily limit is 300.000 results: that is a lot!"
   ]
  },
  {
   "cell_type": "markdown",
   "id": "74a16822",
   "metadata": {},
   "source": [
    "# Exercise"
   ]
  },
  {
   "cell_type": "markdown",
   "id": "619f0309",
   "metadata": {},
   "source": [
    "Now use this same notebook and do a new search using a different key term. \n",
    "* If you would like to use two words (Mark Zuckerberg, Climate Change, Donald Trump...) use this syntax: '\"climate change\"' (quotations inside quotations).\n",
    "* Remember to **change the name of the folders** when you will be creating new ones for the individual PDF and for the list of PDFs to not have both queries all mixed up in the same folder"
   ]
  }
 ],
 "metadata": {},
 "nbformat": 4,
 "nbformat_minor": 5
}
