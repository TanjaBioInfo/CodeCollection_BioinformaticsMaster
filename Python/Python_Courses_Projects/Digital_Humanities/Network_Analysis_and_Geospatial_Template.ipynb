{
 "cells": [
  {
   "cell_type": "markdown",
   "id": "a9ffe534",
   "metadata": {},
   "source": [
    "# Netzwerkanalyse und Geodaten-Integration\n",
    "Dieses Notebook kombiniert Inhalte zu Netzwerkanalyse, geographischer Analyse und Datenintegration aus den hochgeladenen Dateien. Es enthält relevante Beispiele und deutsche Annotationen, um die Methoden und deren Nutzen zu verdeutlichen.\n"
   ]
  },
  {
   "cell_type": "markdown",
   "id": "10547055",
   "metadata": {},
   "source": [
    "## Inhalte aus: Excercise 2. Modelling the Weighted Social Network of Hamlet..ipynb\n",
    "### Zusammenfassung und Annotationen\n",
    "Dieser Abschnitt enthält relevante Beispiele aus der Datei."
   ]
  },
  {
   "cell_type": "code",
   "execution_count": null,
   "id": "5e4299c9",
   "metadata": {},
   "outputs": [],
   "source": [
    "# ANNOTATION:\n",
    "# Dieser Code demonstriert eine Methode, um:\n",
    "# - #Solution\n",
    "\n",
    "#Solution\n",
    "import networkx as nx\n",
    "import pandas as pd\n",
    "import matplotlib.pyplot as plt"
   ]
  },
  {
   "cell_type": "code",
   "execution_count": null,
   "id": "65f4bff6",
   "metadata": {},
   "outputs": [],
   "source": [
    "# ANNOTATION:\n",
    "# Dieser Code demonstriert eine Methode, um:\n",
    "# - #Solution\n",
    "\n",
    "#Solution\n",
    "\n",
    "from networkx.algorithms import community"
   ]
  },
  {
   "cell_type": "code",
   "execution_count": null,
   "id": "0b18cce1",
   "metadata": {},
   "outputs": [],
   "source": [
    "# ANNOTATION:\n",
    "# Dieser Code demonstriert eine Methode, um:\n",
    "# - #Solution\n",
    "\n",
    "#Solution\n",
    "\n",
    "nx.draw_networkx_nodes(G, pos, node_size = 700) #we draw the nodes\n",
    "nx.draw_networkx_edges(G, pos, edgelist=elarge, width=2) #we draw the edges\n",
    "nx.draw_networkx_edges(G, pos, edgelist=esmall, width=2, alpha=0.5, edge_color=\"b\", style=\"dashed\") \n",
    "\n",
    "nx.draw_networkx_labels(G, pos) #we add the name of the nodes (characters)\n",
    "edge_labels = nx.get_edge_attributes(G, \"weight\") #we add the weight number (times talking)\n",
    "nx.draw_networkx_edge_labels(G, pos, edge_labels)\n",
    "\n",
    "plt.rcParams[\"figure.figsize\"] = (40, 30) #to change the size of the figure\n",
    "\n",
    " \n",
    "plt.axis(\"off\")\n",
    "plt.show()"
   ]
  },
  {
   "cell_type": "markdown",
   "id": "d49a9032",
   "metadata": {},
   "source": [
    "## Inhalte aus: Excercise 1. Modelling the Unweighted Social Network of Hamlet..ipynb\n",
    "### Zusammenfassung und Annotationen\n",
    "Dieser Abschnitt enthält relevante Beispiele aus der Datei."
   ]
  },
  {
   "cell_type": "code",
   "execution_count": null,
   "id": "26b983ea",
   "metadata": {},
   "outputs": [],
   "source": [
    "# ANNOTATION:\n",
    "# Dieser Code demonstriert eine Methode, um:\n",
    "# - #Solution\n",
    "\n",
    "#Solution\n",
    "import networkx as nx\n",
    "import pandas as pd"
   ]
  },
  {
   "cell_type": "code",
   "execution_count": null,
   "id": "e404c027",
   "metadata": {},
   "outputs": [],
   "source": [
    "# ANNOTATION:\n",
    "# Dieser Code demonstriert eine Methode, um:\n",
    "# - #Solution\n",
    "\n",
    "#Solution\n",
    "\n",
    "import matplotlib.pyplot as plt"
   ]
  },
  {
   "cell_type": "code",
   "execution_count": null,
   "id": "16fd3134",
   "metadata": {},
   "outputs": [],
   "source": [
    "# ANNOTATION:\n",
    "# Dieser Code demonstriert eine Methode, um:\n",
    "# - #Solution\n",
    "\n",
    "#Solution\n",
    "from networkx.algorithms import community"
   ]
  },
  {
   "cell_type": "markdown",
   "id": "7e104194",
   "metadata": {},
   "source": [
    "## Inhalte aus: Ego Centric Networks. Exercise.ipynb\n",
    "### Zusammenfassung und Annotationen\n",
    "Dieser Abschnitt enthält relevante Beispiele aus der Datei."
   ]
  },
  {
   "cell_type": "code",
   "execution_count": null,
   "id": "f932429f",
   "metadata": {},
   "outputs": [],
   "source": [
    "# ANNOTATION:\n",
    "# Dieser Code demonstriert eine Methode, um:\n",
    "# - #Solution\n",
    "\n",
    "#Solution\n",
    "\n",
    "import pandas as pd\n",
    "import networkx as nx\n",
    "import matplotlib.pyplot as plt"
   ]
  },
  {
   "cell_type": "markdown",
   "id": "43fb54cc",
   "metadata": {},
   "source": [
    "## Inhalte aus: Ego Centric Networks. .ipynb\n",
    "### Zusammenfassung und Annotationen\n",
    "Dieser Abschnitt enthält relevante Beispiele aus der Datei."
   ]
  },
  {
   "cell_type": "code",
   "execution_count": null,
   "id": "8946f211",
   "metadata": {},
   "outputs": [],
   "source": [
    "# ANNOTATION:\n",
    "# Dieser Code demonstriert eine Methode, um:\n",
    "# - import pandas as pd\n",
    "\n",
    "import pandas as pd\n",
    "import networkx as nx\n",
    "import matplotlib.pyplot as plt"
   ]
  },
  {
   "cell_type": "markdown",
   "id": "6faaea2b",
   "metadata": {},
   "source": [
    "## Inhalte aus: 2. Weighted Sociocentric Networks..ipynb\n",
    "### Zusammenfassung und Annotationen\n",
    "Dieser Abschnitt enthält relevante Beispiele aus der Datei."
   ]
  },
  {
   "cell_type": "code",
   "execution_count": null,
   "id": "5687d74d",
   "metadata": {},
   "outputs": [],
   "source": [
    "# ANNOTATION:\n",
    "# Dieser Code demonstriert eine Methode, um:\n",
    "# - import networkx as nx\n",
    "\n",
    "import networkx as nx\n",
    "import pandas as pd\n",
    "import matplotlib.pyplot as plt"
   ]
  },
  {
   "cell_type": "code",
   "execution_count": null,
   "id": "8e19d0e4",
   "metadata": {},
   "outputs": [],
   "source": [
    "# ANNOTATION:\n",
    "# Dieser Code demonstriert eine Methode, um:\n",
    "# - from networkx.algorithms import community\n",
    "\n",
    "from networkx.algorithms import community"
   ]
  },
  {
   "cell_type": "code",
   "execution_count": null,
   "id": "032e507e",
   "metadata": {},
   "outputs": [],
   "source": [
    "# ANNOTATION:\n",
    "# Dieser Code demonstriert eine Methode, um:\n",
    "# - nx.draw_networkx_nodes(G, pos, node_size = 700) #we draw the nodes\n",
    "\n",
    "nx.draw_networkx_nodes(G, pos, node_size = 700) #we draw the nodes\n",
    "nx.draw_networkx_edges(G, pos, edgelist=elarge, width=2) #we draw the edges\n",
    "nx.draw_networkx_edges(G, pos, edgelist=esmall, width=2, alpha=0.5, edge_color=\"b\", style=\"dashed\") \n",
    "\n",
    "nx.draw_networkx_labels(G, pos) #we add the name of the nodes (characters)\n",
    "edge_labels = nx.get_edge_attributes(G, \"weight\") #we add the weight number (times talking)\n",
    "nx.draw_networkx_edge_labels(G, pos, edge_labels)\n",
    "\n",
    "plt.rcParams[\"figure.figsize\"] = (30, 20) #to change the size of the figure\n",
    "\n",
    " \n",
    "plt.axis(\"off\")\n",
    "plt.show()"
   ]
  },
  {
   "cell_type": "markdown",
   "id": "5c0556bb",
   "metadata": {},
   "source": [
    "## Inhalte aus: 1. Unweighted Sociocentric Networks. Modelling the Social Network of Around the World in 80 Days.ipynb\n",
    "### Zusammenfassung und Annotationen\n",
    "Dieser Abschnitt enthält relevante Beispiele aus der Datei."
   ]
  },
  {
   "cell_type": "code",
   "execution_count": null,
   "id": "4a6e51a8",
   "metadata": {},
   "outputs": [],
   "source": [
    "# ANNOTATION:\n",
    "# Dieser Code demonstriert eine Methode, um:\n",
    "# - import networkx as nx\n",
    "\n",
    "import networkx as nx\n",
    "import pandas as pd"
   ]
  },
  {
   "cell_type": "code",
   "execution_count": null,
   "id": "3c94ece2",
   "metadata": {},
   "outputs": [],
   "source": [
    "# ANNOTATION:\n",
    "# Dieser Code demonstriert eine Methode, um:\n",
    "# - import matplotlib.pyplot as plt\n",
    "\n",
    "import matplotlib.pyplot as plt"
   ]
  },
  {
   "cell_type": "code",
   "execution_count": null,
   "id": "464d7748",
   "metadata": {},
   "outputs": [],
   "source": [
    "# ANNOTATION:\n",
    "# Dieser Code demonstriert eine Methode, um:\n",
    "# - from networkx.algorithms import community\n",
    "\n",
    "from networkx.algorithms import community"
   ]
  },
  {
   "cell_type": "markdown",
   "id": "a0e8dd14",
   "metadata": {},
   "source": [
    "## Inhalte aus: Harry Potter around the World.ipynb\n",
    "### Zusammenfassung und Annotationen\n",
    "Dieser Abschnitt enthält relevante Beispiele aus der Datei."
   ]
  },
  {
   "cell_type": "markdown",
   "id": "7037f0bc",
   "metadata": {},
   "source": [
    "## Inhalte aus: Geospatial Analysis.ipynb\n",
    "### Zusammenfassung und Annotationen\n",
    "Dieser Abschnitt enthält relevante Beispiele aus der Datei."
   ]
  },
  {
   "cell_type": "markdown",
   "id": "379e6adf",
   "metadata": {},
   "source": [
    "## Inhalte aus: Mapping Jules Verne. NER with Spacy.ipynb\n",
    "### Zusammenfassung und Annotationen\n",
    "Dieser Abschnitt enthält relevante Beispiele aus der Datei."
   ]
  },
  {
   "cell_type": "markdown",
   "id": "839ff75f",
   "metadata": {},
   "source": [
    "## Inhalte aus: Information Extraction.ipynb\n",
    "### Zusammenfassung und Annotationen\n",
    "Dieser Abschnitt enthält relevante Beispiele aus der Datei."
   ]
  }
 ],
 "metadata": {},
 "nbformat": 4,
 "nbformat_minor": 5
}
