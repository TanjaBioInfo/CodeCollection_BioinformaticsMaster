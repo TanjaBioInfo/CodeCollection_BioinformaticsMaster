{
 "cells": [
  {
   "cell_type": "markdown",
   "metadata": {},
   "source": [
    "Class, Exercises and Solutions mit Erklärungen\n",
    "\n",
    "Dieses Dokument enthält eine Reihe von Übungen zu Klassen und Objekten in Python, sowie die Lösungen mit umfassenden Erklärungen, um die Funktionalität und die Reihenfolge der Ausführung zu verdeutlichen.\n",
    "\n",
    "---\n",
    "\n",
    "Exercise 1: Vehicle-Klasse mit Attributen max_speed und mileage\n",
    "\n",
    "In dieser Übung wird eine `Vehicle`-Klasse erstellt, die zwei Instanzattribute `max_speed` und `mileage` besitzt. Nach der Instanzierung wird auf diese Attribute zugegriffen und ihre Werte ausgegeben."
   ]
  },
  {
   "cell_type": "code",
   "execution_count": null,
   "metadata": {},
   "outputs": [],
   "source": [
    "class Vehicle:\n",
    "    # Konstruktor: Initialisiert die Instanz mit max_speed und mileage.\n",
    "    def __init__(self, max_speed, mileage):\n",
    "        self.max_speed = max_speed\n",
    "        self.mileage = mileage\n",
    "\n",
    "# Erstellen einer Instanz und Ausgabe der Attribute\n",
    "modelX = Vehicle(240, 18)\n",
    "print(modelX.max_speed, modelX.mileage)\n",
    "# Expected Output: 240 18\n"
   ]
  },
  {
   "cell_type": "markdown",
   "metadata": {},
   "source": [
    "Exercise 2: Vehicle-Klasse ohne Attribute und Methoden\n",
    "\n",
    "Hier wird eine leere Vehicle-Klasse erstellt. Solche leeren Klassen können als Basisklassen dienen, die später erweitert werden."
   ]
  },
  {
   "cell_type": "code",
   "execution_count": null,
   "metadata": {},
   "outputs": [],
   "source": [
    "class Vehicle:\n",
    "    pass\n"
   ]
  },
  {
   "cell_type": "markdown",
   "metadata": {},
   "source": [
    "Exercise 3: Erstellen einer Bus-Kindklasse, die von Vehicle erbt\n",
    "\n",
    "In dieser Übung erbt die Bus-Klasse von der Vehicle-Basisklasse. Zusätzlich wird die __str__-Methode überschrieben, um eine lesbare Darstellung der Fahrzeugattribute zu bieten."
   ]
  },
  {
   "cell_type": "code",
   "execution_count": null,
   "metadata": {},
   "outputs": [],
   "source": [
    "class Vehicle:\n",
    "    def __init__(self, name, max_speed, mileage):\n",
    "        self.name = name\n",
    "        self.max_speed = max_speed\n",
    "        self.mileage = mileage\n",
    "\n",
    "    def __str__(self):\n",
    "        return f\"Name: {self.name}, Max speed: {self.max_speed}, Mileage: {self.mileage}\"\n",
    "\n",
    "class Bus(Vehicle):\n",
    "    pass\n",
    "\n",
    "# Erstellen eines Bus-Objekts und Ausgabe mit der __str__ Methode\n",
    "school_bus = Bus(\"School Volvo\", 180, 12)\n",
    "print(school_bus)\n",
    "# Expected Output: Name: School Volvo, Max speed: 180, Mileage: 12\n"
   ]
  },
  {
   "cell_type": "markdown",
   "metadata": {},
   "source": [
    "Exercise 4: Überschreiben der seating_capacity Methode in der Bus-Klasse\n",
    "\n",
    "Die seating_capacity-Methode wird hier in der Bus-Klasse überschrieben, um eine Standardkapazität von 50 Passagieren festzulegen, falls kein anderes Argument übergeben wird."
   ]
  },
  {
   "cell_type": "code",
   "execution_count": null,
   "metadata": {},
   "outputs": [],
   "source": [
    "class Vehicle:\n",
    "    def __init__(self, name, max_speed, mileage):\n",
    "        self.name = name\n",
    "        self.max_speed = max_speed\n",
    "        self.mileage = mileage\n",
    "\n",
    "    def seating_capacity(self, capacity):\n",
    "        return f\"The seating capacity of a {self.name} is {capacity} passengers\"\n",
    "\n",
    "class Bus(Vehicle):\n",
    "    def seating_capacity(self, capacity=50):\n",
    "        return super().seating_capacity(capacity)\n",
    "\n",
    "school_bus = Bus(\"School Volvo\", 180, 12)\n",
    "print(school_bus.seating_capacity())\n",
    "# Expected Output: The seating capacity of a School Volvo is 50 passengers\n"
   ]
  },
  {
   "cell_type": "markdown",
   "metadata": {},
   "source": [
    "Exercise 4.1: Spezifische Sitzplatzkapazität als Instanzattribut für Bus\n",
    "\n",
    "Hier wird seating_capacity als spezifisches Attribut der Bus-Instanz festgelegt. Die seating_capacity Methode benötigt kein Argument mehr und verwendet das Attribut direkt."
   ]
  },
  {
   "cell_type": "code",
   "execution_count": null,
   "metadata": {},
   "outputs": [],
   "source": [
    "class Bus(Vehicle):\n",
    "    def __init__(self, name, max_speed, mileage, seating_capacity=50):\n",
    "        super().__init__(name, max_speed, mileage)\n",
    "        self.seating_capacity = seating_capacity\n",
    "\n",
    "    def seating_capacity(self):\n",
    "        return f\"The seating capacity of a {self.name} is {self.seating_capacity} passengers\"\n",
    "\n",
    "school_bus = Bus(\"School Volvo\", 180, 12)\n",
    "print(school_bus.seating_capacity())\n",
    "# Expected Output: The seating capacity of a School Volvo is 50 passengers\n"
   ]
  },
  {
   "cell_type": "markdown",
   "metadata": {},
   "source": [
    "Exercise 5: Klassenattribut \"color\" für alle Instanzen\n",
    "\n",
    "Ein Klassenattribut color wird in der Basisklasse Vehicle festgelegt, das von allen Instanzen und abgeleiteten Klassen geteilt wird. Jede Instanz von Vehicle, Bus, und Car hat die Farbe \"White\"."
   ]
  },
  {
   "cell_type": "code",
   "execution_count": null,
   "metadata": {},
   "outputs": [],
   "source": [
    "class Vehicle:\n",
    "    color = \"White\"  # Klassenattribut für die Standardfarbe\n",
    "\n",
    "    def __init__(self, name, max_speed, mileage):\n",
    "        self.name = name\n",
    "        self.max_speed = max_speed\n",
    "        self.mileage = mileage\n",
    "\n",
    "    def __str__(self):\n",
    "        return f\"Color: {self.color}, Vehicle name: {self.name}, Speed: {self.max_speed}, Mileage: {self.mileage}\"\n",
    "\n",
    "class Bus(Vehicle):\n",
    "    pass\n",
    "\n",
    "class Car(Vehicle):\n",
    "    pass\n",
    "\n",
    "# Erstellen und Ausgabe von Instanzen\n",
    "bus = Bus(\"School Volvo\", 180, 12)\n",
    "car = Car(\"Audi Q5\", 240, 18)\n",
    "print(bus)  # Expected Output: Color: White, Vehicle name: School Volvo, Speed: 180, Mileage: 12\n",
    "print(car)  # Expected Output: Color: White, Vehicle name: Audi Q5, Speed: 240, Mileage: 18\n"
   ]
  },
  {
   "cell_type": "markdown",
   "metadata": {},
   "source": [
    "Exercise 6: Berechnung der Fahrkosten für Bus mit Wartungsaufschlag\n",
    "\n",
    "Die fare Methode wird in der Bus-Klasse überschrieben. Wenn das Fahrzeug ein Bus ist, wird ein 10%-iger Wartungsaufschlag auf die Fahrkosten hinzugefügt. Die Kapazität beträgt standardmäßig 50, sodass die endgültigen Fahrkosten 5500 sein sollten."
   ]
  },
  {
   "cell_type": "code",
   "execution_count": null,
   "metadata": {},
   "outputs": [],
   "source": [
    "class Vehicle:\n",
    "    def __init__(self, name, mileage, capacity):\n",
    "        self.name = name\n",
    "        self.mileage = mileage\n",
    "        self.capacity = capacity\n",
    "\n",
    "    def fare(self):\n",
    "        return self.capacity * 100\n",
    "\n",
    "class Bus(Vehicle):\n",
    "    def fare(self):\n",
    "        # Zusätzlicher Wartungsaufschlag von 10%\n",
    "        amount = super().fare() * 1.1\n",
    "        return amount\n",
    "\n",
    "School_bus = Bus(\"School Volvo\", 12, 50)\n",
    "print(\"Total Bus fare is:\", School_bus.fare())\n",
    "# Expected Output: Total Bus fare is: 5500.0\n"
   ]
  }
 ],
 "metadata": {
  "language_info": {
   "name": "python"
  }
 },
 "nbformat": 4,
 "nbformat_minor": 2
}
